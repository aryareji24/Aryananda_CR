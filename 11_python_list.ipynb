{
 "cells": [
  {
   "cell_type": "markdown",
   "id": "1b371456-3af6-4521-afc6-b39b7a2768a3",
   "metadata": {},
   "source": [
    "# _PYTHON LIST"
   ]
  },
  {
   "cell_type": "markdown",
   "id": "da79179c-4a37-46c7-b237-63427ebf8ae2",
   "metadata": {},
   "source": [
    "_ _PYTHON LIST METHODS__"
   ]
  },
  {
   "cell_type": "markdown",
   "id": "41cf2de7-1a47-430a-af57-cc340d387da1",
   "metadata": {},
   "source": [
    "Method\tDescription\n",
    "append()\tAdds an item to the end of the list\n",
    "extend()\tAdds items of lists and other iterables to the end of the list\n",
    "insert()\tInserts an item at the specified index\n",
    "remove()\tRemoves item present at the given index\n",
    "pop()\t    Returns and removes item present at the given index\n",
    "clear()\t    Removes all items from the list\n",
    "index()\t    Returns the index of the first matched item\n",
    "count()\t    Returns the count of the specified item in the list\n",
    "sort()\t    Sorts the list in ascending/descending order\n",
    "reverse()\tReverses the item of the list\n",
    "copy()\t    Returns the shallow copy of the list"
   ]
  },
  {
   "cell_type": "markdown",
   "id": "5d988379-1e5a-4bed-9e9d-3d27bbc03956",
   "metadata": {},
   "source": [
    "__Create a python list__"
   ]
  },
  {
   "cell_type": "code",
   "execution_count": 159,
   "id": "05800e50-fc49-482a-a59e-3b7472ea42eb",
   "metadata": {},
   "outputs": [
    {
     "name": "stdout",
     "output_type": "stream",
     "text": [
      "[34, 2, 18]\n"
     ]
    }
   ],
   "source": [
    "age = [34,2,18]\n",
    "print(age)"
   ]
  },
  {
   "cell_type": "markdown",
   "id": "3ad939f6-6d37-47ed-b92a-368d78c2eab2",
   "metadata": {},
   "source": [
    "__Access Elements in a list__"
   ]
  },
  {
   "cell_type": "code",
   "execution_count": 162,
   "id": "efef2b1b-87b6-43e6-b494-d68439ea5f3a",
   "metadata": {},
   "outputs": [
    {
     "name": "stdout",
     "output_type": "stream",
     "text": [
      "Malta\n"
     ]
    }
   ],
   "source": [
    "places = ['Australia','London','Malta']\n",
    "print(places[2])"
   ]
  },
  {
   "cell_type": "markdown",
   "id": "9c1640db-8ea0-46ab-80b6-0167e2ee4f7c",
   "metadata": {},
   "source": [
    "__Add Elements to a list :__\n"
   ]
  },
  {
   "cell_type": "markdown",
   "id": "ece5f2a2-4a4b-4819-8a8a-c0173dfbfad1",
   "metadata": {},
   "source": [
    "# __append()__"
   ]
  },
  {
   "cell_type": "code",
   "execution_count": 18,
   "id": "3ea70373-7b90-46b7-b73d-9d66e983f9e1",
   "metadata": {},
   "outputs": [
    {
     "name": "stdout",
     "output_type": "stream",
     "text": [
      "original list : ['english', 'hindi', 'Malayalam']\n",
      "Updated lists :  ['english', 'hindi', 'Malayalam', 'Tamil']\n"
     ]
    }
   ],
   "source": [
    "languages = ['english','hindi','Malayalam']\n",
    "print (\"original list :\",languages)\n",
    "\n",
    "languages.append('Tamil')\n",
    "print (\"Updated lists : \",languages)"
   ]
  },
  {
   "cell_type": "markdown",
   "id": "48a2cc1a-0207-4830-bc84-91044d4874e3",
   "metadata": {},
   "source": [
    "# __extend()__"
   ]
  },
  {
   "cell_type": "code",
   "execution_count": 32,
   "id": "02bed19f-7202-45ad-ae9f-17cada241c69",
   "metadata": {},
   "outputs": [
    {
     "name": "stdout",
     "output_type": "stream",
     "text": [
      "odd_numbers [1, 3, 5]\n",
      "odd and even numbers: [1, 3, 5, 2, 4, 6]\n"
     ]
    }
   ],
   "source": [
    "odd_numbers = [1,3,5]\n",
    "print (\"odd_numbers\",odd_numbers)\n",
    "\n",
    "even_numbers = [2,4,6]\n",
    "odd_numbers.extend(even_numbers)\n",
    "print ( \"odd and even numbers:\",odd_numbers )"
   ]
  },
  {
   "cell_type": "markdown",
   "id": "303dd207-b338-4692-87f9-c4c271efa1a4",
   "metadata": {},
   "source": [
    "__Change list items :__"
   ]
  },
  {
   "cell_type": "code",
   "execution_count": 43,
   "id": "3493dc89-9cda-4145-b01a-e4416a210a86",
   "metadata": {},
   "outputs": [
    {
     "name": "stdout",
     "output_type": "stream",
     "text": [
      "fruits:  ['apple', 'orange', 'blueberry']\n",
      "updated fruits_list:  ['apple', 'banana', 'blueberry']\n"
     ]
    }
   ],
   "source": [
    "fruits = ['apple','orange','blueberry']\n",
    "print(\"fruits: \",fruits)\n",
    "\n",
    "fruits[1] = 'banana'\n",
    "print(\"updated fruits_list: \",fruits)\n"
   ]
  },
  {
   "cell_type": "markdown",
   "id": "8826b183-b3f8-4f68-b3b4-45a217161b76",
   "metadata": {},
   "source": [
    "__Removing elements from the list__"
   ]
  },
  {
   "cell_type": "markdown",
   "id": "8ce760bd-f0f0-4869-9553-9c14b632fede",
   "metadata": {},
   "source": [
    "# __remove()__"
   ]
  },
  {
   "cell_type": "code",
   "execution_count": 53,
   "id": "099a809a-8bb5-47dd-aaad-9ab77b7e262b",
   "metadata": {},
   "outputs": [
    {
     "name": "stdout",
     "output_type": "stream",
     "text": [
      "numbers [11, 33, 44]\n"
     ]
    }
   ],
   "source": [
    "numbers = [22,11,33,44]\n",
    "numbers.remove(22)\n",
    "print(\"numbers\",numbers)"
   ]
  },
  {
   "cell_type": "markdown",
   "id": "897dc9d9-50de-4826-b9a8-81f846f0e434",
   "metadata": {},
   "source": [
    "__remove one or more elements of a list__"
   ]
  },
  {
   "cell_type": "markdown",
   "id": "36d27adf-cb91-4773-8329-822dfad78287",
   "metadata": {},
   "source": [
    "# __del()__"
   ]
  },
  {
   "cell_type": "code",
   "execution_count": 67,
   "id": "cf6ad0cf-7ac4-4a6d-9af4-f36d0f59ab4c",
   "metadata": {},
   "outputs": [
    {
     "name": "stdout",
     "output_type": "stream",
     "text": [
      "['vv']\n"
     ]
    }
   ],
   "source": [
    "names = ['vv','ambadi','manu','sumesh']\n",
    "del names[1:4]\n",
    "print(names)"
   ]
  },
  {
   "cell_type": "markdown",
   "id": "dc942a28-ad53-4195-b4b2-f8a086970fe5",
   "metadata": {},
   "source": [
    "__python list length__"
   ]
  },
  {
   "cell_type": "code",
   "execution_count": 72,
   "id": "4f90a739-51b3-4789-864b-02ce63a7f075",
   "metadata": {},
   "outputs": [
    {
     "name": "stdout",
     "output_type": "stream",
     "text": [
      "Total items : 3\n"
     ]
    }
   ],
   "source": [
    "cars = ['Tesla','Mini Cooper','BMW']\n",
    "print('Total items :',len(cars))"
   ]
  },
  {
   "cell_type": "markdown",
   "id": "3984cc14-a60c-47b7-a5c0-e8b86e15c822",
   "metadata": {},
   "source": [
    "__Iterating through a list__"
   ]
  },
  {
   "cell_type": "code",
   "execution_count": 77,
   "id": "9d140d3c-ccca-4600-99bf-6d109bdb485a",
   "metadata": {},
   "outputs": [
    {
     "name": "stdout",
     "output_type": "stream",
     "text": [
      "Redmi\n",
      "Samsung\n",
      "Realme\n"
     ]
    }
   ],
   "source": [
    "phones = ['Redmi','Samsung','Realme']\n",
    "for i in phones:\n",
    "    print(i)"
   ]
  },
  {
   "cell_type": "markdown",
   "id": "babde8d8-fe92-4469-af5b-aa2fbd097a2f",
   "metadata": {},
   "source": [
    "# __insert()__"
   ]
  },
  {
   "cell_type": "code",
   "execution_count": 80,
   "id": "e89f562b-5ff9-4cd5-9d4f-cead039797eb",
   "metadata": {},
   "outputs": [
    {
     "name": "stdout",
     "output_type": "stream",
     "text": [
      "Vowels:  ['a', 'e', 'i', 'o', 'u']\n"
     ]
    }
   ],
   "source": [
    "vowels = ['a','i','o','u']\n",
    "vowels.insert(1,'e')\n",
    "print('Vowels: ',vowels)"
   ]
  },
  {
   "cell_type": "markdown",
   "id": "f46bf00e-5f86-48ce-a585-ab8256c83ff6",
   "metadata": {},
   "source": [
    "# __index()__"
   ]
  },
  {
   "cell_type": "code",
   "execution_count": 85,
   "id": "51f0d76f-2ea4-4110-a1f2-c0a5af2197a0",
   "metadata": {},
   "outputs": [
    {
     "name": "stdout",
     "output_type": "stream",
     "text": [
      "1\n"
     ]
    }
   ],
   "source": [
    "a = ['up','down','side','front']\n",
    "b=a.index('down')\n",
    "print(b)"
   ]
  },
  {
   "cell_type": "code",
   "execution_count": 98,
   "id": "a49ce613-a24e-4970-8881-3f6dc5acd0d3",
   "metadata": {},
   "outputs": [
    {
     "name": "stdout",
     "output_type": "stream",
     "text": [
      "0\n"
     ]
    }
   ],
   "source": [
    "animals = ['dog','cat']\n",
    "a = animals.index('dog')\n",
    "print(a)"
   ]
  },
  {
   "cell_type": "markdown",
   "id": "d0364318-a9a0-4518-9aa9-f5282eb08093",
   "metadata": {},
   "source": [
    "# __count()__"
   ]
  },
  {
   "cell_type": "code",
   "execution_count": 112,
   "id": "762d3009-bb75-4455-9cb7-881c1d8d2244",
   "metadata": {},
   "outputs": [
    {
     "name": "stdout",
     "output_type": "stream",
     "text": [
      "3\n"
     ]
    }
   ],
   "source": [
    "negative_numbers = [-1,-2,-3,-3,-4,-1,-3]\n",
    "count = negative_numbers.count(-3)\n",
    "print(count)"
   ]
  },
  {
   "cell_type": "markdown",
   "id": "9dfc61b8-a05d-4081-8c75-692ef8c18516",
   "metadata": {},
   "source": [
    "# __pop()__"
   ]
  },
  {
   "cell_type": "code",
   "execution_count": 125,
   "id": "caad4ff7-56e7-485c-91dc-55ab5672ec24",
   "metadata": {},
   "outputs": [
    {
     "name": "stdout",
     "output_type": "stream",
     "text": [
      "items in a: [1, 5, 8, 7]\n",
      "Removed item: 5\n"
     ]
    }
   ],
   "source": [
    "a = [1,5,8,7]\n",
    "print(\"items in a:\",a)\n",
    "a = a.pop(1)\n",
    "print(\"Removed item:\",a)\n"
   ]
  },
  {
   "cell_type": "markdown",
   "id": "20202e55-bda5-463d-ac92-0869ddd641e2",
   "metadata": {},
   "source": [
    "# __reverse()__\n"
   ]
  },
  {
   "cell_type": "markdown",
   "id": "bdf29471-b32a-4ad0-9c57-4da048eef383",
   "metadata": {},
   "source": [
    "__Example_1__"
   ]
  },
  {
   "cell_type": "code",
   "execution_count": 135,
   "id": "0e439819-4851-4071-9d06-415b0303ef75",
   "metadata": {},
   "outputs": [
    {
     "name": "stdout",
     "output_type": "stream",
     "text": [
      "Linux\n",
      "macOS\n",
      "Windows\n"
     ]
    }
   ],
   "source": [
    "systems = ['Windows', 'macOS', 'Linux']\n",
    "\n",
    "for i in reversed(systems):\n",
    "    print(i)"
   ]
  },
  {
   "cell_type": "markdown",
   "id": "ef1208e6-5ff2-459f-8e2a-d5533bd4e034",
   "metadata": {},
   "source": [
    "__Example_2__"
   ]
  },
  {
   "cell_type": "code",
   "execution_count": 133,
   "id": "fb723c18-e237-49cd-a28b-7373da22604a",
   "metadata": {},
   "outputs": [
    {
     "name": "stdout",
     "output_type": "stream",
     "text": [
      "list of games: ['football', 'cricket', 'volleyball', 'tennis']\n",
      "reversed list of games: ['tennis', 'volleyball', 'cricket', 'football']\n"
     ]
    }
   ],
   "source": [
    "games = ['football','cricket','volleyball','tennis']\n",
    "print(\"list of games:\",games)\n",
    "games.reverse()\n",
    "print(\"reversed list of games:\",games)"
   ]
  },
  {
   "cell_type": "markdown",
   "id": "bd172af1-c987-43fa-b78a-051e9e8bbd49",
   "metadata": {},
   "source": [
    "# __sort()__"
   ]
  },
  {
   "cell_type": "code",
   "execution_count": 140,
   "id": "8cb1a20d-0824-4100-8dc3-fb44c8615746",
   "metadata": {},
   "outputs": [
    {
     "name": "stdout",
     "output_type": "stream",
     "text": [
      "Dictionary order:  ['London', 'Tokyo', 'Washington D.C']\n",
      "Reverse dictionary order:  ['Washington D.C', 'Tokyo', 'London']\n"
     ]
    }
   ],
   "source": [
    "cities = [\"Tokyo\", \"London\", \"Washington D.C\"]\n",
    "\n",
    "cities.sort()\n",
    "print(f\"Dictionary order: \",cities)\n",
    "\n",
    "cities.sort(reverse = True)\n",
    "print(f\"Reverse dictionary order: \",cities)\n"
   ]
  },
  {
   "cell_type": "markdown",
   "id": "0d8d18fb-4b50-4367-848d-bd97998b6f0e",
   "metadata": {},
   "source": [
    "# __copy()__"
   ]
  },
  {
   "cell_type": "code",
   "execution_count": 146,
   "id": "e3c0304a-fbac-4470-8140-5e67d3b8be20",
   "metadata": {},
   "outputs": [
    {
     "name": "stdout",
     "output_type": "stream",
     "text": [
      "[1, 2, 3]\n"
     ]
    }
   ],
   "source": [
    "a = [1,2,3]\n",
    "b = a.copy()\n",
    "print(b)"
   ]
  },
  {
   "cell_type": "markdown",
   "id": "40bd689a-2e88-46e9-942f-bff8f8da9408",
   "metadata": {},
   "source": [
    "# __clear()__"
   ]
  },
  {
   "cell_type": "code",
   "execution_count": 150,
   "id": "969ab01e-8a84-436c-9fe5-c1ea235b49d2",
   "metadata": {},
   "outputs": [
    {
     "name": "stdout",
     "output_type": "stream",
     "text": [
      "[]\n"
     ]
    }
   ],
   "source": [
    "a = [20,30]\n",
    "a.clear()\n",
    "print(a)"
   ]
  }
 ],
 "metadata": {
  "kernelspec": {
   "display_name": "Python 3 (ipykernel)",
   "language": "python",
   "name": "python3"
  },
  "language_info": {
   "codemirror_mode": {
    "name": "ipython",
    "version": 3
   },
   "file_extension": ".py",
   "mimetype": "text/x-python",
   "name": "python",
   "nbconvert_exporter": "python",
   "pygments_lexer": "ipython3",
   "version": "3.12.4"
  }
 },
 "nbformat": 4,
 "nbformat_minor": 5
}
