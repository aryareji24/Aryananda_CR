{
 "cells": [
  {
   "cell_type": "markdown",
   "id": "00a06f18-d836-4997-8fc4-e39093c54d50",
   "metadata": {},
   "source": [
    "# Builtinfunctions in Python"
   ]
  },
  {
   "cell_type": "markdown",
   "id": "4a949cfd-7fb4-4a48-8aab-006f908a7736",
   "metadata": {},
   "source": [
    "__Python abs()__"
   ]
  },
  {
   "cell_type": "code",
   "execution_count": 3,
   "id": "d16c2d79-6395-4d9f-aa7b-2379b42b3166",
   "metadata": {},
   "outputs": [
    {
     "name": "stdout",
     "output_type": "stream",
     "text": [
      "70\n"
     ]
    }
   ],
   "source": [
    "number = -70\n",
    "\n",
    "absolute_number = abs(number)\n",
    "print(absolute_number)\n"
   ]
  },
  {
   "cell_type": "markdown",
   "id": "ac05c9bf-4f13-42b4-a22b-f359117277b0",
   "metadata": {},
   "source": [
    "__Python any()__"
   ]
  },
  {
   "cell_type": "code",
   "execution_count": 15,
   "id": "b230e09e-5846-4b8a-84ea-36f60dd271fa",
   "metadata": {},
   "outputs": [
    {
     "name": "stdout",
     "output_type": "stream",
     "text": [
      "True\n"
     ]
    }
   ],
   "source": [
    "mylist = [True,False,False]\n",
    "\n",
    "result = any(mylist)\n",
    "print(result)\n"
   ]
  },
  {
   "cell_type": "markdown",
   "id": "14b0467f-66fb-432a-a2c3-be15d4542565",
   "metadata": {},
   "source": [
    "__Python all()__"
   ]
  },
  {
   "cell_type": "code",
   "execution_count": 11,
   "id": "de878085-796d-4266-b85b-e75801d9e96e",
   "metadata": {},
   "outputs": [
    {
     "name": "stdout",
     "output_type": "stream",
     "text": [
      "False\n"
     ]
    }
   ],
   "source": [
    "mylist = [True,True,True]\n",
    "\n",
    "result = all(mylist)\n",
    "print(result)\n"
   ]
  },
  {
   "cell_type": "markdown",
   "id": "e2e18dfe-0048-49ca-a013-317703366ea0",
   "metadata": {},
   "source": [
    "__Python ascii()__"
   ]
  },
  {
   "cell_type": "code",
   "execution_count": 17,
   "id": "0b5e8499-a532-4954-88c3-82124eee4769",
   "metadata": {},
   "outputs": [
    {
     "name": "stdout",
     "output_type": "stream",
     "text": [
      "'Pyth\\xf6n is interesting'\n"
     ]
    }
   ],
   "source": [
    "text = 'Pythön is interesting'\n",
    "print(ascii(text))\n"
   ]
  },
  {
   "cell_type": "markdown",
   "id": "e77a3f8c-f1c1-4700-bdb8-2bc2ae59f664",
   "metadata": {},
   "source": [
    "__Python bin()__"
   ]
  },
  {
   "cell_type": "code",
   "execution_count": 22,
   "id": "22a95928-5899-4f43-b6a6-2ad1cb518185",
   "metadata": {},
   "outputs": [
    {
     "name": "stdout",
     "output_type": "stream",
     "text": [
      "The binary equivalent of 12 is 0b1100\n"
     ]
    }
   ],
   "source": [
    "number = 12\n",
    "print('The binary equivalent of 12 is', bin(number))\n"
   ]
  },
  {
   "cell_type": "markdown",
   "id": "ae36f46d-e72c-4e92-96e6-a9d31be7d689",
   "metadata": {},
   "source": [
    "__Python bool()__"
   ]
  },
  {
   "cell_type": "code",
   "execution_count": 25,
   "id": "5604ffb6-e97d-4596-a2d7-f879e018c472",
   "metadata": {},
   "outputs": [
    {
     "name": "stdout",
     "output_type": "stream",
     "text": [
      "True\n"
     ]
    }
   ],
   "source": [
    "test = 1\n",
    "print(bool(test))"
   ]
  }
 ],
 "metadata": {
  "kernelspec": {
   "display_name": "Python 3 (ipykernel)",
   "language": "python",
   "name": "python3"
  },
  "language_info": {
   "codemirror_mode": {
    "name": "ipython",
    "version": 3
   },
   "file_extension": ".py",
   "mimetype": "text/x-python",
   "name": "python",
   "nbconvert_exporter": "python",
   "pygments_lexer": "ipython3",
   "version": "3.12.4"
  }
 },
 "nbformat": 4,
 "nbformat_minor": 5
}
