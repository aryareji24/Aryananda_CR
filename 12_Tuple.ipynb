{
 "cells": [
  {
   "cell_type": "markdown",
   "id": "0d2efc5f-8310-4d8a-85f1-b5111bc609b2",
   "metadata": {},
   "source": [
    "# TUPLE\n"
   ]
  },
  {
   "cell_type": "markdown",
   "id": "dde6b666-5cc9-4962-ab3e-fef0e172079c",
   "metadata": {},
   "source": [
    "_Tuple Characteristics_\n",
    "* ordered\n",
    "* immutable\n",
    "* allow duplicates"
   ]
  },
  {
   "cell_type": "markdown",
   "id": "621f9bfb-be55-46e3-89ec-5752aad33db9",
   "metadata": {},
   "source": [
    "__Example_1__"
   ]
  },
  {
   "cell_type": "code",
   "execution_count": 9,
   "id": "dff17832-c4fe-45f2-a0a2-d66c1c3bb225",
   "metadata": {},
   "outputs": [
    {
     "name": "stdout",
     "output_type": "stream",
     "text": [
      "Python\n",
      "C++\n"
     ]
    }
   ],
   "source": [
    "languages = ('Python', 'Swift', 'C++')\n",
    "print(languages[0])   \n",
    "print(languages[2])   "
   ]
  },
  {
   "cell_type": "markdown",
   "id": "dc26397b-5553-45be-97f2-baed2f0ff928",
   "metadata": {},
   "source": [
    "__Example_2__\n",
    "* Find the length of tuple"
   ]
  },
  {
   "cell_type": "code",
   "execution_count": 16,
   "id": "56f5993b-3c0e-4378-aa8b-edb116e78e9d",
   "metadata": {},
   "outputs": [
    {
     "name": "stdout",
     "output_type": "stream",
     "text": [
      "cars 3\n"
     ]
    }
   ],
   "source": [
    "cars = ['Lamborghini','Porsche','Kia']\n",
    "print (\"number of cars: \",len(cars))"
   ]
  },
  {
   "cell_type": "markdown",
   "id": "4110aec3-8aa9-45d7-bf47-235ca103e526",
   "metadata": {},
   "source": [
    "__Example_3__\n",
    "\n",
    "* Iterate Through a Tuple"
   ]
  },
  {
   "cell_type": "code",
   "execution_count": 21,
   "id": "4f1ab637-286d-4ae4-a1c6-6a6b09f30720",
   "metadata": {},
   "outputs": [
    {
     "name": "stdout",
     "output_type": "stream",
     "text": [
      "anu\n",
      "athul\n",
      "amal\n"
     ]
    }
   ],
   "source": [
    "names = ('anu','athul','amal')\n",
    "for name in names:\n",
    "    print(name)"
   ]
  },
  {
   "cell_type": "markdown",
   "id": "f53311dd-6f4e-4fd0-a033-635a8258d8e2",
   "metadata": {},
   "source": [
    "__Example_4__\n",
    "* Check if an item exists in tuple or not"
   ]
  },
  {
   "cell_type": "code",
   "execution_count": 25,
   "id": "dc73e7dd-6289-41e5-a813-ddfa314d9fa8",
   "metadata": {},
   "outputs": [
    {
     "name": "stdout",
     "output_type": "stream",
     "text": [
      "True\n"
     ]
    }
   ],
   "source": [
    "a = ('apple','orange','banana')\n",
    "print ('apple' in a)"
   ]
  },
  {
   "cell_type": "code",
   "execution_count": 27,
   "id": "8afc9622-5228-40e4-aea9-61f42b6d10a6",
   "metadata": {},
   "outputs": [
    {
     "name": "stdout",
     "output_type": "stream",
     "text": [
      "False\n"
     ]
    }
   ],
   "source": [
    "a = ('apple','orange','banana')\n",
    "print ('blueberry' in a)"
   ]
  },
  {
   "cell_type": "markdown",
   "id": "f450cbb2-c401-4974-b3a6-7005778e5fc7",
   "metadata": {},
   "source": [
    "__Example_5__\n",
    "* Delete tuple "
   ]
  },
  {
   "cell_type": "code",
   "execution_count": 39,
   "id": "38f2a982-693a-4579-867e-ea650f568a08",
   "metadata": {},
   "outputs": [],
   "source": [
    "animals = ('Dog','Cat')\n",
    "del animals\n"
   ]
  },
  {
   "cell_type": "markdown",
   "id": "9b27f03f-bad8-4db3-9a35-c5341f359a56",
   "metadata": {},
   "source": [
    "__Example_6__\n",
    "* Create a python tuple with one element"
   ]
  },
  {
   "cell_type": "code",
   "execution_count": 4,
   "id": "0be2c6ac-84e2-44ff-be63-f291c28f383f",
   "metadata": {},
   "outputs": [
    {
     "name": "stdout",
     "output_type": "stream",
     "text": [
      "Python <class 'str'>\n"
     ]
    }
   ],
   "source": [
    "a = ('Python')\n",
    "print(a,type(a))  "
   ]
  },
  {
   "cell_type": "code",
   "execution_count": 6,
   "id": "edd470c7-e3f9-4b37-a483-9a45fdc7b188",
   "metadata": {},
   "outputs": [
    {
     "name": "stdout",
     "output_type": "stream",
     "text": [
      "('Python',) <class 'tuple'>\n"
     ]
    }
   ],
   "source": [
    "a = ('Python',)\n",
    "print(a,type(a))"
   ]
  },
  {
   "cell_type": "code",
   "execution_count": null,
   "id": "1bab4fe7-d717-4602-9efc-5e8f46c1a283",
   "metadata": {},
   "outputs": [],
   "source": []
  }
 ],
 "metadata": {
  "kernelspec": {
   "display_name": "Python 3 (ipykernel)",
   "language": "python",
   "name": "python3"
  },
  "language_info": {
   "codemirror_mode": {
    "name": "ipython",
    "version": 3
   },
   "file_extension": ".py",
   "mimetype": "text/x-python",
   "name": "python",
   "nbconvert_exporter": "python",
   "pygments_lexer": "ipython3",
   "version": "3.12.4"
  }
 },
 "nbformat": 4,
 "nbformat_minor": 5
}
