{
 "cells": [
  {
   "cell_type": "markdown",
   "id": "a97feeb3-223c-49c5-9f6d-48ee2ea85d84",
   "metadata": {},
   "source": [
    "# Python Sets"
   ]
  },
  {
   "cell_type": "markdown",
   "id": "dfdfcf01-4c9a-496d-a320-f7300b308b00",
   "metadata": {},
   "source": [
    "__A set is a collection of unique data, meaning that elements within a set cannot be duplicated.__ \\\n",
    "__Set has no particular order.__"
   ]
  },
  {
   "cell_type": "markdown",
   "id": "ccde9713-6650-44f8-a560-860dabdd3b30",
   "metadata": {},
   "source": [
    "* Example_1"
   ]
  },
  {
   "cell_type": "code",
   "execution_count": 9,
   "id": "a96a5779-8ef3-4d99-8561-8fb3d285b76c",
   "metadata": {},
   "outputs": [
    {
     "name": "stdout",
     "output_type": "stream",
     "text": [
      "vowels are :  {'u', 'a', 'e', 'o', 'i'}\n"
     ]
    }
   ],
   "source": [
    "vowels = { 'a','e','i','o','u' }\n",
    "print ('vowels are : ',vowels)"
   ]
  },
  {
   "cell_type": "markdown",
   "id": "6b8f2cbc-036b-4fef-b1bd-7b4a653eb9e6",
   "metadata": {},
   "source": [
    "* Example_2"
   ]
  },
  {
   "cell_type": "code",
   "execution_count": 7,
   "id": "d836fee5-8db2-41c7-8fe4-8f9e7a760f19",
   "metadata": {},
   "outputs": [
    {
     "name": "stdout",
     "output_type": "stream",
     "text": [
      "Set of mixed data types: {'Bye', 101, -2, 'Hello'}\n"
     ]
    }
   ],
   "source": [
    "mixed_set = {'Hello', 101, -2, 'Bye'}\n",
    "print('Set of mixed data types:', mixed_set)\n"
   ]
  },
  {
   "cell_type": "markdown",
   "id": "c2397579-4c6f-4509-b9ec-793688661e72",
   "metadata": {},
   "source": [
    "* Example_3"
   ]
  },
  {
   "cell_type": "code",
   "execution_count": 15,
   "id": "3f6f2d6a-610e-4ad3-8873-e84fe00f927c",
   "metadata": {},
   "outputs": [
    {
     "name": "stdout",
     "output_type": "stream",
     "text": [
      "Data type of empty_set: <class 'set'>\n",
      "Data type of empty_dictionary: <class 'dict'>\n"
     ]
    }
   ],
   "source": [
    "empty_set = set()\n",
    "\n",
    "empty_dictionary = { }\n",
    "\n",
    "print('Data type of empty_set:', type(empty_set))\n",
    "\n",
    "print('Data type of empty_dictionary:', type(empty_dictionary))"
   ]
  },
  {
   "cell_type": "markdown",
   "id": "9e2e4a9c-88d9-4e7d-86f1-8691b9b24e67",
   "metadata": {},
   "source": [
    "* Example_4"
   ]
  },
  {
   "cell_type": "code",
   "execution_count": 29,
   "id": "fa1f26ea-deea-49bf-9f0b-8352a04a845b",
   "metadata": {},
   "outputs": [
    {
     "name": "stdout",
     "output_type": "stream",
     "text": [
      "{1, 2, 3, 4, 6}\n"
     ]
    }
   ],
   "source": [
    "numbers = {4,4,1,2,3,6,6,}\n",
    "print(numbers)   "
   ]
  },
  {
   "cell_type": "markdown",
   "id": "6b8533df-692b-4a83-b714-908ac5a47d5b",
   "metadata": {},
   "source": [
    "# _Iterate Over a Set in Python_"
   ]
  },
  {
   "cell_type": "code",
   "execution_count": 63,
   "id": "1e8c3b18-9de0-4b30-b2a2-55bd3f0f8828",
   "metadata": {},
   "outputs": [
    {
     "name": "stdout",
     "output_type": "stream",
     "text": [
      "a\n",
      "b\n",
      "c\n"
     ]
    }
   ],
   "source": [
    "alphabets = {'a','b','c'}\n",
    "for alphabet in alphabets:\n",
    "    print (alphabet)"
   ]
  },
  {
   "cell_type": "markdown",
   "id": "139ff45e-7600-49fa-932a-f5bd538a6324",
   "metadata": {},
   "source": [
    "# _Python Set Operations_"
   ]
  },
  {
   "cell_type": "markdown",
   "id": "b1a2f8be-2260-4e78-88e3-0897d6bcac2f",
   "metadata": {},
   "source": [
    "# Union of Two Sets \n",
    "# | and union()"
   ]
  },
  {
   "cell_type": "code",
   "execution_count": 76,
   "id": "7183cd8d-075a-4b1f-a586-bb7145262adc",
   "metadata": {},
   "outputs": [
    {
     "name": "stdout",
     "output_type": "stream",
     "text": [
      "Union using : {0, 1, 2, 3, 4, 5}\n",
      "Union using union(): {0, 1, 2, 3, 4, 5}\n"
     ]
    }
   ],
   "source": [
    "A = {1, 3, 5}\n",
    "B = {0, 2, 4}\n",
    "\n",
    "print('Union using :', A | B)\n",
    "print('Union using union():', B.union(A)) "
   ]
  },
  {
   "cell_type": "markdown",
   "id": "3fbbf0d2-43f5-46f7-8388-aabc21cfc745",
   "metadata": {},
   "source": [
    "# Set Intersection\n",
    "* __common elements__\n",
    "#  & and setintersection()"
   ]
  },
  {
   "cell_type": "code",
   "execution_count": 84,
   "id": "efea6336-1227-406f-9803-c62455983bf3",
   "metadata": {},
   "outputs": [
    {
     "name": "stdout",
     "output_type": "stream",
     "text": [
      "Intersection using &: {1, 3}\n",
      "Intersection using intersection(): {1, 3}\n"
     ]
    }
   ],
   "source": [
    "A = {1, 3, 5}\n",
    "B = {1, 2, 3}\n",
    "\n",
    "print('Intersection using &:', A & B)\n",
    "print('Intersection using intersection():', A.intersection(B)) "
   ]
  },
  {
   "cell_type": "markdown",
   "id": "d07e7bdc-b4f1-4287-941d-10b6f00dac5e",
   "metadata": {},
   "source": [
    "# Difference between Two Sets"
   ]
  },
  {
   "cell_type": "markdown",
   "id": "9c25d1bf-d5b9-4562-b25b-452798c89f08",
   "metadata": {},
   "source": [
    "__The difference between two sets A and B include elements of set A that are not present on set B.__"
   ]
  },
  {
   "cell_type": "markdown",
   "id": "c9e7e501-dbb3-4cb5-b94e-276977f118db",
   "metadata": {},
   "source": [
    "# - and difference()"
   ]
  },
  {
   "cell_type": "code",
   "execution_count": 92,
   "id": "683a462d-414c-46ea-81b2-9e8a6f9ba222",
   "metadata": {},
   "outputs": [
    {
     "name": "stdout",
     "output_type": "stream",
     "text": [
      "Difference using &: {3, 5}\n",
      "Difference using difference(): {1, 6}\n"
     ]
    }
   ],
   "source": [
    "A = {2, 3, 5}\n",
    "B = {1, 2, 6}\n",
    "\n",
    "print('Difference using &:', A - B)\n",
    "print('Difference using difference():', A.difference(B)) "
   ]
  },
  {
   "cell_type": "markdown",
   "id": "d2809445-b536-42f4-a1ff-abb0f44cc689",
   "metadata": {},
   "source": [
    "# Set Symmetric Difference"
   ]
  },
  {
   "cell_type": "markdown",
   "id": "a1514cae-3137-4db6-8a55-f4a7e260e8c2",
   "metadata": {},
   "source": [
    "__The symmetric difference between two sets A and B includes all elements of A and B without the common elements.__"
   ]
  },
  {
   "cell_type": "markdown",
   "id": "6110a403-f6b4-474e-8305-8392166b7f79",
   "metadata": {},
   "source": [
    "# ^ and symmetric_difference"
   ]
  },
  {
   "cell_type": "code",
   "execution_count": 102,
   "id": "6c7f6831-7f0d-4a77-b26d-f147094d3904",
   "metadata": {},
   "outputs": [
    {
     "name": "stdout",
     "output_type": "stream",
     "text": [
      "using ^: {1, 3, 5, 6}\n",
      "using symmetric_difference(): {1, 3, 5, 6}\n"
     ]
    }
   ],
   "source": [
    "A = {2, 3, 5}\n",
    "B = {1, 2, 6}\n",
    "\n",
    "print('using ^:', A ^ B)\n",
    "print('using symmetric_difference():', A.symmetric_difference(B)) "
   ]
  },
  {
   "cell_type": "markdown",
   "id": "ff0c215d-d0dc-4ba3-ad94-59002feae91d",
   "metadata": {},
   "source": [
    "# Check if two sets are equal \n",
    "# =="
   ]
  },
  {
   "cell_type": "code",
   "execution_count": 107,
   "id": "9e659bc4-92e7-4d3e-a94b-1659be0155e9",
   "metadata": {},
   "outputs": [
    {
     "name": "stdout",
     "output_type": "stream",
     "text": [
      "Set A and Set B are equal\n"
     ]
    }
   ],
   "source": [
    "A = {2,4,6}\n",
    "B = {6,4,2}\n",
    "\n",
    "if A == B:\n",
    "    print('Set A and Set B are equal')\n",
    "else:\n",
    "    print('Set A and Set B are not equal')"
   ]
  },
  {
   "cell_type": "markdown",
   "id": "2fce71bf-f4a8-41b7-89ec-05e3f2f3620c",
   "metadata": {},
   "source": [
    "# Set methods"
   ]
  },
  {
   "cell_type": "markdown",
   "id": "6653099d-de7b-491e-bf18-44390da2ad56",
   "metadata": {},
   "source": [
    "# _add()_"
   ]
  },
  {
   "cell_type": "code",
   "execution_count": 3,
   "id": "5e86d48c-ddca-49b2-a29a-446704ad7a6f",
   "metadata": {},
   "outputs": [
    {
     "name": "stdout",
     "output_type": "stream",
     "text": [
      "{1, 2, 3, 4, 5, 6}\n"
     ]
    }
   ],
   "source": [
    "numbers = {1,2,3,4,5}\n",
    "numbers.add(6)\n",
    "print(numbers)"
   ]
  },
  {
   "cell_type": "markdown",
   "id": "67658d14-3e8c-4b3b-8791-03ce32ca0adf",
   "metadata": {},
   "source": [
    "# clear()"
   ]
  },
  {
   "cell_type": "markdown",
   "id": "3d1127ce-e6f7-479d-8b7e-4552cf269dab",
   "metadata": {},
   "source": [
    "__clear()\tRemoves all elements from the set__"
   ]
  },
  {
   "cell_type": "code",
   "execution_count": 3,
   "id": "753dcfdf-ddc4-4e24-ab57-7d83cc9632d6",
   "metadata": {},
   "outputs": [
    {
     "name": "stdout",
     "output_type": "stream",
     "text": [
      "set()\n"
     ]
    }
   ],
   "source": [
    "numbers = {1,2,3,4,5}\n",
    "numbers.clear()\n",
    "print(numbers)"
   ]
  },
  {
   "cell_type": "markdown",
   "id": "f1521eae-ce82-4ac7-a226-dc1d76eff8aa",
   "metadata": {},
   "source": [
    "# copy()"
   ]
  },
  {
   "cell_type": "markdown",
   "id": "9ebfec5a-d780-4a57-b941-7ab6dafd1b2c",
   "metadata": {},
   "source": [
    "__copy() : Returns a copy of the set__"
   ]
  },
  {
   "cell_type": "code",
   "execution_count": 1,
   "id": "b838021c-5da9-402c-8c0c-53dfefc138a8",
   "metadata": {},
   "outputs": [
    {
     "name": "stdout",
     "output_type": "stream",
     "text": [
      "{1, 2, 3, 4}\n"
     ]
    }
   ],
   "source": [
    "numbers = {1, 2, 3, 4}\n",
    "new_numbers = numbers.copy()\n",
    "\n",
    "print(new_numbers)"
   ]
  },
  {
   "cell_type": "markdown",
   "id": "03e8580d-7d9b-459c-97c3-4fff1da2a47b",
   "metadata": {},
   "source": [
    "# difference()"
   ]
  },
  {
   "cell_type": "markdown",
   "id": "9ee98f44-cb0a-464b-93bb-be6b21250086",
   "metadata": {},
   "source": [
    "__difference()\tReturns the difference of two or more sets as a new set__"
   ]
  },
  {
   "cell_type": "code",
   "execution_count": 5,
   "id": "399ad29b-9bd8-4046-81d9-e09c98c33f7a",
   "metadata": {},
   "outputs": [
    {
     "name": "stdout",
     "output_type": "stream",
     "text": [
      "{1, 9}\n"
     ]
    }
   ],
   "source": [
    "\n",
    "A = {1, 3, 5, 7, 9}\n",
    "B = {2, 3, 5, 7, 11}\n",
    "print(A.difference(B)) \n"
   ]
  },
  {
   "cell_type": "markdown",
   "id": "7c79192e-059b-4b8b-b289-ce986cfbdcc6",
   "metadata": {},
   "source": [
    "# difference_update()"
   ]
  },
  {
   "cell_type": "markdown",
   "id": "def37458-c3f8-469b-a6a5-cb209ce687a4",
   "metadata": {},
   "source": [
    "__difference_update()\tRemoves all elements of another set from this set__"
   ]
  },
  {
   "cell_type": "code",
   "execution_count": 9,
   "id": "cebb7c40-86ee-45e7-a672-80a70d77a603",
   "metadata": {},
   "outputs": [
    {
     "name": "stdout",
     "output_type": "stream",
     "text": [
      "A =  {1, 9}\n"
     ]
    }
   ],
   "source": [
    "\n",
    "A = {1, 3, 5, 7, 9}\n",
    "B = {2, 3, 5, 7, 11}\n",
    "A.difference_update(B)\n",
    "\n",
    "print('A = ', A)\n"
   ]
  },
  {
   "cell_type": "markdown",
   "id": "3e163a1e-75b7-4938-bbbe-6009741dcc48",
   "metadata": {},
   "source": [
    "# discard()"
   ]
  },
  {
   "cell_type": "markdown",
   "id": "50c52b14-7a76-40a8-8ccf-da28a5b6e395",
   "metadata": {},
   "source": [
    "__discard()\tRemoves an element from the set if it is a member. (Do nothing if the element is not in set__"
   ]
  },
  {
   "cell_type": "code",
   "execution_count": 13,
   "id": "045a228c-5d65-493a-8f1c-c432ed675e54",
   "metadata": {},
   "outputs": [
    {
     "name": "stdout",
     "output_type": "stream",
     "text": [
      "{2, 4, 5}\n"
     ]
    }
   ],
   "source": [
    "numbers = {2, 3, 4, 5}\n",
    "numbers.discard(3) \n",
    "\n",
    "print(numbers)"
   ]
  },
  {
   "cell_type": "markdown",
   "id": "a62173dd-399e-4ccd-8204-8365ab6eed44",
   "metadata": {},
   "source": [
    "# intersection()"
   ]
  },
  {
   "cell_type": "markdown",
   "id": "d27d0baa-64da-4464-840a-0cba4140b376",
   "metadata": {},
   "source": [
    "__intersection()\tReturns the intersection of two sets as a new set__"
   ]
  },
  {
   "cell_type": "code",
   "execution_count": 23,
   "id": "0852152e-fbab-4339-bafa-a03613dc4e98",
   "metadata": {},
   "outputs": [
    {
     "name": "stdout",
     "output_type": "stream",
     "text": [
      "{3}\n"
     ]
    }
   ],
   "source": [
    "A = {2, 3, 5}\n",
    "B = {1, 3, 8}\n",
    "print(B.intersection(A))\n"
   ]
  },
  {
   "cell_type": "markdown",
   "id": "8bc9c6bd-a586-4c76-99e4-64456e343d63",
   "metadata": {},
   "source": [
    "# intersection_update()"
   ]
  },
  {
   "cell_type": "markdown",
   "id": "539e2ac1-31cc-4398-bded-4e96436cd280",
   "metadata": {},
   "source": [
    "__intersection_update()\tUpdates the set with the intersection of itself and another__"
   ]
  },
  {
   "cell_type": "code",
   "execution_count": 21,
   "id": "00f1f050-82c4-4a27-8a0a-b5e90268449e",
   "metadata": {},
   "outputs": [
    {
     "name": "stdout",
     "output_type": "stream",
     "text": [
      "A = {2, 3, 4}\n"
     ]
    }
   ],
   "source": [
    "A = {1, 2, 3, 4}\n",
    "B = {2, 3, 4, 5}\n",
    "A.intersection_update(B)\n",
    "\n",
    "print('A =', A)\n"
   ]
  },
  {
   "cell_type": "markdown",
   "id": "122c47ec-b2ce-4aa1-a305-f71792aa6a31",
   "metadata": {},
   "source": [
    "# isdisjoint()"
   ]
  },
  {
   "cell_type": "markdown",
   "id": "ea8759c2-a2a2-446b-b7fc-505f8981ba8c",
   "metadata": {},
   "source": [
    "__isdisjoint()\tReturns True if two sets have a null intersection__"
   ]
  },
  {
   "cell_type": "code",
   "execution_count": 31,
   "id": "967bbbc8-a04a-4b14-94d8-50538e0baea1",
   "metadata": {},
   "outputs": [
    {
     "name": "stdout",
     "output_type": "stream",
     "text": [
      "False\n"
     ]
    }
   ],
   "source": [
    "A = {1, 2, 3, }\n",
    "B = {4, 5, 2}\n",
    "print(A.isdisjoint(B))"
   ]
  },
  {
   "cell_type": "markdown",
   "id": "6ce4fa17-11ba-4989-8c63-980495a60684",
   "metadata": {},
   "source": [
    "# issubset()"
   ]
  },
  {
   "cell_type": "markdown",
   "id": "ed7801d5-b55a-44cb-9ae1-5977ccc1201c",
   "metadata": {},
   "source": [
    "__issubset()\tReturns True if another set contains this set__"
   ]
  },
  {
   "cell_type": "code",
   "execution_count": 37,
   "id": "75548892-4aaf-4240-8a2d-e9ebdc911842",
   "metadata": {},
   "outputs": [
    {
     "name": "stdout",
     "output_type": "stream",
     "text": [
      "False\n"
     ]
    }
   ],
   "source": [
    "A = {1, 2, 9}\n",
    "B = {1, 2, 3, 4, 5}\n",
    "\n",
    "print(A.issubset(B))"
   ]
  },
  {
   "cell_type": "markdown",
   "id": "429d44e8-c101-40ea-9cac-a45cb41268a6",
   "metadata": {},
   "source": [
    "# issuperset()"
   ]
  },
  {
   "cell_type": "markdown",
   "id": "b16dbe64-3a47-4684-b6d9-1dd957cff8ee",
   "metadata": {},
   "source": [
    "__issuperset()\tReturns True if this set contains another set__"
   ]
  },
  {
   "cell_type": "code",
   "execution_count": 41,
   "id": "4176331c-110f-4b4e-885b-cd714f074c89",
   "metadata": {},
   "outputs": [
    {
     "name": "stdout",
     "output_type": "stream",
     "text": [
      "True\n",
      "False\n"
     ]
    }
   ],
   "source": [
    "A = {1, 2, 3, 4, 5}\n",
    "B = {1, 2, 3}\n",
    "C = {1, 2, 3}\n",
    "\n",
    "\n",
    "print(A.issuperset(B))\n",
    "\n",
    "# Returns False\n",
    "print(B.issuperset(A))\n",
    "\n"
   ]
  },
  {
   "cell_type": "markdown",
   "id": "9cf783b4-fe33-471d-be19-ea401a316449",
   "metadata": {},
   "source": [
    "# pop()"
   ]
  },
  {
   "cell_type": "markdown",
   "id": "c1cd59be-8807-42f8-afa0-4891e58b460b",
   "metadata": {},
   "source": [
    "__pop()\tRemoves and returns an arbitrary set element. Raises KeyError if the set is empty__"
   ]
  },
  {
   "cell_type": "code",
   "execution_count": 45,
   "id": "0232eeb3-842f-485c-b471-09fa198c8374",
   "metadata": {},
   "outputs": [
    {
     "name": "stdout",
     "output_type": "stream",
     "text": [
      "a\n"
     ]
    }
   ],
   "source": [
    "A = {'a', 'b', 'c', 'd'}\n",
    "removed_item = A.pop()\n",
    "print(removed_item)"
   ]
  },
  {
   "cell_type": "markdown",
   "id": "fdf0e650-1cc2-4912-9007-bd4bbe115205",
   "metadata": {},
   "source": [
    "# symmetric_difference()"
   ]
  },
  {
   "cell_type": "markdown",
   "id": "f2ea0eb7-bf71-42ce-bf19-44533bb2b773",
   "metadata": {},
   "source": [
    "__symmetric_difference()\tReturns the symmetric difference of two sets as a new set__"
   ]
  },
  {
   "cell_type": "code",
   "execution_count": 48,
   "id": "7ecee2b7-ed15-4f94-98ae-15dd51085c13",
   "metadata": {},
   "outputs": [
    {
     "name": "stdout",
     "output_type": "stream",
     "text": [
      "{'b', 'a', 'e'}\n"
     ]
    }
   ],
   "source": [
    "A = {'a', 'b', 'c', 'd'}\n",
    "B = {'c', 'd', 'e' }\n",
    "result = A.symmetric_difference(B)\n",
    "print(result)"
   ]
  },
  {
   "cell_type": "markdown",
   "id": "707e771f-13a4-4f75-babe-711727355cb3",
   "metadata": {},
   "source": [
    "# symmetric_difference_update()"
   ]
  },
  {
   "cell_type": "markdown",
   "id": "a648e05b-5547-4003-af4e-c5a98c82ebaa",
   "metadata": {},
   "source": [
    "__symmetric_difference_update()\tUpdates a set with the symmetric difference of itself and another__"
   ]
  },
  {
   "cell_type": "code",
   "execution_count": 52,
   "id": "01090b43-06a6-4856-862f-acdfbed87263",
   "metadata": {},
   "outputs": [
    {
     "name": "stdout",
     "output_type": "stream",
     "text": [
      "{'a', 'e'}\n"
     ]
    }
   ],
   "source": [
    "A = {'a', 'c', 'd'}\n",
    "B = {'c', 'd', 'e' }\n",
    "\n",
    "A.symmetric_difference_update(B)\n",
    "\n",
    "print(A)"
   ]
  },
  {
   "cell_type": "markdown",
   "id": "3d0ee696-fbb5-4f9a-8848-2db5995c7578",
   "metadata": {},
   "source": [
    "# union()"
   ]
  },
  {
   "cell_type": "markdown",
   "id": "4c7a09bd-dde1-4675-aa09-73d78a0efc80",
   "metadata": {},
   "source": [
    "__union()\tReturns the union of sets in a new set__"
   ]
  },
  {
   "cell_type": "code",
   "execution_count": 58,
   "id": "6e868578-90f1-4281-9a68-55832ab5a281",
   "metadata": {},
   "outputs": [
    {
     "name": "stdout",
     "output_type": "stream",
     "text": [
      "A U B =  {1, 2, 3, 5}\n"
     ]
    }
   ],
   "source": [
    "A = {2, 3, 5}\n",
    "B = {1, 3, 5}\n",
    "print('A U B = ', A.union(B))"
   ]
  },
  {
   "cell_type": "markdown",
   "id": "3f24b9c1-4b18-44b0-8cdc-d2cc25833881",
   "metadata": {},
   "source": [
    "# update()"
   ]
  },
  {
   "cell_type": "markdown",
   "id": "31e22204-2645-46fb-b0bd-145335f80781",
   "metadata": {},
   "source": [
    "__update()\tUpdates the set with the union of itself and others__"
   ]
  },
  {
   "cell_type": "code",
   "execution_count": 60,
   "id": "d9d9fc06-679f-4e08-be6a-888c2b26a40a",
   "metadata": {},
   "outputs": [
    {
     "name": "stdout",
     "output_type": "stream",
     "text": [
      "{1, 'b', 2, 3, 'a'}\n"
     ]
    }
   ],
   "source": [
    "A = {'a', 'b'}\n",
    "B = {1, 2, 3}\n",
    "A.update(B)\n",
    "\n",
    "print(A)"
   ]
  },
  {
   "cell_type": "code",
   "execution_count": null,
   "id": "70c1eef7-246a-4cc3-8953-1a637c2460a9",
   "metadata": {},
   "outputs": [],
   "source": []
  }
 ],
 "metadata": {
  "kernelspec": {
   "display_name": "Python 3 (ipykernel)",
   "language": "python",
   "name": "python3"
  },
  "language_info": {
   "codemirror_mode": {
    "name": "ipython",
    "version": 3
   },
   "file_extension": ".py",
   "mimetype": "text/x-python",
   "name": "python",
   "nbconvert_exporter": "python",
   "pygments_lexer": "ipython3",
   "version": "3.12.4"
  }
 },
 "nbformat": 4,
 "nbformat_minor": 5
}
