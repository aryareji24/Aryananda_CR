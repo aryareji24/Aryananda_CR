{
 "cells": [
  {
   "cell_type": "markdown",
   "id": "9fae40b8-cad6-4f20-9f97-b8e678bf91f0",
   "metadata": {},
   "source": [
    "# Python Dictionary"
   ]
  },
  {
   "cell_type": "markdown",
   "id": "c06b36ec-8f4e-4466-a96e-801335adb134",
   "metadata": {},
   "source": [
    "# _key-value pair (consisting of a key and a value)._"
   ]
  },
  {
   "cell_type": "markdown",
   "id": "281f8b17-c3af-43f0-bd04-5dbc1832fca7",
   "metadata": {},
   "source": [
    "_____Create a Dictionary_____"
   ]
  },
  {
   "cell_type": "code",
   "execution_count": 6,
   "id": "14c5f718-08b2-47eb-9db7-9c5c077b2198",
   "metadata": {},
   "outputs": [
    {
     "name": "stdout",
     "output_type": "stream",
     "text": [
      "{1: 'July', 2: 'August', 3: 'September'}\n"
     ]
    }
   ],
   "source": [
    "months = {\n",
    "    1 : \"July\",\n",
    "    2 : \"August\",\n",
    "    3 : \"September\" }\n",
    "print(months)"
   ]
  },
  {
   "cell_type": "markdown",
   "id": "1232929a-5917-4a2a-8436-127b4c806678",
   "metadata": {},
   "source": [
    " # Remove Dictionary Items   :   del , clear()"
   ]
  },
  {
   "cell_type": "code",
   "execution_count": 12,
   "id": "d7c66050-e946-417c-9140-2fa6590107ad",
   "metadata": {},
   "outputs": [
    {
     "name": "stdout",
     "output_type": "stream",
     "text": [
      "{'aardhra': 'reji', 'sree': 'bhadhra'}\n"
     ]
    }
   ],
   "source": [
    "#del\n",
    "\n",
    "names = {\n",
    "    \"arya\" : \"nanda\",\n",
    "    \"aardhra\" : \"reji\",\n",
    "    \"sree\" : \"bhadhra\" }\n",
    "del names[\"arya\"]\n",
    "print(names)\n"
   ]
  },
  {
   "cell_type": "code",
   "execution_count": 15,
   "id": "1ac55774-bc2a-4b11-a1fe-0a4f572d9fd6",
   "metadata": {},
   "outputs": [
    {
     "name": "stdout",
     "output_type": "stream",
     "text": [
      "{}\n"
     ]
    }
   ],
   "source": [
    "# clear\n",
    "\n",
    "names = {\n",
    "    \"arya\" :\"nanda\",\n",
    "    \"aardhra\" :\"reji\",\n",
    "    \"sree\" : \"bhadhra\" }\n",
    "names.clear()\n",
    "print(names)"
   ]
  },
  {
   "cell_type": "markdown",
   "id": "173b93d9-e8fd-4927-8ee9-9fb38473a3bc",
   "metadata": {},
   "source": [
    "# Change Dictionary Items"
   ]
  },
  {
   "cell_type": "code",
   "execution_count": 23,
   "id": "f2f769f3-60c6-4ce2-b2fb-de73e5e86373",
   "metadata": {},
   "outputs": [
    {
     "name": "stdout",
     "output_type": "stream",
     "text": [
      "{'arya': 'aswathy', 'aardhra': 'amrutha', 'sree': 'sneha'}\n"
     ]
    }
   ],
   "source": [
    "names = {\n",
    "    \"arya\" : \"anu\",\n",
    "    \"aardhra\" : \"amrutha\",\n",
    "    \"sree\" : \"sneha\" }\n",
    "names[\"arya\"] = \"aswathy\"\n",
    "print(names)"
   ]
  },
  {
   "cell_type": "markdown",
   "id": "66c69e00-79fc-4a22-883b-a4d20d39df09",
   "metadata": {},
   "source": [
    "# Iterate Through a Dictionary"
   ]
  },
  {
   "cell_type": "code",
   "execution_count": 34,
   "id": "90b94ae6-7caf-4c87-a9c2-6eb618049be8",
   "metadata": {},
   "outputs": [
    {
     "name": "stdout",
     "output_type": "stream",
     "text": [
      "sky\n",
      "baby\n",
      "\n",
      "blue\n",
      "pink\n"
     ]
    }
   ],
   "source": [
    "colours = {\n",
    "    \"sky\" : \"blue\",\n",
    "    \"baby\" : \"pink\" }\n",
    "for colour in colours:\n",
    "    print(colour)\n",
    "print()\n",
    "for colour in colours:\n",
    "    wonder  = colours[colour]\n",
    "    print(wonder)"
   ]
  },
  {
   "cell_type": "markdown",
   "id": "f0bca3eb-8aab-43b1-a698-2711c5fc3f71",
   "metadata": {},
   "source": [
    "# Find Dictionary Length"
   ]
  },
  {
   "cell_type": "code",
   "execution_count": 37,
   "id": "0eee8c1d-f4d9-4679-a424-e5402e218923",
   "metadata": {},
   "outputs": [
    {
     "name": "stdout",
     "output_type": "stream",
     "text": [
      "2\n"
     ]
    }
   ],
   "source": [
    "months = {\n",
    "    \"rainy\" : \"June\",\n",
    "    \"spring\" :\"september\"\n",
    "}\n",
    "print(len(months))"
   ]
  },
  {
   "cell_type": "markdown",
   "id": "86565675-03d8-4912-9b70-3757bc4f542d",
   "metadata": {},
   "source": [
    "# Python Dictionary Methods"
   ]
  },
  {
   "cell_type": "markdown",
   "id": "c69c8796-fefd-4a6c-878d-b092813492c6",
   "metadata": {},
   "source": [
    "# _pop()_"
   ]
  },
  {
   "cell_type": "code",
   "execution_count": 45,
   "id": "e176037b-f522-4292-9c11-e5954a876968",
   "metadata": {},
   "outputs": [
    {
     "name": "stdout",
     "output_type": "stream",
     "text": [
      "Popped Marks: 67\n"
     ]
    }
   ],
   "source": [
    "\n",
    "marks = { 'Physics': 67, 'Chemistry': 72, 'Math': 89 }\n",
    "element = marks.pop('Physics')\n",
    "print('Popped Marks:', element)"
   ]
  },
  {
   "cell_type": "markdown",
   "id": "c6cdec2b-ed85-4c8e-a9af-c56f817e6b1c",
   "metadata": {},
   "source": [
    "# _update()_"
   ]
  },
  {
   "cell_type": "code",
   "execution_count": 48,
   "id": "e7052e69-b58d-4f2d-9e5e-1f41acc431be",
   "metadata": {},
   "outputs": [
    {
     "name": "stdout",
     "output_type": "stream",
     "text": [
      "{'Physics': 67, 'Maths': 87, 'Practical': 48}\n"
     ]
    }
   ],
   "source": [
    "marks = {'Physics':67, 'Maths':87}\n",
    "internal_marks = {'Practical':48}\n",
    "\n",
    "marks.update(internal_marks)\n",
    "print(marks)"
   ]
  },
  {
   "cell_type": "markdown",
   "id": "ce0d41ca-f146-4bed-ac0e-76e02bdec9db",
   "metadata": {},
   "source": [
    "# clear()"
   ]
  },
  {
   "cell_type": "code",
   "execution_count": 51,
   "id": "e6b48428-5f54-403a-be5d-b2e292dd845b",
   "metadata": {},
   "outputs": [
    {
     "name": "stdout",
     "output_type": "stream",
     "text": [
      "{}\n"
     ]
    }
   ],
   "source": [
    "numbers = {1: \"one\", 2: \"two\"}\n",
    "\n",
    "numbers.clear()\n",
    "\n",
    "print(numbers)"
   ]
  },
  {
   "cell_type": "markdown",
   "id": "4ed299d2-00fd-4326-8571-e5688630887e",
   "metadata": {},
   "source": [
    "# keys()"
   ]
  },
  {
   "cell_type": "code",
   "execution_count": 57,
   "id": "30bc0f75-eae5-4072-8fa8-8164347ad8a7",
   "metadata": {},
   "outputs": [
    {
     "name": "stdout",
     "output_type": "stream",
     "text": [
      "dict_keys([1, 2, 3])\n"
     ]
    }
   ],
   "source": [
    "numbers = {1: 'one', 2: 'two', 3: 'three'}\n",
    "print(numbers.keys())"
   ]
  },
  {
   "cell_type": "markdown",
   "id": "3d3394f3-35ae-4468-b615-dc1ccd21f6cd",
   "metadata": {},
   "source": [
    "# values()"
   ]
  },
  {
   "cell_type": "code",
   "execution_count": 59,
   "id": "8ce8e91c-01da-4758-ba74-17cf1fd77b28",
   "metadata": {},
   "outputs": [
    {
     "name": "stdout",
     "output_type": "stream",
     "text": [
      "dict_values([67, 87])\n"
     ]
    }
   ],
   "source": [
    "marks = {'Physics':67, 'Maths':87}\n",
    "print(marks.values())"
   ]
  },
  {
   "cell_type": "markdown",
   "id": "7bda0aba-3379-4984-bf1e-bc0634868a9f",
   "metadata": {},
   "source": [
    "# get()"
   ]
  },
  {
   "cell_type": "code",
   "execution_count": 64,
   "id": "50ffcd00-cc97-4b05-8af9-0f5bd7a49437",
   "metadata": {},
   "outputs": [
    {
     "name": "stdout",
     "output_type": "stream",
     "text": [
      "75\n"
     ]
    }
   ],
   "source": [
    "scores = {'Physics': 67, 'Maths': 87,'History': 75}\n",
    "result = scores.get('History')\n",
    "print(result) \n"
   ]
  },
  {
   "cell_type": "markdown",
   "id": "8113a358-10db-4b8a-ac26-577652e79412",
   "metadata": {},
   "source": [
    "# popitem()"
   ]
  },
  {
   "cell_type": "code",
   "execution_count": 75,
   "id": "34fa6428-78e3-42df-9216-9cf86f4cfd24",
   "metadata": {},
   "outputs": [
    {
     "name": "stdout",
     "output_type": "stream",
     "text": [
      "('salary', 3500.0)\n"
     ]
    }
   ],
   "source": [
    "person = {'name': 'Phill', 'age': 22, 'salary': 3500.0}\n",
    "\n",
    "result = person.popitem()\n",
    "print(result)"
   ]
  },
  {
   "cell_type": "markdown",
   "id": "e8081231-1d05-4138-b0a7-6e8feb74d8cd",
   "metadata": {},
   "source": [
    "# copy()"
   ]
  },
  {
   "cell_type": "code",
   "execution_count": 77,
   "id": "a934013e-f5a7-4657-820c-48076368f1f1",
   "metadata": {},
   "outputs": [
    {
     "name": "stdout",
     "output_type": "stream",
     "text": [
      "Original Marks: {'Physics': 67, 'Maths': 87}\n",
      "Copied Marks: {'Physics': 67, 'Maths': 87}\n"
     ]
    }
   ],
   "source": [
    "original_marks = {'Physics':67, 'Maths':87}\n",
    "copied_marks = original_marks.copy()\n",
    "print('Original Marks:', original_marks)\n",
    "print('Copied Marks:', copied_marks)"
   ]
  },
  {
   "cell_type": "code",
   "execution_count": null,
   "id": "c85477f5-fb9e-4d77-8941-58dbe81bb74b",
   "metadata": {},
   "outputs": [],
   "source": []
  }
 ],
 "metadata": {
  "kernelspec": {
   "display_name": "Python 3 (ipykernel)",
   "language": "python",
   "name": "python3"
  },
  "language_info": {
   "codemirror_mode": {
    "name": "ipython",
    "version": 3
   },
   "file_extension": ".py",
   "mimetype": "text/x-python",
   "name": "python",
   "nbconvert_exporter": "python",
   "pygments_lexer": "ipython3",
   "version": "3.12.4"
  }
 },
 "nbformat": 4,
 "nbformat_minor": 5
}
