{
 "cells": [
  {
   "cell_type": "markdown",
   "id": "1c90a7e9-d2a2-4809-bfff-d390cfa54394",
   "metadata": {},
   "source": [
    "# Python Functions"
   ]
  },
  {
   "cell_type": "code",
   "execution_count": 11,
   "id": "e60b0cd2-70eb-4172-bede-dd45fcb5ffd8",
   "metadata": {},
   "outputs": [],
   "source": [
    "def welcome():\n",
    "    print('Hello World!')"
   ]
  },
  {
   "cell_type": "markdown",
   "id": "fc35af40-56ad-46eb-97d3-a770f8144f0b",
   "metadata": {},
   "source": [
    "# _Python Function Arguments_"
   ]
  },
  {
   "cell_type": "code",
   "execution_count": 18,
   "id": "caafbd5c-e12e-4c3c-9a64-583e4ca57189",
   "metadata": {},
   "outputs": [
    {
     "name": "stdout",
     "output_type": "stream",
     "text": [
      "Hello John\n"
     ]
    }
   ],
   "source": [
    "def welcome(name):\n",
    "    print(\"Hello\",name)\n",
    "welcome(\"John\")"
   ]
  },
  {
   "cell_type": "markdown",
   "id": "288dbff7-78f9-4bd4-999c-130ada517c6e",
   "metadata": {},
   "source": [
    "__Example: Function to Add Two Numbers__"
   ]
  },
  {
   "cell_type": "code",
   "execution_count": 41,
   "id": "b24fc97e-f379-49be-a0b7-ae5a531874e6",
   "metadata": {},
   "outputs": [
    {
     "name": "stdout",
     "output_type": "stream",
     "text": [
      "sum:  30\n"
     ]
    }
   ],
   "source": [
    "def add(num1, num2):\n",
    "    sum = num1 + num2\n",
    "    print(\"sum: \",sum)\n",
    "add(10,20)\n"
   ]
  },
  {
   "cell_type": "code",
   "execution_count": 43,
   "id": "f690fb17-883c-473e-93e8-e0ef3b69e1ba",
   "metadata": {},
   "outputs": [
    {
     "name": "stdout",
     "output_type": "stream",
     "text": [
      "difference -1\n"
     ]
    }
   ],
   "source": [
    "def sub(num1,num2):\n",
    "    difference = num2 - num1\n",
    "    print(\"difference\",difference)\n",
    "sub(9,8)"
   ]
  },
  {
   "cell_type": "markdown",
   "id": "c5e7a145-2b1e-4244-b970-0c270508577f",
   "metadata": {},
   "source": [
    "# The return Statement"
   ]
  },
  {
   "cell_type": "code",
   "execution_count": 46,
   "id": "981fccb5-48d7-4981-936b-a0de020b81ed",
   "metadata": {},
   "outputs": [
    {
     "name": "stdout",
     "output_type": "stream",
     "text": [
      "16\n"
     ]
    }
   ],
   "source": [
    "def find_square(number):\n",
    "    nsquare = number * number\n",
    "    return nsquare\n",
    "find = find_square(4)\n",
    "print(find)"
   ]
  },
  {
   "cell_type": "markdown",
   "id": "21a22691-67c5-4f78-bd19-599343dad223",
   "metadata": {},
   "source": [
    "# The pass Statement"
   ]
  },
  {
   "cell_type": "code",
   "execution_count": 49,
   "id": "83e77179-8c3b-4cf7-b707-0e9120a1cdbc",
   "metadata": {},
   "outputs": [],
   "source": [
    "def name():\n",
    "    pass\n",
    "name()"
   ]
  },
  {
   "cell_type": "markdown",
   "id": "5a7a4ad2-a9a5-47b5-98e5-ca63fa787ee5",
   "metadata": {},
   "source": [
    "# Python Library Functions"
   ]
  },
  {
   "cell_type": "markdown",
   "id": "511f1c99-c343-4945-b79b-ae9c3a7f5121",
   "metadata": {},
   "source": [
    " __print__"
   ]
  },
  {
   "cell_type": "code",
   "execution_count": 59,
   "id": "c1fbc9ea-372c-4da4-a83d-f81847f005d6",
   "metadata": {},
   "outputs": [
    {
     "name": "stdout",
     "output_type": "stream",
     "text": [
      "Python is an open_source\n"
     ]
    }
   ],
   "source": [
    "message = 'Python is an open_source'\n",
    "\n",
    "print(message)"
   ]
  },
  {
   "cell_type": "markdown",
   "id": "aa1eea47-411f-4601-b209-030871639471",
   "metadata": {},
   "source": [
    "__pow()__"
   ]
  },
  {
   "cell_type": "code",
   "execution_count": 71,
   "id": "30f34b98-f61e-453e-9a08-365ccfd45d0f",
   "metadata": {},
   "outputs": [
    {
     "name": "stdout",
     "output_type": "stream",
     "text": [
      "1\n"
     ]
    }
   ],
   "source": [
    " \n",
    "print(pow(1, 4));\n"
   ]
  },
  {
   "cell_type": "markdown",
   "id": "babe86c2-327a-4495-a5c4-d4efc20eb38d",
   "metadata": {},
   "source": [
    "__sqrt() - returns the square root of a number__"
   ]
  },
  {
   "cell_type": "code",
   "execution_count": 69,
   "id": "64fffcfd-7748-4904-898e-3d1f9e720bfb",
   "metadata": {},
   "outputs": [
    {
     "name": "stdout",
     "output_type": "stream",
     "text": [
      "Square Root of 4 is 2.0\n",
      "2 to the power 3 is 8\n"
     ]
    }
   ],
   "source": [
    "import math\n",
    "square_root = math.sqrt(4)\n",
    "print(\"Square Root of 4 is\",square_root)\n",
    "power = pow(2, 3)\n",
    "print(\"2 to the power 3 is\",power)"
   ]
  },
  {
   "cell_type": "code",
   "execution_count": null,
   "id": "dab24879-d025-44e2-aa38-7590fda28ba3",
   "metadata": {},
   "outputs": [],
   "source": []
  }
 ],
 "metadata": {
  "kernelspec": {
   "display_name": "Python 3 (ipykernel)",
   "language": "python",
   "name": "python3"
  },
  "language_info": {
   "codemirror_mode": {
    "name": "ipython",
    "version": 3
   },
   "file_extension": ".py",
   "mimetype": "text/x-python",
   "name": "python",
   "nbconvert_exporter": "python",
   "pygments_lexer": "ipython3",
   "version": "3.12.4"
  }
 },
 "nbformat": 4,
 "nbformat_minor": 5
}
