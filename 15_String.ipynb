{
 "cells": [
  {
   "cell_type": "markdown",
   "id": "f61eeb08-081b-4941-8d33-3f8ea1ab4f74",
   "metadata": {},
   "source": [
    "# Python Strings"
   ]
  },
  {
   "cell_type": "markdown",
   "id": "fda52c99-6b18-4143-bf37-13d8587ab876",
   "metadata": {},
   "source": [
    "_Access String Characters in Python_"
   ]
  },
  {
   "cell_type": "markdown",
   "id": "71b4a0e6-cee9-4526-b244-ba8019127eca",
   "metadata": {},
   "source": [
    "* __indexing__"
   ]
  },
  {
   "cell_type": "code",
   "execution_count": 6,
   "id": "20c79489-e353-41ad-acf3-237f3a703f29",
   "metadata": {},
   "outputs": [
    {
     "name": "stdout",
     "output_type": "stream",
     "text": [
      "e\n"
     ]
    }
   ],
   "source": [
    "word = 'hello'\n",
    "print(word[1]) "
   ]
  },
  {
   "cell_type": "markdown",
   "id": "164c7d02-d783-4a59-b8f0-31c562571515",
   "metadata": {},
   "source": [
    "* __negative_indexing__"
   ]
  },
  {
   "cell_type": "code",
   "execution_count": 9,
   "id": "78e55659-3332-4ec0-a86c-d5dfe16a6a1c",
   "metadata": {},
   "outputs": [
    {
     "name": "stdout",
     "output_type": "stream",
     "text": [
      "e\n"
     ]
    }
   ],
   "source": [
    "word = 'hello'\n",
    "print(word[-4])"
   ]
  },
  {
   "cell_type": "markdown",
   "id": "7de422f9-7fac-4d4f-9041-02a1320823a5",
   "metadata": {},
   "source": [
    "* __Slicing__"
   ]
  },
  {
   "cell_type": "code",
   "execution_count": 16,
   "id": "3823e82b-0b95-4cbf-8640-79c09526211f",
   "metadata": {},
   "outputs": [
    {
     "name": "stdout",
     "output_type": "stream",
     "text": [
      "llo\n"
     ]
    }
   ],
   "source": [
    "word = 'hello'\n",
    "print(word[2:6])"
   ]
  },
  {
   "cell_type": "markdown",
   "id": "fd5eb3f2-fdda-4dc5-b76d-de2b52a734de",
   "metadata": {},
   "source": [
    "* __Python Multiline String__"
   ]
  },
  {
   "cell_type": "code",
   "execution_count": 19,
   "id": "862be736-b2f9-4333-a18e-045ed8927cd2",
   "metadata": {},
   "outputs": [
    {
     "name": "stdout",
     "output_type": "stream",
     "text": [
      "\n",
      "Never let the world to,\n",
      "ruin your smile...\n",
      "\n"
     ]
    }
   ],
   "source": [
    "message = \"\"\"\n",
    "Never let the world to,\n",
    "ruin your smile...\n",
    "\"\"\"\n",
    "\n",
    "print(message)"
   ]
  },
  {
   "cell_type": "markdown",
   "id": "a3ba9926-ce59-4909-aaa3-94fa1315feba",
   "metadata": {},
   "source": [
    "# PYTHON STRING METHODS"
   ]
  },
  {
   "cell_type": "markdown",
   "id": "ac38e367-7f81-4e51-bcea-aed502e3bedb",
   "metadata": {},
   "source": [
    "__capitalize()__ _: Converts the first character to upper case_"
   ]
  },
  {
   "cell_type": "code",
   "execution_count": 37,
   "id": "95238e0b-661e-4f78-8545-5a0e8522ba72",
   "metadata": {},
   "outputs": [
    {
     "name": "stdout",
     "output_type": "stream",
     "text": [
      "Hey,you are so smart\n"
     ]
    }
   ],
   "source": [
    "text = \"hey,you are so smart\"\n",
    "a = text.capitalize()\n",
    "print (a)"
   ]
  },
  {
   "cell_type": "markdown",
   "id": "1d560583-8f70-4a25-a5c8-6c4c5ba2a8ba",
   "metadata": {},
   "source": [
    "__casefold()__ _: Converts string into lower case_"
   ]
  },
  {
   "cell_type": "code",
   "execution_count": 43,
   "id": "239928a7-6ee9-4e0e-92ad-f8fc7f4635e2",
   "metadata": {},
   "outputs": [
    {
     "name": "stdout",
     "output_type": "stream",
     "text": [
      "hey,you are so smart\n"
     ]
    }
   ],
   "source": [
    "text = \"Hey,You Are So Smart\"\n",
    "a = text.casefold()\n",
    "print(a)"
   ]
  },
  {
   "cell_type": "markdown",
   "id": "1ea94fa4-5e2c-42bf-97c2-1a2bf15d7dd4",
   "metadata": {},
   "source": [
    "__center()__ _: Returns a centered string_"
   ]
  },
  {
   "cell_type": "code",
   "execution_count": 50,
   "id": "be52beb9-a9dd-4128-b5ff-648ce7a16447",
   "metadata": {},
   "outputs": [
    {
     "name": "stdout",
     "output_type": "stream",
     "text": [
      "                                               Black                                                \n"
     ]
    }
   ],
   "source": [
    "colour = \"Black\"\n",
    "a = colour.center(100)\n",
    "print(a)"
   ]
  },
  {
   "cell_type": "markdown",
   "id": "6eefc3c8-df7f-4a1d-b680-e4bd407d2345",
   "metadata": {},
   "source": [
    "__count()__ _: Returns the number of times a specified value occurs in a string_"
   ]
  },
  {
   "cell_type": "code",
   "execution_count": 55,
   "id": "a72a17d4-bbbc-4aac-a949-a9fcf97d4701",
   "metadata": {},
   "outputs": [
    {
     "name": "stdout",
     "output_type": "stream",
     "text": [
      "2\n"
     ]
    }
   ],
   "source": [
    "text = \"I love grapes,grapes are my favorite fruit\"\n",
    "x = text.count(\"grapes\")\n",
    "print(x)"
   ]
  },
  {
   "cell_type": "markdown",
   "id": "cbd342e4-03fd-485a-bfc0-33000c3722f3",
   "metadata": {},
   "source": [
    "__encode()__ _: Returns an encoded version of the string_"
   ]
  },
  {
   "cell_type": "code",
   "execution_count": 59,
   "id": "c9ec1498-edfc-4fbc-b501-68d4cc06a0f3",
   "metadata": {},
   "outputs": [
    {
     "name": "stdout",
     "output_type": "stream",
     "text": [
      "b'My name is St\\xc3\\xa5le'\n"
     ]
    }
   ],
   "source": [
    "txt = \"My name is Ståle\"\n",
    "x = txt.encode()\n",
    "print(x)"
   ]
  },
  {
   "cell_type": "markdown",
   "id": "6151c7dd-770a-4776-9d56-d223cb51a59f",
   "metadata": {},
   "source": [
    "__endswith()__\t_: Returns true if the string ends with the specified value_"
   ]
  },
  {
   "cell_type": "code",
   "execution_count": 62,
   "id": "19a98e88-9bba-4d73-8f23-3012576b9f91",
   "metadata": {},
   "outputs": [
    {
     "name": "stdout",
     "output_type": "stream",
     "text": [
      "True\n"
     ]
    }
   ],
   "source": [
    "txt = \"Hello, welcome to my world!\"\n",
    "\n",
    "x = txt.endswith(\"!\")\n",
    "\n",
    "print(x)"
   ]
  },
  {
   "cell_type": "markdown",
   "id": "466ea2e4-c69d-49b6-889a-e6cb12642885",
   "metadata": {},
   "source": [
    "__expandtabs()__ _: Sets the tab size of the string_"
   ]
  },
  {
   "cell_type": "code",
   "execution_count": 73,
   "id": "602df680-8dd6-4d93-8491-ca925b14c2d5",
   "metadata": {},
   "outputs": [
    {
     "name": "stdout",
     "output_type": "stream",
     "text": [
      "H        e        l        l        o\n"
     ]
    }
   ],
   "source": [
    "txt = \"H\\te\\tl\\tl\\to\"\n",
    "x =  txt.expandtabs(9)\n",
    "print(x)"
   ]
  },
  {
   "cell_type": "markdown",
   "id": "d790f334-5717-46c8-99cd-ac91e37c41ec",
   "metadata": {},
   "source": [
    "__find()__ _: Searches the string for a specified value and returns the position of where it was found_"
   ]
  },
  {
   "cell_type": "code",
   "execution_count": 78,
   "id": "875f1ce4-5386-4310-ab88-5373aa192808",
   "metadata": {},
   "outputs": [
    {
     "name": "stdout",
     "output_type": "stream",
     "text": [
      "6\n"
     ]
    }
   ],
   "source": [
    "txt = \"Hello,welcome to my world.\"\n",
    "x = txt.find(\"welcome\")\n",
    "print(x)"
   ]
  },
  {
   "cell_type": "markdown",
   "id": "f0cd1b99-9c37-43da-96ae-08380c28766e",
   "metadata": {},
   "source": [
    "__format()__ _: Formats specified values in a string_"
   ]
  },
  {
   "cell_type": "code",
   "execution_count": 81,
   "id": "4b9293de-f599-47d1-a945-ec43259b62a7",
   "metadata": {},
   "outputs": [
    {
     "name": "stdout",
     "output_type": "stream",
     "text": [
      "For only 49.00 dollars!\n"
     ]
    }
   ],
   "source": [
    "txt = \"For only {price:.2f} dollars!\"\n",
    "print(txt.format(price = 49))"
   ]
  },
  {
   "cell_type": "markdown",
   "id": "8bfe5c98-e7f0-42ed-8dac-e7006042360c",
   "metadata": {},
   "source": [
    "__index()__ _: Searches the string for a specified value and returns the position of where it was found_"
   ]
  },
  {
   "cell_type": "code",
   "execution_count": 83,
   "id": "f26ab453-9465-4a04-a9e8-5c492a7567a8",
   "metadata": {},
   "outputs": [
    {
     "name": "stdout",
     "output_type": "stream",
     "text": [
      "7\n"
     ]
    }
   ],
   "source": [
    "txt = \"Hello, welcome to my world.\"\n",
    "x = txt.index(\"welcome\")\n",
    "print(x)"
   ]
  },
  {
   "cell_type": "markdown",
   "id": "ce4417c7-0800-4df0-991c-8bdec80db461",
   "metadata": {},
   "source": [
    "__isalnum()__ _: Returns True if all characters in the string are alphanumeric_"
   ]
  },
  {
   "cell_type": "code",
   "execution_count": 99,
   "id": "6ae37c5e-7667-46a8-ab62-c3e2ee59c941",
   "metadata": {},
   "outputs": [
    {
     "name": "stdout",
     "output_type": "stream",
     "text": [
      "True\n"
     ]
    }
   ],
   "source": [
    "txt = \"Company12\"\n",
    "x = txt.isalnum()\n",
    "print(x)"
   ]
  },
  {
   "cell_type": "markdown",
   "id": "1f617b5d-2fe3-4d19-9c42-4c0427cec269",
   "metadata": {},
   "source": [
    "__isalpha()__ _: Returns True if all characters in the string are in the alphabet_"
   ]
  },
  {
   "cell_type": "code",
   "execution_count": 101,
   "id": "4b53b405-819c-4aab-bbf6-4194f6426771",
   "metadata": {},
   "outputs": [
    {
     "name": "stdout",
     "output_type": "stream",
     "text": [
      "True\n"
     ]
    }
   ],
   "source": [
    "txt = \"NumBer\"\n",
    "x = txt.isalpha()\n",
    "print(x)"
   ]
  },
  {
   "cell_type": "markdown",
   "id": "a1f53295-1c43-408b-aa26-f6112a8d808f",
   "metadata": {},
   "source": [
    "__isascii()__ _:Returns True if all characters in the string are ascii characters_"
   ]
  },
  {
   "cell_type": "code",
   "execution_count": 106,
   "id": "40b1989e-1faf-429e-9d0c-dd37b33aabf6",
   "metadata": {},
   "outputs": [
    {
     "name": "stdout",
     "output_type": "stream",
     "text": [
      "True\n"
     ]
    }
   ],
   "source": [
    "txt = \"Company\"\n",
    "x = txt.isascii()\n",
    "print(x)"
   ]
  },
  {
   "cell_type": "markdown",
   "id": "052ee84d-92f1-413d-91f1-8dba99f7ec64",
   "metadata": {},
   "source": [
    "__isdecimal()__ _:Returns True if all characters in the string are decimals_"
   ]
  },
  {
   "cell_type": "code",
   "execution_count": 110,
   "id": "3f99afbf-dcc8-408e-91ad-4766e8681fbe",
   "metadata": {},
   "outputs": [
    {
     "name": "stdout",
     "output_type": "stream",
     "text": [
      "True\n"
     ]
    }
   ],
   "source": [
    "txt = \"1234\"\n",
    "x = txt.isdecimal()\n",
    "print(x)"
   ]
  },
  {
   "cell_type": "markdown",
   "id": "49687b48-5b2f-4853-a310-dcfbf3afb92d",
   "metadata": {},
   "source": [
    "__isdigit()__ _:Returns True if all characters in the string are digits_"
   ]
  },
  {
   "cell_type": "code",
   "execution_count": 112,
   "id": "f561b39a-a876-4111-82b2-95295467f8aa",
   "metadata": {},
   "outputs": [
    {
     "name": "stdout",
     "output_type": "stream",
     "text": [
      "True\n"
     ]
    }
   ],
   "source": [
    "txt = \"50800\"\n",
    "x = txt.isdigit()\n",
    "print(x)"
   ]
  },
  {
   "cell_type": "markdown",
   "id": "b3fd2b05-d55e-4604-9864-c353f76e9876",
   "metadata": {},
   "source": [
    "__isidentifier()___: Returns True if the string is an identifier_"
   ]
  },
  {
   "cell_type": "code",
   "execution_count": 116,
   "id": "a55a8077-270e-445b-b8d1-f431613a8001",
   "metadata": {},
   "outputs": [
    {
     "name": "stdout",
     "output_type": "stream",
     "text": [
      "True\n"
     ]
    }
   ],
   "source": [
    "txt = \"numbers\"\n",
    "x = txt.isidentifier()\n",
    "print(x)"
   ]
  },
  {
   "cell_type": "markdown",
   "id": "c7e65760-9dcd-42e7-81e1-c5ed4b3959d0",
   "metadata": {},
   "source": [
    "__islower()__ _: Returns True if all characters in the string are lower case__"
   ]
  },
  {
   "cell_type": "code",
   "execution_count": 121,
   "id": "561ecdad-ab92-4de6-8161-d994ea252f2f",
   "metadata": {},
   "outputs": [
    {
     "name": "stdout",
     "output_type": "stream",
     "text": [
      "True\n"
     ]
    }
   ],
   "source": [
    "txt = \"hello world!\"\n",
    "x = txt.islower()\n",
    "print(x)"
   ]
  },
  {
   "cell_type": "markdown",
   "id": "7326ebd3-a525-4730-8fd1-ea0523cc2620",
   "metadata": {},
   "source": [
    "__isnumeric()__ _: Returns True if all characters in the string are numeric__"
   ]
  },
  {
   "cell_type": "code",
   "execution_count": 128,
   "id": "cf496fd8-2276-4623-9edc-78ed7cbff5d8",
   "metadata": {},
   "outputs": [
    {
     "name": "stdout",
     "output_type": "stream",
     "text": [
      "True\n"
     ]
    }
   ],
   "source": [
    "txt = \"065543\"\n",
    "x = txt.isnumeric()\n",
    "print(x)"
   ]
  },
  {
   "cell_type": "markdown",
   "id": "0398ed14-d1c4-4037-b052-3fb4ea3aa506",
   "metadata": {},
   "source": [
    "__isprintable()__ _: Returns True if all characters in the string are printable_"
   ]
  },
  {
   "cell_type": "code",
   "execution_count": 134,
   "id": "61537cd5-ef86-4daf-b6f5-9e2769e35fbb",
   "metadata": {},
   "outputs": [
    {
     "name": "stdout",
     "output_type": "stream",
     "text": [
      "True\n"
     ]
    }
   ],
   "source": [
    "txt = \"Hello! Are you a Programer?\"\n",
    "x = txt.isprintable()\n",
    "print(x)"
   ]
  },
  {
   "cell_type": "markdown",
   "id": "0f1e8dfb-c930-4dca-baf2-5fef0d45cf75",
   "metadata": {},
   "source": [
    "__isspace()__ _: Returns True if all characters in the string are whitespaces_"
   ]
  },
  {
   "cell_type": "code",
   "execution_count": 141,
   "id": "c654e24d-d193-4ff9-abc1-00167a3488cf",
   "metadata": {},
   "outputs": [
    {
     "name": "stdout",
     "output_type": "stream",
     "text": [
      "True\n"
     ]
    }
   ],
   "source": [
    "txt = \"  \"\n",
    "x = txt.isspace()\n",
    "print(x)"
   ]
  },
  {
   "cell_type": "markdown",
   "id": "49b8a34b-ad92-41dc-8073-2ea3dd60e4a7",
   "metadata": {},
   "source": [
    "__istitle()__ _: Returns True if the string follows the rules of a title_"
   ]
  },
  {
   "cell_type": "code",
   "execution_count": 146,
   "id": "4e54d14a-1786-4df4-99b4-ff77a2142304",
   "metadata": {},
   "outputs": [
    {
     "name": "stdout",
     "output_type": "stream",
     "text": [
      "True\n"
     ]
    }
   ],
   "source": [
    "txt = \"Hello And Welcome To My World!\"\n",
    "x = txt.istitle()\n",
    "print(x)"
   ]
  },
  {
   "cell_type": "markdown",
   "id": "2e8edac5-000c-42ba-9054-e68cd725cc7f",
   "metadata": {},
   "source": [
    "__isupper()__ _: Returns True if all characters in the string are upper case_"
   ]
  },
  {
   "cell_type": "code",
   "execution_count": 148,
   "id": "8e3aac5c-24db-48e6-a5c9-ca852e0a5edd",
   "metadata": {},
   "outputs": [
    {
     "name": "stdout",
     "output_type": "stream",
     "text": [
      "True\n"
     ]
    }
   ],
   "source": [
    "txt = \"RAINY DAY\"\n",
    "x = txt.isupper()\n",
    "print(x)"
   ]
  },
  {
   "cell_type": "markdown",
   "id": "4e959b8b-8fbf-4765-840f-b91c46a923e1",
   "metadata": {},
   "source": [
    "__join()__ _: Converts the elements of an iterable into a string_"
   ]
  },
  {
   "cell_type": "code",
   "execution_count": 160,
   "id": "2c8cca75-cf09-484a-818c-d8474bdb4667",
   "metadata": {},
   "outputs": [
    {
     "name": "stdout",
     "output_type": "stream",
     "text": [
      "John * Peter * Vicky\n"
     ]
    }
   ],
   "source": [
    "myTuple = (\"John\", \"Peter\", \"Vicky\")\n",
    "x = \" * \".join(myTuple)\n",
    "print(x)"
   ]
  },
  {
   "cell_type": "markdown",
   "id": "1317ce5f-bb32-49b4-b1bc-d11c84014453",
   "metadata": {},
   "source": [
    "__ljust()__ _: Returns a left justified version of the string_"
   ]
  },
  {
   "cell_type": "code",
   "execution_count": 171,
   "id": "36ee7a5b-38c8-4169-a0de-fe056a167493",
   "metadata": {},
   "outputs": [
    {
     "name": "stdout",
     "output_type": "stream",
     "text": [
      "banana                                             is my favorite fruit.\n"
     ]
    }
   ],
   "source": [
    "txt = \"banana\"\n",
    "x = txt.ljust(50)\n",
    "print(x, \"is my favorite fruit.\")"
   ]
  },
  {
   "cell_type": "markdown",
   "id": "88d00fe9-2bcb-4e9f-bc94-1b8c414b1dfb",
   "metadata": {},
   "source": [
    "__lower()__ _: Converts a string into lower case_"
   ]
  },
  {
   "cell_type": "code",
   "execution_count": 174,
   "id": "eaa65edc-881c-4568-a783-fad1f4f4f48b",
   "metadata": {},
   "outputs": [
    {
     "name": "stdout",
     "output_type": "stream",
     "text": [
      "hello my friends\n"
     ]
    }
   ],
   "source": [
    "txt = \"Hello my FRIENDS\"\n",
    "x = txt.lower()\n",
    "print(x)"
   ]
  },
  {
   "cell_type": "markdown",
   "id": "1602119c-cfaf-49c9-b10b-e9b043e7ccec",
   "metadata": {},
   "source": [
    "__lstrip()__ _: Returns a left trim version of the string_"
   ]
  },
  {
   "cell_type": "code",
   "execution_count": 177,
   "id": "553d66ca-8e93-403d-9b74-a90ff9db7dcd",
   "metadata": {},
   "outputs": [
    {
     "name": "stdout",
     "output_type": "stream",
     "text": [
      "of all fruits banana      is my favorite\n"
     ]
    }
   ],
   "source": [
    "txt = \"     banana     \"\n",
    "x = txt.lstrip()\n",
    "print(\"of all fruits\", x, \"is my favorite\")"
   ]
  },
  {
   "cell_type": "markdown",
   "id": "a1c0af49-8004-4f16-8f48-bc12236393db",
   "metadata": {},
   "source": [
    "__maketrans()__ _: Returns a translation table to be used in translations__"
   ]
  },
  {
   "cell_type": "code",
   "execution_count": 184,
   "id": "9737f252-e5a9-4564-82f3-d44ed92ccbec",
   "metadata": {},
   "outputs": [
    {
     "name": "stdout",
     "output_type": "stream",
     "text": [
      "Hello Ram!\n"
     ]
    }
   ],
   "source": [
    "txt = \"Hello Sam!\"\n",
    "mytable = txt.maketrans(\"S\", \"R\")\n",
    "print(txt.translate(mytable))"
   ]
  },
  {
   "cell_type": "markdown",
   "id": "c738876b-2238-4ad8-85a8-b385671efef9",
   "metadata": {},
   "source": [
    "__partition()__ _: Returns a tuple where the string is parted into three parts_"
   ]
  },
  {
   "cell_type": "code",
   "execution_count": 186,
   "id": "fa0a7581-9547-42f5-8be2-bd8f5878f618",
   "metadata": {},
   "outputs": [
    {
     "name": "stdout",
     "output_type": "stream",
     "text": [
      "('I could eat ', 'bananas', ' all day')\n"
     ]
    }
   ],
   "source": [
    "txt = \"I could eat bananas all day\"\n",
    "x = txt.partition(\"bananas\")\n",
    "print(x)"
   ]
  },
  {
   "cell_type": "markdown",
   "id": "fba619b9-59d7-4824-baac-55147df56265",
   "metadata": {},
   "source": [
    "__replace()__ _: Returns a string where a specified value is replaced with a specified value_"
   ]
  },
  {
   "cell_type": "code",
   "execution_count": 190,
   "id": "536f6cdd-a9f6-4ea0-9a64-43deb3a0f6f2",
   "metadata": {},
   "outputs": [
    {
     "name": "stdout",
     "output_type": "stream",
     "text": [
      "I like apples\n"
     ]
    }
   ],
   "source": [
    "txt = \"I like bananas\"\n",
    "x = txt.replace(\"bananas\", \"apples\")\n",
    "print(x)"
   ]
  },
  {
   "cell_type": "markdown",
   "id": "b44453a8-4568-4273-86c0-666f020bf0b6",
   "metadata": {},
   "source": [
    "__upper()__ _: Converts a string into upper case_"
   ]
  },
  {
   "cell_type": "code",
   "execution_count": 194,
   "id": "777ce2d0-9643-4c36-8945-697f64323e21",
   "metadata": {},
   "outputs": [
    {
     "name": "stdout",
     "output_type": "stream",
     "text": [
      "HELLO MY FRIENDS\n"
     ]
    }
   ],
   "source": [
    "txt = \"Hello my friends\"\n",
    "x = txt.upper()\n",
    "print(x)"
   ]
  },
  {
   "cell_type": "markdown",
   "id": "3ff8caba-a095-44e1-878b-ca89cee11fd8",
   "metadata": {},
   "source": [
    "__startswith()__ _:Returns true if the string starts with the specified value_"
   ]
  },
  {
   "cell_type": "code",
   "execution_count": null,
   "id": "50cb1a14-ba88-4173-870c-5d6ad07de793",
   "metadata": {},
   "outputs": [],
   "source": [
    "txt = \"Hello, welcome to my world.\"\n",
    "x = txt.startswith(\"Hello\")\n",
    "print(x)"
   ]
  },
  {
   "cell_type": "markdown",
   "id": "afa88a62-2992-4332-85b0-01765b3550b8",
   "metadata": {},
   "source": [
    "__split()__ _: Splits the string at the specified separator, and returns a list_"
   ]
  },
  {
   "cell_type": "code",
   "execution_count": null,
   "id": "62f7d26f-2b55-44f9-97b2-a97cc0253874",
   "metadata": {},
   "outputs": [],
   "source": [
    "txt = \"welcome to the jungle\"\n",
    "x = txt.split()\n",
    "print(x)"
   ]
  }
 ],
 "metadata": {
  "kernelspec": {
   "display_name": "Python 3 (ipykernel)",
   "language": "python",
   "name": "python3"
  },
  "language_info": {
   "codemirror_mode": {
    "name": "ipython",
    "version": 3
   },
   "file_extension": ".py",
   "mimetype": "text/x-python",
   "name": "python",
   "nbconvert_exporter": "python",
   "pygments_lexer": "ipython3",
   "version": "3.12.4"
  }
 },
 "nbformat": 4,
 "nbformat_minor": 5
}
