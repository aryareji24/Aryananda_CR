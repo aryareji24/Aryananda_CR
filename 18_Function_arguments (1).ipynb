{
 "cells": [
  {
   "cell_type": "markdown",
   "id": "69b79d70-5666-4cf5-b76f-616f400b3987",
   "metadata": {},
   "source": [
    "# Python Function Arguments"
   ]
  },
  {
   "cell_type": "code",
   "execution_count": 2,
   "id": "d903bc58-2fc9-40d2-9a10-2e8fe840107d",
   "metadata": {},
   "outputs": [
    {
     "name": "stdout",
     "output_type": "stream",
     "text": [
      "sum:  5\n"
     ]
    }
   ],
   "source": [
    "def num(num1,num2):\n",
    "    sum = num1+num2\n",
    "    print(\"sum: \",sum)\n",
    "num(2,3)"
   ]
  },
  {
   "cell_type": "markdown",
   "id": "7365d14e-06b2-41b9-abae-fb8d1f74cd46",
   "metadata": {},
   "source": [
    "# Function Argument with Default Values"
   ]
  },
  {
   "cell_type": "code",
   "execution_count": 11,
   "id": "176431d1-50ec-4056-b696-691fbd5eb7eb",
   "metadata": {},
   "outputs": [
    {
     "name": "stdout",
     "output_type": "stream",
     "text": [
      "sum 9\n",
      "sum 6\n"
     ]
    }
   ],
   "source": [
    "def sum(a=2,b=4):\n",
    "    sum = a+b\n",
    "    print(\"sum\",sum)\n",
    "sum(a=5)\n",
    "sum()"
   ]
  },
  {
   "cell_type": "markdown",
   "id": "fde7bae6-aa69-4160-93c7-adeec64c931a",
   "metadata": {},
   "source": [
    "# Python Keyword Argument"
   ]
  },
  {
   "cell_type": "code",
   "execution_count": 20,
   "id": "7a5c6345-bc92-415f-bb35-371e87fb1209",
   "metadata": {},
   "outputs": [
    {
     "name": "stdout",
     "output_type": "stream",
     "text": [
      "f_name:  anu\n",
      "l_name:  arya\n"
     ]
    }
   ],
   "source": [
    "def display(f_name,l_name):\n",
    "    print(\"f_name: \",f_name)\n",
    "    print(\"l_name: \",l_name)\n",
    "display(f_name=\"anu\",l_name=\"arya\")"
   ]
  },
  {
   "cell_type": "markdown",
   "id": "d3745357-23f7-4a25-85ae-62d73bb8e689",
   "metadata": {},
   "source": [
    "# Python Function With Arbitrary Arguments"
   ]
  },
  {
   "cell_type": "code",
   "execution_count": 35,
   "id": "f7a5bc49-d489-4814-8b71-ea3f39c3ce04",
   "metadata": {},
   "outputs": [
    {
     "name": "stdout",
     "output_type": "stream",
     "text": [
      "Sum =  6\n"
     ]
    }
   ],
   "source": [
    "def sum(*numbers):\n",
    "    result = 0\n",
    "    for i in numbers:\n",
    "        result = result + numbers\n",
    "        print(\"sum : \",result)\n",
    "    sum(1,2)\n",
    "find_sum(1, 2, 3)"
   ]
  },
  {
   "cell_type": "markdown",
   "id": "5a6c2033-39c7-4f11-bf79-ff8d6a745117",
   "metadata": {},
   "source": [
    "## __Python *args and **kwargs__"
   ]
  },
  {
   "cell_type": "markdown",
   "id": "a34b705e-22b5-4069-b00d-ab566aefe6ba",
   "metadata": {},
   "source": [
    "### Python *args"
   ]
  },
  {
   "cell_type": "markdown",
   "id": "14ef832c-d41c-4132-9a09-cf1f329f4958",
   "metadata": {},
   "source": [
    "* __Using *args to pass the variable length arguments to the function__"
   ]
  },
  {
   "cell_type": "code",
   "execution_count": 7,
   "id": "a37c0523-c0c9-4fcc-b6ee-cb100e11f149",
   "metadata": {},
   "outputs": [
    {
     "name": "stdout",
     "output_type": "stream",
     "text": [
      "Sum: 9\n",
      "Sum: 22\n",
      "Sum: 17\n"
     ]
    }
   ],
   "source": [
    "def adder(*num):\n",
    "    sum = 0\n",
    "    \n",
    "    for n in num:\n",
    "        sum = sum + n\n",
    "\n",
    "    print(\"Sum:\",sum)\n",
    "\n",
    "adder(4,5)\n",
    "adder(4,5,6,7)\n",
    "adder(1,2,3,5,6)"
   ]
  },
  {
   "cell_type": "markdown",
   "id": "f0a4056e-b6ba-4760-aae9-d7ec656c8d4e",
   "metadata": {},
   "source": [
    "### Python **kwargs"
   ]
  },
  {
   "cell_type": "markdown",
   "id": "ebd6c635-e81a-42db-9a72-77f00c5d4af2",
   "metadata": {},
   "source": [
    "* __Using **kwargs to pass the variable keyword arguments to the function__"
   ]
  },
  {
   "cell_type": "code",
   "execution_count": 18,
   "id": "78dfab5b-c2a0-455b-a4d9-f2b543794b96",
   "metadata": {},
   "outputs": [
    {
     "name": "stdout",
     "output_type": "stream",
     "text": [
      "\n",
      "Data type of argument: <class 'dict'>\n",
      "Firstname is Sita\n",
      "Lastname is Sharma\n",
      "Age is 22\n",
      "Phone is 1234567890\n"
     ]
    }
   ],
   "source": [
    "def intro(**data):\n",
    "    print(\"\\nData type of argument:\",type(data))\n",
    "    for key, value in data.items():\n",
    "        print(\"{} is {}\".format(key,value))\n",
    "intro(Firstname=\"Sita\", Lastname=\"Sharma\", Age=22, Phone=1234567890)"
   ]
  },
  {
   "cell_type": "code",
   "execution_count": null,
   "id": "12bb9c50-31fa-45a3-81c4-14c5d046cb6a",
   "metadata": {},
   "outputs": [],
   "source": []
  }
 ],
 "metadata": {
  "kernelspec": {
   "display_name": "Python 3 (ipykernel)",
   "language": "python",
   "name": "python3"
  },
  "language_info": {
   "codemirror_mode": {
    "name": "ipython",
    "version": 3
   },
   "file_extension": ".py",
   "mimetype": "text/x-python",
   "name": "python",
   "nbconvert_exporter": "python",
   "pygments_lexer": "ipython3",
   "version": "3.12.4"
  }
 },
 "nbformat": 4,
 "nbformat_minor": 5
}
