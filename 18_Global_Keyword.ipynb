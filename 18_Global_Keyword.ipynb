{
 "cells": [
  {
   "cell_type": "markdown",
   "id": "67f86ff1-d824-41d4-93c6-4de5e53deedb",
   "metadata": {},
   "source": [
    "# Python Global Keyword"
   ]
  },
  {
   "cell_type": "markdown",
   "id": "82c9ca96-0b66-4e10-9c4f-09c71ebff9f1",
   "metadata": {},
   "source": [
    "## Access and Modify Python Global Variable"
   ]
  },
  {
   "cell_type": "code",
   "execution_count": 3,
   "id": "3179ff7b-c3a4-4d6e-bb61-9d4a769b41bb",
   "metadata": {},
   "outputs": [
    {
     "name": "stdout",
     "output_type": "stream",
     "text": [
      "1\n"
     ]
    }
   ],
   "source": [
    "c = 1 # global variable\n",
    "\n",
    "def add():\n",
    "    print(c)\n",
    "\n",
    "add()"
   ]
  },
  {
   "cell_type": "code",
   "execution_count": 5,
   "id": "ade27a03-f86a-4335-aaa7-a240bc6e3ae6",
   "metadata": {},
   "outputs": [
    {
     "ename": "UnboundLocalError",
     "evalue": "cannot access local variable 'c' where it is not associated with a value",
     "output_type": "error",
     "traceback": [
      "\u001b[1;31m---------------------------------------------------------------------------\u001b[0m",
      "\u001b[1;31mUnboundLocalError\u001b[0m                         Traceback (most recent call last)",
      "Cell \u001b[1;32mIn[5], line 11\u001b[0m\n\u001b[0;32m      7\u001b[0m     c \u001b[38;5;241m=\u001b[39m c \u001b[38;5;241m+\u001b[39m \u001b[38;5;241m2\u001b[39m\n\u001b[0;32m      9\u001b[0m     \u001b[38;5;28mprint\u001b[39m(c)\n\u001b[1;32m---> 11\u001b[0m add()\n",
      "Cell \u001b[1;32mIn[5], line 7\u001b[0m, in \u001b[0;36madd\u001b[1;34m()\u001b[0m\n\u001b[0;32m      4\u001b[0m \u001b[38;5;28;01mdef\u001b[39;00m \u001b[38;5;21madd\u001b[39m():\n\u001b[0;32m      5\u001b[0m \n\u001b[0;32m      6\u001b[0m      \u001b[38;5;66;03m# increment c by 2\u001b[39;00m\n\u001b[1;32m----> 7\u001b[0m     c \u001b[38;5;241m=\u001b[39m c \u001b[38;5;241m+\u001b[39m \u001b[38;5;241m2\u001b[39m\n\u001b[0;32m      9\u001b[0m     \u001b[38;5;28mprint\u001b[39m(c)\n",
      "\u001b[1;31mUnboundLocalError\u001b[0m: cannot access local variable 'c' where it is not associated with a value"
     ]
    }
   ],
   "source": [
    "# global variable\n",
    "c = 1 \n",
    "\n",
    "def add():\n",
    "\n",
    "     # increment c by 2\n",
    "    c = c + 2\n",
    "\n",
    "    print(c)\n",
    "\n",
    "add()"
   ]
  },
  {
   "cell_type": "markdown",
   "id": "3b42502e-1d20-47a6-a96e-7a77e02e3d11",
   "metadata": {},
   "source": [
    "### This is because we can only access the global variable but cannot modify it from inside the function.The solution for this is to use the global keyword"
   ]
  },
  {
   "cell_type": "markdown",
   "id": "31106c8a-412b-483d-91b0-f1e958bd3fc8",
   "metadata": {},
   "source": [
    "## Changing Global Variable From Inside a Function using global"
   ]
  },
  {
   "cell_type": "code",
   "execution_count": 12,
   "id": "4ab5de03-c618-4587-9412-2c13cf12d1b4",
   "metadata": {},
   "outputs": [
    {
     "name": "stdout",
     "output_type": "stream",
     "text": [
      "3\n"
     ]
    }
   ],
   "source": [
    "# global variable\n",
    "c = 1 \n",
    "\n",
    "def add():\n",
    "\n",
    "    # use of global keyword\n",
    "    global c\n",
    "\n",
    "    # increment c by 2\n",
    "    c = c + 2 \n",
    "\n",
    "    print(c)\n",
    "\n",
    "add()"
   ]
  },
  {
   "cell_type": "markdown",
   "id": "8f1b85e1-ea09-494d-9cb4-13f8f1661404",
   "metadata": {},
   "source": [
    "## Global in Nested Functions"
   ]
  },
  {
   "cell_type": "code",
   "execution_count": 15,
   "id": "6fdd85ed-bf9e-4562-ad49-4b9d4c8992cc",
   "metadata": {},
   "outputs": [
    {
     "name": "stdout",
     "output_type": "stream",
     "text": [
      "Before calling inner_function():  20\n",
      "After calling inner_function():  20\n",
      "Outside both function:  25\n"
     ]
    }
   ],
   "source": [
    "def outer_function():\n",
    "    num = 20\n",
    "\n",
    "    def inner_function():\n",
    "        global num\n",
    "        num = 25\n",
    "    \n",
    "    print(\"Before calling inner_function(): \", num)\n",
    "    inner_function()\n",
    "    print(\"After calling inner_function(): \", num)\n",
    "\n",
    "outer_function()\n",
    "print(\"Outside both function: \", num)"
   ]
  },
  {
   "cell_type": "code",
   "execution_count": null,
   "id": "caaeeae9-fc36-4c49-abe0-02ea6258743b",
   "metadata": {},
   "outputs": [],
   "source": []
  }
 ],
 "metadata": {
  "kernelspec": {
   "display_name": "Python 3 (ipykernel)",
   "language": "python",
   "name": "python3"
  },
  "language_info": {
   "codemirror_mode": {
    "name": "ipython",
    "version": 3
   },
   "file_extension": ".py",
   "mimetype": "text/x-python",
   "name": "python",
   "nbconvert_exporter": "python",
   "pygments_lexer": "ipython3",
   "version": "3.12.4"
  }
 },
 "nbformat": 4,
 "nbformat_minor": 5
}
