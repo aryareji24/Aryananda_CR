{
 "cells": [
  {
   "cell_type": "markdown",
   "id": "7a5a2bf8-9ae3-4906-9067-6f345e1a3321",
   "metadata": {},
   "source": [
    "# Python Variable Scope"
   ]
  },
  {
   "cell_type": "markdown",
   "id": "e9166174-9c3a-46d1-872d-d348ee665b15",
   "metadata": {},
   "source": [
    "### In Python, we can declare variables in three different scopes: local scope, global, and nonlocal scope."
   ]
  },
  {
   "cell_type": "markdown",
   "id": "8e53f3a6-91cc-4f8d-8b01-6b3dcbcbb44d",
   "metadata": {},
   "source": [
    "## Python Local Variables"
   ]
  },
  {
   "cell_type": "markdown",
   "id": "97939d75-cea7-429c-80c4-5ea7d1318f6c",
   "metadata": {},
   "source": [
    "### When we declare variables inside a function, these variables will have a local scope (within the function). We cannot access them outside the function.These types of variables are called local variables."
   ]
  },
  {
   "cell_type": "code",
   "execution_count": 12,
   "id": "09cb67b2-3322-4d6a-bc71-2cb8ac18f4fd",
   "metadata": {},
   "outputs": [
    {
     "name": "stdout",
     "output_type": "stream",
     "text": [
      "Local Hello\n"
     ]
    },
    {
     "ename": "NameError",
     "evalue": "name 'message' is not defined",
     "output_type": "error",
     "traceback": [
      "\u001b[1;31m---------------------------------------------------------------------------\u001b[0m",
      "\u001b[1;31mNameError\u001b[0m                                 Traceback (most recent call last)",
      "Cell \u001b[1;32mIn[12], line 10\u001b[0m\n\u001b[0;32m      6\u001b[0m greet()\n\u001b[0;32m      8\u001b[0m \u001b[38;5;66;03m# try to access message variable \u001b[39;00m\n\u001b[0;32m      9\u001b[0m \u001b[38;5;66;03m# outside greet() function\u001b[39;00m\n\u001b[1;32m---> 10\u001b[0m \u001b[38;5;28mprint\u001b[39m(message)\n",
      "\u001b[1;31mNameError\u001b[0m: name 'message' is not defined"
     ]
    }
   ],
   "source": [
    "def greet():\n",
    "    message = 'Hello'\n",
    "    \n",
    "    print('Local', message)\n",
    "\n",
    "greet()\n",
    "\n",
    "# try to access message variable \n",
    "# outside greet() function\n",
    "print(message)"
   ]
  },
  {
   "cell_type": "markdown",
   "id": "cfaecffa-11c9-47be-b2c1-f1b109a05080",
   "metadata": {},
   "source": [
    "__the message variable is local to the greet() function, so it can only be accessed within the function.__"
   ]
  },
  {
   "cell_type": "markdown",
   "id": "23e0a816-39df-44bf-bfc4-807b8a35a4d5",
   "metadata": {},
   "source": [
    "## Python Global Variables"
   ]
  },
  {
   "cell_type": "markdown",
   "id": "9874f270-d63f-4c81-8c9a-8ab7dcc95c98",
   "metadata": {},
   "source": [
    "### In Python, a variable declared outside of the function or in global scope is known as a global variable. This means that a global variable can be accessed inside or outside of the function."
   ]
  },
  {
   "cell_type": "code",
   "execution_count": 23,
   "id": "9ae5a9e9-4c31-4c53-a5d1-60b4218b1021",
   "metadata": {},
   "outputs": [
    {
     "name": "stdout",
     "output_type": "stream",
     "text": [
      "Local Hello\n",
      "Global Hello\n"
     ]
    }
   ],
   "source": [
    "# declare global variable\n",
    "message = 'Hello'\n",
    "\n",
    "def greet():\n",
    "    # declare local variable\n",
    "    print('Local', message)\n",
    "\n",
    "greet()\n",
    "print('Global', message)"
   ]
  },
  {
   "cell_type": "markdown",
   "id": "3dc84427-bdd1-4b4a-8c8e-a76266386eec",
   "metadata": {},
   "source": [
    "## Python Nonlocal Variables"
   ]
  },
  {
   "cell_type": "markdown",
   "id": "85bd5a7f-9d89-45ed-b3b2-89d53bc35bdf",
   "metadata": {},
   "source": [
    "### In Python, nonlocal variables are used in nested functions whose local scope is not defined. This means that the variable can be neither in the local nor the global scope.\n"
   ]
  },
  {
   "cell_type": "code",
   "execution_count": 27,
   "id": "04db1694-3cc2-4252-a38b-e70fbd94092b",
   "metadata": {},
   "outputs": [
    {
     "name": "stdout",
     "output_type": "stream",
     "text": [
      "inner: nonlocal\n",
      "outer: nonlocal\n"
     ]
    }
   ],
   "source": [
    "# outside function \n",
    "def outer():\n",
    "    message = 'local'\n",
    "\n",
    "    # nested function  \n",
    "    def inner():\n",
    "\n",
    "        # declare nonlocal variable\n",
    "        nonlocal message\n",
    "\n",
    "        message = 'nonlocal'\n",
    "        print(\"inner:\", message)\n",
    "\n",
    "    inner()\n",
    "    print(\"outer:\", message)\n",
    "    \n",
    "outer()"
   ]
  },
  {
   "cell_type": "code",
   "execution_count": null,
   "id": "2919d22d-8f2f-45f0-a885-26277d6e0a87",
   "metadata": {},
   "outputs": [],
   "source": []
  }
 ],
 "metadata": {
  "kernelspec": {
   "display_name": "Python 3 (ipykernel)",
   "language": "python",
   "name": "python3"
  },
  "language_info": {
   "codemirror_mode": {
    "name": "ipython",
    "version": 3
   },
   "file_extension": ".py",
   "mimetype": "text/x-python",
   "name": "python",
   "nbconvert_exporter": "python",
   "pygments_lexer": "ipython3",
   "version": "3.12.4"
  }
 },
 "nbformat": 4,
 "nbformat_minor": 5
}
