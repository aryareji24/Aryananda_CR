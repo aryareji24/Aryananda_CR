{
 "cells": [
  {
   "cell_type": "markdown",
   "id": "a1b43ebd-357b-4935-ae90-4c13c40f0cbb",
   "metadata": {},
   "source": [
    "# PACKAGES"
   ]
  },
  {
   "cell_type": "markdown",
   "id": "015a8fe0-25d3-43cd-a49a-9e9b1dfd47bd",
   "metadata": {},
   "source": [
    "### * A package is a container that contains various functions to perform specific tasks."
   ]
  },
  {
   "cell_type": "markdown",
   "id": "8cec8376-b9a8-4fda-9269-916d2fc58891",
   "metadata": {},
   "source": [
    "## <u>Importing module from a package</u>"
   ]
  },
  {
   "cell_type": "markdown",
   "id": "52844c5b-f9d4-4de9-a042-2764af7b2715",
   "metadata": {},
   "source": [
    " ### * we can import modules from packages using the dot (.) operator."
   ]
  },
  {
   "cell_type": "markdown",
   "id": "212584a7-b8d3-471c-8d6b-4d5048664384",
   "metadata": {},
   "source": [
    "## How to Create Package in Python?"
   ]
  },
  {
   "cell_type": "markdown",
   "id": "c7942628-5196-4701-a9a3-aa0d8ed931c3",
   "metadata": {},
   "source": [
    "* Create a directory\n",
    "* Add Modules\n",
    "* Init files\n",
    "* Sub packages\n",
    "* Importing\n",
    "* Distribution"
   ]
  },
  {
   "cell_type": "markdown",
   "id": "fea37f23-9252-427f-9b74-29f2edaaf8f7",
   "metadata": {},
   "source": [
    "## Python Packages for Web frameworks"
   ]
  },
  {
   "cell_type": "markdown",
   "id": "2dd2ac2c-83d7-42ea-9955-de662d2309f1",
   "metadata": {},
   "source": [
    "* Flask\n",
    "* Django\n",
    "* Pyramid\n",
    "* FAstAPI\n",
    "* Tornado\n",
    "* Falcon\n",
    "* CherryPy\n",
    "* Bottle\n"
   ]
  },
  {
   "cell_type": "code",
   "execution_count": null,
   "id": "3f8d4b45-61d6-4f29-9d47-162e78775d03",
   "metadata": {},
   "outputs": [],
   "source": []
  }
 ],
 "metadata": {
  "kernelspec": {
   "display_name": "Python 3 (ipykernel)",
   "language": "python",
   "name": "python3"
  },
  "language_info": {
   "codemirror_mode": {
    "name": "ipython",
    "version": 3
   },
   "file_extension": ".py",
   "mimetype": "text/x-python",
   "name": "python",
   "nbconvert_exporter": "python",
   "pygments_lexer": "ipython3",
   "version": "3.12.3"
  }
 },
 "nbformat": 4,
 "nbformat_minor": 5
}
