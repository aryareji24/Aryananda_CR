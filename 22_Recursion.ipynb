{
 "cells": [
  {
   "cell_type": "markdown",
   "id": "4938e1cd-ba4d-4fcf-9b61-5b96daa78553",
   "metadata": {},
   "source": [
    "# Python Recursion"
   ]
  },
  {
   "cell_type": "markdown",
   "id": "a870793a-aa1e-47c6-92ae-fd48c9c63ce9",
   "metadata": {},
   "source": [
    "### Recursion is a programming technique where a function calls itself directly or indirectly to solve a problem. It's a powerful concept in computer science that allows complex problems to be solved by breaking them down into smaller, simpler instances of the same problem."
   ]
  },
  {
   "cell_type": "markdown",
   "id": "d5361821-860d-41dd-bc60-04f9a4d73b7e",
   "metadata": {},
   "source": [
    "# Python Recursive Function"
   ]
  },
  {
   "cell_type": "markdown",
   "id": "d75a9ad4-675a-43bd-9658-27a24b7252c9",
   "metadata": {},
   "source": [
    "### In Python, we know that a function can call other functions. It is even possible for the function to call itself. These types of construct are termed as recursive functions."
   ]
  },
  {
   "cell_type": "code",
   "execution_count": 17,
   "id": "d6b56dcb-8e80-4a1a-b91e-8b9493f4a2c6",
   "metadata": {},
   "outputs": [
    {
     "name": "stdout",
     "output_type": "stream",
     "text": [
      "The factorial of 3 is 6\n"
     ]
    }
   ],
   "source": [
    "def factorial(x):\n",
    "\n",
    "    if x == 1:\n",
    "        return 1\n",
    "    else:\n",
    "        return (x * factorial(x-1))\n",
    "\n",
    "\n",
    "num = 3\n",
    "print(\"The factorial of\", num, \"is\", factorial(num))"
   ]
  },
  {
   "cell_type": "markdown",
   "id": "f18f3a38-c36d-4706-a1fa-7491a30eb366",
   "metadata": {},
   "source": [
    "### Python program to find the sum of natural using recursive function"
   ]
  },
  {
   "cell_type": "code",
   "execution_count": 20,
   "id": "21ea4052-2142-4cca-83e2-b21cac99fc85",
   "metadata": {},
   "outputs": [
    {
     "name": "stdout",
     "output_type": "stream",
     "text": [
      "The sum is 136\n"
     ]
    }
   ],
   "source": [
    "def sum(n):\n",
    "   if n <= 1:\n",
    "       return n\n",
    "   else:\n",
    "       return n + sum(n-1)\n",
    "       \n",
    "num = 16\n",
    "\n",
    "if num < 0:\n",
    "   print(\"Enter a positive number\")\n",
    "else:\n",
    "   print(\"The sum is\",sum(num))\n"
   ]
  },
  {
   "cell_type": "markdown",
   "id": "6f76d24e-ce4f-43c2-8efb-d5531904f526",
   "metadata": {},
   "source": [
    "### Python program to display the Fibonacci sequence"
   ]
  },
  {
   "cell_type": "code",
   "execution_count": 29,
   "id": "08adf55e-fd2a-4e20-bd87-3820f50a4183",
   "metadata": {},
   "outputs": [
    {
     "name": "stdout",
     "output_type": "stream",
     "text": [
      "Fibonacci sequence:\n",
      "0\n",
      "1\n",
      "1\n",
      "2\n",
      "3\n",
      "5\n",
      "8\n",
      "13\n",
      "21\n",
      "34\n"
     ]
    }
   ],
   "source": [
    "def fibon(n):\n",
    "   if n <= 1:\n",
    "       return n\n",
    "   else:\n",
    "       return(fibon(n-1) + fibon(n-2))\n",
    "\n",
    "terms = 10\n",
    "\n",
    "if terms <= 0:\n",
    "   print(\"Plese enter a positive integer\")\n",
    "else:\n",
    "   print(\"Fibonacci sequence:\")\n",
    "   for i in range(terms):\n",
    "       print(fibon(i))\n"
   ]
  },
  {
   "cell_type": "code",
   "execution_count": null,
   "id": "e347a3e6-89e9-4881-9247-6cb8ad71fd33",
   "metadata": {},
   "outputs": [],
   "source": []
  }
 ],
 "metadata": {
  "kernelspec": {
   "display_name": "Python 3 (ipykernel)",
   "language": "python",
   "name": "python3"
  },
  "language_info": {
   "codemirror_mode": {
    "name": "ipython",
    "version": 3
   },
   "file_extension": ".py",
   "mimetype": "text/x-python",
   "name": "python",
   "nbconvert_exporter": "python",
   "pygments_lexer": "ipython3",
   "version": "3.12.4"
  }
 },
 "nbformat": 4,
 "nbformat_minor": 5
}
