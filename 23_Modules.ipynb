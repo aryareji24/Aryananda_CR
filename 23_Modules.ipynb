{
 "cells": [
  {
   "cell_type": "markdown",
   "id": "5c268695-d128-4bf7-9819-d64af4c25dfc",
   "metadata": {},
   "source": [
    "# PYTHON MODULES  "
   ]
  },
  {
   "cell_type": "markdown",
   "id": "209c9ac4-8ccb-4999-b485-2b341e6276ab",
   "metadata": {},
   "source": [
    "### Module is a file that contains code to perform a specific task. A module may contain variables, functions, classes etc."
   ]
  },
  {
   "cell_type": "markdown",
   "id": "0eeda9c4-ca12-4f86-a55d-f7e26bf2f587",
   "metadata": {},
   "source": [
    "## Import modules in Python"
   ]
  },
  {
   "cell_type": "code",
   "execution_count": null,
   "id": "b9abb1f3-d692-46b3-a248-29affd06505d",
   "metadata": {},
   "outputs": [],
   "source": [
    "import modulename (as per we give)"
   ]
  },
  {
   "cell_type": "markdown",
   "id": "22982ae7-d9b4-4549-a970-774f2ec74047",
   "metadata": {},
   "source": [
    "## import Python Standard Library Modules"
   ]
  },
  {
   "cell_type": "markdown",
   "id": "f6e20fe5-be1c-4cbb-b243-5dd443f9b33a",
   "metadata": {},
   "source": [
    "### import math"
   ]
  },
  {
   "cell_type": "code",
   "execution_count": 9,
   "id": "bfe50c06-7ca2-4566-ac59-5c3dc44551b2",
   "metadata": {},
   "outputs": [
    {
     "name": "stdout",
     "output_type": "stream",
     "text": [
      "The value of pi is 3.141592653589793\n"
     ]
    }
   ],
   "source": [
    "# import standard math module \n",
    "import math\n",
    "\n",
    "# use math.pi to get value of pi\n",
    "print(\"The value of pi is\", math.pi)"
   ]
  },
  {
   "cell_type": "code",
   "execution_count": 13,
   "id": "19c01a91-41b7-4d1c-825c-75b24da60b25",
   "metadata": {},
   "outputs": [
    {
     "name": "stdout",
     "output_type": "stream",
     "text": [
      "4.0\n",
      "3.141592653589793\n",
      "120\n"
     ]
    }
   ],
   "source": [
    "import math\n",
    "\n",
    "print(math.sqrt(16))  \n",
    "print(math.pi)        \n",
    "print(math.factorial(5))  \n"
   ]
  },
  {
   "cell_type": "markdown",
   "id": "5d34b35a-818a-4283-9424-98e82ccd7faf",
   "metadata": {},
   "source": [
    "### Built-in Math Functions"
   ]
  },
  {
   "cell_type": "markdown",
   "id": "f31cee94-ef09-4794-9be1-8e72169631a1",
   "metadata": {},
   "source": [
    "min( ) and max( )"
   ]
  },
  {
   "cell_type": "code",
   "execution_count": 17,
   "id": "18432e0f-9730-4aa8-8677-296fbf5653f9",
   "metadata": {},
   "outputs": [
    {
     "name": "stdout",
     "output_type": "stream",
     "text": [
      "5\n",
      "25\n"
     ]
    }
   ],
   "source": [
    "x = min(5, 10, 25)\n",
    "y = max(5, 10, 25)\n",
    "\n",
    "print(x)\n",
    "print(y)"
   ]
  },
  {
   "cell_type": "markdown",
   "id": "235e8a91-9a65-45b5-9eed-9d3588ae807e",
   "metadata": {},
   "source": [
    "abs( )"
   ]
  },
  {
   "cell_type": "code",
   "execution_count": 23,
   "id": "a8c3c87d-a552-4431-8992-dfe0d820eda0",
   "metadata": {},
   "outputs": [
    {
     "name": "stdout",
     "output_type": "stream",
     "text": [
      "8.25\n"
     ]
    }
   ],
   "source": [
    "x = abs(-8.25)\n",
    "\n",
    "print(x)"
   ]
  },
  {
   "cell_type": "markdown",
   "id": "85f86c17-bed8-4818-a0b9-28bcbf9a6d25",
   "metadata": {},
   "source": [
    "pow(x, y)   "
   ]
  },
  {
   "cell_type": "code",
   "execution_count": 28,
   "id": "b30ca941-15d0-4ef6-8990-18c7325abe21",
   "metadata": {},
   "outputs": [
    {
     "name": "stdout",
     "output_type": "stream",
     "text": [
      "64\n"
     ]
    }
   ],
   "source": [
    "x = pow(4, 3)\n",
    "\n",
    "print(x)"
   ]
  },
  {
   "cell_type": "markdown",
   "id": "f0497eeb-dd96-49bc-bfc2-056c6b6438bc",
   "metadata": {},
   "source": [
    "### math.ceil( ) and math.floor( ) \n",
    "* The math.ceil() method rounds a number upwards to its nearest integer.\n",
    "* The math.floor() method rounds a number downwards to its nearest integer"
   ]
  },
  {
   "cell_type": "code",
   "execution_count": 33,
   "id": "bd422932-e52e-489a-8614-29a474fa0db5",
   "metadata": {},
   "outputs": [
    {
     "name": "stdout",
     "output_type": "stream",
     "text": [
      "2\n",
      "1\n"
     ]
    }
   ],
   "source": [
    "x = math.ceil(1.4)\n",
    "y = math.floor(1.4)\n",
    "\n",
    "print(x) \n",
    "print(y)"
   ]
  },
  {
   "cell_type": "markdown",
   "id": "6598b38d-967c-4039-9e0a-15bbca10165f",
   "metadata": {},
   "source": [
    "## Python import with Renaming"
   ]
  },
  {
   "cell_type": "code",
   "execution_count": 37,
   "id": "314a3e7b-c966-44c8-9d63-78a213a3bb1c",
   "metadata": {},
   "outputs": [
    {
     "name": "stdout",
     "output_type": "stream",
     "text": [
      "3.141592653589793\n"
     ]
    }
   ],
   "source": [
    "# import module by renaming it\n",
    "import math as m\n",
    "\n",
    "print(m.pi)"
   ]
  },
  {
   "cell_type": "markdown",
   "id": "296d4610-bfb8-4f2c-90fe-9199e59beaf6",
   "metadata": {},
   "source": [
    "## Python from...import statement"
   ]
  },
  {
   "cell_type": "code",
   "execution_count": 40,
   "id": "913382da-3761-4710-8405-76facfa2e083",
   "metadata": {},
   "outputs": [
    {
     "name": "stdout",
     "output_type": "stream",
     "text": [
      "3.141592653589793\n"
     ]
    }
   ],
   "source": [
    "# import only pi from math module\n",
    "from math import pi\n",
    "\n",
    "print(pi)\n"
   ]
  },
  {
   "cell_type": "markdown",
   "id": "94bb7ff3-6e0b-410b-82fb-09bf20ee26b6",
   "metadata": {},
   "source": [
    "## Import all names"
   ]
  },
  {
   "cell_type": "code",
   "execution_count": 43,
   "id": "ac385548-de8d-4554-b830-9e619efec55f",
   "metadata": {},
   "outputs": [
    {
     "name": "stdout",
     "output_type": "stream",
     "text": [
      "The value of pi is 3.141592653589793\n"
     ]
    }
   ],
   "source": [
    "from math import *\n",
    "\n",
    "print(\"The value of pi is\", pi)"
   ]
  },
  {
   "cell_type": "markdown",
   "id": "c62663c8-f158-46ec-9325-eb13622b6ae4",
   "metadata": {},
   "source": [
    "## The dir() built-in function"
   ]
  },
  {
   "cell_type": "markdown",
   "id": "d952de22-ad58-4040-9bff-ee9c0b87571c",
   "metadata": {},
   "source": [
    "### we can use the dir() function to list all the function names in a module."
   ]
  },
  {
   "cell_type": "code",
   "execution_count": 5,
   "id": "476386f8-5bac-4432-8b73-d0bc3d76b418",
   "metadata": {},
   "outputs": [
    {
     "data": {
      "text/plain": [
       "['In',\n",
       " 'Out',\n",
       " '_',\n",
       " '_1',\n",
       " '_2',\n",
       " '_3',\n",
       " '_4',\n",
       " '__',\n",
       " '___',\n",
       " '__builtin__',\n",
       " '__builtins__',\n",
       " '__doc__',\n",
       " '__loader__',\n",
       " '__name__',\n",
       " '__package__',\n",
       " '__pandas',\n",
       " '__session__',\n",
       " '__spec__',\n",
       " '_dh',\n",
       " '_i',\n",
       " '_i1',\n",
       " '_i2',\n",
       " '_i3',\n",
       " '_i4',\n",
       " '_i5',\n",
       " '_ih',\n",
       " '_ii',\n",
       " '_iii',\n",
       " '_oh',\n",
       " 'a',\n",
       " 'b',\n",
       " 'dataframe_columns',\n",
       " 'dataframe_hash',\n",
       " 'dtypes_str',\n",
       " 'exit',\n",
       " 'get_dataframes',\n",
       " 'get_ipython',\n",
       " 'getpass',\n",
       " 'hashlib',\n",
       " 'import_pandas_safely',\n",
       " 'is_data_frame',\n",
       " 'json',\n",
       " 'math',\n",
       " 'open',\n",
       " 'quit']"
      ]
     },
     "execution_count": 5,
     "metadata": {},
     "output_type": "execute_result"
    }
   ],
   "source": [
    "a = 1\n",
    "b = \"hello\"\n",
    "\n",
    "import math\n",
    "\n",
    "dir()\n"
   ]
  },
  {
   "cell_type": "code",
   "execution_count": null,
   "id": "4d60584a-0047-4e79-8c70-d7bf1c1364c2",
   "metadata": {},
   "outputs": [],
   "source": []
  }
 ],
 "metadata": {
  "kernelspec": {
   "display_name": "Python 3 (ipykernel)",
   "language": "python",
   "name": "python3"
  },
  "language_info": {
   "codemirror_mode": {
    "name": "ipython",
    "version": 3
   },
   "file_extension": ".py",
   "mimetype": "text/x-python",
   "name": "python",
   "nbconvert_exporter": "python",
   "pygments_lexer": "ipython3",
   "version": "3.12.3"
  }
 },
 "nbformat": 4,
 "nbformat_minor": 5
}
