{
 "cells": [
  {
   "cell_type": "markdown",
   "id": "267246e5-32f9-4f96-af5b-8879c4137b5e",
   "metadata": {},
   "source": [
    "# Python Directory and Files Management"
   ]
  },
  {
   "cell_type": "markdown",
   "id": "3501874b-3286-4eb7-8a69-dcb73b2f710c",
   "metadata": {},
   "source": [
    "* __A directory is a collection of files and subdirectories. A directory inside a directory is known as a subdirectory.__\n",
    "\n",
    "* __Python has the os module that provides us with many useful methods to work with directories (and files as well).__"
   ]
  },
  {
   "cell_type": "markdown",
   "id": "09c9c6ce-d01a-4ba1-8219-5a2de8d68f6b",
   "metadata": {},
   "source": [
    "### Get Current Directory in Python"
   ]
  },
  {
   "cell_type": "markdown",
   "id": "d67f0d71-ac98-4897-8fd5-00f486ede9d8",
   "metadata": {},
   "source": [
    "* __We can get the present working directory using the getcwd() method of the os module.__"
   ]
  },
  {
   "cell_type": "code",
   "execution_count": 5,
   "id": "19d75ce3-b4c7-445f-b252-7c050fd07380",
   "metadata": {},
   "outputs": [
    {
     "name": "stdout",
     "output_type": "stream",
     "text": [
      "C:\\Users\\winsa\n"
     ]
    }
   ],
   "source": [
    "import os\n",
    "\n",
    "print(os.getcwd())"
   ]
  },
  {
   "cell_type": "markdown",
   "id": "d47eec7f-176a-498a-b5f6-ef3c0c68e7ee",
   "metadata": {},
   "source": [
    "### Changing Directory in Python"
   ]
  },
  {
   "cell_type": "code",
   "execution_count": 11,
   "id": "748a29e2-b969-4477-bda6-a7c0efa2113e",
   "metadata": {},
   "outputs": [
    {
     "name": "stdout",
     "output_type": "stream",
     "text": [
      "C:\\\n"
     ]
    }
   ],
   "source": [
    "import os\n",
    "\n",
    "# change directory\n",
    "os.chdir('C:\\\\')\n",
    "\n",
    "print(os.getcwd())"
   ]
  },
  {
   "cell_type": "markdown",
   "id": "bb535b45-e7fb-4154-8f06-6084ff4d4107",
   "metadata": {},
   "source": [
    "### List Directories and Files in Python"
   ]
  },
  {
   "cell_type": "markdown",
   "id": "2c50fd18-b891-44cd-9881-a6b715d5167c",
   "metadata": {},
   "source": [
    "* __All files and sub-directories inside a directory can be retrieved using the listdir() method.__\n",
    "* __This method takes in a path and returns a list of subdirectories and files in that path.__\n",
    "* __If no path is specified it returns the list of subdirectories and files from the current directory__y."
   ]
  },
  {
   "cell_type": "code",
   "execution_count": 26,
   "id": "d87ba68d-caa3-4884-aa93-2f9d284e0cca",
   "metadata": {},
   "outputs": [
    {
     "name": "stdout",
     "output_type": "stream",
     "text": [
      "C:\\\n"
     ]
    },
    {
     "data": {
      "text/plain": [
       "['DLLs',\n",
       " 'Doc',\n",
       " 'include',\n",
       " 'Lib',\n",
       " 'libs',\n",
       " 'LICENSE.txt',\n",
       " 'NEWS.txt',\n",
       " 'python.exe',\n",
       " 'pythonw.exe',\n",
       " 'README.txt',\n",
       " 'Scripts',\n",
       " 'tcl',\n",
       " 'Tools']"
      ]
     },
     "execution_count": 26,
     "metadata": {},
     "output_type": "execute_result"
    }
   ],
   "source": [
    "import os\n",
    "\n",
    "print(os.getcwd())\n",
    "\n",
    "\n",
    "# list all sub-directories\n",
    "os.listdir()\n",
    "['DLLs',\n",
    "'Doc',\n",
    "'include',\n",
    "'Lib',\n",
    "'libs',\n",
    "'LICENSE.txt',\n",
    "'NEWS.txt',\n",
    "'python.exe',\n",
    "'pythonw.exe',\n",
    "'README.txt',\n",
    "'Scripts',\n",
    "'tcl',\n",
    "'Tools']\n",
    "\n"
   ]
  },
  {
   "cell_type": "markdown",
   "id": "cdfc07fb-0c49-4883-9b61-f1e1aba5a4b9",
   "metadata": {},
   "source": [
    "### Making a New Directory in Python"
   ]
  },
  {
   "cell_type": "code",
   "execution_count": 29,
   "id": "225c7fa5-33b1-49dc-932f-ae236f1c387c",
   "metadata": {},
   "outputs": [
    {
     "data": {
      "text/plain": [
       "['test']"
      ]
     },
     "execution_count": 29,
     "metadata": {},
     "output_type": "execute_result"
    }
   ],
   "source": [
    "os.mkdir('test')\n",
    "\n",
    "os.listdir()\n",
    "['test']"
   ]
  },
  {
   "cell_type": "markdown",
   "id": "d87c3704-3625-4944-8ffe-23480ab9dcb1",
   "metadata": {},
   "source": [
    "### Renaming a Directory or a File"
   ]
  },
  {
   "cell_type": "code",
   "execution_count": 32,
   "id": "82337589-1833-4394-a10d-add0e12deca7",
   "metadata": {},
   "outputs": [
    {
     "data": {
      "text/plain": [
       "['new_one']"
      ]
     },
     "execution_count": 32,
     "metadata": {},
     "output_type": "execute_result"
    }
   ],
   "source": [
    "import os\n",
    "\n",
    "os.listdir()\n",
    "['test']\n",
    "\n",
    "# rename a directory\n",
    "os.rename('test','new_one')\n",
    "\n",
    "os.listdir()\n",
    "['new_one']"
   ]
  },
  {
   "cell_type": "markdown",
   "id": "52ea04b6-3045-4726-86a9-9c3feefd356f",
   "metadata": {},
   "source": [
    "### Removing Directory or File in Python"
   ]
  },
  {
   "cell_type": "markdown",
   "id": "03ca2884-c3b9-4f54-8d5a-9642f033aa64",
   "metadata": {},
   "source": [
    "__In Python, we can use the remove() method or the rmdir() method to remove a file or directory.__"
   ]
  },
  {
   "cell_type": "markdown",
   "id": "551013e5-67da-40ab-be8c-bf950daa24d5",
   "metadata": {},
   "source": [
    "__In order to remove a non-empty directory, we can use the rmtree() method inside the shutil module.__ "
   ]
  },
  {
   "cell_type": "code",
   "execution_count": null,
   "id": "fb96bccd-3ac5-4577-a0c5-e63f87c5636a",
   "metadata": {},
   "outputs": [],
   "source": [
    "import shutil\n",
    "shutil.rmtree(\"mydir\")"
   ]
  },
  {
   "cell_type": "code",
   "execution_count": 49,
   "id": "fc19c900-4b78-4777-b908-e6d4cd3e51ae",
   "metadata": {},
   "outputs": [
    {
     "data": {
      "text/plain": [
       "['$Recycle.Bin',\n",
       " '$SysReset',\n",
       " '$WinREAgent',\n",
       " 'Documents and Settings',\n",
       " 'DumpStack.log.tmp',\n",
       " 'hiberfil.sys',\n",
       " 'MSOCache',\n",
       " 'new_one',\n",
       " 'OneDriveTemp',\n",
       " 'pagefile.sys',\n",
       " 'PerfLogs',\n",
       " 'Program Files',\n",
       " 'Program Files (x86)',\n",
       " 'ProgramData',\n",
       " 'Recovery',\n",
       " 'swapfile.sys',\n",
       " 'System Volume Information',\n",
       " 'Users',\n",
       " 'Windows']"
      ]
     },
     "execution_count": 49,
     "metadata": {},
     "output_type": "execute_result"
    }
   ],
   "source": [
    "os.listdir()"
   ]
  },
  {
   "cell_type": "code",
   "execution_count": 61,
   "id": "0e2e977d-5b50-4428-a517-1ee2d7a41392",
   "metadata": {},
   "outputs": [
    {
     "ename": "SyntaxError",
     "evalue": "incomplete input (2465878842.py, line 3)",
     "output_type": "error",
     "traceback": [
      "\u001b[1;36m  Cell \u001b[1;32mIn[61], line 3\u001b[1;36m\u001b[0m\n\u001b[1;33m    directory =[ f for f in all_files\u001b[0m\n\u001b[1;37m                                      ^\u001b[0m\n\u001b[1;31mSyntaxError\u001b[0m\u001b[1;31m:\u001b[0m incomplete input\n"
     ]
    }
   ],
   "source": [
    "os.listdir()\n",
    "all_files = os.listdir()\n",
    "directory =[ f for f in all_files ]"
   ]
  },
  {
   "cell_type": "code",
   "execution_count": null,
   "id": "2a67c188-1b3e-4bda-9ce7-ba6cb6f248bc",
   "metadata": {},
   "outputs": [],
   "source": []
  }
 ],
 "metadata": {
  "kernelspec": {
   "display_name": "Python 3 (ipykernel)",
   "language": "python",
   "name": "python3"
  },
  "language_info": {
   "codemirror_mode": {
    "name": "ipython",
    "version": 3
   },
   "file_extension": ".py",
   "mimetype": "text/x-python",
   "name": "python",
   "nbconvert_exporter": "python",
   "pygments_lexer": "ipython3",
   "version": "3.12.3"
  }
 },
 "nbformat": 4,
 "nbformat_minor": 5
}
