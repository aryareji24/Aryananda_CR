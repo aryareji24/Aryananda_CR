{
 "cells": [
  {
   "cell_type": "markdown",
   "id": "a163d97b-9a5c-4ef5-9630-074feabff527",
   "metadata": {},
   "source": [
    "## Basic CSV Reading"
   ]
  },
  {
   "cell_type": "code",
   "execution_count": 5,
   "id": "8524b098-5459-41c3-b8f7-7d8513d88dbc",
   "metadata": {},
   "outputs": [
    {
     "name": "stdout",
     "output_type": "stream",
     "text": [
      "['Name', 'Age', 'City']\n",
      "['Alice', '30', 'New York']\n",
      "['Bob', '25', 'Los Angeles']\n",
      "['Charlie', '35', 'Chicago']\n"
     ]
    }
   ],
   "source": [
    "import csv\n",
    "\n",
    "with open('example.csv', 'r') as file:\n",
    "    reader = csv.reader(file)\n",
    "    for row in reader:\n",
    "        print(row)\n"
   ]
  },
  {
   "cell_type": "markdown",
   "id": "bdeaea07-f23d-4226-83a9-61b98491e52b",
   "metadata": {},
   "source": [
    "## Custom Delimiters"
   ]
  },
  {
   "cell_type": "code",
   "execution_count": 10,
   "id": "171c15cc-eeba-426d-894a-f00f48104d1f",
   "metadata": {},
   "outputs": [
    {
     "name": "stdout",
     "output_type": "stream",
     "text": [
      "['Name,Age,City']\n",
      "['Alice,30,New York']\n",
      "['Bob,25,Los Angeles']\n",
      "['Charlie,35,Chicago']\n"
     ]
    }
   ],
   "source": [
    "import csv\n",
    "\n",
    "with open('example.csv', 'r') as file:\n",
    "    reader = csv.reader(file, delimiter='\\t')\n",
    "    for row in reader:\n",
    "        print(row)\n"
   ]
  },
  {
   "cell_type": "markdown",
   "id": "8ecdfb27-75ea-49c0-be49-391978025e62",
   "metadata": {},
   "source": [
    "## Handling Initial Spaces"
   ]
  },
  {
   "cell_type": "code",
   "execution_count": 13,
   "id": "bf4470de-be94-475a-ae35-8aeb83ba7955",
   "metadata": {},
   "outputs": [
    {
     "name": "stdout",
     "output_type": "stream",
     "text": [
      "['Name', 'Age', 'City']\n",
      "['Alice', '30', 'New York']\n",
      "['Bob', '25', 'Los Angeles']\n",
      "['Charlie', '35', 'Chicago']\n"
     ]
    }
   ],
   "source": [
    "import csv\n",
    "\n",
    "with open('example.csv', 'r') as file:\n",
    "    reader = csv.reader(file, skipinitialspace=True)\n",
    "    for row in reader:\n",
    "        print(row)\n"
   ]
  },
  {
   "cell_type": "markdown",
   "id": "cd41bcef-7032-4695-bfc1-a4a5efaed21a",
   "metadata": {},
   "source": [
    "## Quotes in CSV Files"
   ]
  },
  {
   "cell_type": "code",
   "execution_count": 16,
   "id": "1ec96eac-9eec-4ac1-bdac-c8e0f5bcf44d",
   "metadata": {},
   "outputs": [
    {
     "name": "stdout",
     "output_type": "stream",
     "text": [
      "['Name', 'Age', 'City']\n",
      "['Alice', '30', 'New York']\n",
      "['Bob', '25', 'Los Angeles']\n",
      "['Charlie', '35', 'Chicago']\n"
     ]
    }
   ],
   "source": [
    "import csv\n",
    "\n",
    "with open('example.csv', 'r') as file:\n",
    "    reader = csv.reader(file, quoting=csv.QUOTE_ALL, skipinitialspace=True)\n",
    "    for row in reader:\n",
    "        print(row)\n"
   ]
  },
  {
   "cell_type": "markdown",
   "id": "2ff0b6b8-03f2-4718-b5b2-a8b6d009c871",
   "metadata": {},
   "source": [
    "## Using Dialects"
   ]
  },
  {
   "cell_type": "code",
   "execution_count": 21,
   "id": "43a965ab-1770-46f2-a66b-57eec2e251d0",
   "metadata": {},
   "outputs": [
    {
     "name": "stdout",
     "output_type": "stream",
     "text": [
      "['SN,Movie,Protagonist']\n",
      "['1,Lord of the Rings,Frodo Baggins']\n",
      "['2,Harry Potter,Harry Potter']\n"
     ]
    }
   ],
   "source": [
    "import csv\n",
    "\n",
    "csv.register_dialect('myDialect',\n",
    "                     delimiter='|',\n",
    "                     skipinitialspace=True,\n",
    "                     quoting=csv.QUOTE_ALL)\n",
    "\n",
    "with open('protagonist.csv', 'r') as file:\n",
    "    reader = csv.reader(file, dialect='myDialect')\n",
    "    for row in reader:\n",
    "        print(row)\n"
   ]
  },
  {
   "cell_type": "markdown",
   "id": "18660e24-8adc-4b5e-a3b5-a33fb9565d72",
   "metadata": {},
   "source": [
    "## Reading as Dictionaries"
   ]
  },
  {
   "cell_type": "code",
   "execution_count": 24,
   "id": "1cad325a-133c-491d-a01b-99a23af645ca",
   "metadata": {},
   "outputs": [
    {
     "name": "stdout",
     "output_type": "stream",
     "text": [
      "{'SN': '1', 'Movie': 'Lord of the Rings', 'Protagonist': 'Frodo Baggins'}\n",
      "{'SN': '2', 'Movie': 'Harry Potter', 'Protagonist': 'Harry Potter'}\n"
     ]
    }
   ],
   "source": [
    "import csv\n",
    "\n",
    "with open('protagonist.csv', 'r') as file:\n",
    "    reader = csv.DictReader(file)\n",
    "    for row in reader:\n",
    "        print(row)\n"
   ]
  },
  {
   "cell_type": "markdown",
   "id": "d0d0c5c2-0230-4c84-af8b-9d3c53c3c03c",
   "metadata": {},
   "source": [
    "## Using csv.Sniffer to Deduce Format"
   ]
  },
  {
   "cell_type": "code",
   "execution_count": 29,
   "id": "e5a5fb1e-3877-4b2c-bf5f-fc699cc331e3",
   "metadata": {},
   "outputs": [
    {
     "name": "stdout",
     "output_type": "stream",
     "text": [
      "True\n",
      "['Name', 'Age', 'City']\n",
      "['Alice', '30', 'New York']\n",
      "['Bob', '25', 'Los Angeles']\n",
      "['Charlie', '35', 'Chicago']\n"
     ]
    }
   ],
   "source": [
    "import csv\n",
    "\n",
    "with open('example.csv', 'r') as file:\n",
    "    sample = file.read(64)\n",
    "    has_header = csv.Sniffer().has_header(sample)\n",
    "    print(has_header)\n",
    "    dialect = csv.Sniffer().sniff(sample)\n",
    "\n",
    "with open('example.csv', 'r') as file:\n",
    "    reader = csv.reader(file, dialect=dialect)\n",
    "    for row in reader:\n",
    "        print(row)\n"
   ]
  },
  {
   "cell_type": "code",
   "execution_count": null,
   "id": "a2803947-40db-4747-b046-442126a694cc",
   "metadata": {},
   "outputs": [],
   "source": []
  }
 ],
 "metadata": {
  "kernelspec": {
   "display_name": "Python 3 (ipykernel)",
   "language": "python",
   "name": "python3"
  },
  "language_info": {
   "codemirror_mode": {
    "name": "ipython",
    "version": 3
   },
   "file_extension": ".py",
   "mimetype": "text/x-python",
   "name": "python",
   "nbconvert_exporter": "python",
   "pygments_lexer": "ipython3",
   "version": "3.12.3"
  }
 },
 "nbformat": 4,
 "nbformat_minor": 5
}
