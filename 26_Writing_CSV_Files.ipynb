{
 "cells": [
  {
   "cell_type": "markdown",
   "id": "c715481f-f64b-4ee1-9fed-7c16dfae0211",
   "metadata": {},
   "source": [
    "## Writing CSV files in Python"
   ]
  },
  {
   "cell_type": "markdown",
   "id": "a4fade86-ff63-4cf9-af0e-acbf70e3b3f5",
   "metadata": {},
   "source": [
    "### 1_Writing Simple CSV Files"
   ]
  },
  {
   "cell_type": "code",
   "execution_count": 10,
   "id": "744dede6-cd1b-4d18-964f-4ccafa56abf8",
   "metadata": {},
   "outputs": [],
   "source": [
    "import csv\n",
    "with open('file.csv', 'w', newline='') as file:\n",
    "    writer = csv.writer(file)\n",
    "    writer.writerow([\"Header1\", \"Header2\"])\n",
    "    writer.writerow([1, \"Value\"])\n"
   ]
  },
  {
   "cell_type": "markdown",
   "id": "445ab51f-0c34-45a2-9155-edcf3af0fc68",
   "metadata": {},
   "source": [
    "### 2_Writing Multiple Rows"
   ]
  },
  {
   "cell_type": "code",
   "execution_count": 12,
   "id": "0d7a468d-9953-4dca-b53d-6a97b745201c",
   "metadata": {},
   "outputs": [],
   "source": [
    "import csv\n",
    "rows = [\n",
    "    [\"Header1\", \"Header2\"],\n",
    "    [1, \"Value1\"],\n",
    "    [2, \"Value2\"]\n",
    "]\n",
    "with open('file.csv', 'w', newline='') as file:\n",
    "    writer = csv.writer(file)\n",
    "    writer.writerows(rows)\n"
   ]
  },
  {
   "cell_type": "markdown",
   "id": "31ba89a0-b035-4a37-90af-0e9bc4ad7d50",
   "metadata": {},
   "source": [
    "## Custom Delimiters"
   ]
  },
  {
   "cell_type": "markdown",
   "id": "1e5003cf-1abf-4fa8-9110-eb8029d10b5d",
   "metadata": {},
   "source": [
    "### 1_Using a Pipe (|) Delimiter"
   ]
  },
  {
   "cell_type": "code",
   "execution_count": 16,
   "id": "7168ad24-34c1-485a-be50-7c8b3d9fc002",
   "metadata": {},
   "outputs": [],
   "source": [
    "import csv\n",
    "rows = [\n",
    "    [\"Header1\", \"Header2\"],\n",
    "    [1, \"Value1\"]\n",
    "]\n",
    "with open('file.csv', 'w', newline='') as file:\n",
    "    writer = csv.writer(file, delimiter='|')\n",
    "    writer.writerows(rows)\n"
   ]
  },
  {
   "cell_type": "markdown",
   "id": "0cc235b8-90be-4bb9-bd15-60bcbb850656",
   "metadata": {},
   "source": [
    "## Quoting Options"
   ]
  },
  {
   "cell_type": "markdown",
   "id": "2759f169-644f-4f5a-af3c-1b2840ca1778",
   "metadata": {},
   "source": [
    "### 1_Using Quotes Around Non-Numeric Values"
   ]
  },
  {
   "cell_type": "code",
   "execution_count": 23,
   "id": "568a10d3-e68f-41ad-96e1-c2bbab8a46ef",
   "metadata": {},
   "outputs": [],
   "source": [
    "import csv\n",
    "rows = [\n",
    "    [\"Header1\", \"Header2\"],\n",
    "    [1, \"Value with, comma\"]\n",
    "]\n",
    "with open('file.csv', 'w', newline='') as file:\n",
    "    writer = csv.writer(file, quoting=csv.QUOTE_NONNUMERIC)\n",
    "    writer.writerows(rows)\n"
   ]
  },
  {
   "cell_type": "markdown",
   "id": "129cd217-a129-435e-8d07-7c542b0aa55c",
   "metadata": {},
   "source": [
    "### 2_Custom Quoting Character"
   ]
  },
  {
   "cell_type": "code",
   "execution_count": 26,
   "id": "83b1e7a4-f7f3-4d0f-a02f-487dfd95e56e",
   "metadata": {},
   "outputs": [],
   "source": [
    "import csv\n",
    "rows = [\n",
    "    [\"Header1\", \"Header2\"],\n",
    "    [1, \"Value\"]\n",
    "]\n",
    "with open('file.csv', 'w', newline='') as file:\n",
    "    writer = csv.writer(file, quoting=csv.QUOTE_NONNUMERIC, quotechar='*')\n",
    "    writer.writerows(rows)\n"
   ]
  },
  {
   "cell_type": "markdown",
   "id": "2041ad8c-8def-4ec1-a2fd-2d1314289b10",
   "metadata": {},
   "source": [
    "## Using Dialects"
   ]
  },
  {
   "cell_type": "code",
   "execution_count": 29,
   "id": "353b71a4-004a-40ef-9f57-d1abc240dc84",
   "metadata": {},
   "outputs": [],
   "source": [
    "import csv\n",
    "csv.register_dialect('myDialect', delimiter='|', quoting=csv.QUOTE_ALL)\n",
    "rows = [\n",
    "    [\"Header1\", \"Header2\"],\n",
    "    [\"Value1\", \"Value2\"]\n",
    "]\n",
    "with open('file.csv', 'w', newline='') as file:\n",
    "    writer = csv.writer(file, dialect='myDialect')\n",
    "    writer.writerows(rows)\n"
   ]
  },
  {
   "cell_type": "markdown",
   "id": "b97123f4-3e05-40ab-af2d-4922c5ce646a",
   "metadata": {},
   "source": [
    "## Writing with 'csv.DictWriter'"
   ]
  },
  {
   "cell_type": "code",
   "execution_count": 32,
   "id": "d2a08c2e-e70d-4c26-8169-2eca1385a56e",
   "metadata": {},
   "outputs": [],
   "source": [
    "import csv\n",
    "fieldnames = ['column1', 'column2']\n",
    "with open('file.csv', 'w', newline='') as file:\n",
    "    writer = csv.DictWriter(file, fieldnames=fieldnames)\n",
    "    writer.writeheader()\n",
    "    writer.writerow({'column1': 'Value1', 'column2': 'Value2'})\n"
   ]
  },
  {
   "cell_type": "markdown",
   "id": "e0cb71cc-ccd0-4fea-8cb2-d54accc10a46",
   "metadata": {},
   "source": [
    "## Handling Special Characters"
   ]
  },
  {
   "cell_type": "code",
   "execution_count": 35,
   "id": "a404ddf9-a85e-495a-b7ac-04d6c278caa9",
   "metadata": {},
   "outputs": [],
   "source": [
    "import csv\n",
    "rows = [\n",
    "    ['Field1', 'Field2'],\n",
    "    ['Value with \"quote\"', 'Another value']\n",
    "]\n",
    "with open('file.csv', 'w', newline='') as file:\n",
    "    writer = csv.writer(file, escapechar='\\\\', quoting=csv.QUOTE_MINIMAL)\n",
    "    writer.writerows(rows)\n"
   ]
  },
  {
   "cell_type": "code",
   "execution_count": null,
   "id": "749fda63-d856-4209-bf47-8c19867cc09e",
   "metadata": {},
   "outputs": [],
   "source": []
  }
 ],
 "metadata": {
  "kernelspec": {
   "display_name": "Python 3 (ipykernel)",
   "language": "python",
   "name": "python3"
  },
  "language_info": {
   "codemirror_mode": {
    "name": "ipython",
    "version": 3
   },
   "file_extension": ".py",
   "mimetype": "text/x-python",
   "name": "python",
   "nbconvert_exporter": "python",
   "pygments_lexer": "ipython3",
   "version": "3.12.3"
  }
 },
 "nbformat": 4,
 "nbformat_minor": 5
}
