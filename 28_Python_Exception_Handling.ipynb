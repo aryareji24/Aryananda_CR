{
 "cells": [
  {
   "cell_type": "markdown",
   "id": "8aeafb52-3be6-4187-88c6-268b27852c70",
   "metadata": {},
   "source": [
    "# <u>Python Exception Handling</u>"
   ]
  },
  {
   "cell_type": "markdown",
   "id": "705a1488-9ee1-4a8f-92cd-824627c51a7c",
   "metadata": {},
   "source": [
    "## Python try...except Block"
   ]
  },
  {
   "cell_type": "markdown",
   "id": "810169ae-a7b0-4d28-8a4d-5e1c2f5aa278",
   "metadata": {},
   "source": [
    "### * The try...except block is used to handle exceptions in Python. The syntax of try...except block"
   ]
  },
  {
   "cell_type": "markdown",
   "id": "b26eb873-5bc7-462c-8425-fbadbc0d1a1c",
   "metadata": {},
   "source": [
    "try:\n",
    "    # code that may cause exception\n",
    "except:\n",
    "    # code to run when exception occurs"
   ]
  },
  {
   "cell_type": "markdown",
   "id": "a8dfc996-a157-4c32-94d3-07ff504a6f98",
   "metadata": {},
   "source": [
    "### Example: Exception Handling Using try...except"
   ]
  },
  {
   "cell_type": "code",
   "execution_count": 13,
   "id": "554c73db-6ee0-46a9-bda1-80f91b801d2c",
   "metadata": {},
   "outputs": [
    {
     "name": "stdout",
     "output_type": "stream",
     "text": [
      "Error: Denominator cannot be 0.\n"
     ]
    }
   ],
   "source": [
    "try:\n",
    "    numerator = 10\n",
    "    denominator = 0\n",
    "\n",
    "    result = numerator/denominator\n",
    "\n",
    "    print(result)\n",
    "except:\n",
    "    print(\"Error: Denominator cannot be 0.\")"
   ]
  },
  {
   "cell_type": "markdown",
   "id": "65cc7ff4-1437-401a-b052-73b8bff5db99",
   "metadata": {},
   "source": [
    "## Catching Specific Exceptions in Python"
   ]
  },
  {
   "cell_type": "markdown",
   "id": "067c1067-2380-485d-9a12-571e71cbb6b7",
   "metadata": {},
   "source": [
    "### *  For each try block, there can be zero or more except blocks. Multiple except blocks allow us to handle each exception differently."
   ]
  },
  {
   "cell_type": "code",
   "execution_count": 18,
   "id": "75fa5e33-eb66-4844-88aa-2b05bcaede17",
   "metadata": {},
   "outputs": [
    {
     "name": "stdout",
     "output_type": "stream",
     "text": [
      "Index Out of Bound.\n"
     ]
    }
   ],
   "source": [
    "try:\n",
    "    \n",
    "    even_numbers = [2,4,6,8]\n",
    "    print(even_numbers[5])\n",
    "\n",
    "except ZeroDivisionError:\n",
    "    print(\"Denominator cannot be 0.\")\n",
    "    \n",
    "except IndexError:\n",
    "    print(\"Index Out of Bound.\")\n"
   ]
  },
  {
   "cell_type": "markdown",
   "id": "1eab880a-38b0-4c36-95de-5b73214fb6da",
   "metadata": {},
   "source": [
    "## Python try with else clause"
   ]
  },
  {
   "cell_type": "code",
   "execution_count": 33,
   "id": "efbd30a7-06da-4b48-9622-ab95acb30f2d",
   "metadata": {},
   "outputs": [
    {
     "name": "stdin",
     "output_type": "stream",
     "text": [
      "Enter a number:  4\n"
     ]
    },
    {
     "name": "stdout",
     "output_type": "stream",
     "text": [
      "0.25\n"
     ]
    }
   ],
   "source": [
    "# program to print the reciprocal of even numbers\n",
    "\n",
    "try:\n",
    "    num = int(input(\"Enter a number: \"))\n",
    "    assert num % 2 == 0\n",
    "except:\n",
    "    print(\"Not an even number!\")\n",
    "else:\n",
    "    reciprocal = 1/num\n",
    "    print(reciprocal)"
   ]
  },
  {
   "cell_type": "markdown",
   "id": "99598957-bf36-438e-bee8-707d8b64f601",
   "metadata": {},
   "source": [
    "## Python try...finally"
   ]
  },
  {
   "cell_type": "markdown",
   "id": "c99393ea-ddbe-412c-9b0f-4a00bac3fc7b",
   "metadata": {},
   "source": [
    "### * for each try block, there can be only one finally block."
   ]
  },
  {
   "cell_type": "code",
   "execution_count": 37,
   "id": "6fd6cefc-81c9-49e0-80b1-e3626aff4a37",
   "metadata": {},
   "outputs": [
    {
     "name": "stdout",
     "output_type": "stream",
     "text": [
      "Error: Denominator cannot be 0.\n",
      "This is finally block.\n"
     ]
    }
   ],
   "source": [
    "try:\n",
    "    numerator = 10\n",
    "    denominator = 0\n",
    "\n",
    "    result = numerator/denominator\n",
    "\n",
    "    print(result)\n",
    "except:\n",
    "    print(\"Error: Denominator cannot be 0.\")\n",
    "    \n",
    "finally:\n",
    "    print(\"This is finally block.\")"
   ]
  }
 ],
 "metadata": {
  "kernelspec": {
   "display_name": "Python 3 (ipykernel)",
   "language": "python",
   "name": "python3"
  },
  "language_info": {
   "codemirror_mode": {
    "name": "ipython",
    "version": 3
   },
   "file_extension": ".py",
   "mimetype": "text/x-python",
   "name": "python",
   "nbconvert_exporter": "python",
   "pygments_lexer": "ipython3",
   "version": "3.12.4"
  }
 },
 "nbformat": 4,
 "nbformat_minor": 5
}
