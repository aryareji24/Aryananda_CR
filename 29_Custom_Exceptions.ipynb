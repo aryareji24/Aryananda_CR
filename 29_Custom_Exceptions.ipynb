{
 "cells": [
  {
   "cell_type": "markdown",
   "id": "991dc1d3-ce85-48b7-adcd-fa4509f199c9",
   "metadata": {},
   "source": [
    "# Python Custom Exceptions"
   ]
  },
  {
   "cell_type": "markdown",
   "id": "15656664-d709-461a-862b-89e1700d6bf0",
   "metadata": {},
   "source": [
    "### In Python, we can define custom exceptions by creating a new class that is derived from the built-in Exception class.\n",
    "### syntax to define custom exceptions,\n"
   ]
  },
  {
   "cell_type": "raw",
   "id": "4d35c708-a50e-4444-9c02-0f9e29e99f36",
   "metadata": {},
   "source": [
    "class CustomError(Exception):\n",
    "    ...\n",
    "    pass\n",
    "\n",
    "try:\n",
    "   ...\n",
    "\n",
    "except CustomError:"
   ]
  },
  {
   "cell_type": "markdown",
   "id": "669a50c2-048c-4418-bb6b-54209a5f9d01",
   "metadata": {},
   "source": [
    "## Customizing Exception Classes"
   ]
  },
  {
   "cell_type": "code",
   "execution_count": null,
   "id": "7dfc6af5-e48e-4981-bd98-d4a30a575a21",
   "metadata": {},
   "outputs": [],
   "source": [
    "class SalaryNotInRangeError(Exception):\n",
    "    \"\"\"Exception raised for errors in the input salary.\n",
    "\n",
    "    Attributes:\n",
    "        salary -- input salary which caused the error\n",
    "        message -- explanation of the error\n",
    "    \"\"\"\n",
    "\n",
    "    def __init__(self, salary, message=\"Salary is not in (5000, 15000) range\"):\n",
    "        self.salary = salary\n",
    "        self.message = message\n",
    "        super().__init__(self.message)\n",
    "\n",
    "\n",
    "salary = int(input(\"Enter salary amount: \"))\n",
    "if not 5000 < salary < 15000:\n",
    "    raise SalaryNotInRangeError(salary)"
   ]
  },
  {
   "cell_type": "markdown",
   "id": "937011ba-41c5-4bde-b1d3-545716cd7a5d",
   "metadata": {},
   "source": [
    "* Here, we have overridden the constructor of the Exception class to accept our own custom arguments salary and message.\n",
    "\n",
    "* Then, the constructor of the parent Exception class is called manually with the self.message argument using super().\n",
    "\n",
    "* The custom self.salary attribute is defined to be used later.\n",
    "\n",
    "* The inherited __str__ method of the Exception class is then used to display the corresponding message when SalaryNotInRangeError is raised."
   ]
  }
 ],
 "metadata": {
  "kernelspec": {
   "display_name": "Python 3 (ipykernel)",
   "language": "python",
   "name": "python3"
  },
  "language_info": {
   "codemirror_mode": {
    "name": "ipython",
    "version": 3
   },
   "file_extension": ".py",
   "mimetype": "text/x-python",
   "name": "python",
   "nbconvert_exporter": "python",
   "pygments_lexer": "ipython3",
   "version": "3.12.3"
  }
 },
 "nbformat": 4,
 "nbformat_minor": 5
}
