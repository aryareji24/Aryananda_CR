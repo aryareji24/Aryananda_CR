{
 "cells": [
  {
   "cell_type": "markdown",
   "id": "db10d071-3795-46e0-9a66-2120ed511321",
   "metadata": {},
   "source": [
    "## Question: Write a Python function that takes a list and an element as arguments and appends the element to the list. Return the modified list. "
   ]
  },
  {
   "cell_type": "code",
   "execution_count": 34,
   "id": "b83561ea-0498-4cd6-bf9b-33027169c5bf",
   "metadata": {},
   "outputs": [],
   "source": [
    "def my_list(list,element):\n",
    "    list.append(element)\n",
    "    return list"
   ]
  },
  {
   "cell_type": "code",
   "execution_count": 36,
   "id": "fa691f3b-faaf-4e7f-9511-dcdef1c2e0a4",
   "metadata": {},
   "outputs": [
    {
     "name": "stdout",
     "output_type": "stream",
     "text": [
      "[1, 2, 3, 4]\n"
     ]
    }
   ],
   "source": [
    "my_list = [1,2,3]\n",
    "new_element = 4\n",
    "my_list.append(new_element)\n",
    "print(my_list)"
   ]
  },
  {
   "cell_type": "code",
   "execution_count": 32,
   "id": "154aae89-4775-4a81-917d-eb343b2c5145",
   "metadata": {},
   "outputs": [],
   "source": [
    "list = [1,2,3]\n",
    "element = 4\n",
    "def my_list(list,element):\n",
    "    list.append(4)\n",
    "    return list"
   ]
  },
  {
   "cell_type": "code",
   "execution_count": null,
   "id": "0b7786e2-f7ca-49ea-8767-18557b8d8466",
   "metadata": {},
   "outputs": [],
   "source": []
  }
 ],
 "metadata": {
  "kernelspec": {
   "display_name": "Python 3 (ipykernel)",
   "language": "python",
   "name": "python3"
  },
  "language_info": {
   "codemirror_mode": {
    "name": "ipython",
    "version": 3
   },
   "file_extension": ".py",
   "mimetype": "text/x-python",
   "name": "python",
   "nbconvert_exporter": "python",
   "pygments_lexer": "ipython3",
   "version": "3.12.4"
  }
 },
 "nbformat": 4,
 "nbformat_minor": 5
}
