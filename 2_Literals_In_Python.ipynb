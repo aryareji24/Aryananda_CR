{
 "cells": [
  {
   "cell_type": "code",
   "execution_count": 9,
   "id": "04f6ec07-2728-459b-b582-489920d4d842",
   "metadata": {},
   "outputs": [
    {
     "name": "stdin",
     "output_type": "stream",
     "text": [
      "enter first number :  2\n",
      "enter sec number :  3\n"
     ]
    },
    {
     "name": "stdout",
     "output_type": "stream",
     "text": [
      "5\n"
     ]
    }
   ],
   "source": [
    "# literals\n",
    "a = int(input(\"enter first number : \"))\n",
    "b = int(input(\"enter sec number : \"))\n",
    "print (a + b)\n",
    "              "
   ]
  },
  {
   "cell_type": "code",
   "execution_count": 11,
   "id": "8ed4e63d-2ceb-43d1-be79-567f6dc44917",
   "metadata": {},
   "outputs": [
    {
     "name": "stdout",
     "output_type": "stream",
     "text": [
      "['code', 1, 1.5]\n"
     ]
    }
   ],
   "source": [
    "# collection literals \n",
    "a = [\"code\",1,1.5]\n",
    "print (a)"
   ]
  },
  {
   "cell_type": "code",
   "execution_count": 13,
   "id": "67e34591-3815-4676-9347-03ded45db3bc",
   "metadata": {},
   "outputs": [
    {
     "name": "stdout",
     "output_type": "stream",
     "text": [
      "('files', 5, 7.5)\n"
     ]
    }
   ],
   "source": [
    "b =(\"files\",5,7.5)\n",
    "print (b)"
   ]
  },
  {
   "cell_type": "code",
   "execution_count": 15,
   "id": "4e71483f-5ff2-4a8f-9f4a-c677faa34c7e",
   "metadata": {},
   "outputs": [
    {
     "name": "stdout",
     "output_type": "stream",
     "text": [
      "{'a': 'ammu', 'b': 'aishu'}\n"
     ]
    }
   ],
   "source": [
    "c = {'a' : \"ammu\" , 'b' : \"aishu\"}\n",
    "print (c)"
   ]
  },
  {
   "cell_type": "code",
   "execution_count": 17,
   "id": "64cfb7c1-b40a-48a6-abc8-b2beb83271ac",
   "metadata": {},
   "outputs": [
    {
     "name": "stdout",
     "output_type": "stream",
     "text": [
      "{'alan', 1, 'athul'}\n"
     ]
    }
   ],
   "source": [
    "d = {\"alan\",1,\"athul\"}\n",
    "print (d)"
   ]
  },
  {
   "cell_type": "code",
   "execution_count": null,
   "id": "1cf52c50-a331-4ac7-b56c-ea8f9d29a765",
   "metadata": {},
   "outputs": [],
   "source": []
  }
 ],
 "metadata": {
  "kernelspec": {
   "display_name": "Python 3 (ipykernel)",
   "language": "python",
   "name": "python3"
  },
  "language_info": {
   "codemirror_mode": {
    "name": "ipython",
    "version": 3
   },
   "file_extension": ".py",
   "mimetype": "text/x-python",
   "name": "python",
   "nbconvert_exporter": "python",
   "pygments_lexer": "ipython3",
   "version": "3.12.4"
  }
 },
 "nbformat": 4,
 "nbformat_minor": 5
}
