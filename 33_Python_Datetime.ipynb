{
 "cells": [
  {
   "cell_type": "markdown",
   "id": "01fd028b-bb62-4a0e-8a26-a27c1a451069",
   "metadata": {},
   "source": [
    "# Python datetime"
   ]
  },
  {
   "cell_type": "markdown",
   "id": "7b27481d-9941-4c95-8b2f-9a22f945c895",
   "metadata": {},
   "source": [
    "### * Python has a module named <u>datetime</u> to work with dates and times.\n",
    "\n",
    "### * It provides a variety of classes for representing and manipulating dates and times, as well as for formatting and parsing dates and times in a variety of formats."
   ]
  },
  {
   "cell_type": "markdown",
   "id": "c806f9d6-30f2-4f63-be50-d63fdb6b6b25",
   "metadata": {},
   "source": [
    "## Example 1: Get Current Date and Time"
   ]
  },
  {
   "cell_type": "code",
   "execution_count": 1,
   "id": "0fe1d1e6-5304-4380-9963-583927329e6d",
   "metadata": {},
   "outputs": [
    {
     "name": "stdout",
     "output_type": "stream",
     "text": [
      "2024-07-25 11:25:38.759951\n"
     ]
    }
   ],
   "source": [
    "import datetime\n",
    "\n",
    "# get the current date and time\n",
    "now = datetime.datetime.now()\n",
    "\n",
    "print(now)"
   ]
  },
  {
   "cell_type": "markdown",
   "id": "a1d33a03-5438-4b0f-81d2-20c252138440",
   "metadata": {},
   "source": [
    "## Example 2: Get Current Date"
   ]
  },
  {
   "cell_type": "code",
   "execution_count": 5,
   "id": "c8b49a41-6d6a-4948-b3c8-3cf265bb21e8",
   "metadata": {},
   "outputs": [
    {
     "name": "stdout",
     "output_type": "stream",
     "text": [
      "2024-07-25\n"
     ]
    }
   ],
   "source": [
    "import datetime\n",
    "\n",
    "# get current date\n",
    "current_date = datetime.date.today()\n",
    "\n",
    "print(current_date)"
   ]
  },
  {
   "cell_type": "markdown",
   "id": "f1ba7e46-61c4-4359-8f23-696690ae8606",
   "metadata": {},
   "source": [
    "## Attributes of datetime Module"
   ]
  },
  {
   "cell_type": "code",
   "execution_count": 8,
   "id": "536605e1-64e3-40fd-ba51-1f5b1376dcda",
   "metadata": {},
   "outputs": [
    {
     "name": "stdout",
     "output_type": "stream",
     "text": [
      "['MAXYEAR', 'MINYEAR', 'UTC', '__all__', '__builtins__', '__cached__', '__doc__', '__file__', '__loader__', '__name__', '__package__', '__spec__', 'date', 'datetime', 'datetime_CAPI', 'time', 'timedelta', 'timezone', 'tzinfo']\n"
     ]
    }
   ],
   "source": [
    "import datetime\n",
    "\n",
    "print(dir(datetime))"
   ]
  },
  {
   "cell_type": "markdown",
   "id": "c0a37942-df56-43eb-b1db-d49fbc73228b",
   "metadata": {},
   "source": [
    "## Python datetime.date Class"
   ]
  },
  {
   "cell_type": "markdown",
   "id": "5f95f852-50b3-4bbd-b0e3-d7cc93a08ccc",
   "metadata": {},
   "source": [
    " ### *  we can instantiate date objects from the date class. A date object represents a date (year, month and day)."
   ]
  },
  {
   "cell_type": "markdown",
   "id": "b51fdf2b-4f80-4565-a6b3-fe904869ef0a",
   "metadata": {},
   "source": [
    "### Example 3: Date object to represent a date"
   ]
  },
  {
   "cell_type": "code",
   "execution_count": 19,
   "id": "94692dac-628b-4ab4-a3db-c6c71ffcbe95",
   "metadata": {},
   "outputs": [
    {
     "name": "stdout",
     "output_type": "stream",
     "text": [
      "2024-07-25\n"
     ]
    }
   ],
   "source": [
    "import datetime\n",
    "\n",
    "d = datetime.date(2024, 7, 25)\n",
    "print(d)"
   ]
  },
  {
   "cell_type": "markdown",
   "id": "3491c4e0-6f40-4505-aad3-304e15545e98",
   "metadata": {},
   "source": [
    "## Import Only date Class"
   ]
  },
  {
   "cell_type": "code",
   "execution_count": 26,
   "id": "cd8ad85d-c7e9-4fbb-b709-f4910c9f2da7",
   "metadata": {},
   "outputs": [
    {
     "name": "stdout",
     "output_type": "stream",
     "text": [
      "2024-07-25\n"
     ]
    }
   ],
   "source": [
    "from datetime import date\n",
    "\n",
    "d = date(2024, 7, 25)\n",
    "print(d)"
   ]
  },
  {
   "cell_type": "markdown",
   "id": "da8ee4e0-4c92-4d38-bb38-1b1cb0fcfcae",
   "metadata": {},
   "source": [
    "\n",
    "### Example 4: Get the current date using today()"
   ]
  },
  {
   "cell_type": "code",
   "execution_count": 30,
   "id": "1c8b89cd-b856-4c86-a603-a7d2c12219c6",
   "metadata": {},
   "outputs": [
    {
     "name": "stdout",
     "output_type": "stream",
     "text": [
      "Today's date = 2024-07-25\n"
     ]
    }
   ],
   "source": [
    "from datetime import date\n",
    "\n",
    "# today() to get current date\n",
    "todays_date = date.today()\n",
    "\n",
    "print(\"Today's date =\", todays_date)"
   ]
  },
  {
   "cell_type": "markdown",
   "id": "64a68e4b-7103-4329-9523-d5a59c198ba9",
   "metadata": {},
   "source": [
    "### Example 5: Get the date from a timestamp"
   ]
  },
  {
   "cell_type": "code",
   "execution_count": 35,
   "id": "e4ee512a-a735-482f-8ba9-55a424f41728",
   "metadata": {},
   "outputs": [
    {
     "name": "stdout",
     "output_type": "stream",
     "text": [
      "Date = 1970-05-24\n"
     ]
    }
   ],
   "source": [
    "from datetime import date\n",
    "\n",
    "timestamp = date.fromtimestamp(12345678)\n",
    "print(\"Date =\", timestamp)"
   ]
  },
  {
   "cell_type": "markdown",
   "id": "446be36c-26f7-4338-a319-8761d561f619",
   "metadata": {},
   "source": [
    "### Example 6: Print today's year, month and day"
   ]
  },
  {
   "cell_type": "code",
   "execution_count": 38,
   "id": "e1adada2-868e-45bb-bf7e-7d14c4ddb2b2",
   "metadata": {},
   "outputs": [
    {
     "name": "stdout",
     "output_type": "stream",
     "text": [
      "Current year: 2024\n",
      "Current month: 7\n",
      "Current day: 25\n"
     ]
    }
   ],
   "source": [
    "from datetime import date\n",
    "\n",
    "# date object of today's date\n",
    "today = date.today() \n",
    "\n",
    "print(\"Current year:\", today.year)\n",
    "print(\"Current month:\", today.month)\n",
    "print(\"Current day:\", today.day)"
   ]
  },
  {
   "cell_type": "markdown",
   "id": "85f7939e-7207-4e71-aa39-2621e09ac801",
   "metadata": {},
   "source": [
    "### Python datetime.time Class"
   ]
  },
  {
   "cell_type": "markdown",
   "id": "a4bcb1e4-e94c-404c-8673-d138842a5601",
   "metadata": {},
   "source": [
    "### Example 7: Time object to represent time"
   ]
  },
  {
   "cell_type": "code",
   "execution_count": 46,
   "id": "9c24bd6c-bb4b-4081-8692-976450a66f42",
   "metadata": {},
   "outputs": [
    {
     "name": "stdout",
     "output_type": "stream",
     "text": [
      "00:00:00\n",
      "11:34:56\n",
      "11:34:56\n",
      "11:34:56.234566\n"
     ]
    }
   ],
   "source": [
    "from datetime import time\n",
    "\n",
    "# time(hour = 0, minute = 0, second = 0)\n",
    "a = time()\n",
    "print(a)\n",
    "\n",
    "# time(hour, minute and second)\n",
    "b = time(11, 34, 56)\n",
    "print(b)\n",
    "\n",
    "# time(hour, minute and second)\n",
    "c = time(hour = 11, minute = 34, second = 56)\n",
    "print(c)\n",
    "\n",
    "# time(hour, minute, second, microsecond)\n",
    "d = time(11, 34, 56, 234566)\n",
    "print(d)"
   ]
  },
  {
   "cell_type": "markdown",
   "id": "c2eaf44a-f5bf-4fc7-8db0-69c0bed46768",
   "metadata": {},
   "source": [
    "### Example 8: Print hour, minute, second and microsecond"
   ]
  },
  {
   "cell_type": "code",
   "execution_count": 51,
   "id": "dc4a3ee3-a357-43dd-8def-135f3ac8abd8",
   "metadata": {},
   "outputs": [
    {
     "name": "stdout",
     "output_type": "stream",
     "text": [
      "Hour = 11\n",
      "Minute = 34\n",
      "Second = 56\n",
      "Microsecond = 2345\n"
     ]
    }
   ],
   "source": [
    "from datetime import time\n",
    "\n",
    "a = time(11, 34, 56,2345)\n",
    "\n",
    "print(\"Hour =\", a.hour)\n",
    "print(\"Minute =\", a.minute)\n",
    "print(\"Second =\", a.second)\n",
    "print(\"Microsecond =\", a.microsecond)"
   ]
  },
  {
   "cell_type": "markdown",
   "id": "036a29c5-2dca-4f29-8f87-86851e02d2b7",
   "metadata": {},
   "source": [
    "## The datetime.datetime Class"
   ]
  },
  {
   "cell_type": "markdown",
   "id": "ddcfe621-c1d9-485a-a78a-b56060b1295a",
   "metadata": {},
   "source": [
    "### Example 9: Python datetime object"
   ]
  },
  {
   "cell_type": "code",
   "execution_count": 55,
   "id": "e4a44a2a-9768-47f3-944b-67c47087413e",
   "metadata": {},
   "outputs": [
    {
     "name": "stdout",
     "output_type": "stream",
     "text": [
      "2022-12-28 00:00:00\n",
      "2022-12-28 23:55:59.342380\n"
     ]
    }
   ],
   "source": [
    "from datetime import datetime\n",
    "\n",
    "# datetime(year, month, day)\n",
    "a = datetime(2022, 12, 28)\n",
    "print(a)\n",
    "\n",
    "# datetime(year, month, day, hour, minute, second, microsecond)\n",
    "b = datetime(2022, 12, 28, 23, 55, 59, 342380)\n",
    "print(b)"
   ]
  },
  {
   "cell_type": "markdown",
   "id": "d27722b4-f292-4cc1-8a0e-4cd0c1a5533b",
   "metadata": {},
   "source": [
    "### Example 10: Print year, month, hour, minute and timestamp"
   ]
  },
  {
   "cell_type": "code",
   "execution_count": 58,
   "id": "a8b02312-fe0f-4e92-9167-0b1d7082d4e6",
   "metadata": {},
   "outputs": [
    {
     "name": "stdout",
     "output_type": "stream",
     "text": [
      "Year = 2022\n",
      "Month = 12\n",
      "Hour = 23\n",
      "Minute = 55\n",
      "Timestamp = 1672251959.34238\n"
     ]
    }
   ],
   "source": [
    "from datetime import datetime\n",
    "\n",
    "a = datetime(2022, 12, 28, 23, 55, 59, 342380)\n",
    "\n",
    "print(\"Year =\", a.year)\n",
    "print(\"Month =\", a.month)\n",
    "print(\"Hour =\", a.hour)\n",
    "print(\"Minute =\", a.minute)\n",
    "print(\"Timestamp =\", a.timestamp())"
   ]
  },
  {
   "cell_type": "markdown",
   "id": "7438f7d1-f30d-4b18-aef5-04e8863cb4f4",
   "metadata": {},
   "source": [
    "## Python datetime.timedelta Class"
   ]
  },
  {
   "cell_type": "markdown",
   "id": "f9ccb6aa-eb3a-49e4-b305-9bc669a4f7a1",
   "metadata": {},
   "source": [
    "### * A timedelta object represents the difference between two dates or times."
   ]
  },
  {
   "cell_type": "code",
   "execution_count": 62,
   "id": "76a5313d-60cd-479f-bfdc-705b60a88874",
   "metadata": {},
   "outputs": [
    {
     "name": "stdout",
     "output_type": "stream",
     "text": [
      "t3 = 201 days, 0:00:00\n",
      "t6 = -333 days, 1:14:20\n",
      "Type of t3 = <class 'datetime.timedelta'>\n",
      "Type of t6 = <class 'datetime.timedelta'>\n"
     ]
    }
   ],
   "source": [
    "from datetime import datetime, date\n",
    "\n",
    "# using date()\n",
    "t1 = date(year = 2018, month = 7, day = 12)\n",
    "t2 = date(year = 2017, month = 12, day = 23)\n",
    "\n",
    "t3 = t1 - t2\n",
    "\n",
    "print(\"t3 =\", t3)\n",
    "\n",
    "# using datetime()\n",
    "t4 = datetime(year = 2018, month = 7, day = 12, hour = 7, minute = 9, second = 33)\n",
    "t5 = datetime(year = 2019, month = 6, day = 10, hour = 5, minute = 55, second = 13)\n",
    "t6 = t4 - t5\n",
    "print(\"t6 =\", t6)\n",
    "\n",
    "print(\"Type of t3 =\", type(t3)) \n",
    "print(\"Type of t6 =\", type(t6))  "
   ]
  },
  {
   "cell_type": "markdown",
   "id": "c967ee5e-50f1-4856-ad3c-310d58972fe4",
   "metadata": {},
   "source": [
    "### Example 12: Difference between two timedelta objects"
   ]
  },
  {
   "cell_type": "code",
   "execution_count": 65,
   "id": "04e403ce-554a-4ef2-b78a-a7d4acebab53",
   "metadata": {},
   "outputs": [
    {
     "name": "stdout",
     "output_type": "stream",
     "text": [
      "t3 = 14 days, 13:55:39\n"
     ]
    }
   ],
   "source": [
    "from datetime import timedelta\n",
    "\n",
    "t1 = timedelta(weeks = 2, days = 5, hours = 1, seconds = 33)\n",
    "t2 = timedelta(days = 4, hours = 11, minutes = 4, seconds = 54)\n",
    "\n",
    "t3 = t1 - t2\n",
    "\n",
    "print(\"t3 =\", t3)"
   ]
  },
  {
   "cell_type": "code",
   "execution_count": null,
   "id": "dfe06221-4d9e-4318-8134-3a961a12015f",
   "metadata": {},
   "outputs": [],
   "source": []
  }
 ],
 "metadata": {
  "kernelspec": {
   "display_name": "Python 3 (ipykernel)",
   "language": "python",
   "name": "python3"
  },
  "language_info": {
   "codemirror_mode": {
    "name": "ipython",
    "version": 3
   },
   "file_extension": ".py",
   "mimetype": "text/x-python",
   "name": "python",
   "nbconvert_exporter": "python",
   "pygments_lexer": "ipython3",
   "version": "3.12.3"
  }
 },
 "nbformat": 4,
 "nbformat_minor": 5
}
