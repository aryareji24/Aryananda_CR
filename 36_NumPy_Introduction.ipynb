{
 "cells": [
  {
   "cell_type": "markdown",
   "id": "b6777a09-15f4-47f9-9f64-6ff8afd041a0",
   "metadata": {},
   "source": [
    "# <u>NumPy (NUMERCALPYTHON)</u>"
   ]
  },
  {
   "cell_type": "markdown",
   "id": "6c6ea2e6-6b70-4eab-986e-5551024ebe46",
   "metadata": {},
   "source": [
    "## Introduction"
   ]
  },
  {
   "cell_type": "markdown",
   "id": "8f929317-e677-4a40-bb1c-2521c51a7e01",
   "metadata": {},
   "source": [
    "* #### NumPy is a python library mainly used to work with arrays.\n",
    "* #### NumPy is a fundamental library in datascience used for efficient storage and manipulation of data."
   ]
  },
  {
   "cell_type": "markdown",
   "id": "16a8ff56-8744-463a-ba23-87521a3153ef",
   "metadata": {},
   "source": [
    "* #### NumPy is a Python library that provides efficient and flexible tools for numerical computations, including support for multi-dimensional arrays, advanced mathematical functions, and seamless integration with other scientific computing libraries."
   ]
  },
  {
   "cell_type": "markdown",
   "id": "e3454e18-0969-417a-9287-6a36ec4496a6",
   "metadata": {},
   "source": [
    "* #### NumPy is created by Travis Oliphant in 2005"
   ]
  },
  {
   "cell_type": "markdown",
   "id": "48834f9e-a7e6-494f-b3e8-0f930578a828",
   "metadata": {},
   "source": [
    "### Use"
   ]
  },
  {
   "cell_type": "markdown",
   "id": "1b3ebdef-16af-45d1-9ead-8ac0fa95ee95",
   "metadata": {},
   "source": [
    "<!-- ### 1_Efficient array operations\n",
    "* #### Speed : Numpy arrays are faster than python lists for numerical operations,this is because numpy arrays are implemented in C and use contigous memory blocks,which makes operations more efficient.\n",
    "### 2_Support for multidimensional arrays\n",
    "### 3_Advanced mathematical functions\n",
    "### 4_Broadcasting\n",
    "### 5_Memory Efficiency\n",
    "### 6_Support for array manipulation -->\n",
    "### Faster execution\n",
    "* #### In python we use lists to work with arrays,but in case of large array operations we use numpy because it is 5x faster than lists\n",
    "* ### NumPy is faster because :\n",
    "* #### It uses specialised data structures called numpy arrays.\n",
    "* #### Created using High level languages like C and C++\n",
    "### Used with Various Libraries\n",
    "* #### NumPy is heavily used with various libraries like Pandas, Scipy, scikit-learn, etc"
   ]
  },
  {
   "cell_type": "markdown",
   "id": "ffef610f-b438-47f3-9993-4230fb09cfe0",
   "metadata": {},
   "source": [
    "### What is NumPy used for ?\n",
    "* #### Machine learning\n",
    "* #### Data science\n",
    "* #### Image and signal processing\n",
    "* #### scientific computing\n",
    "* #### quantum computing"
   ]
  },
  {
   "cell_type": "markdown",
   "id": "0cd7c238-f1b7-46ff-a85c-a613af93d124",
   "metadata": {},
   "source": [
    "## To import NumPy :"
   ]
  },
  {
   "cell_type": "markdown",
   "id": "292059cc-deef-402b-a09e-11831f6dca4d",
   "metadata": {},
   "source": [
    "### import numpy as np"
   ]
  },
  {
   "cell_type": "markdown",
   "id": "cef0854d-b1b1-4734-bd87-b1feda9a716b",
   "metadata": {},
   "source": [
    "## Arrays in NumPy"
   ]
  },
  {
   "cell_type": "markdown",
   "id": "907f3f20-4179-412f-b9d3-a140b17938a3",
   "metadata": {},
   "source": [
    "* ### Arrays are a fundamental data structure that provides efficient storage and manipulation of numericaldata."
   ]
  },
  {
   "cell_type": "markdown",
   "id": "a7ce920f-0bbb-4145-8c82-349dc437bf2b",
   "metadata": {},
   "source": [
    "* #### NumPy arrays have same type of values,indexed by a tuple of non-negative integers.\n",
    "* #### The number of dimension is called rank.\n",
    "* #### Each dimension is called axis"
   ]
  }
 ],
 "metadata": {
  "kernelspec": {
   "display_name": "Python 3 (ipykernel)",
   "language": "python",
   "name": "python3"
  },
  "language_info": {
   "codemirror_mode": {
    "name": "ipython",
    "version": 3
   },
   "file_extension": ".py",
   "mimetype": "text/x-python",
   "name": "python",
   "nbconvert_exporter": "python",
   "pygments_lexer": "ipython3",
   "version": "3.12.3"
  }
 },
 "nbformat": 4,
 "nbformat_minor": 5
}
