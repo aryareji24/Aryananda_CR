{
 "cells": [
  {
   "cell_type": "markdown",
   "id": "8b47ee53-8f29-430c-ac52-e6848bba3a5b",
   "metadata": {},
   "source": [
    "# NumPy Array Creation"
   ]
  },
  {
   "cell_type": "markdown",
   "id": "20c31a7c-c75c-405e-b32f-ed411c7dce13",
   "metadata": {},
   "source": [
    "* #### An array allows us to store a collection of multiple values in a single data structure.\n",
    "\n",
    "* #### The NumPy array is similar to a list, but with added benefits such as being faster and more memory efficient"
   ]
  },
  {
   "cell_type": "markdown",
   "id": "cd920b9e-922a-43ba-9c5a-e6f3e4b3dcdc",
   "metadata": {},
   "source": [
    "## Create Array Using Python List"
   ]
  },
  {
   "cell_type": "code",
   "execution_count": 6,
   "id": "52b144c5-63a6-41af-9950-2b1bfbf30231",
   "metadata": {},
   "outputs": [
    {
     "name": "stdout",
     "output_type": "stream",
     "text": [
      "[1 2 3 4]\n"
     ]
    }
   ],
   "source": [
    "import numpy as np\n",
    "list1 = [ 1, 2, 3, 4 ]\n",
    "arr = np.array(list1)\n",
    "print(arr)"
   ]
  },
  {
   "cell_type": "code",
   "execution_count": 8,
   "id": "99790c55-18ca-45dc-b8bd-dbe8dacdfbde",
   "metadata": {},
   "outputs": [
    {
     "name": "stdout",
     "output_type": "stream",
     "text": [
      "[5 6 7]\n"
     ]
    }
   ],
   "source": [
    "import numpy as np\n",
    "arr = np.array([ 5, 6, 7 ])\n",
    "print(arr)"
   ]
  },
  {
   "cell_type": "markdown",
   "id": "e3f2a68d-7797-43dd-b700-ec715335e296",
   "metadata": {},
   "source": [
    "* ### Unlike lists, arrays can only store data of a similar type"
   ]
  },
  {
   "cell_type": "markdown",
   "id": "fd28aa1b-b6fe-451d-932d-fdf42a5f51d6",
   "metadata": {},
   "source": [
    "## Create an Array Using np.zeros()"
   ]
  },
  {
   "cell_type": "markdown",
   "id": "2a685434-67d0-4f6a-a3ff-03470278dd7f",
   "metadata": {},
   "source": [
    "#### The np.zeros() function allows us to create an array filled with all zeros"
   ]
  },
  {
   "cell_type": "code",
   "execution_count": 27,
   "id": "ca68d886-2e88-44d6-b05a-2103a92afea6",
   "metadata": {},
   "outputs": [
    {
     "name": "stdout",
     "output_type": "stream",
     "text": [
      "[[0. 0. 0.]\n",
      " [0. 0. 0.]]\n"
     ]
    }
   ],
   "source": [
    "import numpy as np\n",
    "arr = np.zeros([2,3])\n",
    "print (arr)"
   ]
  },
  {
   "cell_type": "markdown",
   "id": "8fcebd6a-b6ce-48b2-ac88-8a871eb0e2af",
   "metadata": {},
   "source": [
    "## Create an array using np.ones()"
   ]
  },
  {
   "cell_type": "code",
   "execution_count": 85,
   "id": "63bd97a5-134c-4be8-b6fc-3f6e4070a393",
   "metadata": {},
   "outputs": [
    {
     "name": "stdout",
     "output_type": "stream",
     "text": [
      "[[[1. 1.]\n",
      "  [1. 1.]\n",
      "  [1. 1.]]\n",
      "\n",
      " [[1. 1.]\n",
      "  [1. 1.]\n",
      "  [1. 1.]]]\n"
     ]
    }
   ],
   "source": [
    "import numpy as np\n",
    "arr = np.ones([2,3,2])\n",
    "print(arr)"
   ]
  },
  {
   "cell_type": "markdown",
   "id": "9e6034c6-f56c-42fc-8ea2-52cad7f2c39e",
   "metadata": {},
   "source": [
    "## Create an Array With np.arange()"
   ]
  },
  {
   "cell_type": "code",
   "execution_count": 89,
   "id": "8548c59f-c2f1-434b-952d-5f5debc9dace",
   "metadata": {},
   "outputs": [
    {
     "name": "stdout",
     "output_type": "stream",
     "text": [
      "[0 1 2 3 4]\n",
      "[ 1  3  5  7  9 11]\n"
     ]
    }
   ],
   "source": [
    "import numpy as np\n",
    "arr_1 = np.arange(5)\n",
    "print(arr_1)\n",
    "arr_2 = np.arange(1,12,2)\n",
    "print(arr_2)"
   ]
  },
  {
   "cell_type": "markdown",
   "id": "5941e33d-d040-422e-891f-6e59c36a37aa",
   "metadata": {},
   "source": [
    "## Create an Array With np.random.rand()"
   ]
  },
  {
   "cell_type": "markdown",
   "id": "c7edc2cc-f33e-41a7-b41d-689c71270feb",
   "metadata": {},
   "source": [
    "* #### The np.random.rand() function is used to create an array of random numbers"
   ]
  },
  {
   "cell_type": "code",
   "execution_count": 117,
   "id": "b9bcc628-dc2c-49e1-9143-21cd3eccb0d2",
   "metadata": {},
   "outputs": [
    {
     "name": "stdout",
     "output_type": "stream",
     "text": [
      "[0.35246503 0.81022261]\n"
     ]
    }
   ],
   "source": [
    "import numpy as np\n",
    "array1 = np.random.rand(2)\n",
    "\n",
    "print(array1)"
   ]
  },
  {
   "cell_type": "markdown",
   "id": "9bceb865-9ee0-4571-abe9-a58cd42b7509",
   "metadata": {},
   "source": [
    "## Create an Array With np.random.randint()"
   ]
  },
  {
   "cell_type": "code",
   "execution_count": 112,
   "id": "020df018-e6bf-4b56-b852-854acac0c79f",
   "metadata": {},
   "outputs": [
    {
     "name": "stdout",
     "output_type": "stream",
     "text": [
      "[[6 6]\n",
      " [5 2]\n",
      " [2 3]]\n"
     ]
    }
   ],
   "source": [
    "import numpy as np\n",
    "array1 = np.random.randint(2,7,size=(3,2))\n",
    "\n",
    "print(array1)"
   ]
  },
  {
   "cell_type": "code",
   "execution_count": 101,
   "id": "1aefd220-1ef6-4383-a0ea-c3cfe5ef877e",
   "metadata": {},
   "outputs": [
    {
     "name": "stdout",
     "output_type": "stream",
     "text": [
      "[[5 5]\n",
      " [2 2]\n",
      " [3 4]]\n"
     ]
    }
   ],
   "source": [
    "import numpy as np\n",
    "array1 = np.random.randint(2,7,size=(3,2))\n",
    "\n",
    "print(array1)"
   ]
  },
  {
   "cell_type": "markdown",
   "id": "e4d4f8f3-634f-4ba0-adce-3b14c7f207dc",
   "metadata": {},
   "source": [
    "## Create an Empty NumPy Array"
   ]
  },
  {
   "cell_type": "markdown",
   "id": "7b1a5bed-fcb2-4ed5-b4d5-0f93e90d8c12",
   "metadata": {},
   "source": [
    "### np.empty()"
   ]
  },
  {
   "cell_type": "code",
   "execution_count": 127,
   "id": "c1ac3889-b8d5-43e1-b69e-1b077ae25497",
   "metadata": {},
   "outputs": [
    {
     "name": "stdout",
     "output_type": "stream",
     "text": [
      "[0.65281968 0.88845356 0.20145511 0.2391631  0.89609954]\n"
     ]
    }
   ],
   "source": [
    "import numpy as np\n",
    "array6 = np.empty(5)\n",
    "\n",
    "print(array6)"
   ]
  },
  {
   "cell_type": "markdown",
   "id": "c3c32e98-7dc3-4a53-a2b9-d5cf2e2cb8d3",
   "metadata": {},
   "source": [
    "* ### In this output array fills some values for empty array , the filled values are arbitrary values it has no significance"
   ]
  }
 ],
 "metadata": {
  "kernelspec": {
   "display_name": "Python 3 (ipykernel)",
   "language": "python",
   "name": "python3"
  },
  "language_info": {
   "codemirror_mode": {
    "name": "ipython",
    "version": 3
   },
   "file_extension": ".py",
   "mimetype": "text/x-python",
   "name": "python",
   "nbconvert_exporter": "python",
   "pygments_lexer": "ipython3",
   "version": "3.12.3"
  }
 },
 "nbformat": 4,
 "nbformat_minor": 5
}
