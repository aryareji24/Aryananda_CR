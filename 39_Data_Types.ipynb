{
 "cells": [
  {
   "cell_type": "markdown",
   "id": "63e7a917-866a-48aa-b3a2-7ca644165f85",
   "metadata": {},
   "source": [
    "# NumPy datatypes"
   ]
  },
  {
   "cell_type": "markdown",
   "id": "3263fe07-b88f-4ea5-90ce-9efe7a85fa66",
   "metadata": {},
   "source": [
    "| Data type\t    | Description |\n",
    "|---------------|-------------|\n",
    "| ``bool_``     | Boolean (True or False) stored as a byte |\n",
    "| ``int_``      | Default integer type (same as C ``long``; normally either ``int64`` or ``int32``)| \n",
    "| ``intc``      | Identical to C ``int`` (normally ``int32`` or ``int64``)| \n",
    "| ``intp``      | Integer used for indexing (same as C ``ssize_t``; normally either ``int32`` or ``int64``)| \n",
    "| ``int8``      | Byte (-128 to 127)| \n",
    "| ``int16``     | Integer (-32768 to 32767)|\n",
    "| ``int32``     | Integer (-2147483648 to 2147483647)|\n",
    "| ``int64``     | Integer (-9223372036854775808 to 9223372036854775807)| \n",
    "| ``uint8``     | Unsigned integer (0 to 255)| \n",
    "| ``uint16``    | Unsigned integer (0 to 65535)| \n",
    "| ``uint32``    | Unsigned integer (0 to 4294967295)| \n",
    "| ``uint64``    | Unsigned integer (0 to 18446744073709551615)| \n",
    "| ``float_``    | Shorthand for ``float64``.| \n",
    "| ``float16``   | Half precision float: sign bit, 5 bits exponent, 10 bits mantissa| \n",
    "| ``float32``   | Single precision float: sign bit, 8 bits exponent, 23 bits mantissa| \n",
    "| ``float64``   | Double precision float: sign bit, 11 bits exponent, 52 bits mantissa| \n",
    "| ``complex_``  | Shorthand for ``complex128``.| \n",
    "| ``complex64`` | Complex number, represented by two 32-bit floats| \n",
    "| ``complex128``| Complex number, represented by two 64-bit floats| "
   ]
  },
  {
   "cell_type": "markdown",
   "id": "1d3fa4f7-a76a-46e0-bab6-bf824f40173f",
   "metadata": {},
   "source": [
    "## Boolean"
   ]
  },
  {
   "cell_type": "code",
   "execution_count": 4,
   "id": "9db4f018-10cc-4795-a7d4-bc8f76cf1069",
   "metadata": {},
   "outputs": [
    {
     "name": "stdout",
     "output_type": "stream",
     "text": [
      "<class 'numpy.bool_'>\n"
     ]
    }
   ],
   "source": [
    "import numpy as np\n",
    "a = np.bool_(True)\n",
    "print(type(a))"
   ]
  },
  {
   "cell_type": "markdown",
   "id": "3e3fa64b-01b2-44b4-b321-70b2c61989ae",
   "metadata": {},
   "source": [
    "## int16"
   ]
  },
  {
   "cell_type": "markdown",
   "id": "1a244a58-1ca7-43ff-852c-c231762c5513",
   "metadata": {},
   "source": [
    "* #### int16: This data type represents signed integers ranging from -32768 to 32767. It uses 16 bits (2 bytes) of memory for each value. In NumPy, you can create an array of int16 using np.int16 or simply np.int."
   ]
  },
  {
   "cell_type": "code",
   "execution_count": 9,
   "id": "c16f7658-51d7-4e4f-8de1-4d8fa69402d6",
   "metadata": {},
   "outputs": [
    {
     "name": "stdout",
     "output_type": "stream",
     "text": [
      "int16\n"
     ]
    }
   ],
   "source": [
    "arr_int16 = np.array([1, 2, 3], dtype=np.int16)\n",
    "print(arr_int16.dtype)"
   ]
  },
  {
   "cell_type": "markdown",
   "id": "f0b58904-5126-4b8c-b741-7562c501aacc",
   "metadata": {},
   "source": [
    "## int32"
   ]
  },
  {
   "cell_type": "markdown",
   "id": "e2114f2f-45c4-4046-9c47-2d468d30e56f",
   "metadata": {},
   "source": [
    "*  #### int32: This represents signed integers ranging from -2147483648 to 2147483647. It uses 32 bits (4 bytes) of memory per value. In NumPy, you can create an array of int32 using np.int32."
   ]
  },
  {
   "cell_type": "code",
   "execution_count": 16,
   "id": "0b505d03-f1fd-456c-9652-5470e5b4dc29",
   "metadata": {},
   "outputs": [
    {
     "name": "stdout",
     "output_type": "stream",
     "text": [
      "int32\n"
     ]
    }
   ],
   "source": [
    "arr_int32 = np.array([1, 2, 3], dtype=np.int32)\n",
    "print(arr_int32.dtype)"
   ]
  },
  {
   "cell_type": "markdown",
   "id": "7fefcb57-d1e2-47b0-95b8-77942e1693f7",
   "metadata": {},
   "source": [
    "## int64"
   ]
  },
  {
   "cell_type": "markdown",
   "id": "c79c7562-6af1-4f8f-9caf-07456a38dec5",
   "metadata": {},
   "source": [
    "* #### int64: This represents signed integers ranging from -9223372036854775808 to 9223372036854775807. It uses 64 bits (8 bytes) of memory per value. In NumPy, you can create an array of int64 using np.int64"
   ]
  },
  {
   "cell_type": "code",
   "execution_count": 20,
   "id": "7bd513ef-1dc3-41a2-84f0-cd8e3016e1b0",
   "metadata": {},
   "outputs": [
    {
     "name": "stdout",
     "output_type": "stream",
     "text": [
      "int64\n"
     ]
    }
   ],
   "source": [
    "arr_int64 = np.array([1, 2, 3], dtype=np.int64)\n",
    "print(arr_int64.dtype)"
   ]
  },
  {
   "cell_type": "markdown",
   "id": "0d44b146-0722-47d1-8bf1-1ae91d069192",
   "metadata": {},
   "source": []
  },
  {
   "cell_type": "markdown",
   "id": "032c83e7-1d88-4b54-a6c9-a6b7690429bb",
   "metadata": {},
   "source": [
    "## Float16 , Float32 , Float64"
   ]
  },
  {
   "cell_type": "markdown",
   "id": "80f331dc-cb60-4ccd-89cd-2644f369298a",
   "metadata": {},
   "source": [
    "#### In NumPy, float16, float32, and float64 are data types used to represent floating-point numbers with different levels of precision and memory usage."
   ]
  },
  {
   "cell_type": "markdown",
   "id": "f3ed28ab-422a-4dc6-bb79-2abb45f0defe",
   "metadata": {},
   "source": [
    "1. **float16**:\n",
    "   - **Precision**: 16-bit floating-point number\n",
    "   - **Range**: Approximately ±6.1 × 10⁻⁵ to ±6.5 × 10³\n",
    "   - **Memory Usage**: 2 bytes\n",
    "   - **Usage**: Often used for lower-precision calculations to save memory, especially in large arrays."
   ]
  },
  {
   "cell_type": "markdown",
   "id": "20495a5b-b70c-488b-b9cd-b00a43e7bc34",
   "metadata": {},
   "source": [
    "2. **float32**:\n",
    "   - **Precision**: 32-bit floating-point number (single precision)\n",
    "   - **Range**: Approximately ±1.5 × 10⁻⁴⁵ to ±3.4 × 10³⁸\n",
    "   - **Memory Usage**: 4 bytes\n",
    "   - **Usage**: Commonly used for most floating-point calculations in NumPy. Provides a good balance between precision and memory usage."
   ]
  },
  {
   "cell_type": "markdown",
   "id": "49a03901-d17d-446d-bafc-29c415f90987",
   "metadata": {},
   "source": [
    "\n",
    "3. **float64**:\n",
    "   - **Precision**: 64-bit floating-point number (double precision)\n",
    "   - **Range**: Approximately ±5.0 × 10⁻³⁰⁸ to ±1.8 × 10³⁰⁸\n",
    "   - **Memory Usage**: 8 bytes\n",
    "   - **Usage**: Used for calculations requiring high precision, such as scientific computations."
   ]
  },
  {
   "cell_type": "code",
   "execution_count": 35,
   "id": "509d4484-1d91-40d2-ac1e-d6ce2d336b83",
   "metadata": {},
   "outputs": [
    {
     "name": "stdout",
     "output_type": "stream",
     "text": [
      "float16\n",
      "float32\n",
      "float64\n",
      "float32\n"
     ]
    }
   ],
   "source": [
    "import numpy as np\n",
    "\n",
    "# Creating arrays with specified data types\n",
    "arr_float16 = np.array([1.0, 2.0, 3.0], dtype=np.float16)\n",
    "arr_float32 = np.array([1.0, 2.0, 3.0], dtype=np.float32)\n",
    "arr_float64 = np.array([1.0, 2.0, 3.0], dtype=np.float64)\n",
    "\n",
    "# Checking the data types\n",
    "print(arr_float16.dtype)  \n",
    "print(arr_float32.dtype)\n",
    "print(arr_float64.dtype)  \n",
    "\n",
    "# Example of type conversion\n",
    "arr_float32_converted = arr_float16.astype(np.float32)\n",
    "print(arr_float32_converted.dtype)  # Output: float32"
   ]
  },
  {
   "cell_type": "markdown",
   "id": "970208bb-f4eb-4c1b-93f6-86de951ffc18",
   "metadata": {},
   "source": [
    "- **`float16`**: Low precision, small memory footprint.\n",
    "- **`float32`**: Standard precision, moderate memory footprint.\n",
    "- **`float64`**: High precision, large memory footprint."
   ]
  },
  {
   "cell_type": "code",
   "execution_count": null,
   "id": "11ead219-c15a-43c9-9ba2-e5e2c87958cd",
   "metadata": {},
   "outputs": [],
   "source": []
  }
 ],
 "metadata": {
  "kernelspec": {
   "display_name": "Python 3 (ipykernel)",
   "language": "python",
   "name": "python3"
  },
  "language_info": {
   "codemirror_mode": {
    "name": "ipython",
    "version": 3
   },
   "file_extension": ".py",
   "mimetype": "text/x-python",
   "name": "python",
   "nbconvert_exporter": "python",
   "pygments_lexer": "ipython3",
   "version": "3.12.3"
  }
 },
 "nbformat": 4,
 "nbformat_minor": 5
}
