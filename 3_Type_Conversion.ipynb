{
 "cells": [
  {
   "cell_type": "code",
   "execution_count": 1,
   "id": "27e27484-6589-41cb-92cc-1790324d702a",
   "metadata": {},
   "outputs": [
    {
     "name": "stdout",
     "output_type": "stream",
     "text": [
      "Value: 20.5\n",
      "data_type: <class 'float'>\n"
     ]
    }
   ],
   "source": [
    "# type conversion\n",
    "# implicit conversion\n",
    "integer_num = 10\n",
    "float_num = 10.5\n",
    "new_num = integer_num + float_num\n",
    "print (\"Value:\",new_num)\n",
    "print (\"data_type:\",type(new_num))\n",
    "\n"
   ]
  },
  {
   "cell_type": "code",
   "execution_count": 3,
   "id": "60b75625-5991-44d9-9625-efebf09c0c1c",
   "metadata": {},
   "outputs": [
    {
     "name": "stdout",
     "output_type": "stream",
     "text": [
      "value: 15\n",
      "data_type: <class 'int'>\n"
     ]
    }
   ],
   "source": [
    "# eg2\n",
    "a = 15\n",
    "b = 0\n",
    "c = a + b\n",
    "print (\"value:\",c)\n",
    "print (\"data_type:\",type(c))"
   ]
  },
  {
   "cell_type": "code",
   "execution_count": 7,
   "id": "e44791bb-9d7c-4c8d-8d09-3f94846c7472",
   "metadata": {},
   "outputs": [
    {
     "name": "stdout",
     "output_type": "stream",
     "text": [
      "arya10\n"
     ]
    }
   ],
   "source": [
    "# explicit conversion\n",
    "a = \"arya\"\n",
    "b = 10\n",
    "print (a+str(b))"
   ]
  },
  {
   "cell_type": "code",
   "execution_count": 9,
   "id": "c694ad8e-2289-460b-af3c-190604134cb1",
   "metadata": {},
   "outputs": [
    {
     "name": "stdout",
     "output_type": "stream",
     "text": [
      "30\n"
     ]
    }
   ],
   "source": [
    "# eg2\n",
    "a = 10\n",
    "b = \"20\"\n",
    "print (a+int(b))"
   ]
  }
 ],
 "metadata": {
  "kernelspec": {
   "display_name": "Python 3 (ipykernel)",
   "language": "python",
   "name": "python3"
  },
  "language_info": {
   "codemirror_mode": {
    "name": "ipython",
    "version": 3
   },
   "file_extension": ".py",
   "mimetype": "text/x-python",
   "name": "python",
   "nbconvert_exporter": "python",
   "pygments_lexer": "ipython3",
   "version": "3.12.3"
  }
 },
 "nbformat": 4,
 "nbformat_minor": 5
}
