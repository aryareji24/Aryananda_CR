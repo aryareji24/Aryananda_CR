{
 "cells": [
  {
   "cell_type": "code",
   "execution_count": null,
   "id": "81adee08-93f3-44c2-ae43-891d61b37fb0",
   "metadata": {},
   "outputs": [],
   "source": [
    "import numpy as np"
   ]
  },
  {
   "cell_type": "markdown",
   "id": "10d9db6c-33ee-4d6b-bdc0-a6f6d0c899e2",
   "metadata": {},
   "source": [
    "**Creation of 1D Array**"
   ]
  },
  {
   "cell_type": "code",
   "execution_count": 10,
   "id": "aa2dd420-102f-483b-9ab2-eb3b7d1cc4c1",
   "metadata": {},
   "outputs": [
    {
     "name": "stdout",
     "output_type": "stream",
     "text": [
      "[1 2 3 4]\n"
     ]
    }
   ],
   "source": [
    "a = np.array([1,2,3,4])\n",
    "print(a)"
   ]
  },
  {
   "cell_type": "markdown",
   "id": "e60e6469-4805-421e-b408-1f43f4c6a6fd",
   "metadata": {},
   "source": [
    "**Creation of 2D Array**"
   ]
  },
  {
   "cell_type": "code",
   "execution_count": 14,
   "id": "5d131982-9c22-4d1f-b2ae-59d6b556b57d",
   "metadata": {},
   "outputs": [
    {
     "name": "stdout",
     "output_type": "stream",
     "text": [
      "[[1 2 3]\n",
      " [4 5 6]]\n"
     ]
    }
   ],
   "source": [
    "b = np.array([[1,2,3],[4,5,6]])\n",
    "print(b)"
   ]
  },
  {
   "cell_type": "markdown",
   "id": "23563ec1-0a47-4d28-ac3f-bb8418f01621",
   "metadata": {},
   "source": [
    "**Creation of 3D Array**"
   ]
  },
  {
   "cell_type": "code",
   "execution_count": 17,
   "id": "50d40197-f7ba-4101-89f5-e36ffec308e5",
   "metadata": {
    "scrolled": true
   },
   "outputs": [
    {
     "name": "stdout",
     "output_type": "stream",
     "text": [
      "[[[1 2 3]]\n",
      "\n",
      " [[4 5 6]]\n",
      "\n",
      " [[7 8 9]]]\n"
     ]
    }
   ],
   "source": [
    "c = np.array([[[1,2,3]],\n",
    "              \n",
    "              [[4,5,6]],\n",
    "              \n",
    "              [[7,8,9]]])\n",
    "print(c)"
   ]
  },
  {
   "cell_type": "markdown",
   "id": "2a47cfbc-a750-4555-8838-e1d7dce00cec",
   "metadata": {},
   "source": [
    "**Shape**"
   ]
  },
  {
   "cell_type": "code",
   "execution_count": 20,
   "id": "211ea5ca-f7d5-4142-902a-377ec740e9c3",
   "metadata": {},
   "outputs": [
    {
     "name": "stdout",
     "output_type": "stream",
     "text": [
      "(3, 1, 3)\n"
     ]
    }
   ],
   "source": [
    "print(c.shape)"
   ]
  },
  {
   "cell_type": "markdown",
   "id": "38f46a66-1377-4f86-8508-31858c2e73a7",
   "metadata": {},
   "source": [
    "**Dimension**"
   ]
  },
  {
   "cell_type": "code",
   "execution_count": 23,
   "id": "ffdd468c-ca96-4562-8ab9-0e0f7933313c",
   "metadata": {},
   "outputs": [
    {
     "name": "stdout",
     "output_type": "stream",
     "text": [
      "1\n"
     ]
    }
   ],
   "source": [
    "print(a.ndim)"
   ]
  },
  {
   "cell_type": "markdown",
   "id": "2f550c79-a907-41ae-966a-c9e679c28924",
   "metadata": {},
   "source": [
    "## Common Functions"
   ]
  },
  {
   "cell_type": "markdown",
   "id": "81475cea-99ce-4c2c-8330-f8e8270da952",
   "metadata": {},
   "source": [
    "**zeros**"
   ]
  },
  {
   "cell_type": "code",
   "execution_count": 27,
   "id": "b8649f4e-d437-449f-b970-85223bf98813",
   "metadata": {
    "scrolled": true
   },
   "outputs": [
    {
     "name": "stdout",
     "output_type": "stream",
     "text": [
      "[[[0. 0. 0. 0. 0.]\n",
      "  [0. 0. 0. 0. 0.]]\n",
      "\n",
      " [[0. 0. 0. 0. 0.]\n",
      "  [0. 0. 0. 0. 0.]]\n",
      "\n",
      " [[0. 0. 0. 0. 0.]\n",
      "  [0. 0. 0. 0. 0.]]]\n"
     ]
    }
   ],
   "source": [
    "print(np.zeros([3,2,5]))"
   ]
  },
  {
   "cell_type": "markdown",
   "id": "b92971a3-2f56-4d8a-833d-8d8a2934a0e7",
   "metadata": {},
   "source": [
    "**ones**"
   ]
  },
  {
   "cell_type": "code",
   "execution_count": 30,
   "id": "36377acf-eeab-4851-a447-fc5e94420558",
   "metadata": {},
   "outputs": [
    {
     "name": "stdout",
     "output_type": "stream",
     "text": [
      "[[1. 1.]\n",
      " [1. 1.]\n",
      " [1. 1.]\n",
      " [1. 1.]]\n"
     ]
    }
   ],
   "source": [
    "print(np.ones([4,2]))"
   ]
  },
  {
   "cell_type": "markdown",
   "id": "72dd130b-1727-448b-989e-40879d8faf0d",
   "metadata": {},
   "source": [
    "**Full Numpy Array**"
   ]
  },
  {
   "cell_type": "code",
   "execution_count": 33,
   "id": "10d98ad2-b19d-4203-9988-528e9783fd74",
   "metadata": {},
   "outputs": [
    {
     "name": "stdout",
     "output_type": "stream",
     "text": [
      "[[1 1]\n",
      " [1 1]\n",
      " [1 1]]\n"
     ]
    }
   ],
   "source": [
    "print(np.full([3,2],1))"
   ]
  },
  {
   "cell_type": "markdown",
   "id": "1e39330e-ed9a-454b-953b-58c13cea790b",
   "metadata": {},
   "source": [
    "**Empty**"
   ]
  },
  {
   "cell_type": "code",
   "execution_count": 40,
   "id": "a5aaa670-b693-4c6d-a07c-6476b60038e4",
   "metadata": {
    "scrolled": true
   },
   "outputs": [
    {
     "name": "stdout",
     "output_type": "stream",
     "text": [
      "[[9.98953982e-312 3.16202013e-322 0.00000000e+000 0.00000000e+000]\n",
      " [1.01855798e-312 3.80362944e+175 5.40152524e-038 1.10871645e-047]\n",
      " [6.69900993e+170 2.00343132e-052 1.94973687e+160 3.85777895e-057]]\n"
     ]
    }
   ],
   "source": [
    "print(np.empty([3,4]))"
   ]
  },
  {
   "cell_type": "markdown",
   "id": "efc3e5e9-df82-445d-9eab-93486914c667",
   "metadata": {},
   "source": [
    "## **Reshaping**"
   ]
  },
  {
   "cell_type": "markdown",
   "id": "77679477-0073-4aa4-86ca-f01b028a4b40",
   "metadata": {},
   "source": [
    "**1D to 3D**"
   ]
  },
  {
   "cell_type": "code",
   "execution_count": 60,
   "id": "f15032e0-6750-4a14-b5d7-d296f44e972c",
   "metadata": {
    "scrolled": true
   },
   "outputs": [
    {
     "name": "stdout",
     "output_type": "stream",
     "text": [
      "[[[ 0  1  2  3]\n",
      "  [ 4  5  6  7]\n",
      "  [ 8  9 10 11]]\n",
      "\n",
      " [[12 13 14 15]\n",
      "  [16 17 18 19]\n",
      "  [20 21 22 23]]]\n"
     ]
    }
   ],
   "source": [
    "# Original 1D array\n",
    "array_1d = np.arange(24) \n",
    "\n",
    "# Reshape into 3D array with shape (2, 3, 4)\n",
    "array_3d = array_1d.reshape((2, 3, 4))\n",
    "\n",
    "print(array_3d)\n"
   ]
  },
  {
   "cell_type": "markdown",
   "id": "56377f94-02dd-4d67-ad46-3053c7d37340",
   "metadata": {},
   "source": [
    "**2D to 3D**"
   ]
  },
  {
   "cell_type": "code",
   "execution_count": 98,
   "id": "558d28de-d3f6-48e7-9595-a2dc49c4e625",
   "metadata": {
    "scrolled": true
   },
   "outputs": [
    {
     "name": "stdout",
     "output_type": "stream",
     "text": [
      "[[[1 2 3]\n",
      "  [5 6 7]\n",
      "  [8 6 5]]]\n"
     ]
    }
   ],
   "source": [
    "import numpy as np\n",
    "\n",
    "# Original 2D array\n",
    "a = np.array([[1, 2, 3], [5, 6, 7], [8, 6, 5]])\n",
    "\n",
    "# Reshape into a 3D array with shape (1, 3, 3)\n",
    "a3d = a.reshape(1, 3, 3)\n",
    "\n",
    "print(a3d)\n",
    "\n"
   ]
  },
  {
   "cell_type": "markdown",
   "id": "481c3773-b38a-4062-b125-346cd052084f",
   "metadata": {},
   "source": [
    "**3D to 1D**"
   ]
  },
  {
   "cell_type": "code",
   "execution_count": 101,
   "id": "ee941b94-b369-45ab-8e34-73db35619627",
   "metadata": {},
   "outputs": [
    {
     "name": "stdout",
     "output_type": "stream",
     "text": [
      "[1 2 3 5 6 7 8 6 5]\n"
     ]
    }
   ],
   "source": [
    "p,m,n = a3d.shape\n",
    "total = m*n*p\n",
    "print(a3d.reshape(total))"
   ]
  },
  {
   "cell_type": "code",
   "execution_count": 103,
   "id": "ed89dd07-22f8-480b-9c16-351583b735aa",
   "metadata": {},
   "outputs": [
    {
     "name": "stdout",
     "output_type": "stream",
     "text": [
      "[1 2 3 5 6 7 8 6 5]\n"
     ]
    }
   ],
   "source": [
    "print(a3d.reshape(-1))"
   ]
  },
  {
   "cell_type": "markdown",
   "id": "68b28bd9-f042-44d5-b1f9-97baaf8cf371",
   "metadata": {},
   "source": [
    "**3D to 2D**"
   ]
  },
  {
   "cell_type": "code",
   "execution_count": 106,
   "id": "ac9cf1e9-5aab-4a6c-9b43-33feca133754",
   "metadata": {},
   "outputs": [
    {
     "name": "stdout",
     "output_type": "stream",
     "text": [
      "Original 3D array:\n",
      "[[[ 1  2  3]\n",
      "  [ 4  5  6]]\n",
      "\n",
      " [[ 7  8  9]\n",
      "  [10 11 12]]]\n"
     ]
    }
   ],
   "source": [
    "a3d = np.array([[[1, 2, 3], \n",
    "                    [4, 5, 6]], \n",
    "                   \n",
    "                   [[7, 8, 9], \n",
    "                    [10, 11, 12]]])\n",
    "\n",
    "print(\"Original 3D array:\")\n",
    "print(a3d)"
   ]
  },
  {
   "cell_type": "code",
   "execution_count": 108,
   "id": "7937fc90-839c-4527-9ee8-6a5550d3cc8e",
   "metadata": {
    "scrolled": true
   },
   "outputs": [
    {
     "name": "stdout",
     "output_type": "stream",
     "text": [
      "[[ 1]\n",
      " [ 2]\n",
      " [ 3]\n",
      " [ 4]\n",
      " [ 5]\n",
      " [ 6]\n",
      " [ 7]\n",
      " [ 8]\n",
      " [ 9]\n",
      " [10]\n",
      " [11]\n",
      " [12]]\n",
      "2\n"
     ]
    }
   ],
   "source": [
    "print(a3d.reshape(-1,1))\n",
    "print(a3d.reshape(-1,1).ndim)\n"
   ]
  },
  {
   "cell_type": "code",
   "execution_count": 110,
   "id": "736dc9bb-ddc6-409a-9860-6083ca33a45f",
   "metadata": {},
   "outputs": [
    {
     "name": "stdout",
     "output_type": "stream",
     "text": [
      "[[ 1  2  3]\n",
      " [ 4  5  6]\n",
      " [ 7  8  9]\n",
      " [10 11 12]]\n",
      "2\n"
     ]
    }
   ],
   "source": [
    "d,m,n = a3d.shape\n",
    "total = d*m,n\n",
    "# Reshape the 3D array to 2D by combining the first two dimensions\n",
    "print(a3d.reshape(total))\n",
    "print(a3d.reshape(total).ndim)"
   ]
  },
  {
   "cell_type": "code",
   "execution_count": 112,
   "id": "2baefae4-7833-41d6-8937-30459153c256",
   "metadata": {},
   "outputs": [
    {
     "name": "stdout",
     "output_type": "stream",
     "text": [
      "[[ 1  2  3  4  5  6]\n",
      " [ 7  8  9 10 11 12]]\n",
      "2\n"
     ]
    }
   ],
   "source": [
    "d,m,n = a3d.shape\n",
    "total = d,m*n\n",
    "# Reshape the 3D array to 2D by combining the last two dimensions\n",
    "print(a3d.reshape(total))\n",
    "print(a3d.reshape(total).ndim)"
   ]
  },
  {
   "cell_type": "code",
   "execution_count": 114,
   "id": "13e75189-13a0-4f4e-9d69-ae74a594db86",
   "metadata": {},
   "outputs": [
    {
     "name": "stdout",
     "output_type": "stream",
     "text": [
      "[[ 1  2  3  4  5  6  7  8  9 10 11 12]]\n",
      "2\n"
     ]
    }
   ],
   "source": [
    "print(a3d.reshape(1,-1))\n",
    "print(a3d.reshape(1,-1).ndim)"
   ]
  },
  {
   "cell_type": "raw",
   "id": "0b3b2a6e-00ad-4169-a035-009f91fff2e9",
   "metadata": {},
   "source": [
    "The key difference between reshape(-1, 1) and reshape(1, -1) is the shape of the resulting array. reshape(-1, 1) results in an array with a single column and multiple rows (a column vector), while reshape(1, -1) results in an array with a single row and multiple columns (a row vector)."
   ]
  },
  {
   "cell_type": "code",
   "execution_count": null,
   "id": "e45ec45a-2a00-4cf2-bece-914394f67d54",
   "metadata": {},
   "outputs": [],
   "source": []
  }
 ],
 "metadata": {
  "kernelspec": {
   "display_name": "Python 3 (ipykernel)",
   "language": "python",
   "name": "python3"
  },
  "language_info": {
   "codemirror_mode": {
    "name": "ipython",
    "version": 3
   },
   "file_extension": ".py",
   "mimetype": "text/x-python",
   "name": "python",
   "nbconvert_exporter": "python",
   "pygments_lexer": "ipython3",
   "version": "3.12.3"
  }
 },
 "nbformat": 4,
 "nbformat_minor": 5
}
