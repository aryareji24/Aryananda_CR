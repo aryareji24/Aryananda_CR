{
 "cells": [
  {
   "cell_type": "markdown",
   "id": "d2732322-b7cd-4897-9abc-ac87c0880042",
   "metadata": {},
   "source": [
    "# Fancy_indexing"
   ]
  },
  {
   "cell_type": "markdown",
   "id": "a40d6bb2-800d-4da7-9d63-e98e3b91955b",
   "metadata": {},
   "source": [
    "Fancy indexing in NumPy allows for selecting and manipulating data using arrays of indices. It is a powerful feature for advanced data manipulation and retrieval. \n",
    "\n",
    "### 1. **Basic Fancy Indexing**\n",
    "\n",
    "Fancy indexing uses arrays of integer indices to access elements of another array. Each element in the index array represents a position in the original array."
   ]
  },
  {
   "cell_type": "markdown",
   "id": "18b5bca8-21c0-4aef-9b98-9b007ba3237f",
   "metadata": {},
   "source": [
    "#### Example:"
   ]
  },
  {
   "cell_type": "code",
   "execution_count": 19,
   "id": "23ff9135-5fc5-4adf-b882-1cd8ee4dbcb7",
   "metadata": {},
   "outputs": [
    {
     "name": "stdout",
     "output_type": "stream",
     "text": [
      "[10 20 30 40 50]\n",
      "[1 3 4]\n",
      "[20 40 50]\n"
     ]
    }
   ],
   "source": [
    "import numpy as np\n",
    "\n",
    "# Original array\n",
    "arr = np.array([10, 20, 30, 40, 50])\n",
    "\n",
    "# Indices to select\n",
    "indices = np.array([1, 3, 4])\n",
    "\n",
    "# Fancy indexing\n",
    "selected_elements = arr[indices] \n",
    "print(selected_elements)"
   ]
  },
  {
   "cell_type": "markdown",
   "id": "6f6892a1-17d8-46a5-98e5-5aface59e326",
   "metadata": {},
   "source": [
    "\n",
    "### 2. **Combined Fancy Indexing**\n",
    "\n",
    "Fancy indexing can be combined with other indexing methods, such as boolean indexing or slicing, to perform more complex data retrieval and manipulation."
   ]
  },
  {
   "cell_type": "markdown",
   "id": "13a62297-fff1-4541-b3fc-5c47ee05c340",
   "metadata": {},
   "source": [
    "\n",
    "#### Example:"
   ]
  },
  {
   "cell_type": "code",
   "execution_count": 27,
   "id": "a010420f-aeb9-4674-821a-75909234e52a",
   "metadata": {},
   "outputs": [
    {
     "name": "stdout",
     "output_type": "stream",
     "text": [
      "[2 9]\n"
     ]
    }
   ],
   "source": [
    "# 2D array\n",
    "arr_2d = np.array([[1, 2, 3], [4, 5, 6], [7, 8, 9]])\n",
    "\n",
    "\n",
    "# Indices for rows and columns\n",
    "row_indices = np.array([0, 2])\n",
    "col_indices = np.array([1, 2])\n",
    "\n",
    "# Combined fancy indexing\n",
    "selected_elements_combined = arr_2d[row_indices, col_indices] \n",
    "print(selected_elements_combined)"
   ]
  },
  {
   "cell_type": "markdown",
   "id": "7debb2b7-ae2f-4459-97f0-52e467c21904",
   "metadata": {},
   "source": [
    "### 3. **Modified Fancy Indexing**\n",
    "\n",
    "Modified fancy indexing involves using fancy indexing to alter specific elements of an array. This can be done by assigning new values to the selected indices."
   ]
  },
  {
   "cell_type": "markdown",
   "id": "0e623e5b-95f6-4d27-a144-757aa8427e65",
   "metadata": {},
   "source": [
    "#### Example:"
   ]
  },
  {
   "cell_type": "code",
   "execution_count": 37,
   "id": "30c3f6c4-94d9-4fc5-bca4-2df654ad5266",
   "metadata": {},
   "outputs": [
    {
     "name": "stdout",
     "output_type": "stream",
     "text": [
      "[ 10 100  30 200  50]\n",
      "[1 3]\n",
      "[ 10 100  30 200  50]\n"
     ]
    }
   ],
   "source": [
    "# Original array\n",
    "arr = np.array([10, 20, 30, 40, 50])\n",
    "\n",
    "# Indices to modify\n",
    "indices = np.array([1, 3])\n",
    "\n",
    "# Modifying elements\n",
    "arr[indices] = [100, 200] \n",
    "print(arr)\n",
    "print(indices)\n",
    "print(arr)"
   ]
  },
  {
   "cell_type": "markdown",
   "id": "31bbd924-06f3-4de0-b8db-b571be427786",
   "metadata": {},
   "source": [
    "\n",
    "### 4. **Fancy Indexing with Multi-dimensional Arrays**\n",
    "\n",
    "In multi-dimensional arrays, fancy indexing can be used to select and modify specific elements or sub-arrays. You can specify indices for each dimension separately."
   ]
  },
  {
   "cell_type": "markdown",
   "id": "88cd9132-4549-4fb4-9dc9-08ad110c7623",
   "metadata": {},
   "source": [
    "#### Example:"
   ]
  },
  {
   "cell_type": "code",
   "execution_count": 35,
   "id": "18564154-2e24-4ab4-ae30-7740a2c3bcee",
   "metadata": {},
   "outputs": [
    {
     "name": "stdout",
     "output_type": "stream",
     "text": [
      "[2 4 9]\n"
     ]
    }
   ],
   "source": [
    "# 2D array\n",
    "arr_2d = np.array([[1, 2, 3], [4, 5, 6], [7, 8, 9]])\n",
    "\n",
    "# Indices for rows and columns\n",
    "rows = np.array([0, 1, 2])\n",
    "cols = np.array([1, 0, 2])\n",
    "\n",
    "# Combined fancy indexing\n",
    "result = arr_2d[rows, cols]  \n",
    "\n",
    "# Modifying elements\n",
    "arr_2d[rows, cols] = [100, 200, 300]\n",
    "print(result)"
   ]
  },
  {
   "cell_type": "markdown",
   "id": "ed5f0f2b-a65a-4316-9ffe-1eeae1045e8a",
   "metadata": {},
   "source": [
    "### 5. **Fancy Indexing with Boolean Arrays**\n",
    "\n",
    "Fancy indexing can be combined with boolean arrays to select and modify elements that meet certain conditions."
   ]
  },
  {
   "cell_type": "markdown",
   "id": "74a81bd3-d594-4cc2-9b8f-174e403a5895",
   "metadata": {},
   "source": [
    "#### Example:"
   ]
  },
  {
   "cell_type": "code",
   "execution_count": null,
   "id": "e3858efb-b1eb-4cf7-9024-9b01108b5dc2",
   "metadata": {},
   "outputs": [],
   "source": [
    "# Original array\n",
    "arr = np.array([10, 20, 30, 40, 50])\n",
    "\n",
    "# Boolean mask\n",
    "mask = (arr > 20)\n",
    "\n",
    "# Fancy indexing with boolean mask\n",
    "selected_elements = arr[mask]  # Output: array([30, 40, 50])\n",
    "\n",
    "# Modifying elements that meet the condition\n",
    "arr[mask] = [300, 400, 500]"
   ]
  },
  {
   "cell_type": "markdown",
   "id": "4fd0a168-90fa-4cb1-bccd-176395233743",
   "metadata": {},
   "source": [
    "### 6. **Fancy Indexing with Different Shapes**\n",
    "\n",
    "Fancy indexing can be applied to arrays of different shapes and dimensions, allowing for flexible data manipulation."
   ]
  },
  {
   "cell_type": "markdown",
   "id": "d0e4152b-4dd9-43e0-b3a3-92da75965cd9",
   "metadata": {},
   "source": [
    "#### Example:"
   ]
  },
  {
   "cell_type": "code",
   "execution_count": null,
   "id": "1adb0e53-e639-4e00-befe-643255ddd66d",
   "metadata": {},
   "outputs": [],
   "source": [
    "# 3D array\n",
    "arr_3d = np.array([[[1, 2], [3, 4]], [[5, 6], [7, 8]], [[9, 10], [11, 12]]])\n",
    "\n",
    "# Indices for different dimensions\n",
    "dim0_indices = np.array([0, 1, 2])\n",
    "dim1_indices = np.array([1, 0, 1])\n",
    "dim2_indices = np.array([0, 1, 0])\n",
    "\n",
    "# Combined fancy indexing\n",
    "result = arr_3d[dim0_indices, dim1_indices, dim2_indices] "
   ]
  },
  {
   "cell_type": "markdown",
   "id": "b78bfd39-fec8-4988-b922-29d63cae59c1",
   "metadata": {},
   "source": [
    "- **Basic Fancy Indexing**: Select elements using arrays of indices.\n",
    "- **Combined Fancy Indexing**: Combine fancy indexing with other indexing methods like boolean indexing.\n",
    "- **Modified Fancy Indexing**: Use fancy indexing to modify specific elements.\n",
    "- **Multi-dimensional Arrays**: Apply fancy indexing to select and modify elements in multi-dimensional arrays.\n",
    "- **Fancy Indexing with Boolean Arrays**: Combine fancy indexing with boolean masks for conditional selection and modification.\n",
    "- **Different Shapes**: Apply fancy indexing to arrays of different shapes and dimensions.\n",
    "\n",
    "Fancy indexing provides powerful capabilities for advanced data manipulation and retrieval in NumPy. Understanding and effectively using these features can significantly enhance your data processing workflows."
   ]
  },
  {
   "cell_type": "code",
   "execution_count": null,
   "id": "a3b92100-624a-4944-8089-455265cf2aab",
   "metadata": {},
   "outputs": [],
   "source": []
  }
 ],
 "metadata": {
  "kernelspec": {
   "display_name": "Python 3 (ipykernel)",
   "language": "python",
   "name": "python3"
  },
  "language_info": {
   "codemirror_mode": {
    "name": "ipython",
    "version": 3
   },
   "file_extension": ".py",
   "mimetype": "text/x-python",
   "name": "python",
   "nbconvert_exporter": "python",
   "pygments_lexer": "ipython3",
   "version": "3.12.3"
  }
 },
 "nbformat": 4,
 "nbformat_minor": 5
}
