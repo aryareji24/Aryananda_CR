{
 "cells": [
  {
   "cell_type": "markdown",
   "id": "256fd642-41a0-4103-a506-8083cf7f0c5d",
   "metadata": {},
   "source": [
    "# comparison,masking and boolean logic"
   ]
  },
  {
   "cell_type": "markdown",
   "id": "856c7d21-f208-4392-8ca2-e406b7b42a75",
   "metadata": {},
   "source": [
    "NumPy provides powerful tools for comparison, masking, and boolean logic operations on arrays. These features are essential for efficient data manipulation and analysis. Here's a detailed guide on these operations:"
   ]
  },
  {
   "cell_type": "markdown",
   "id": "c689fd13-bf10-4cd5-82c7-fc8e6031280e",
   "metadata": {},
   "source": [
    "\n",
    "### 1. **Comparison Operations**\n",
    "\n",
    "Comparison operations in NumPy are used to compare arrays element-wise and produce boolean arrays indicating the result of each comparison."
   ]
  },
  {
   "cell_type": "markdown",
   "id": "f48e8129-f1e0-427e-a5a3-18a797b6dde8",
   "metadata": {},
   "source": [
    "\n",
    "#### Examples:"
   ]
  },
  {
   "cell_type": "code",
   "execution_count": 1,
   "id": "a952a375-a8cf-4e4e-af6c-43b8437db556",
   "metadata": {},
   "outputs": [
    {
     "name": "stdout",
     "output_type": "stream",
     "text": [
      "[False False  True False]\n",
      "[ True False False False]\n",
      "[False  True False  True]\n",
      "[ True False  True False]\n"
     ]
    }
   ],
   "source": [
    "\n",
    "import numpy as np\n",
    "\n",
    "# Arrays\n",
    "a = np.array([1, 2, 3, 4])\n",
    "b = np.array([3, 2, 1, 4])\n",
    "\n",
    "# Element-wise comparison\n",
    "greater_than = a > b        \n",
    "less_than = a < b          \n",
    "equal_to = a == b          \n",
    "not_equal_to = a != b      \n",
    "\n",
    "\n",
    "\n",
    "print(greater_than)\n",
    "print(less_than)\n",
    "print(equal_to)\n",
    "print(not_equal_to)"
   ]
  },
  {
   "cell_type": "markdown",
   "id": "b525c364-f2c5-4ffb-9f8a-d0ccee783bd6",
   "metadata": {},
   "source": [
    "\n",
    "### 2. **Boolean Masking**\n",
    "\n",
    "**Boolean masking** involves using a boolean array to select or modify elements of another array. This is achieved through conditional indexing."
   ]
  },
  {
   "cell_type": "markdown",
   "id": "b414334d-27bd-4387-9398-3d1defa11521",
   "metadata": {},
   "source": [
    "\n",
    "#### Examples:"
   ]
  },
  {
   "cell_type": "code",
   "execution_count": 18,
   "id": "5858b71d-0dbd-4585-8d54-086b853c6f21",
   "metadata": {},
   "outputs": [
    {
     "name": "stdout",
     "output_type": "stream",
     "text": [
      "[False False False  True  True]\n",
      "[40 50]\n",
      "[ 10  20  30 100 100]\n"
     ]
    }
   ],
   "source": [
    "\n",
    "# Arrays\n",
    "data = np.array([10, 20, 30, 40, 50])\n",
    "mask = data > 30            # Boolean mask: array([False, False, False,  True,  True])\n",
    "\n",
    "# Applying the mask\n",
    "filtered_data = data[mask]  \n",
    "\n",
    "# Modifying elements using a mask\n",
    "data[mask] = 100            # Array after modification: array([10, 20, 30, 100, 100])\n",
    "\n",
    "print(mask)\n",
    "print(filtered_data)\n",
    "print(data)"
   ]
  },
  {
   "cell_type": "markdown",
   "id": "bb56e605-3c5b-4f3f-b753-f627ddf50862",
   "metadata": {},
   "source": [
    "### 3. **Boolean Logic Operations**\n",
    "\n",
    "**Boolean logic operations** involve combining multiple boolean arrays or conditions using logical operators. NumPy provides logical functions like `np.logical_and()`, `np.logical_or()`, and `np.logical_not()` for these operations."
   ]
  },
  {
   "cell_type": "markdown",
   "id": "c5f4152f-c4d8-4f7d-b2d3-02f9bd6b3fc8",
   "metadata": {},
   "source": [
    "\n",
    "#### Examples:"
   ]
  },
  {
   "cell_type": "code",
   "execution_count": 20,
   "id": "9c1a17e7-015f-4ee3-8423-287c1cf26162",
   "metadata": {},
   "outputs": [
    {
     "name": "stdout",
     "output_type": "stream",
     "text": [
      "[False False  True]\n",
      "[ True False  True]\n",
      "[False  True False]\n",
      "[False False  True  True False]\n",
      "[30 40]\n"
     ]
    }
   ],
   "source": [
    "# Arrays\n",
    "a = np.array([True, False, True])\n",
    "b = np.array([False, False, True])\n",
    "\n",
    "# Logical AND\n",
    "logical_and = np.logical_and(a, b)  # Output: array([False, False,  True])\n",
    "\n",
    "# Logical OR\n",
    "logical_or = np.logical_or(a, b)    # Output: array([ True, False,  True])\n",
    "\n",
    "# Logical NOT\n",
    "logical_not = np.logical_not(a)     # Output: array([False,  True, False])\n",
    "\n",
    "# Combining conditions\n",
    "data = np.array([10, 20, 30, 40, 50])\n",
    "mask1 = data > 20\n",
    "mask2 = data < 50\n",
    "combined_mask = np.logical_and(mask1, mask2)  # Output: array([False,  True,  True,  True, False])\n",
    "\n",
    "# Applying the combined mask\n",
    "filtered_data = data[combined_mask]  # Output: array([30, 40])\n",
    "\n",
    "print(logical_and)\n",
    "print(logical_or)\n",
    "print(logical_not)\n",
    "print(combined_mask)\n",
    "print(filtered_data)"
   ]
  },
  {
   "cell_type": "markdown",
   "id": "0b1c225d-ae99-42f3-b43d-1e391367dc6c",
   "metadata": {},
   "source": [
    "\n",
    "### 4. **`np.where()` Function**\n",
    "\n",
    "The `np.where()` function is a versatile tool that allows for conditional selection or assignment based on boolean conditions."
   ]
  },
  {
   "cell_type": "markdown",
   "id": "7cd8c589-792e-4f2a-898a-caefdb905635",
   "metadata": {},
   "source": [
    "\n",
    "\n",
    "#### Examples:"
   ]
  },
  {
   "cell_type": "code",
   "execution_count": 28,
   "id": "002f8783-1ea2-43d7-96b5-43e1c8cd43fb",
   "metadata": {},
   "outputs": [
    {
     "name": "stdout",
     "output_type": "stream",
     "text": [
      "['Odd' 'Even' 'Odd' 'Even']\n"
     ]
    }
   ],
   "source": [
    "# Arrays\n",
    "a = np.array([1, 2, 3, 4])\n",
    "b = np.array([4, 3, 2, 1])\n",
    "\n",
    "# Using np.where() to choose elements based on a condition\n",
    "result = np.where(a > b, a, b)  # Output: array([4, 3, 3, 4])  # Selects elements from `a` where `a` > `b`, otherwise from `b`\n",
    "\n",
    "# Using np.where() for conditional assignment\n",
    "result = np.where(a % 2 == 0, 'Even', 'Odd')  # Output: array(['Odd', 'Even', 'Odd', 'Even'], dtype='<U4')\n",
    "\n",
    "# print(result)\n",
    "print(result)"
   ]
  },
  {
   "cell_type": "markdown",
   "id": "192bbb2a-ad54-4f18-9de8-5014d8d89491",
   "metadata": {},
   "source": [
    "### 5. **Combining Conditions with Logical Operators**\n",
    "\n",
    "You can combine multiple conditions using logical operators to filter or manipulate arrays.\n",
    "\n",
    "#### Examples:"
   ]
  },
  {
   "cell_type": "code",
   "execution_count": 30,
   "id": "0028e959-b003-4198-bfcb-87fb07193d4d",
   "metadata": {},
   "outputs": [
    {
     "name": "stdout",
     "output_type": "stream",
     "text": [
      "[False False False  True False  True False  True False  True]\n",
      "[ 4  6  8 10]\n"
     ]
    }
   ],
   "source": [
    "\n",
    "# Arrays\n",
    "data = np.array([1, 2, 3, 4, 5, 6, 7, 8, 9, 10])\n",
    "\n",
    "# Conditions\n",
    "condition1 = data > 3\n",
    "condition2 = data % 2 == 0\n",
    "\n",
    "# Combining conditions\n",
    "combined_condition = np.logical_and(condition1, condition2)  # Output: array([False, False, False,  True, False,  True, False,  True, False, False])\n",
    "\n",
    "# Applying the combined condition\n",
    "filtered_data = data[combined_condition]  # Output: array([ 4,  6,  8])\n",
    "\n",
    "print(combined_condition)\n",
    "print(filtered_data)\n"
   ]
  },
  {
   "cell_type": "markdown",
   "id": "d573b0f2-6e18-4c40-ac97-4fc814b535fc",
   "metadata": {
    "jp-MarkdownHeadingCollapsed": true
   },
   "source": [
    "- **Comparison Operations**: Use `>`, `<`, `==`, `!=` to compare arrays element-wise. These operations produce boolean arrays.\n",
    "- **Boolean Masking**: Apply boolean masks to select or modify elements in arrays.\n",
    "- **Boolean Logic Operations**: Use `np.logical_and()`, `np.logical_or()`, and `np.logical_not()` to combine conditions.\n",
    "- **`np.where()` Function**: Choose elements or perform conditional assignment based on boolean conditions.\n",
    "- **Combining Conditions**: Combine multiple boolean conditions to filter or manipulate arrays.\n",
    "\n",
    "These tools make NumPy a powerful library for numerical and logical operations, enabling efficient and flexible data processing."
   ]
  },
  {
   "cell_type": "code",
   "execution_count": null,
   "id": "8387d1a9-4049-4f06-a078-1f6ab53fcdcc",
   "metadata": {},
   "outputs": [],
   "source": []
  }
 ],
 "metadata": {
  "kernelspec": {
   "display_name": "Python 3 (ipykernel)",
   "language": "python",
   "name": "python3"
  },
  "language_info": {
   "codemirror_mode": {
    "name": "ipython",
    "version": 3
   },
   "file_extension": ".py",
   "mimetype": "text/x-python",
   "name": "python",
   "nbconvert_exporter": "python",
   "pygments_lexer": "ipython3",
   "version": "3.12.3"
  }
 },
 "nbformat": 4,
 "nbformat_minor": 5
}
