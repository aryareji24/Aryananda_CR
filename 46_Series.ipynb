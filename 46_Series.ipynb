{
 "cells": [
  {
   "cell_type": "markdown",
   "id": "19aec49d-9b2e-43ca-832b-9e779d8463d7",
   "metadata": {},
   "source": [
    "# What is series ?"
   ]
  },
  {
   "cell_type": "markdown",
   "id": "55648b06-c1f6-481e-b852-5dc6c1ac5f5a",
   "metadata": {},
   "source": [
    "* Pandas Series is like a column in a table.\n",
    "* It is a one dimensional array holding data of any type."
   ]
  },
  {
   "cell_type": "code",
   "execution_count": 187,
   "id": "35c4112a-6e88-487b-a414-6c99f57f9010",
   "metadata": {},
   "outputs": [
    {
     "data": {
      "text/plain": [
       "0    1\n",
       "1    2\n",
       "2    3\n",
       "3    4\n",
       "dtype: int64"
      ]
     },
     "execution_count": 187,
     "metadata": {},
     "output_type": "execute_result"
    }
   ],
   "source": [
    "import pandas as pd\n",
    "l = [1,2,3,4]\n",
    "var = pd.Series(l)\n",
    "var"
   ]
  },
  {
   "cell_type": "markdown",
   "id": "36bc276c-d4f4-4b17-a57f-c86240f123f7",
   "metadata": {},
   "source": [
    "# Labels"
   ]
  },
  {
   "cell_type": "markdown",
   "id": "8c6b1b60-bc33-4f26-b546-eaa2791007a9",
   "metadata": {},
   "source": [
    "If nothing else is specified,the values are labeled with their index numbers."
   ]
  },
  {
   "cell_type": "code",
   "execution_count": 8,
   "id": "859f3c33-7b30-4228-bf86-6c2c311bcbba",
   "metadata": {},
   "outputs": [
    {
     "name": "stdout",
     "output_type": "stream",
     "text": [
      "1\n"
     ]
    }
   ],
   "source": [
    "print(var[0])"
   ]
  },
  {
   "cell_type": "markdown",
   "id": "4910a1b0-4c63-4b89-ada0-e64adddf5309",
   "metadata": {},
   "source": [
    "## Create Labels"
   ]
  },
  {
   "cell_type": "code",
   "execution_count": 21,
   "id": "200335ae-999e-4c1e-98cd-8b194f075e90",
   "metadata": {},
   "outputs": [
    {
     "name": "stdout",
     "output_type": "stream",
     "text": [
      "x    5\n",
      "y    6\n",
      "z    7\n",
      "dtype: int64\n"
     ]
    }
   ],
   "source": [
    "import pandas as pd\n",
    "l = [5,6,7]\n",
    "myvar = pd.Series(l,index =[ \"x\",\"y\",\"z\"])\n",
    "print(myvar)"
   ]
  },
  {
   "cell_type": "markdown",
   "id": "7f188c00-9089-467d-b773-b3ce6a6d0a3d",
   "metadata": {},
   "source": [
    "### Attributes and methods "
   ]
  },
  {
   "cell_type": "markdown",
   "id": "0a616495-6a0c-41ac-8137-617a27250516",
   "metadata": {},
   "source": [
    "#### <u>dtype<u/>\n",
    "* `pandas.series.dtype` is used to return the datatype of the Series"
   ]
  },
  {
   "cell_type": "code",
   "execution_count": 40,
   "id": "8139d20e-d54e-42c7-8b97-256e6bfc9cfb",
   "metadata": {},
   "outputs": [
    {
     "name": "stdout",
     "output_type": "stream",
     "text": [
      "0     10\n",
      "1     20\n",
      "2     40\n",
      "3     80\n",
      "4    100\n",
      "dtype: int64\n",
      "\n",
      "Series Datatype:  int64\n"
     ]
    }
   ],
   "source": [
    "import  pandas as pd\n",
    " \n",
    "\n",
    "dat = [10, 20, 40, 80, 100]\n",
    " \n",
    "s = pd.Series(dat)\n",
    " \n",
    "print(s)\n",
    " \n",
    "# Datatype\n",
    "print(\"\\nSeries Datatype: \", s.dtype)"
   ]
  },
  {
   "cell_type": "markdown",
   "id": "a5ef910b-e65b-454b-9b59-53a8bfc8bcab",
   "metadata": {},
   "source": [
    "### <u>ndim<u/>"
   ]
  },
  {
   "cell_type": "markdown",
   "id": "dff4aad6-cff9-444d-b6e6-e12f3b33ba14",
   "metadata": {},
   "source": [
    "* The  `pandas.series.ndim` is used to return the number of dimensions of the Series."
   ]
  },
  {
   "cell_type": "code",
   "execution_count": 36,
   "id": "851d64fb-e706-456a-8806-519bb3e9e209",
   "metadata": {},
   "outputs": [
    {
     "name": "stdout",
     "output_type": "stream",
     "text": [
      "0     10\n",
      "1     20\n",
      "2     40\n",
      "3     80\n",
      "4    100\n",
      "dtype: int64\n",
      "Series Dimensions:  1\n"
     ]
    }
   ],
   "source": [
    "import  pandas as pd\n",
    "\n",
    "data = [10, 20, 40, 80, 100]\n",
    "s = pd.Series(data)\n",
    "print(s)\n",
    " \n",
    "# Dimensions\n",
    "print(\"Series Dimensions: \", s.ndim)"
   ]
  },
  {
   "cell_type": "markdown",
   "id": "ec951f70-a22f-4ab7-b043-aebb5d66370b",
   "metadata": {},
   "source": [
    "### <u>size<u/>\n",
    "* The  `pandas.series.size` is used to return the number of elements in the  Pandas Series"
   ]
  },
  {
   "cell_type": "code",
   "execution_count": 45,
   "id": "f8065ce8-1a32-40b0-9091-9479a821b2c0",
   "metadata": {},
   "outputs": [
    {
     "name": "stdout",
     "output_type": "stream",
     "text": [
      "5\n"
     ]
    }
   ],
   "source": [
    "print(s.size)"
   ]
  },
  {
   "cell_type": "markdown",
   "id": "2c75b34b-c132-492a-9375-ca07680ae173",
   "metadata": {},
   "source": [
    "### <u>name<u/>\n",
    "* The  `pandas.series.name` is used to return the name of the Series in  Pandas"
   ]
  },
  {
   "cell_type": "code",
   "execution_count": 51,
   "id": "2ddf0ad5-936e-4abe-aa29-427ccc5debad",
   "metadata": {},
   "outputs": [
    {
     "name": "stdout",
     "output_type": "stream",
     "text": [
      "0     10\n",
      "1     20\n",
      "2     40\n",
      "3     80\n",
      "4    100\n",
      "Name: MyNumberSeries, dtype: int64\n"
     ]
    }
   ],
   "source": [
    "import  pandas as pd\n",
    " \n",
    "data = [10, 20, 40, 80, 100]\n",
    "\n",
    "# We have set the Series name using the name attribute\n",
    "s = pd.Series(data, name =\"MyNumberSeries\")\n",
    "print(s)\n",
    " \n"
   ]
  },
  {
   "cell_type": "markdown",
   "id": "29a3ee98-ee23-4058-b65b-cbafaca7e3f8",
   "metadata": {},
   "source": [
    "### <u>hasnans<u/>\n",
    "* The  `pandas.series.hasnans` attribute returns True if NaNs are in the  Pandas Series."
   ]
  },
  {
   "cell_type": "code",
   "execution_count": 61,
   "id": "4b289178-6bee-4b7f-a39d-c83337caa1ae",
   "metadata": {},
   "outputs": [
    {
     "name": "stdout",
     "output_type": "stream",
     "text": [
      "0     10.0\n",
      "1     20.0\n",
      "2     40.0\n",
      "3     80.0\n",
      "4    100.0\n",
      "5      NaN\n",
      "dtype: float64\n",
      "Does the Series has NaN?  True\n"
     ]
    }
   ],
   "source": [
    "import  pandas as pd\n",
    "import numpy as np\n",
    " \n",
    "data = [10, 20, 40, 80, 100, np.NaN]\n",
    "s = pd.Series(data)\n",
    "print(s)\n",
    " \n",
    "# Check whether the Series has NaNs\n",
    "print(\"Does the Series has NaN? \", s.hasnans)\n",
    " "
   ]
  },
  {
   "cell_type": "markdown",
   "id": "3e551d29-2e77-4708-b3f3-0f48702041b0",
   "metadata": {},
   "source": [
    "### head()\n",
    "* The  `pandas.series.head()` method is used to return the first n   s of the  Pandas Series"
   ]
  },
  {
   "cell_type": "code",
   "execution_count": 98,
   "id": "7d42da7b-4e76-4844-aca3-e6b4e6f7e3cb",
   "metadata": {},
   "outputs": [
    {
     "name": "stdout",
     "output_type": "stream",
     "text": [
      "A     10\n",
      "B     20\n",
      "C     40\n",
      "D     80\n",
      "E    100\n",
      "F    200\n",
      "G    300\n",
      "H    500\n",
      "dtype: int64\n",
      "\n",
      " A     10\n",
      "B     20\n",
      "C     40\n",
      "D     80\n",
      "E    100\n",
      "dtype: int64\n"
     ]
    }
   ],
   "source": [
    "import  pandas as pd\n",
    " \n",
    "data = [10, 20, 40, 80, 100, 200, 300, 500]\n",
    "s = pd.Series(data, index=[\"  A\", \"  B\", \"  C\", \"  D\", \"  E\", \"  F\", \"  G\", \"  H\"])\n",
    " \n",
    "# Display the Series\n",
    "print(s)\n",
    " \n",
    "# Return the first n rows. \n",
    "# The 5 is default for n\n",
    "print(\"\\n\",s.head())"
   ]
  },
  {
   "cell_type": "markdown",
   "id": "9fc15da8-dc94-4e11-9937-0220671867ef",
   "metadata": {},
   "source": [
    "### tail()\n",
    "* The  `pandas.series.tail()` method is used to return the last n rows of the  Pandas Series"
   ]
  },
  {
   "cell_type": "code",
   "execution_count": 91,
   "id": "1fe24471-2763-4bb3-9482-7d2c8aa7b371",
   "metadata": {},
   "outputs": [
    {
     "name": "stdout",
     "output_type": "stream",
     "text": [
      "D     80\n",
      "E    100\n",
      "F    200\n",
      "G    300\n",
      "H    500\n",
      "dtype: int64\n"
     ]
    }
   ],
   "source": [
    "print(s.tail())"
   ]
  },
  {
   "cell_type": "markdown",
   "id": "9179ebeb-c60a-403d-9c15-ae2578e5f901",
   "metadata": {},
   "source": [
    "### info()\n",
    "* The  `pandas.series.info()` method is used to display the Summary of the  Pandas Series"
   ]
  },
  {
   "cell_type": "code",
   "execution_count": 93,
   "id": "bf51b16b-5ba5-476c-9abd-634441081214",
   "metadata": {},
   "outputs": [
    {
     "name": "stdout",
     "output_type": "stream",
     "text": [
      "<class 'pandas.core.series.Series'>\n",
      "Index: 8 entries,   A to   H\n",
      "Series name: None\n",
      "Non-Null Count  Dtype\n",
      "--------------  -----\n",
      "8 non-null      int64\n",
      "dtypes: int64(1)\n",
      "memory usage: 128.0+ bytes\n",
      "None\n"
     ]
    }
   ],
   "source": [
    "print(s.info())"
   ]
  },
  {
   "cell_type": "markdown",
   "id": "43633f94-ea65-4cd5-a60a-95eff521ac05",
   "metadata": {},
   "source": [
    "### Similarities Between `pandas.Series` and NumPy Arrays"
   ]
  },
  {
   "cell_type": "markdown",
   "id": "46120cbe-ccb5-40b3-a3e9-152248fd0f38",
   "metadata": {},
   "source": [
    "* #### Data Storage:\n",
    "\n",
    "Both `pandas.Series` and NumPy arrays store data in a contiguous block of memory. This means they both provide fast operations for numerical computations.\n",
    "\n",
    "* #### Vectorized Operations:\n",
    "\n",
    "Just like NumPy arrays, `pandas.Series` supports vectorized operations. You can perform arithmetic operations and functions element-wise.\n",
    "\n",
    "* #### Indexing and Slicing:\n",
    "\n",
    "Both support indexing and slicing, allowing you to access subsets of the data easily."
   ]
  },
  {
   "cell_type": "markdown",
   "id": "3359a516-ee3b-4e28-9432-b49bcd6f1cdd",
   "metadata": {},
   "source": [
    "### `panda.Series` vs NumPy arrays"
   ]
  },
  {
   "cell_type": "markdown",
   "id": "ccc89c4b-5688-42a0-8681-b1fa6c0ac731",
   "metadata": {},
   "source": [
    "* #### Indexing and Labels:\n",
    "\n",
    "NumPy Array: Uses integer-based indexing.\\\n",
    "`pandas.Series`: Uses labels (custom or default) as index, allowing for more descriptive access."
   ]
  },
  {
   "cell_type": "markdown",
   "id": "fe7b7d36-f535-4c9c-9b11-e6b29be01a5b",
   "metadata": {},
   "source": [
    "NumPy array:"
   ]
  },
  {
   "cell_type": "code",
   "execution_count": 117,
   "id": "62885d78-0cf3-4bbc-82d2-fb5ad78d2b69",
   "metadata": {},
   "outputs": [
    {
     "name": "stdout",
     "output_type": "stream",
     "text": [
      "NumPy Array: [10 20 30 40]\n",
      "Element at index 2: 30\n",
      "Array multiplied by 2: [20 40 60 80]\n"
     ]
    }
   ],
   "source": [
    "import numpy as np\n",
    "\n",
    "\n",
    "np_array = np.array([10, 20, 30, 40])\n",
    "\n",
    "print(\"NumPy Array:\", np_array)\n",
    "print(\"Element at index 2:\", np_array[2])  \n",
    "\n",
    "print(\"Array multiplied by 2:\", np_array * 2) \n"
   ]
  },
  {
   "cell_type": "markdown",
   "id": "fe2f9137-64db-4659-81a2-1bab4eefb551",
   "metadata": {},
   "source": [
    "panda.Series"
   ]
  },
  {
   "cell_type": "code",
   "execution_count": 119,
   "id": "1d8cac3d-fbc9-43e3-9ec9-937619bb5a02",
   "metadata": {},
   "outputs": [
    {
     "name": "stdout",
     "output_type": "stream",
     "text": [
      "Pandas Series:\n",
      " a    10\n",
      "b    20\n",
      "c    30\n",
      "d    40\n",
      "dtype: int64\n",
      "Element with label 'c': 30\n",
      "Series multiplied by 2:\n",
      " a    20\n",
      "b    40\n",
      "c    60\n",
      "d    80\n",
      "dtype: int64\n"
     ]
    }
   ],
   "source": [
    "import pandas as pd\n",
    "\n",
    "s = pd.Series([10, 20, 30, 40], index=['a', 'b', 'c', 'd'])\n",
    "\n",
    "print(\"Pandas Series:\\n\", s)\n",
    "print(\"Element with label 'c':\", s['c'])  \n",
    "\n",
    "# Vectorized operations\n",
    "print(\"Series multiplied by 2:\\n\", s * 2)  "
   ]
  },
  {
   "cell_type": "code",
   "execution_count": 121,
   "id": "ceecf8b6-71fa-405d-bd6d-31cf6a368b2d",
   "metadata": {},
   "outputs": [
    {
     "name": "stdout",
     "output_type": "stream",
     "text": [
      "NumPy Array Indexing: 20\n"
     ]
    }
   ],
   "source": [
    "\n",
    "print(\"NumPy Array Indexing:\", np_array[1]) \n"
   ]
  },
  {
   "cell_type": "markdown",
   "id": "256fbf35-8213-45ed-a344-dbe2835cb478",
   "metadata": {},
   "source": [
    "### Data Alignment:\n",
    "\n",
    "NumPy Array: Does not support automatic alignment of data.\\\n",
    "`pandas.Series`: Automatically aligns data based on index labels when performing operations.\n",
    "\n",
    "### Missing Data:\n",
    "\n",
    "NumPy Array: Does not have built-in support for missing data.\\\n",
    "`pandas.Series`: Provides built-in methods for handling missing data (NaN).\n",
    "\n",
    "### Functionality:\n",
    "\n",
    "NumPy Array: Mainly focuses on numerical computations and array operations.\\\n",
    "`pandas.Series`: Adds additional functionalities for data manipulation and analysis."
   ]
  },
  {
   "cell_type": "markdown",
   "id": "18536246-fbfc-49e4-a9e9-5e2bb22fcf07",
   "metadata": {},
   "source": [
    "### ``Series`` as generalized NumPy array"
   ]
  },
  {
   "cell_type": "code",
   "execution_count": 189,
   "id": "a6834626-f2c5-4025-a220-6e3364313070",
   "metadata": {},
   "outputs": [
    {
     "name": "stdout",
     "output_type": "stream",
     "text": [
      "a    0.25\n",
      "b    0.50\n",
      "c    0.75\n",
      "d    1.00\n",
      "dtype: float64\n"
     ]
    }
   ],
   "source": [
    "data = pd.Series([0.25, 0.5, 0.75, 1.0],index=['a', 'b', 'c', 'd'])\n",
    "print(data)"
   ]
  },
  {
   "cell_type": "code",
   "execution_count": 152,
   "id": "e4b99575-c6d4-4a07-b71f-1b7f0a828133",
   "metadata": {},
   "outputs": [
    {
     "name": "stdout",
     "output_type": "stream",
     "text": [
      "0.5\n"
     ]
    }
   ],
   "source": [
    "print(data['b'])"
   ]
  },
  {
   "cell_type": "code",
   "execution_count": 154,
   "id": "1264298a-d54e-4d1d-8599-76062f860782",
   "metadata": {},
   "outputs": [
    {
     "name": "stdout",
     "output_type": "stream",
     "text": [
      "1    0.25\n",
      "3    0.50\n",
      "4    0.75\n",
      "7    1.00\n",
      "dtype: float64\n"
     ]
    }
   ],
   "source": [
    "data = pd.Series([0.25, 0.5, 0.75, 1.0],index=[1, 3, 4, 7])\n",
    "print(data)"
   ]
  },
  {
   "cell_type": "markdown",
   "id": "a93d6f98-2ff1-44db-901e-9d136203d218",
   "metadata": {},
   "source": [
    "### Series as specialized dictionary"
   ]
  },
  {
   "cell_type": "markdown",
   "id": "be4a977c-66d2-430a-a0fa-e594b10ea702",
   "metadata": {},
   "source": [
    " A dictionary is a structure that maps arbitrary keys to a set of arbitrary values, and a Series is a structure which maps typed keys to a set of typed values."
   ]
  },
  {
   "cell_type": "code",
   "execution_count": 191,
   "id": "be2cd1a9-5241-4f01-846f-3625d32ef95d",
   "metadata": {},
   "outputs": [
    {
     "data": {
      "text/plain": [
       "California    38332521\n",
       "Texas         26448193\n",
       "New York      19651127\n",
       "Florida       19552860\n",
       "Illinois      12882135\n",
       "dtype: int64"
      ]
     },
     "execution_count": 191,
     "metadata": {},
     "output_type": "execute_result"
    }
   ],
   "source": [
    "population_dict = {'California': 38332521,\n",
    "                   'Texas': 26448193,\n",
    "                   'New York': 19651127,\n",
    "                   'Florida': 19552860,\n",
    "                   'Illinois': 12882135}\n",
    "population = pd.Series(population_dict)\n",
    "population"
   ]
  },
  {
   "cell_type": "code",
   "execution_count": 166,
   "id": "0f7546f4-531a-45cf-bb4c-18d3943a486b",
   "metadata": {},
   "outputs": [
    {
     "data": {
      "text/plain": [
       "38332521"
      ]
     },
     "execution_count": 166,
     "metadata": {},
     "output_type": "execute_result"
    }
   ],
   "source": [
    "population['California']"
   ]
  },
  {
   "cell_type": "markdown",
   "id": "2361e38a-21bf-484f-a233-ba2471cd69f8",
   "metadata": {},
   "source": [
    "Series also supports array-style operations such as slicing:"
   ]
  },
  {
   "cell_type": "code",
   "execution_count": 193,
   "id": "76cd1296-8625-4582-a1b8-c5397afd9e76",
   "metadata": {},
   "outputs": [
    {
     "data": {
      "text/plain": [
       "Texas       26448193\n",
       "New York    19651127\n",
       "Florida     19552860\n",
       "dtype: int64"
      ]
     },
     "execution_count": 193,
     "metadata": {},
     "output_type": "execute_result"
    }
   ],
   "source": [
    "population['Texas':'Florida']"
   ]
  },
  {
   "cell_type": "markdown",
   "id": "3b5c2537-6862-4b28-9a63-66ffe90aa7ac",
   "metadata": {},
   "source": [
    "### Constructing Series objects"
   ]
  },
  {
   "cell_type": "code",
   "execution_count": 171,
   "id": "73c242fe-6546-4873-ba2d-a3fb8e84dfe2",
   "metadata": {},
   "outputs": [
    {
     "data": {
      "text/plain": [
       "0    2\n",
       "1    4\n",
       "2    6\n",
       "dtype: int64"
      ]
     },
     "execution_count": 171,
     "metadata": {},
     "output_type": "execute_result"
    }
   ],
   "source": [
    "pd.Series([2, 4, 6])"
   ]
  },
  {
   "cell_type": "code",
   "execution_count": 181,
   "id": "1dd5cee5-9891-4986-9123-5cda5c3050e3",
   "metadata": {},
   "outputs": [
    {
     "data": {
      "text/plain": [
       "100    3\n",
       "200    3\n",
       "300    3\n",
       "dtype: int64"
      ]
     },
     "execution_count": 181,
     "metadata": {},
     "output_type": "execute_result"
    }
   ],
   "source": [
    "pd.Series(3, index=[100, 200, 300])"
   ]
  },
  {
   "cell_type": "code",
   "execution_count": 179,
   "id": "b944e9df-de82-4ff3-81ac-be4b44c3a614",
   "metadata": {},
   "outputs": [
    {
     "data": {
      "text/plain": [
       "9    a\n",
       "1    b\n",
       "3    c\n",
       "dtype: object"
      ]
     },
     "execution_count": 179,
     "metadata": {},
     "output_type": "execute_result"
    }
   ],
   "source": [
    "pd.Series({9:'a', 1:'b', 3:'c'})"
   ]
  },
  {
   "cell_type": "code",
   "execution_count": 185,
   "id": "551b7152-d9dd-42fd-a2a7-fb68341d5244",
   "metadata": {},
   "outputs": [
    {
     "data": {
      "text/plain": [
       "1    b\n",
       "2    a\n",
       "dtype: object"
      ]
     },
     "execution_count": 185,
     "metadata": {},
     "output_type": "execute_result"
    }
   ],
   "source": [
    "pd.Series({2:'a', 1:'b', 3:'c'}, index=[1, 2])"
   ]
  },
  {
   "cell_type": "code",
   "execution_count": null,
   "id": "7bd0e4d6-63f5-4b50-9236-e4b8b7a85803",
   "metadata": {},
   "outputs": [],
   "source": []
  }
 ],
 "metadata": {
  "kernelspec": {
   "display_name": "Python 3 (ipykernel)",
   "language": "python",
   "name": "python3"
  },
  "language_info": {
   "codemirror_mode": {
    "name": "ipython",
    "version": 3
   },
   "file_extension": ".py",
   "mimetype": "text/x-python",
   "name": "python",
   "nbconvert_exporter": "python",
   "pygments_lexer": "ipython3",
   "version": "3.12.3"
  }
 },
 "nbformat": 4,
 "nbformat_minor": 5
}
