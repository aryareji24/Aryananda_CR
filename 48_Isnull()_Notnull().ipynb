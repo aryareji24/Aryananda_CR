{
 "cells": [
  {
   "cell_type": "markdown",
   "id": "78eba90d-2564-4b2f-b80b-fdcebe4a3a62",
   "metadata": {},
   "source": [
    "# Pandas isnull() method"
   ]
  },
  {
   "cell_type": "markdown",
   "id": "ddb570cd-6a1a-4906-95c3-d5f63b88f3e8",
   "metadata": {},
   "source": [
    "Syntax: `pd.isnull(dataframe)` or `dataframe.isnull()`"
   ]
  },
  {
   "cell_type": "markdown",
   "id": "90d78947-4cf2-4a41-931f-9af62050a8a4",
   "metadata": {},
   "source": [
    "Return Type: DataFrame of Boolean values where <u>True</u> indicates the presence of NaN (Not a Number) values in the specified DataFrame. "
   ]
  },
  {
   "cell_type": "code",
   "execution_count": 39,
   "id": "181e4c0e-2b49-4eae-af7f-e5439ed69a7e",
   "metadata": {},
   "outputs": [
    {
     "data": {
      "text/plain": [
       "array([1, None, 3, 4], dtype=object)"
      ]
     },
     "execution_count": 39,
     "metadata": {},
     "output_type": "execute_result"
    }
   ],
   "source": [
    "import pandas as pd\n",
    "import numpy as np\n",
    "vals2 = np.array([1, None, 3, 4])\n",
    "vals2"
   ]
  },
  {
   "cell_type": "markdown",
   "id": "cff989d7-49bc-4d51-aa03-19873254a128",
   "metadata": {},
   "source": [
    "\n",
    "* #### In pandas, which is a popular data manipulation library in Python, isnull() is a function used to identify missing or null values in your data.\n",
    "* #### Missing values can occur for various reasons, such as data not being available, errors in data collection, or intentional omissions"
   ]
  },
  {
   "cell_type": "markdown",
   "id": "c9bfa739-7386-4f71-a522-3f4bbce52f3e",
   "metadata": {},
   "source": [
    "* #### Purpose: isnull() helps you find out which values in your DataFrame or Series are missing. It returns a DataFrame or Series of the same shape, but with True where the value is missing (null) and False where the value is not missing.\n",
    "\n",
    "* #### Usage: You apply isnull() to a DataFrame or Series. For example, if you have a DataFrame with some missing values, isnull() will show you where those missing values are located."
   ]
  },
  {
   "cell_type": "code",
   "execution_count": 20,
   "id": "18142212-f2a6-480f-8824-b02d994f5c70",
   "metadata": {},
   "outputs": [
    {
     "data": {
      "text/html": [
       "<div>\n",
       "<style scoped>\n",
       "    .dataframe tbody tr th:only-of-type {\n",
       "        vertical-align: middle;\n",
       "    }\n",
       "\n",
       "    .dataframe tbody tr th {\n",
       "        vertical-align: top;\n",
       "    }\n",
       "\n",
       "    .dataframe thead th {\n",
       "        text-align: right;\n",
       "    }\n",
       "</style>\n",
       "<table border=\"1\" class=\"dataframe\">\n",
       "  <thead>\n",
       "    <tr style=\"text-align: right;\">\n",
       "      <th></th>\n",
       "      <th>A</th>\n",
       "      <th>B</th>\n",
       "      <th>c</th>\n",
       "    </tr>\n",
       "  </thead>\n",
       "  <tbody>\n",
       "    <tr>\n",
       "      <th>0</th>\n",
       "      <td>False</td>\n",
       "      <td>False</td>\n",
       "      <td>False</td>\n",
       "    </tr>\n",
       "    <tr>\n",
       "      <th>1</th>\n",
       "      <td>False</td>\n",
       "      <td>True</td>\n",
       "      <td>False</td>\n",
       "    </tr>\n",
       "    <tr>\n",
       "      <th>2</th>\n",
       "      <td>True</td>\n",
       "      <td>False</td>\n",
       "      <td>False</td>\n",
       "    </tr>\n",
       "  </tbody>\n",
       "</table>\n",
       "</div>"
      ],
      "text/plain": [
       "       A      B      c\n",
       "0  False  False  False\n",
       "1  False   True  False\n",
       "2   True  False  False"
      ]
     },
     "execution_count": 20,
     "metadata": {},
     "output_type": "execute_result"
    }
   ],
   "source": [
    "import pandas as pd\n",
    "import numpy as np\n",
    "\n",
    "data = {\n",
    "    'A': [1, 2, np.nan],\n",
    "    'B': [4, np.nan, 6],\n",
    "    'c': [5,9,8]\n",
    "}\n",
    "df = pd.DataFrame(data)\n",
    "df.isnull()"
   ]
  },
  {
   "cell_type": "markdown",
   "id": "1538624c-a036-45d8-a9a4-252be2a17509",
   "metadata": {},
   "source": [
    "* `False` means the value is `not missing.`\n",
    "*`True` means the value is `missing.`"
   ]
  },
  {
   "cell_type": "raw",
   "id": "760ea201-248c-4eb5-9c86-e712ff8acbff",
   "metadata": {},
   "source": [
    "To find how many missing values are there in each column :"
   ]
  },
  {
   "cell_type": "code",
   "execution_count": 22,
   "id": "79341317-ddc0-4562-a125-10d7070eaf83",
   "metadata": {},
   "outputs": [
    {
     "data": {
      "text/plain": [
       "A    1\n",
       "B    1\n",
       "c    0\n",
       "dtype: int64"
      ]
     },
     "execution_count": 22,
     "metadata": {},
     "output_type": "execute_result"
    }
   ],
   "source": [
    "df.isnull().sum()"
   ]
  },
  {
   "cell_type": "raw",
   "id": "421d9e2f-6115-4790-af94-83dc9a8b8e81",
   "metadata": {},
   "source": [
    "To find the columns that having null values :"
   ]
  },
  {
   "cell_type": "code",
   "execution_count": 24,
   "id": "74ff5fe7-84d6-40be-ac83-85d96bfedf26",
   "metadata": {},
   "outputs": [
    {
     "data": {
      "text/plain": [
       "A     True\n",
       "B     True\n",
       "c    False\n",
       "dtype: bool"
      ]
     },
     "execution_count": 24,
     "metadata": {},
     "output_type": "execute_result"
    }
   ],
   "source": [
    "df.isnull().any()"
   ]
  },
  {
   "cell_type": "code",
   "execution_count": 30,
   "id": "7c8e4559-aaf0-457b-b810-12b7804541be",
   "metadata": {},
   "outputs": [
    {
     "data": {
      "text/plain": [
       "nan"
      ]
     },
     "execution_count": 30,
     "metadata": {},
     "output_type": "execute_result"
    }
   ],
   "source": [
    "1 + np.nan"
   ]
  },
  {
   "cell_type": "markdown",
   "id": "d1446cac-e64e-4156-bc33-c0e0aaa1fa64",
   "metadata": {},
   "source": [
    "In mathematical operations, if any operand is NaN, the result is also NaN. This is because NaN is used to represent any value that is not a real number or is unknown."
   ]
  },
  {
   "cell_type": "markdown",
   "id": "54f76b98-73f8-4641-b00f-741f595345aa",
   "metadata": {},
   "source": [
    "``NaN`` is specifically a floating-point value"
   ]
  },
  {
   "cell_type": "code",
   "execution_count": 43,
   "id": "62a8e3fd-ef23-450e-b150-bfbae174fa53",
   "metadata": {},
   "outputs": [
    {
     "data": {
      "text/plain": [
       "(8.0, 1.0, 4.0)"
      ]
     },
     "execution_count": 43,
     "metadata": {},
     "output_type": "execute_result"
    }
   ],
   "source": [
    "vals2 = np.array([1, np.nan, 3, 4]) \n",
    "vals2.dtype\n",
    "np.nansum(vals2), np.nanmin(vals2), np.nanmax(vals2)"
   ]
  },
  {
   "cell_type": "code",
   "execution_count": 45,
   "id": "19eb7c6c-9ef8-4f1d-95bd-9f0649795617",
   "metadata": {},
   "outputs": [],
   "source": [
    "import numpy as np\n",
    "import pandas as pd\n",
    "data = pd.Series([1, np.nan, 'hello', None])"
   ]
  },
  {
   "cell_type": "code",
   "execution_count": 49,
   "id": "8cac84f9-9181-4c23-97a3-e49a6681cd04",
   "metadata": {},
   "outputs": [
    {
     "data": {
      "text/plain": [
       "0    False\n",
       "1     True\n",
       "2    False\n",
       "3     True\n",
       "dtype: bool"
      ]
     },
     "execution_count": 49,
     "metadata": {},
     "output_type": "execute_result"
    }
   ],
   "source": [
    "data.isnull()"
   ]
  },
  {
   "cell_type": "code",
   "execution_count": 51,
   "id": "f7c1a7eb-e527-4ace-90ef-3bd1c9eea87f",
   "metadata": {},
   "outputs": [
    {
     "data": {
      "text/plain": [
       "0     True\n",
       "1    False\n",
       "2     True\n",
       "3    False\n",
       "dtype: bool"
      ]
     },
     "execution_count": 51,
     "metadata": {},
     "output_type": "execute_result"
    }
   ],
   "source": [
    "data.notnull()"
   ]
  },
  {
   "cell_type": "code",
   "execution_count": null,
   "id": "8b325e4c-ea66-48a4-ba43-ad2d4c051643",
   "metadata": {},
   "outputs": [],
   "source": []
  },
  {
   "cell_type": "markdown",
   "id": "563516c9-cea5-41f3-bcbe-2f4a4f200202",
   "metadata": {},
   "source": [
    "# "
   ]
  }
 ],
 "metadata": {
  "kernelspec": {
   "display_name": "Python 3 (ipykernel)",
   "language": "python",
   "name": "python3"
  },
  "language_info": {
   "codemirror_mode": {
    "name": "ipython",
    "version": 3
   },
   "file_extension": ".py",
   "mimetype": "text/x-python",
   "name": "python",
   "nbconvert_exporter": "python",
   "pygments_lexer": "ipython3",
   "version": "3.12.3"
  }
 },
 "nbformat": 4,
 "nbformat_minor": 5
}
