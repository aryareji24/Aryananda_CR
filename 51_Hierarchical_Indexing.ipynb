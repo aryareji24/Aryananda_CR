{
 "cells": [
  {
   "cell_type": "markdown",
   "id": "c8dddcf1-9cd8-49df-950b-6abb2b10913a",
   "metadata": {},
   "source": [
    "## `Hierarchical indexing`"
   ]
  },
  {
   "cell_type": "markdown",
   "id": "349a57b8-0a5b-45c5-89ce-3ca9f76c1bec",
   "metadata": {},
   "source": [
    "`Hierarchical indexing`, also known as MultiIndexing, is a powerful feature in Pandas that allows you to work with data organized in multiple levels of indexing.\\\n",
    "This is useful for handling higher-dimensional data within the familiar two-dimensional DataFrame and one-dimensional Series structures.\n",
    "\n",
    "Why Use Hierarchical Indexing? \n",
    "* Store complex, multi-dimensional data in a more compact form.\n",
    "* Perform operations like slicing, grouping, and aggregating in a more intuitive way.\n",
    "* Transform data easily for analysis or presentation"
   ]
  },
  {
   "cell_type": "markdown",
   "id": "93e5780d-fdde-4d5d-9568-1c0e07ae0c06",
   "metadata": {},
   "source": [
    "### Creating a MultiIndex"
   ]
  },
  {
   "cell_type": "code",
   "execution_count": 1,
   "id": "beea1de4-1884-4f0e-804f-1c3ff4dd96e2",
   "metadata": {},
   "outputs": [
    {
     "name": "stdout",
     "output_type": "stream",
     "text": [
      "DataFrame with MultiIndex:\n"
     ]
    },
    {
     "data": {
      "text/html": [
       "<div>\n",
       "<style scoped>\n",
       "    .dataframe tbody tr th:only-of-type {\n",
       "        vertical-align: middle;\n",
       "    }\n",
       "\n",
       "    .dataframe tbody tr th {\n",
       "        vertical-align: top;\n",
       "    }\n",
       "\n",
       "    .dataframe thead th {\n",
       "        text-align: right;\n",
       "    }\n",
       "</style>\n",
       "<table border=\"1\" class=\"dataframe\">\n",
       "  <thead>\n",
       "    <tr style=\"text-align: right;\">\n",
       "      <th></th>\n",
       "      <th></th>\n",
       "      <th>Mathematics</th>\n",
       "      <th>Science</th>\n",
       "    </tr>\n",
       "    <tr>\n",
       "      <th>Division</th>\n",
       "      <th>Student</th>\n",
       "      <th></th>\n",
       "      <th></th>\n",
       "    </tr>\n",
       "  </thead>\n",
       "  <tbody>\n",
       "    <tr>\n",
       "      <th rowspan=\"2\" valign=\"top\">Class A</th>\n",
       "      <th>Anu</th>\n",
       "      <td>85</td>\n",
       "      <td>92</td>\n",
       "    </tr>\n",
       "    <tr>\n",
       "      <th>Kiran</th>\n",
       "      <td>90</td>\n",
       "      <td>84</td>\n",
       "    </tr>\n",
       "    <tr>\n",
       "      <th rowspan=\"2\" valign=\"top\">Class B</th>\n",
       "      <th>Karthik</th>\n",
       "      <td>78</td>\n",
       "      <td>79</td>\n",
       "    </tr>\n",
       "    <tr>\n",
       "      <th>Aksa</th>\n",
       "      <td>88</td>\n",
       "      <td>91</td>\n",
       "    </tr>\n",
       "  </tbody>\n",
       "</table>\n",
       "</div>"
      ],
      "text/plain": [
       "                  Mathematics  Science\n",
       "Division Student                      \n",
       "Class A  Anu               85       92\n",
       "         Kiran             90       84\n",
       "Class B  Karthik           78       79\n",
       "         Aksa              88       91"
      ]
     },
     "execution_count": 1,
     "metadata": {},
     "output_type": "execute_result"
    }
   ],
   "source": [
    "import pandas as pd\n",
    "import numpy as np\n",
    "\n",
    "divisions = ['Class A', 'Class A', 'Class B', 'Class B']\n",
    "student_names = ['Anu', 'Kiran', 'Karthik', 'Aksa']\n",
    "\n",
    "\n",
    "index = pd.MultiIndex.from_arrays([divisions,student_names], names=['Division', 'Student'])\n",
    "data = {\n",
    "    'Mathematics': [85, 90, 78, 88],\n",
    "    'Science': [92, 84, 79, 91]\n",
    "}\n",
    "\n",
    "df = pd.DataFrame(data, index=index)\n",
    "print(\"DataFrame with MultiIndex:\")\n",
    "df\n"
   ]
  },
  {
   "cell_type": "code",
   "execution_count": 3,
   "id": "97ac7f7e-5107-4daf-9896-e02a374d078f",
   "metadata": {},
   "outputs": [
    {
     "data": {
      "text/plain": [
       "(California, 2000)    33871648\n",
       "(California, 2010)    37253956\n",
       "(New York, 2000)      18976457\n",
       "(New York, 2010)      19378102\n",
       "(Texas, 2000)         20851820\n",
       "(Texas, 2010)         25145561\n",
       "dtype: int64"
      ]
     },
     "execution_count": 3,
     "metadata": {},
     "output_type": "execute_result"
    }
   ],
   "source": [
    "index = [('California', 2000), ('California', 2010),\n",
    "         ('New York', 2000), ('New York', 2010),\n",
    "         ('Texas', 2000), ('Texas', 2010)]\n",
    "populations = [33871648, 37253956,\n",
    "               18976457, 19378102,\n",
    "               20851820, 25145561]\n",
    "let = pd.Series(populations, index=index)\n",
    "let"
   ]
  },
  {
   "cell_type": "code",
   "execution_count": 5,
   "id": "0c304eaf-631c-482e-8609-06b84d518bfc",
   "metadata": {},
   "outputs": [
    {
     "data": {
      "text/plain": [
       "MultiIndex([('California', 'California', 'New York', 'New York', 'Texas', ...),\n",
       "            (        2000,         2010,       2000,       2010,    2000, ...)],\n",
       "           )"
      ]
     },
     "execution_count": 5,
     "metadata": {},
     "output_type": "execute_result"
    }
   ],
   "source": [
    "index = pd.MultiIndex.from_arrays(index)\n",
    "index"
   ]
  },
  {
   "cell_type": "code",
   "execution_count": 7,
   "id": "14afa225-3776-429c-85f2-c061ac2bc9f2",
   "metadata": {},
   "outputs": [
    {
     "data": {
      "text/plain": [
       "California  California  New York  New York  Texas  Texas   NaN\n",
       "2000        2010        2000      2010      2000   2010    NaN\n",
       "dtype: float64"
      ]
     },
     "execution_count": 7,
     "metadata": {},
     "output_type": "execute_result"
    }
   ],
   "source": [
    "let = let.reindex(index)\n",
    "let "
   ]
  },
  {
   "cell_type": "markdown",
   "id": "9a3c664f-5d62-45a0-b04e-ac600524f976",
   "metadata": {},
   "source": [
    "### MultiIndex as extra dimension"
   ]
  },
  {
   "cell_type": "code",
   "execution_count": 10,
   "id": "abef1644-eae4-4325-bf9b-a5e3ab58574b",
   "metadata": {},
   "outputs": [
    {
     "data": {
      "text/html": [
       "<div>\n",
       "<style scoped>\n",
       "    .dataframe tbody tr th:only-of-type {\n",
       "        vertical-align: middle;\n",
       "    }\n",
       "\n",
       "    .dataframe tbody tr th {\n",
       "        vertical-align: top;\n",
       "    }\n",
       "\n",
       "    .dataframe thead th {\n",
       "        text-align: right;\n",
       "    }\n",
       "</style>\n",
       "<table border=\"1\" class=\"dataframe\">\n",
       "  <thead>\n",
       "    <tr style=\"text-align: right;\">\n",
       "      <th></th>\n",
       "      <th></th>\n",
       "      <th></th>\n",
       "      <th></th>\n",
       "      <th></th>\n",
       "      <th>2010</th>\n",
       "      <th>Texas</th>\n",
       "    </tr>\n",
       "  </thead>\n",
       "  <tbody>\n",
       "    <tr>\n",
       "      <th>2000</th>\n",
       "      <th>2010</th>\n",
       "      <th>2000</th>\n",
       "      <th>2010</th>\n",
       "      <th>2000</th>\n",
       "      <td>NaN</td>\n",
       "      <td>NaN</td>\n",
       "    </tr>\n",
       "    <tr>\n",
       "      <th>California</th>\n",
       "      <th>California</th>\n",
       "      <th>New York</th>\n",
       "      <th>New York</th>\n",
       "      <th>Texas</th>\n",
       "      <td>NaN</td>\n",
       "      <td>NaN</td>\n",
       "    </tr>\n",
       "  </tbody>\n",
       "</table>\n",
       "</div>"
      ],
      "text/plain": [
       "                                               2010  Texas\n",
       "2000       2010       2000     2010     2000    NaN    NaN\n",
       "California California New York New York Texas   NaN    NaN"
      ]
     },
     "execution_count": 10,
     "metadata": {},
     "output_type": "execute_result"
    }
   ],
   "source": [
    "let_df = let.unstack()\n",
    "let_df"
   ]
  },
  {
   "cell_type": "code",
   "execution_count": 12,
   "id": "a6b3a12a-99aa-4aff-aba8-e902f29d13be",
   "metadata": {},
   "outputs": [
    {
     "data": {
      "text/plain": [
       "Series([], dtype: float64)"
      ]
     },
     "execution_count": 12,
     "metadata": {},
     "output_type": "execute_result"
    }
   ],
   "source": [
    "let_df.stack()"
   ]
  },
  {
   "cell_type": "code",
   "execution_count": 16,
   "id": "4c284e42-3103-4271-90a5-14da13890e18",
   "metadata": {},
   "outputs": [],
   "source": [
    "# let_df = pd.DataFrame({'total': let,\n",
    "#                        'under18': [9267089, 9284094,\n",
    "#                                    4687374, 4318033,\n",
    "#                                    5906301, 6879014]})\n",
    "# let_df"
   ]
  },
  {
   "cell_type": "code",
   "execution_count": null,
   "id": "84d4d481-9b17-410e-ac4f-d1718e3923f0",
   "metadata": {},
   "outputs": [],
   "source": []
  }
 ],
 "metadata": {
  "kernelspec": {
   "display_name": "Python 3 (ipykernel)",
   "language": "python",
   "name": "python3"
  },
  "language_info": {
   "codemirror_mode": {
    "name": "ipython",
    "version": 3
   },
   "file_extension": ".py",
   "mimetype": "text/x-python",
   "name": "python",
   "nbconvert_exporter": "python",
   "pygments_lexer": "ipython3",
   "version": "3.12.3"
  }
 },
 "nbformat": 4,
 "nbformat_minor": 5
}
