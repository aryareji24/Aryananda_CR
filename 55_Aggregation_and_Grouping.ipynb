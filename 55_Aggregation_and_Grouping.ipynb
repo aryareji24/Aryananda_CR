{
 "cells": [
  {
   "cell_type": "markdown",
   "id": "b8196c04-414a-4ff7-8cd7-51fbab9f68ae",
   "metadata": {},
   "source": [
    "# Aggregation and Grouping"
   ]
  },
  {
   "cell_type": "markdown",
   "id": "4fa5dccb-4e4c-4f04-9cad-7146d246679f",
   "metadata": {},
   "source": [
    "### Aggregation Basics\n",
    "**Aggregation** in Pandas refers to summarizing data using functions like `sum()`, `mean()`, `min()`, and `max()`.\\\n",
    "<u>**Series**</u>"
   ]
  },
  {
   "cell_type": "code",
   "execution_count": 16,
   "id": "f2e123fc-57c0-4b74-a009-82c6f2611fe2",
   "metadata": {},
   "outputs": [
    {
     "name": "stdout",
     "output_type": "stream",
     "text": [
      "15\n",
      "3.0\n"
     ]
    }
   ],
   "source": [
    "import pandas as pd\n",
    "import numpy as np\n",
    "  \n",
    "ser = pd.Series([1, 2, 3, 4, 5])\n",
    "\n",
    "print(ser.sum())  \n",
    "print(ser.mean()) "
   ]
  },
  {
   "cell_type": "markdown",
   "id": "b7bde0e4-60d0-430e-a8b2-9d51e27a7198",
   "metadata": {},
   "source": [
    "<u>**DataFrame**<u/>"
   ]
  },
  {
   "cell_type": "code",
   "execution_count": 24,
   "id": "3884cd4f-3a06-4f98-8c21-4e7b1380a1e7",
   "metadata": {},
   "outputs": [
    {
     "name": "stdout",
     "output_type": "stream",
     "text": [
      "A    3.0\n",
      "B    3.0\n",
      "dtype: float64\n"
     ]
    }
   ],
   "source": [
    "df = pd.DataFrame({\n",
    "      'A': [1, 2, 3, 4, 5],\n",
    "      'B': [5, 4, 3, 2, 1]\n",
    "})\n",
    "print(df.mean())"
   ]
  },
  {
   "cell_type": "markdown",
   "id": "2f6dadbe-1aac-4935-b95e-5d1e317610d8",
   "metadata": {},
   "source": [
    "#### PLANETS DATA"
   ]
  },
  {
   "cell_type": "code",
   "execution_count": 29,
   "id": "749d51c4-44f0-4c75-baeb-baca17c6a97e",
   "metadata": {},
   "outputs": [
    {
     "data": {
      "text/plain": [
       "(1035, 6)"
      ]
     },
     "execution_count": 29,
     "metadata": {},
     "output_type": "execute_result"
    }
   ],
   "source": [
    "import seaborn as sns\n",
    "planets = sns.load_dataset('planets')\n",
    "planets.shape"
   ]
  },
  {
   "cell_type": "markdown",
   "id": "0dad7ac8-2a17-4b96-8369-33f07320ac1a",
   "metadata": {},
   "source": [
    "* Seaborn is a Python visualization library based on Matplotlib, and it provides a high-level interface for drawing attractive and informative statistical graphics."
   ]
  },
  {
   "cell_type": "code",
   "execution_count": 31,
   "id": "13b4a5c5-2046-49f6-af2a-fc795b5ab1d8",
   "metadata": {},
   "outputs": [
    {
     "data": {
      "text/html": [
       "<div>\n",
       "<style scoped>\n",
       "    .dataframe tbody tr th:only-of-type {\n",
       "        vertical-align: middle;\n",
       "    }\n",
       "\n",
       "    .dataframe tbody tr th {\n",
       "        vertical-align: top;\n",
       "    }\n",
       "\n",
       "    .dataframe thead th {\n",
       "        text-align: right;\n",
       "    }\n",
       "</style>\n",
       "<table border=\"1\" class=\"dataframe\">\n",
       "  <thead>\n",
       "    <tr style=\"text-align: right;\">\n",
       "      <th></th>\n",
       "      <th>method</th>\n",
       "      <th>number</th>\n",
       "      <th>orbital_period</th>\n",
       "      <th>mass</th>\n",
       "      <th>distance</th>\n",
       "      <th>year</th>\n",
       "    </tr>\n",
       "  </thead>\n",
       "  <tbody>\n",
       "    <tr>\n",
       "      <th>0</th>\n",
       "      <td>Radial Velocity</td>\n",
       "      <td>1</td>\n",
       "      <td>269.300</td>\n",
       "      <td>7.10</td>\n",
       "      <td>77.40</td>\n",
       "      <td>2006</td>\n",
       "    </tr>\n",
       "    <tr>\n",
       "      <th>1</th>\n",
       "      <td>Radial Velocity</td>\n",
       "      <td>1</td>\n",
       "      <td>874.774</td>\n",
       "      <td>2.21</td>\n",
       "      <td>56.95</td>\n",
       "      <td>2008</td>\n",
       "    </tr>\n",
       "    <tr>\n",
       "      <th>2</th>\n",
       "      <td>Radial Velocity</td>\n",
       "      <td>1</td>\n",
       "      <td>763.000</td>\n",
       "      <td>2.60</td>\n",
       "      <td>19.84</td>\n",
       "      <td>2011</td>\n",
       "    </tr>\n",
       "    <tr>\n",
       "      <th>3</th>\n",
       "      <td>Radial Velocity</td>\n",
       "      <td>1</td>\n",
       "      <td>326.030</td>\n",
       "      <td>19.40</td>\n",
       "      <td>110.62</td>\n",
       "      <td>2007</td>\n",
       "    </tr>\n",
       "    <tr>\n",
       "      <th>4</th>\n",
       "      <td>Radial Velocity</td>\n",
       "      <td>1</td>\n",
       "      <td>516.220</td>\n",
       "      <td>10.50</td>\n",
       "      <td>119.47</td>\n",
       "      <td>2009</td>\n",
       "    </tr>\n",
       "  </tbody>\n",
       "</table>\n",
       "</div>"
      ],
      "text/plain": [
       "            method  number  orbital_period   mass  distance  year\n",
       "0  Radial Velocity       1         269.300   7.10     77.40  2006\n",
       "1  Radial Velocity       1         874.774   2.21     56.95  2008\n",
       "2  Radial Velocity       1         763.000   2.60     19.84  2011\n",
       "3  Radial Velocity       1         326.030  19.40    110.62  2007\n",
       "4  Radial Velocity       1         516.220  10.50    119.47  2009"
      ]
     },
     "execution_count": 31,
     "metadata": {},
     "output_type": "execute_result"
    }
   ],
   "source": [
    "planets.head()"
   ]
  },
  {
   "cell_type": "markdown",
   "id": "0a2b6507-8b18-4724-9083-51f01f40dda3",
   "metadata": {},
   "source": [
    "\n",
    "### GroupBy: Split, Apply, Combine"
   ]
  },
  {
   "cell_type": "markdown",
   "id": "d0603a49-f98f-4434-99b4-3619e47ca18a",
   "metadata": {},
   "source": [
    "**GroupBy** is a powerful tool to split data into groups, apply a function to each group, and then combine the results."
   ]
  },
  {
   "cell_type": "markdown",
   "id": "7dfba4d2-86ff-4191-81ac-a3c5124ecad4",
   "metadata": {},
   "source": [
    "1. **Split**: Divide the data into groups based on some criteria.\n",
    "2. **Apply**: Perform operations (like aggregation) on each group.\n",
    "3. **Combine**: Merge the results back into a DataFrame or Series."
   ]
  },
  {
   "cell_type": "markdown",
   "id": "cc942cc4-56a3-48bc-8f26-058d674d5879",
   "metadata": {},
   "source": [
    "If we have a dataset of planets and you want to find the average mass of planets discovered by different methods : "
   ]
  },
  {
   "cell_type": "code",
   "execution_count": 41,
   "id": "f23e7777-4e74-4b5c-ba9f-d0ab58db91ab",
   "metadata": {},
   "outputs": [
    {
     "data": {
      "text/plain": [
       "method\n",
       "Astrometry                            NaN\n",
       "Eclipse Timing Variations        5.125000\n",
       "Imaging                               NaN\n",
       "Microlensing                          NaN\n",
       "Orbital Brightness Modulation         NaN\n",
       "Pulsar Timing                         NaN\n",
       "Pulsation Timing Variations           NaN\n",
       "Radial Velocity                  2.630699\n",
       "Transit                          1.470000\n",
       "Transit Timing Variations             NaN\n",
       "Name: mass, dtype: float64"
      ]
     },
     "execution_count": 41,
     "metadata": {},
     "output_type": "execute_result"
    }
   ],
   "source": [
    "planets = snsqa.load_dataset('planets')\n",
    "\n",
    "# Group by the 'method' column and calculate the mean of the 'mass' column for each method\n",
    "grouped = planets.groupby('method')['mass'].mean()\n",
    "\n",
    "grouped"
   ]
  },
  {
   "cell_type": "markdown",
   "id": "b1c7f5d9-73c0-43a2-b4f2-0bb9ff8b482c",
   "metadata": {},
   "source": [
    "### Key GroupBy Operations"
   ]
  },
  {
   "cell_type": "markdown",
   "id": "615711be-7c69-4c60-ba85-a7100d03b56a",
   "metadata": {},
   "source": [
    "- **Aggregation**: Apply functions like `sum()`, `mean()`, or custom functions to each group."
   ]
  },
  {
   "cell_type": "code",
   "execution_count": 49,
   "id": "08726673-a3de-4b25-9e4e-e6253162069b",
   "metadata": {},
   "outputs": [
    {
     "data": {
      "text/html": [
       "<div>\n",
       "<style scoped>\n",
       "    .dataframe tbody tr th:only-of-type {\n",
       "        vertical-align: middle;\n",
       "    }\n",
       "\n",
       "    .dataframe tbody tr th {\n",
       "        vertical-align: top;\n",
       "    }\n",
       "\n",
       "    .dataframe thead th {\n",
       "        text-align: right;\n",
       "    }\n",
       "</style>\n",
       "<table border=\"1\" class=\"dataframe\">\n",
       "  <thead>\n",
       "    <tr style=\"text-align: right;\">\n",
       "      <th></th>\n",
       "      <th>mass</th>\n",
       "      <th>orbital_period</th>\n",
       "    </tr>\n",
       "    <tr>\n",
       "      <th>method</th>\n",
       "      <th></th>\n",
       "      <th></th>\n",
       "    </tr>\n",
       "  </thead>\n",
       "  <tbody>\n",
       "    <tr>\n",
       "      <th>Astrometry</th>\n",
       "      <td>NaN</td>\n",
       "      <td>631.180000</td>\n",
       "    </tr>\n",
       "    <tr>\n",
       "      <th>Eclipse Timing Variations</th>\n",
       "      <td>5.125000</td>\n",
       "      <td>4343.500000</td>\n",
       "    </tr>\n",
       "    <tr>\n",
       "      <th>Imaging</th>\n",
       "      <td>NaN</td>\n",
       "      <td>27500.000000</td>\n",
       "    </tr>\n",
       "    <tr>\n",
       "      <th>Microlensing</th>\n",
       "      <td>NaN</td>\n",
       "      <td>3300.000000</td>\n",
       "    </tr>\n",
       "    <tr>\n",
       "      <th>Orbital Brightness Modulation</th>\n",
       "      <td>NaN</td>\n",
       "      <td>0.342887</td>\n",
       "    </tr>\n",
       "    <tr>\n",
       "      <th>Pulsar Timing</th>\n",
       "      <td>NaN</td>\n",
       "      <td>66.541900</td>\n",
       "    </tr>\n",
       "    <tr>\n",
       "      <th>Pulsation Timing Variations</th>\n",
       "      <td>NaN</td>\n",
       "      <td>1170.000000</td>\n",
       "    </tr>\n",
       "    <tr>\n",
       "      <th>Radial Velocity</th>\n",
       "      <td>2.630699</td>\n",
       "      <td>360.200000</td>\n",
       "    </tr>\n",
       "    <tr>\n",
       "      <th>Transit</th>\n",
       "      <td>1.470000</td>\n",
       "      <td>5.714932</td>\n",
       "    </tr>\n",
       "    <tr>\n",
       "      <th>Transit Timing Variations</th>\n",
       "      <td>NaN</td>\n",
       "      <td>57.011000</td>\n",
       "    </tr>\n",
       "  </tbody>\n",
       "</table>\n",
       "</div>"
      ],
      "text/plain": [
       "                                   mass  orbital_period\n",
       "method                                                 \n",
       "Astrometry                          NaN      631.180000\n",
       "Eclipse Timing Variations      5.125000     4343.500000\n",
       "Imaging                             NaN    27500.000000\n",
       "Microlensing                        NaN     3300.000000\n",
       "Orbital Brightness Modulation       NaN        0.342887\n",
       "Pulsar Timing                       NaN       66.541900\n",
       "Pulsation Timing Variations         NaN     1170.000000\n",
       "Radial Velocity                2.630699      360.200000\n",
       "Transit                        1.470000        5.714932\n",
       "Transit Timing Variations           NaN       57.011000"
      ]
     },
     "execution_count": 49,
     "metadata": {},
     "output_type": "execute_result"
    }
   ],
   "source": [
    "grouped = planets.groupby('method').agg({'mass': 'mean', 'orbital_period': 'median'})\n",
    "grouped"
   ]
  },
  {
   "cell_type": "markdown",
   "id": "7cc4f9b7-b46f-4168-969c-a5a19c933a94",
   "metadata": {},
   "source": [
    "- **Filtering**: Keep only groups that meet a certain condition."
   ]
  },
  {
   "cell_type": "code",
   "execution_count": 57,
   "id": "56bd6e30-94d8-441b-b820-3d92de782c53",
   "metadata": {},
   "outputs": [
    {
     "data": {
      "text/html": [
       "<div>\n",
       "<style scoped>\n",
       "    .dataframe tbody tr th:only-of-type {\n",
       "        vertical-align: middle;\n",
       "    }\n",
       "\n",
       "    .dataframe tbody tr th {\n",
       "        vertical-align: top;\n",
       "    }\n",
       "\n",
       "    .dataframe thead th {\n",
       "        text-align: right;\n",
       "    }\n",
       "</style>\n",
       "<table border=\"1\" class=\"dataframe\">\n",
       "  <thead>\n",
       "    <tr style=\"text-align: right;\">\n",
       "      <th></th>\n",
       "      <th>method</th>\n",
       "      <th>number</th>\n",
       "      <th>orbital_period</th>\n",
       "      <th>mass</th>\n",
       "      <th>distance</th>\n",
       "      <th>year</th>\n",
       "    </tr>\n",
       "  </thead>\n",
       "  <tbody>\n",
       "    <tr>\n",
       "      <th>0</th>\n",
       "      <td>Radial Velocity</td>\n",
       "      <td>1</td>\n",
       "      <td>269.3000</td>\n",
       "      <td>7.10</td>\n",
       "      <td>77.40</td>\n",
       "      <td>2006</td>\n",
       "    </tr>\n",
       "    <tr>\n",
       "      <th>1</th>\n",
       "      <td>Radial Velocity</td>\n",
       "      <td>1</td>\n",
       "      <td>874.7740</td>\n",
       "      <td>2.21</td>\n",
       "      <td>56.95</td>\n",
       "      <td>2008</td>\n",
       "    </tr>\n",
       "    <tr>\n",
       "      <th>2</th>\n",
       "      <td>Radial Velocity</td>\n",
       "      <td>1</td>\n",
       "      <td>763.0000</td>\n",
       "      <td>2.60</td>\n",
       "      <td>19.84</td>\n",
       "      <td>2011</td>\n",
       "    </tr>\n",
       "    <tr>\n",
       "      <th>3</th>\n",
       "      <td>Radial Velocity</td>\n",
       "      <td>1</td>\n",
       "      <td>326.0300</td>\n",
       "      <td>19.40</td>\n",
       "      <td>110.62</td>\n",
       "      <td>2007</td>\n",
       "    </tr>\n",
       "    <tr>\n",
       "      <th>4</th>\n",
       "      <td>Radial Velocity</td>\n",
       "      <td>1</td>\n",
       "      <td>516.2200</td>\n",
       "      <td>10.50</td>\n",
       "      <td>119.47</td>\n",
       "      <td>2009</td>\n",
       "    </tr>\n",
       "    <tr>\n",
       "      <th>...</th>\n",
       "      <td>...</td>\n",
       "      <td>...</td>\n",
       "      <td>...</td>\n",
       "      <td>...</td>\n",
       "      <td>...</td>\n",
       "      <td>...</td>\n",
       "    </tr>\n",
       "    <tr>\n",
       "      <th>914</th>\n",
       "      <td>Radial Velocity</td>\n",
       "      <td>1</td>\n",
       "      <td>6.9580</td>\n",
       "      <td>0.34</td>\n",
       "      <td>NaN</td>\n",
       "      <td>2014</td>\n",
       "    </tr>\n",
       "    <tr>\n",
       "      <th>915</th>\n",
       "      <td>Radial Velocity</td>\n",
       "      <td>1</td>\n",
       "      <td>5.1180</td>\n",
       "      <td>0.40</td>\n",
       "      <td>NaN</td>\n",
       "      <td>2014</td>\n",
       "    </tr>\n",
       "    <tr>\n",
       "      <th>916</th>\n",
       "      <td>Radial Velocity</td>\n",
       "      <td>1</td>\n",
       "      <td>121.7100</td>\n",
       "      <td>1.54</td>\n",
       "      <td>NaN</td>\n",
       "      <td>2014</td>\n",
       "    </tr>\n",
       "    <tr>\n",
       "      <th>939</th>\n",
       "      <td>Radial Velocity</td>\n",
       "      <td>1</td>\n",
       "      <td>4.4264</td>\n",
       "      <td>NaN</td>\n",
       "      <td>NaN</td>\n",
       "      <td>2012</td>\n",
       "    </tr>\n",
       "    <tr>\n",
       "      <th>940</th>\n",
       "      <td>Radial Velocity</td>\n",
       "      <td>1</td>\n",
       "      <td>2.1451</td>\n",
       "      <td>NaN</td>\n",
       "      <td>NaN</td>\n",
       "      <td>2012</td>\n",
       "    </tr>\n",
       "  </tbody>\n",
       "</table>\n",
       "<p>562 rows × 6 columns</p>\n",
       "</div>"
      ],
      "text/plain": [
       "              method  number  orbital_period   mass  distance  year\n",
       "0    Radial Velocity       1        269.3000   7.10     77.40  2006\n",
       "1    Radial Velocity       1        874.7740   2.21     56.95  2008\n",
       "2    Radial Velocity       1        763.0000   2.60     19.84  2011\n",
       "3    Radial Velocity       1        326.0300  19.40    110.62  2007\n",
       "4    Radial Velocity       1        516.2200  10.50    119.47  2009\n",
       "..               ...     ...             ...    ...       ...   ...\n",
       "914  Radial Velocity       1          6.9580   0.34       NaN  2014\n",
       "915  Radial Velocity       1          5.1180   0.40       NaN  2014\n",
       "916  Radial Velocity       1        121.7100   1.54       NaN  2014\n",
       "939  Radial Velocity       1          4.4264    NaN       NaN  2012\n",
       "940  Radial Velocity       1          2.1451    NaN       NaN  2012\n",
       "\n",
       "[562 rows x 6 columns]"
      ]
     },
     "execution_count": 57,
     "metadata": {},
     "output_type": "execute_result"
    }
   ],
   "source": [
    "def filter_func(group):\n",
    "      return group['mass'].mean() > 2\n",
    "  \n",
    "filtered = planets.groupby('method').filter(filter_func)\n",
    "filtered"
   ]
  },
  {
   "cell_type": "markdown",
   "id": "65e98948-d629-4cb3-902b-8349ff446a85",
   "metadata": {},
   "source": [
    "- **Transformation**: Modify data within each group while keeping the original shape."
   ]
  },
  {
   "cell_type": "code",
   "execution_count": 62,
   "id": "a2111ee7-6a5b-4618-ab3b-b048da2e1cfc",
   "metadata": {},
   "outputs": [
    {
     "data": {
      "text/html": [
       "<div>\n",
       "<style scoped>\n",
       "    .dataframe tbody tr th:only-of-type {\n",
       "        vertical-align: middle;\n",
       "    }\n",
       "\n",
       "    .dataframe tbody tr th {\n",
       "        vertical-align: top;\n",
       "    }\n",
       "\n",
       "    .dataframe thead th {\n",
       "        text-align: right;\n",
       "    }\n",
       "</style>\n",
       "<table border=\"1\" class=\"dataframe\">\n",
       "  <thead>\n",
       "    <tr style=\"text-align: right;\">\n",
       "      <th></th>\n",
       "      <th>number</th>\n",
       "      <th>orbital_period</th>\n",
       "      <th>mass</th>\n",
       "      <th>distance</th>\n",
       "      <th>year</th>\n",
       "    </tr>\n",
       "  </thead>\n",
       "  <tbody>\n",
       "    <tr>\n",
       "      <th>0</th>\n",
       "      <td>-0.623536</td>\n",
       "      <td>-0.380813</td>\n",
       "      <td>1.168175</td>\n",
       "      <td>0.566289</td>\n",
       "      <td>-0.357489</td>\n",
       "    </tr>\n",
       "    <tr>\n",
       "      <th>1</th>\n",
       "      <td>-0.623536</td>\n",
       "      <td>0.035342</td>\n",
       "      <td>-0.109961</td>\n",
       "      <td>0.117425</td>\n",
       "      <td>0.113205</td>\n",
       "    </tr>\n",
       "    <tr>\n",
       "      <th>2</th>\n",
       "      <td>-0.623536</td>\n",
       "      <td>-0.041483</td>\n",
       "      <td>-0.008024</td>\n",
       "      <td>-0.697117</td>\n",
       "      <td>0.819245</td>\n",
       "    </tr>\n",
       "    <tr>\n",
       "      <th>3</th>\n",
       "      <td>-0.623536</td>\n",
       "      <td>-0.341821</td>\n",
       "      <td>4.383120</td>\n",
       "      <td>1.295448</td>\n",
       "      <td>-0.122142</td>\n",
       "    </tr>\n",
       "    <tr>\n",
       "      <th>4</th>\n",
       "      <td>-0.623536</td>\n",
       "      <td>-0.211100</td>\n",
       "      <td>2.056859</td>\n",
       "      <td>1.489700</td>\n",
       "      <td>0.348551</td>\n",
       "    </tr>\n",
       "    <tr>\n",
       "      <th>...</th>\n",
       "      <td>...</td>\n",
       "      <td>...</td>\n",
       "      <td>...</td>\n",
       "      <td>...</td>\n",
       "      <td>...</td>\n",
       "    </tr>\n",
       "    <tr>\n",
       "      <th>1030</th>\n",
       "      <td>-0.682329</td>\n",
       "      <td>-0.371554</td>\n",
       "      <td>NaN</td>\n",
       "      <td>-0.467566</td>\n",
       "      <td>-2.520265</td>\n",
       "    </tr>\n",
       "    <tr>\n",
       "      <th>1031</th>\n",
       "      <td>-0.682329</td>\n",
       "      <td>-0.400257</td>\n",
       "      <td>NaN</td>\n",
       "      <td>-0.493828</td>\n",
       "      <td>-2.039002</td>\n",
       "    </tr>\n",
       "    <tr>\n",
       "      <th>1032</th>\n",
       "      <td>-0.682329</td>\n",
       "      <td>-0.387793</td>\n",
       "      <td>NaN</td>\n",
       "      <td>-0.465378</td>\n",
       "      <td>-2.039002</td>\n",
       "    </tr>\n",
       "    <tr>\n",
       "      <th>1033</th>\n",
       "      <td>-0.682329</td>\n",
       "      <td>-0.367580</td>\n",
       "      <td>NaN</td>\n",
       "      <td>-0.335163</td>\n",
       "      <td>-1.557739</td>\n",
       "    </tr>\n",
       "    <tr>\n",
       "      <th>1034</th>\n",
       "      <td>-0.682329</td>\n",
       "      <td>-0.366223</td>\n",
       "      <td>NaN</td>\n",
       "      <td>-0.371273</td>\n",
       "      <td>-1.557739</td>\n",
       "    </tr>\n",
       "  </tbody>\n",
       "</table>\n",
       "<p>1035 rows × 5 columns</p>\n",
       "</div>"
      ],
      "text/plain": [
       "        number  orbital_period      mass  distance      year\n",
       "0    -0.623536       -0.380813  1.168175  0.566289 -0.357489\n",
       "1    -0.623536        0.035342 -0.109961  0.117425  0.113205\n",
       "2    -0.623536       -0.041483 -0.008024 -0.697117  0.819245\n",
       "3    -0.623536       -0.341821  4.383120  1.295448 -0.122142\n",
       "4    -0.623536       -0.211100  2.056859  1.489700  0.348551\n",
       "...        ...             ...       ...       ...       ...\n",
       "1030 -0.682329       -0.371554       NaN -0.467566 -2.520265\n",
       "1031 -0.682329       -0.400257       NaN -0.493828 -2.039002\n",
       "1032 -0.682329       -0.387793       NaN -0.465378 -2.039002\n",
       "1033 -0.682329       -0.367580       NaN -0.335163 -1.557739\n",
       "1034 -0.682329       -0.366223       NaN -0.371273 -1.557739\n",
       "\n",
       "[1035 rows x 5 columns]"
      ]
     },
     "execution_count": 62,
     "metadata": {},
     "output_type": "execute_result"
    }
   ],
   "source": [
    "transformed = planets.groupby('method').transform(lambda x: (x - x.mean()) / x.std())\n",
    "transformed"
   ]
  },
  {
   "cell_type": "markdown",
   "id": "5e0870d5-5636-41a4-9186-46eef3f28358",
   "metadata": {},
   "source": [
    "- **Apply**: Use a custom function on each group."
   ]
  },
  {
   "cell_type": "code",
   "execution_count": 81,
   "id": "c06edb39-2895-4285-82b8-7217c1306997",
   "metadata": {},
   "outputs": [
    {
     "data": {
      "text/html": [
       "<div>\n",
       "<style scoped>\n",
       "    .dataframe tbody tr th:only-of-type {\n",
       "        vertical-align: middle;\n",
       "    }\n",
       "\n",
       "    .dataframe tbody tr th {\n",
       "        vertical-align: top;\n",
       "    }\n",
       "\n",
       "    .dataframe thead th {\n",
       "        text-align: right;\n",
       "    }\n",
       "</style>\n",
       "<table border=\"1\" class=\"dataframe\">\n",
       "  <thead>\n",
       "    <tr style=\"text-align: right;\">\n",
       "      <th></th>\n",
       "      <th></th>\n",
       "      <th>number</th>\n",
       "      <th>orbital_period</th>\n",
       "      <th>mass</th>\n",
       "      <th>distance</th>\n",
       "      <th>year</th>\n",
       "      <th>adjusted_mass</th>\n",
       "    </tr>\n",
       "    <tr>\n",
       "      <th>method</th>\n",
       "      <th></th>\n",
       "      <th></th>\n",
       "      <th></th>\n",
       "      <th></th>\n",
       "      <th></th>\n",
       "      <th></th>\n",
       "      <th></th>\n",
       "    </tr>\n",
       "  </thead>\n",
       "  <tbody>\n",
       "    <tr>\n",
       "      <th rowspan=\"2\" valign=\"top\">Astrometry</th>\n",
       "      <th>113</th>\n",
       "      <td>1</td>\n",
       "      <td>246.360000</td>\n",
       "      <td>NaN</td>\n",
       "      <td>20.77</td>\n",
       "      <td>2013</td>\n",
       "      <td>NaN</td>\n",
       "    </tr>\n",
       "    <tr>\n",
       "      <th>537</th>\n",
       "      <td>1</td>\n",
       "      <td>1016.000000</td>\n",
       "      <td>NaN</td>\n",
       "      <td>14.98</td>\n",
       "      <td>2010</td>\n",
       "      <td>NaN</td>\n",
       "    </tr>\n",
       "    <tr>\n",
       "      <th rowspan=\"3\" valign=\"top\">Eclipse Timing Variations</th>\n",
       "      <th>32</th>\n",
       "      <td>1</td>\n",
       "      <td>10220.000000</td>\n",
       "      <td>6.05</td>\n",
       "      <td>NaN</td>\n",
       "      <td>2009</td>\n",
       "      <td>0.001273</td>\n",
       "    </tr>\n",
       "    <tr>\n",
       "      <th>37</th>\n",
       "      <td>2</td>\n",
       "      <td>5767.000000</td>\n",
       "      <td>NaN</td>\n",
       "      <td>130.72</td>\n",
       "      <td>2008</td>\n",
       "      <td>NaN</td>\n",
       "    </tr>\n",
       "    <tr>\n",
       "      <th>38</th>\n",
       "      <td>2</td>\n",
       "      <td>3321.000000</td>\n",
       "      <td>NaN</td>\n",
       "      <td>130.72</td>\n",
       "      <td>2008</td>\n",
       "      <td>NaN</td>\n",
       "    </tr>\n",
       "    <tr>\n",
       "      <th>...</th>\n",
       "      <th>...</th>\n",
       "      <td>...</td>\n",
       "      <td>...</td>\n",
       "      <td>...</td>\n",
       "      <td>...</td>\n",
       "      <td>...</td>\n",
       "      <td>...</td>\n",
       "    </tr>\n",
       "    <tr>\n",
       "      <th>Transit</th>\n",
       "      <th>1034</th>\n",
       "      <td>1</td>\n",
       "      <td>4.187757</td>\n",
       "      <td>NaN</td>\n",
       "      <td>260.00</td>\n",
       "      <td>2008</td>\n",
       "      <td>NaN</td>\n",
       "    </tr>\n",
       "    <tr>\n",
       "      <th rowspan=\"4\" valign=\"top\">Transit Timing Variations</th>\n",
       "      <th>680</th>\n",
       "      <td>2</td>\n",
       "      <td>160.000000</td>\n",
       "      <td>NaN</td>\n",
       "      <td>2119.00</td>\n",
       "      <td>2011</td>\n",
       "      <td>NaN</td>\n",
       "    </tr>\n",
       "    <tr>\n",
       "      <th>736</th>\n",
       "      <td>2</td>\n",
       "      <td>57.011000</td>\n",
       "      <td>NaN</td>\n",
       "      <td>855.00</td>\n",
       "      <td>2012</td>\n",
       "      <td>NaN</td>\n",
       "    </tr>\n",
       "    <tr>\n",
       "      <th>749</th>\n",
       "      <td>3</td>\n",
       "      <td>NaN</td>\n",
       "      <td>NaN</td>\n",
       "      <td>NaN</td>\n",
       "      <td>2014</td>\n",
       "      <td>NaN</td>\n",
       "    </tr>\n",
       "    <tr>\n",
       "      <th>813</th>\n",
       "      <td>2</td>\n",
       "      <td>22.339500</td>\n",
       "      <td>NaN</td>\n",
       "      <td>339.00</td>\n",
       "      <td>2013</td>\n",
       "      <td>NaN</td>\n",
       "    </tr>\n",
       "  </tbody>\n",
       "</table>\n",
       "<p>1035 rows × 6 columns</p>\n",
       "</div>"
      ],
      "text/plain": [
       "                                number  orbital_period  mass  distance  year  \\\n",
       "method                                                                         \n",
       "Astrometry                113        1      246.360000   NaN     20.77  2013   \n",
       "                          537        1     1016.000000   NaN     14.98  2010   \n",
       "Eclipse Timing Variations 32         1    10220.000000  6.05       NaN  2009   \n",
       "                          37         2     5767.000000   NaN    130.72  2008   \n",
       "                          38         2     3321.000000   NaN    130.72  2008   \n",
       "...                                ...             ...   ...       ...   ...   \n",
       "Transit                   1034       1        4.187757   NaN    260.00  2008   \n",
       "Transit Timing Variations 680        2      160.000000   NaN   2119.00  2011   \n",
       "                          736        2       57.011000   NaN    855.00  2012   \n",
       "                          749        3             NaN   NaN       NaN  2014   \n",
       "                          813        2       22.339500   NaN    339.00  2013   \n",
       "\n",
       "                                adjusted_mass  \n",
       "method                                         \n",
       "Astrometry                113             NaN  \n",
       "                          537             NaN  \n",
       "Eclipse Timing Variations 32         0.001273  \n",
       "                          37              NaN  \n",
       "                          38              NaN  \n",
       "...                                       ...  \n",
       "Transit                   1034            NaN  \n",
       "Transit Timing Variations 680             NaN  \n",
       "                          736             NaN  \n",
       "                          749             NaN  \n",
       "                          813             NaN  \n",
       "\n",
       "[1035 rows x 6 columns]"
      ]
     },
     "execution_count": 81,
     "metadata": {},
     "output_type": "execute_result"
    }
   ],
   "source": [
    "def custom_function(group):\n",
    "    group['adjusted_mass'] = group['mass'] / group['orbital_period'].mean()\n",
    "    return group\n",
    "  \n",
    "# applied = planets.groupby('method').apply(custom_function)\n",
    "applied = planets.groupby('method').apply(custom_function, include_groups=False)\n",
    "applied"
   ]
  },
  {
   "cell_type": "markdown",
   "id": "913dc6cf-53a1-4d3a-9967-928454394f4f",
   "metadata": {},
   "source": [
    "#### SIMPLE EXAMPLE"
   ]
  },
  {
   "cell_type": "code",
   "execution_count": 102,
   "id": "b79bad75-4961-4004-a81b-1eb899625f2a",
   "metadata": {},
   "outputs": [
    {
     "data": {
      "text/html": [
       "<div>\n",
       "<style scoped>\n",
       "    .dataframe tbody tr th:only-of-type {\n",
       "        vertical-align: middle;\n",
       "    }\n",
       "\n",
       "    .dataframe tbody tr th {\n",
       "        vertical-align: top;\n",
       "    }\n",
       "\n",
       "    .dataframe thead th {\n",
       "        text-align: right;\n",
       "    }\n",
       "</style>\n",
       "<table border=\"1\" class=\"dataframe\">\n",
       "  <thead>\n",
       "    <tr style=\"text-align: right;\">\n",
       "      <th></th>\n",
       "      <th>Store</th>\n",
       "      <th>Sales</th>\n",
       "    </tr>\n",
       "  </thead>\n",
       "  <tbody>\n",
       "    <tr>\n",
       "      <th>0</th>\n",
       "      <td>A</td>\n",
       "      <td>200</td>\n",
       "    </tr>\n",
       "    <tr>\n",
       "      <th>1</th>\n",
       "      <td>B</td>\n",
       "      <td>300</td>\n",
       "    </tr>\n",
       "    <tr>\n",
       "      <th>2</th>\n",
       "      <td>A</td>\n",
       "      <td>250</td>\n",
       "    </tr>\n",
       "    <tr>\n",
       "      <th>3</th>\n",
       "      <td>C</td>\n",
       "      <td>400</td>\n",
       "    </tr>\n",
       "    <tr>\n",
       "      <th>4</th>\n",
       "      <td>B</td>\n",
       "      <td>320</td>\n",
       "    </tr>\n",
       "    <tr>\n",
       "      <th>5</th>\n",
       "      <td>C</td>\n",
       "      <td>500</td>\n",
       "    </tr>\n",
       "  </tbody>\n",
       "</table>\n",
       "</div>"
      ],
      "text/plain": [
       "  Store  Sales\n",
       "0     A    200\n",
       "1     B    300\n",
       "2     A    250\n",
       "3     C    400\n",
       "4     B    320\n",
       "5     C    500"
      ]
     },
     "execution_count": 102,
     "metadata": {},
     "output_type": "execute_result"
    }
   ],
   "source": [
    "import pandas as pd\n",
    "\n",
    "data = {\n",
    "    'Store': ['A', 'B', 'A', 'C', 'B', 'C'],\n",
    "    'Sales': [200, 300, 250, 400, 320, 500]\n",
    "}\n",
    "\n",
    "df = pd.DataFrame(data)\n",
    "df\n"
   ]
  },
  {
   "cell_type": "markdown",
   "id": "84d40a9f-43b6-40be-99b7-a7e059b948ca",
   "metadata": {},
   "source": [
    "Sum: Add up all the sales"
   ]
  },
  {
   "cell_type": "code",
   "execution_count": 88,
   "id": "9529af82-00b9-41cd-8242-b377033914dd",
   "metadata": {},
   "outputs": [
    {
     "name": "stdout",
     "output_type": "stream",
     "text": [
      "1970\n"
     ]
    }
   ],
   "source": [
    "total_sales = df['Sales'].sum()\n",
    "print(total_sales)  \n"
   ]
  },
  {
   "cell_type": "markdown",
   "id": "ff832c17-b8d4-4eae-bbf9-1e304bb78c8b",
   "metadata": {},
   "source": [
    "Mean: Find the average sales"
   ]
  },
  {
   "cell_type": "code",
   "execution_count": 100,
   "id": "8b601a84-441b-4fc6-aa7e-dedec402f91e",
   "metadata": {},
   "outputs": [
    {
     "data": {
      "text/plain": [
       "328.3333333333333"
      ]
     },
     "execution_count": 100,
     "metadata": {},
     "output_type": "execute_result"
    }
   ],
   "source": [
    "average_sales = df['Sales'].mean()\n",
    "average_sales\n"
   ]
  },
  {
   "cell_type": "code",
   "execution_count": 108,
   "id": "6ec608a5-6759-46a5-8812-9e899bc9d9be",
   "metadata": {},
   "outputs": [
    {
     "name": "stdout",
     "output_type": "stream",
     "text": [
      "310.0\n"
     ]
    }
   ],
   "source": [
    "total_sales = df['Sales'].median()\n",
    "print(total_sales) "
   ]
  },
  {
   "cell_type": "code",
   "execution_count": 110,
   "id": "effeff7d-df65-441c-8cda-6543d084bc8d",
   "metadata": {},
   "outputs": [
    {
     "name": "stdout",
     "output_type": "stream",
     "text": [
      "200\n"
     ]
    }
   ],
   "source": [
    "total_sales = df['Sales'].min()\n",
    "print(total_sales)"
   ]
  },
  {
   "cell_type": "code",
   "execution_count": 112,
   "id": "13335603-f133-41aa-9e27-84b4ddc2abcd",
   "metadata": {},
   "outputs": [
    {
     "name": "stdout",
     "output_type": "stream",
     "text": [
      "500\n"
     ]
    }
   ],
   "source": [
    "total_sales = df['Sales'].max()\n",
    "print(total_sales)"
   ]
  },
  {
   "cell_type": "markdown",
   "id": "dba38265-4f4a-4931-9cae-f4af8a6d6207",
   "metadata": {},
   "source": [
    "#### GROUPING DATA"
   ]
  },
  {
   "cell_type": "code",
   "execution_count": 104,
   "id": "89785a52-f278-4854-81f1-3fbf0b0ea945",
   "metadata": {},
   "outputs": [
    {
     "data": {
      "text/plain": [
       "Store\n",
       "A    450\n",
       "B    620\n",
       "C    900\n",
       "Name: Sales, dtype: int64"
      ]
     },
     "execution_count": 104,
     "metadata": {},
     "output_type": "execute_result"
    }
   ],
   "source": [
    "grouped = df.groupby('Store')['Sales'].sum()\n",
    "grouped\n"
   ]
  },
  {
   "cell_type": "code",
   "execution_count": null,
   "id": "fe145975-2408-43d8-8b72-f9256b948ce8",
   "metadata": {},
   "outputs": [],
   "source": []
  }
 ],
 "metadata": {
  "kernelspec": {
   "display_name": "Python 3 (ipykernel)",
   "language": "python",
   "name": "python3"
  },
  "language_info": {
   "codemirror_mode": {
    "name": "ipython",
    "version": 3
   },
   "file_extension": ".py",
   "mimetype": "text/x-python",
   "name": "python",
   "nbconvert_exporter": "python",
   "pygments_lexer": "ipython3",
   "version": "3.12.3"
  }
 },
 "nbformat": 4,
 "nbformat_minor": 5
}
