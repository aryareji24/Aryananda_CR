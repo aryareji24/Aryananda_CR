{
 "cells": [
  {
   "cell_type": "code",
   "execution_count": 5,
   "id": "b68b6a68-4b2b-4e8d-91b0-d3326a775e32",
   "metadata": {},
   "outputs": [],
   "source": [
    "import pandas as pd"
   ]
  },
  {
   "cell_type": "code",
   "execution_count": 7,
   "id": "a3c95da6-fc3f-4856-a4f5-277289f29175",
   "metadata": {},
   "outputs": [],
   "source": [
    "path = \"C:\\\\Users\\\\winsa\\\\Downloads\\\\Sample_Vessel_Data_1.xlsx\"\n",
    "df = pd.read_excel(path)"
   ]
  },
  {
   "cell_type": "code",
   "execution_count": 53,
   "id": "e79b22c7-e362-489b-9349-876408a63186",
   "metadata": {},
   "outputs": [
    {
     "name": "stdout",
     "output_type": "stream",
     "text": [
      "      imo    vessel    report_date_time    status  total_steaming_time  \\\n",
      "0  100000  Vessel_1 2022-01-01 12:00:00    AT SEA                 24.0   \n",
      "1  100000  Vessel_1 2022-01-01 22:06:00    AT SEA                 10.1   \n",
      "2  100000  Vessel_1 2022-01-02 12:00:00  DRIFTING                 13.9   \n",
      "3  100000  Vessel_1 2022-01-03 09:06:00  DRIFTING                  5.0   \n",
      "4  100000  Vessel_1 2022-01-03 12:00:00   IN PORT                  2.9   \n",
      "\n",
      "   distance    speed  total_me_fuel  \n",
      "0     276.0  11.5000           21.2  \n",
      "1     118.0  11.6832            8.7  \n",
      "2       3.0   0.0000            0.9  \n",
      "3       5.0   0.0000            2.7  \n",
      "4       0.0   0.0000            0.0  \n"
     ]
    }
   ],
   "source": [
    "print(df.head())"
   ]
  },
  {
   "cell_type": "code",
   "execution_count": 65,
   "id": "28d26026-023c-4d0e-9cf8-e60a6a7ab9c4",
   "metadata": {},
   "outputs": [
    {
     "name": "stdout",
     "output_type": "stream",
     "text": [
      "       imo vessel report_date_time status  total_steaming_time  distance  \\\n",
      "12164  NaN    NaN              NaT    NaN                  NaN       NaN   \n",
      "12165  NaN    NaN              NaT    NaN                  NaN       NaN   \n",
      "12166  NaN    NaN              NaT    NaN             4.800000       0.0   \n",
      "12167  NaN    NaN              NaT    NaN             9.464461       0.0   \n",
      "12168  NaN    NaN              NaT    NaN          8426.033333       0.0   \n",
      "\n",
      "       speed  total_me_fuel  \n",
      "12164    NaN            NaN  \n",
      "12165    NaN            NaN  \n",
      "12166    NaN            0.0  \n",
      "12167    NaN            NaN  \n",
      "12168    NaN            NaN  \n"
     ]
    }
   ],
   "source": [
    "print(df.tail())"
   ]
  },
  {
   "cell_type": "code",
   "execution_count": 63,
   "id": "775f7f65-7486-4451-8826-e692d0a098a0",
   "metadata": {},
   "outputs": [
    {
     "name": "stdout",
     "output_type": "stream",
     "text": [
      "                    report_date_time  total_steaming_time      distance  \\\n",
      "count                          12164          9514.000000  12167.000000   \n",
      "mean   2023-05-25 19:48:32.022361088            10.324230     87.899437   \n",
      "min              2022-01-01 05:30:00             0.000000      0.000000   \n",
      "25%              2022-11-07 11:52:30             1.405000      0.000000   \n",
      "50%              2023-06-25 23:57:00             4.600000     13.000000   \n",
      "75%              2023-12-23 13:37:30            19.400000    145.000000   \n",
      "max              2024-07-07 20:18:00          8426.033333    535.000000   \n",
      "std                              NaN            86.786226    129.857093   \n",
      "\n",
      "              speed  total_me_fuel  \n",
      "count  12164.000000    12165.00000  \n",
      "mean       4.875968        8.46257  \n",
      "min        0.000000        0.00000  \n",
      "25%        0.000000        0.00000  \n",
      "50%        0.000000        1.00000  \n",
      "75%       11.880000        9.80000  \n",
      "max       30.000000       90.90000  \n",
      "std        6.694843       14.87765  \n"
     ]
    }
   ],
   "source": [
    "print(df.describe())"
   ]
  },
  {
   "cell_type": "code",
   "execution_count": 61,
   "id": "d5e70254-5f41-4a1c-adf0-649f6f5388c2",
   "metadata": {},
   "outputs": [
    {
     "name": "stdout",
     "output_type": "stream",
     "text": [
      "<class 'pandas.core.frame.DataFrame'>\n",
      "RangeIndex: 12169 entries, 0 to 12168\n",
      "Data columns (total 8 columns):\n",
      " #   Column               Non-Null Count  Dtype         \n",
      "---  ------               --------------  -----         \n",
      " 0   imo                  12164 non-null  object        \n",
      " 1   vessel               12164 non-null  object        \n",
      " 2   report_date_time     12164 non-null  datetime64[ns]\n",
      " 3   status               12164 non-null  object        \n",
      " 4   total_steaming_time  9514 non-null   float64       \n",
      " 5   distance             12167 non-null  float64       \n",
      " 6   speed                12164 non-null  float64       \n",
      " 7   total_me_fuel        12165 non-null  float64       \n",
      "dtypes: datetime64[ns](1), float64(4), object(3)\n",
      "memory usage: 760.7+ KB\n",
      "None\n"
     ]
    }
   ],
   "source": [
    "print(df.info())"
   ]
  },
  {
   "cell_type": "code",
   "execution_count": 75,
   "id": "eb413b4c-8ed4-414b-bbea-ac8a9eb891f0",
   "metadata": {},
   "outputs": [
    {
     "name": "stdout",
     "output_type": "stream",
     "text": [
      "         imo    vessel    report_date_time    status  total_steaming_time  \\\n",
      "7461  500000  Vessel_5 2022-10-27 14:00:00    AT SEA                  2.0   \n",
      "7462  500000  Vessel_5 2022-10-28 12:00:00  DRIFTING                  3.8   \n",
      "7463  500000  Vessel_5 2022-11-18 12:00:00    AT SEA                 24.0   \n",
      "7464  500000  Vessel_5 2022-11-18 14:00:00    AT SEA                  2.0   \n",
      "7465  500000  Vessel_5 2022-11-19 01:00:00  DRIFTING                  0.9   \n",
      "...      ...       ...                 ...       ...                  ...   \n",
      "8588  500000  Vessel_5 2024-07-04 04:00:00    AT SEA                 17.0   \n",
      "8589  500000  Vessel_5 2024-07-05 05:00:00    AT SEA                 25.0   \n",
      "8590  500000  Vessel_5 2024-07-06 05:00:00    AT SEA                 24.0   \n",
      "8591  500000  Vessel_5 2024-07-07 01:00:00    AT SEA                 20.0   \n",
      "8592  500000  Vessel_5 2024-07-07 10:30:00  DRIFTING                  3.3   \n",
      "\n",
      "      distance     speed  total_me_fuel  \n",
      "7461      24.0  12.00000            1.3  \n",
      "7462      37.0   0.00000            3.5  \n",
      "7463     221.0   9.20833            8.5  \n",
      "7464      18.0   9.00000            0.9  \n",
      "7465       3.0   0.00000            0.3  \n",
      "...        ...       ...            ...  \n",
      "8588     270.0  15.88000           28.1  \n",
      "8589     145.0   5.80000            6.8  \n",
      "8590     128.0   5.33000            2.8  \n",
      "8591     108.0   5.40000            2.6  \n",
      "8592      16.0   0.00000            0.7  \n",
      "\n",
      "[1132 rows x 8 columns]\n"
     ]
    }
   ],
   "source": [
    "vessel_5_data = df[df['vessel'] == 'Vessel_5']\n",
    "print(vessel_5_data)"
   ]
  },
  {
   "cell_type": "code",
   "execution_count": 7,
   "id": "ecd6f05c-2c6b-46d8-a3fa-aa1b003c5089",
   "metadata": {},
   "outputs": [
    {
     "data": {
      "text/plain": [
       "imo                       5\n",
       "vessel                    5\n",
       "report_date_time          5\n",
       "status                    5\n",
       "total_steaming_time    2655\n",
       "distance                  2\n",
       "speed                     5\n",
       "total_me_fuel             4\n",
       "dtype: int64"
      ]
     },
     "execution_count": 7,
     "metadata": {},
     "output_type": "execute_result"
    }
   ],
   "source": [
    "df.isnull().sum()"
   ]
  },
  {
   "cell_type": "code",
   "execution_count": 9,
   "id": "6a52ca16-84d7-415c-b21d-e2c0d46a1762",
   "metadata": {},
   "outputs": [
    {
     "data": {
      "text/plain": [
       "imo                    True\n",
       "vessel                 True\n",
       "report_date_time       True\n",
       "status                 True\n",
       "total_steaming_time    True\n",
       "distance               True\n",
       "speed                  True\n",
       "total_me_fuel          True\n",
       "dtype: bool"
      ]
     },
     "execution_count": 9,
     "metadata": {},
     "output_type": "execute_result"
    }
   ],
   "source": [
    "df.isnull().any()"
   ]
  },
  {
   "cell_type": "code",
   "execution_count": 23,
   "id": "f29f9b7d-abe1-45f6-9cd6-3fea569a4674",
   "metadata": {},
   "outputs": [
    {
     "data": {
      "text/plain": [
       "0        False\n",
       "1        False\n",
       "2        False\n",
       "3        False\n",
       "4        False\n",
       "         ...  \n",
       "12164     True\n",
       "12165     True\n",
       "12166     True\n",
       "12167     True\n",
       "12168     True\n",
       "Length: 12169, dtype: bool"
      ]
     },
     "execution_count": 23,
     "metadata": {},
     "output_type": "execute_result"
    }
   ],
   "source": [
    "df.isnull().any(axis=1)"
   ]
  },
  {
   "cell_type": "code",
   "execution_count": 13,
   "id": "9af9eb97-776d-4da5-9a05-8de5cc8a53ff",
   "metadata": {},
   "outputs": [
    {
     "data": {
      "text/plain": [
       "0        0\n",
       "1        0\n",
       "2        0\n",
       "3        0\n",
       "4        0\n",
       "        ..\n",
       "12164    8\n",
       "12165    8\n",
       "12166    5\n",
       "12167    6\n",
       "12168    6\n",
       "Length: 12169, dtype: int64"
      ]
     },
     "execution_count": 13,
     "metadata": {},
     "output_type": "execute_result"
    }
   ],
   "source": [
    "df.isnull().sum(axis=1)"
   ]
  },
  {
   "cell_type": "code",
   "execution_count": 9,
   "id": "f8ac4180-05c1-4a01-8e99-77ce38e870fd",
   "metadata": {},
   "outputs": [
    {
     "data": {
      "text/html": [
       "<div>\n",
       "<style scoped>\n",
       "    .dataframe tbody tr th:only-of-type {\n",
       "        vertical-align: middle;\n",
       "    }\n",
       "\n",
       "    .dataframe tbody tr th {\n",
       "        vertical-align: top;\n",
       "    }\n",
       "\n",
       "    .dataframe thead th {\n",
       "        text-align: right;\n",
       "    }\n",
       "</style>\n",
       "<table border=\"1\" class=\"dataframe\">\n",
       "  <thead>\n",
       "    <tr style=\"text-align: right;\">\n",
       "      <th></th>\n",
       "      <th>imo</th>\n",
       "      <th>vessel</th>\n",
       "      <th>report_date_time</th>\n",
       "      <th>status</th>\n",
       "      <th>total_steaming_time</th>\n",
       "      <th>distance</th>\n",
       "      <th>speed</th>\n",
       "      <th>total_me_fuel</th>\n",
       "    </tr>\n",
       "  </thead>\n",
       "  <tbody>\n",
       "    <tr>\n",
       "      <th>0</th>\n",
       "      <td>True</td>\n",
       "      <td>True</td>\n",
       "      <td>True</td>\n",
       "      <td>True</td>\n",
       "      <td>True</td>\n",
       "      <td>True</td>\n",
       "      <td>True</td>\n",
       "      <td>True</td>\n",
       "    </tr>\n",
       "    <tr>\n",
       "      <th>1</th>\n",
       "      <td>True</td>\n",
       "      <td>True</td>\n",
       "      <td>True</td>\n",
       "      <td>True</td>\n",
       "      <td>True</td>\n",
       "      <td>True</td>\n",
       "      <td>True</td>\n",
       "      <td>True</td>\n",
       "    </tr>\n",
       "    <tr>\n",
       "      <th>2</th>\n",
       "      <td>True</td>\n",
       "      <td>True</td>\n",
       "      <td>True</td>\n",
       "      <td>True</td>\n",
       "      <td>True</td>\n",
       "      <td>True</td>\n",
       "      <td>True</td>\n",
       "      <td>True</td>\n",
       "    </tr>\n",
       "    <tr>\n",
       "      <th>3</th>\n",
       "      <td>True</td>\n",
       "      <td>True</td>\n",
       "      <td>True</td>\n",
       "      <td>True</td>\n",
       "      <td>True</td>\n",
       "      <td>True</td>\n",
       "      <td>True</td>\n",
       "      <td>True</td>\n",
       "    </tr>\n",
       "    <tr>\n",
       "      <th>4</th>\n",
       "      <td>True</td>\n",
       "      <td>True</td>\n",
       "      <td>True</td>\n",
       "      <td>True</td>\n",
       "      <td>True</td>\n",
       "      <td>True</td>\n",
       "      <td>True</td>\n",
       "      <td>True</td>\n",
       "    </tr>\n",
       "    <tr>\n",
       "      <th>...</th>\n",
       "      <td>...</td>\n",
       "      <td>...</td>\n",
       "      <td>...</td>\n",
       "      <td>...</td>\n",
       "      <td>...</td>\n",
       "      <td>...</td>\n",
       "      <td>...</td>\n",
       "      <td>...</td>\n",
       "    </tr>\n",
       "    <tr>\n",
       "      <th>12164</th>\n",
       "      <td>False</td>\n",
       "      <td>False</td>\n",
       "      <td>False</td>\n",
       "      <td>False</td>\n",
       "      <td>False</td>\n",
       "      <td>False</td>\n",
       "      <td>False</td>\n",
       "      <td>False</td>\n",
       "    </tr>\n",
       "    <tr>\n",
       "      <th>12165</th>\n",
       "      <td>False</td>\n",
       "      <td>False</td>\n",
       "      <td>False</td>\n",
       "      <td>False</td>\n",
       "      <td>False</td>\n",
       "      <td>False</td>\n",
       "      <td>False</td>\n",
       "      <td>False</td>\n",
       "    </tr>\n",
       "    <tr>\n",
       "      <th>12166</th>\n",
       "      <td>False</td>\n",
       "      <td>False</td>\n",
       "      <td>False</td>\n",
       "      <td>False</td>\n",
       "      <td>True</td>\n",
       "      <td>True</td>\n",
       "      <td>False</td>\n",
       "      <td>True</td>\n",
       "    </tr>\n",
       "    <tr>\n",
       "      <th>12167</th>\n",
       "      <td>False</td>\n",
       "      <td>False</td>\n",
       "      <td>False</td>\n",
       "      <td>False</td>\n",
       "      <td>True</td>\n",
       "      <td>True</td>\n",
       "      <td>False</td>\n",
       "      <td>False</td>\n",
       "    </tr>\n",
       "    <tr>\n",
       "      <th>12168</th>\n",
       "      <td>False</td>\n",
       "      <td>False</td>\n",
       "      <td>False</td>\n",
       "      <td>False</td>\n",
       "      <td>True</td>\n",
       "      <td>True</td>\n",
       "      <td>False</td>\n",
       "      <td>False</td>\n",
       "    </tr>\n",
       "  </tbody>\n",
       "</table>\n",
       "<p>12169 rows × 8 columns</p>\n",
       "</div>"
      ],
      "text/plain": [
       "         imo  vessel  report_date_time  status  total_steaming_time  distance  \\\n",
       "0       True    True              True    True                 True      True   \n",
       "1       True    True              True    True                 True      True   \n",
       "2       True    True              True    True                 True      True   \n",
       "3       True    True              True    True                 True      True   \n",
       "4       True    True              True    True                 True      True   \n",
       "...      ...     ...               ...     ...                  ...       ...   \n",
       "12164  False   False             False   False                False     False   \n",
       "12165  False   False             False   False                False     False   \n",
       "12166  False   False             False   False                 True      True   \n",
       "12167  False   False             False   False                 True      True   \n",
       "12168  False   False             False   False                 True      True   \n",
       "\n",
       "       speed  total_me_fuel  \n",
       "0       True           True  \n",
       "1       True           True  \n",
       "2       True           True  \n",
       "3       True           True  \n",
       "4       True           True  \n",
       "...      ...            ...  \n",
       "12164  False          False  \n",
       "12165  False          False  \n",
       "12166  False           True  \n",
       "12167  False          False  \n",
       "12168  False          False  \n",
       "\n",
       "[12169 rows x 8 columns]"
      ]
     },
     "execution_count": 9,
     "metadata": {},
     "output_type": "execute_result"
    }
   ],
   "source": [
    "df.notnull()"
   ]
  },
  {
   "cell_type": "code",
   "execution_count": null,
   "id": "e9f4da09-21c0-42a4-b9ef-9c99a13494d2",
   "metadata": {},
   "outputs": [],
   "source": []
  }
 ],
 "metadata": {
  "kernelspec": {
   "display_name": "Python 3 (ipykernel)",
   "language": "python",
   "name": "python3"
  },
  "language_info": {
   "codemirror_mode": {
    "name": "ipython",
    "version": 3
   },
   "file_extension": ".py",
   "mimetype": "text/x-python",
   "name": "python",
   "nbconvert_exporter": "python",
   "pygments_lexer": "ipython3",
   "version": "3.12.3"
  }
 },
 "nbformat": 4,
 "nbformat_minor": 5
}
