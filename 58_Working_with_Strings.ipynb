{
 "cells": [
  {
   "cell_type": "markdown",
   "id": "4033c6e6-9e0c-484b-8d35-6c41f4f02b1e",
   "metadata": {},
   "source": [
    "## Vectorized String Operations"
   ]
  },
  {
   "cell_type": "code",
   "execution_count": 9,
   "id": "91b06cd8-6766-4adf-af38-a99d9bf145fd",
   "metadata": {},
   "outputs": [
    {
     "data": {
      "text/plain": [
       "0      Goutham\n",
       "1    Sakshitha\n",
       "2        Bablu\n",
       "3     Abhishek\n",
       "4        Anand\n",
       "5          NaN\n",
       "6     Praveena\n",
       "dtype: object"
      ]
     },
     "execution_count": 9,
     "metadata": {},
     "output_type": "execute_result"
    }
   ],
   "source": [
    "import pandas as pd\n",
    "import numpy as np\n",
    "\n",
    "df = pd.Series(['Goutham', 'Sakshitha', 'Bablu', 'Abhishek', 'Anand', np.nan, 'Praveena'])\n",
    "df"
   ]
  },
  {
   "cell_type": "markdown",
   "id": "0315f140-53a3-4eb8-9080-74888f7cdc6c",
   "metadata": {},
   "source": [
    "#### Create a String Dataframe using Pandas"
   ]
  },
  {
   "cell_type": "code",
   "execution_count": 59,
   "id": "d9521244-0256-4b87-86a0-aa6d7996e0eb",
   "metadata": {},
   "outputs": [
    {
     "name": "stdout",
     "output_type": "stream",
     "text": [
      "0      Goutham\n",
      "1    Sakshitha\n",
      "2        Bablu\n",
      "3     Abhishek\n",
      "4        Anand\n",
      "5         <NA>\n",
      "6     Praveena\n",
      "dtype: string\n"
     ]
    }
   ],
   "source": [
    "import pandas as pd\n",
    "import numpy as np\n",
    "\n",
    "df = pd.Series(['Goutham', 'Sakshitha', 'Bablu', 'Abhishek', 'Anand', np.nan, 'Praveena'], dtype='string')\n",
    "\n",
    "print(df)"
   ]
  },
  {
   "cell_type": "markdown",
   "id": "908a6d06-ce21-476f-8a3e-0a4b0f943e83",
   "metadata": {},
   "source": [
    "#### Creating the dataframe as dtype = pd.StringDtype()"
   ]
  },
  {
   "cell_type": "code",
   "execution_count": 63,
   "id": "40608712-e175-4a37-a16f-538fd8ec082b",
   "metadata": {},
   "outputs": [
    {
     "data": {
      "text/plain": [
       "0      Goutham\n",
       "1    Sakshitha\n",
       "2        Bablu\n",
       "3     Abhishek\n",
       "4        Anand\n",
       "5         <NA>\n",
       "6     Praveena\n",
       "dtype: string"
      ]
     },
     "execution_count": 63,
     "metadata": {},
     "output_type": "execute_result"
    }
   ],
   "source": [
    "import pandas as pd\n",
    "import numpy as np\n",
    "\n",
    "df = pd.Series(['Goutham', 'Sakshitha', 'Bablu', 'Abhishek', 'Anand', np.nan, 'Praveena'], dtype=pd.StringDtype())\n",
    "df"
   ]
  },
  {
   "cell_type": "markdown",
   "id": "479df5af-9073-4e2c-92a8-c7ea90352db7",
   "metadata": {},
   "source": [
    "### String Manipulations in Pandas"
   ]
  },
  {
   "cell_type": "code",
   "execution_count": 125,
   "id": "18cfbe97-4622-46ec-825a-b26fd585b975",
   "metadata": {},
   "outputs": [
    {
     "data": {
      "text/plain": [
       "0    Goutham Karthik\n",
       "1          Bablu Bal\n",
       "2        Abhishek   \n",
       "3              Anand\n",
       "4                NaN\n",
       "5      Praveena     \n",
       "dtype: object"
      ]
     },
     "execution_count": 125,
     "metadata": {},
     "output_type": "execute_result"
    }
   ],
   "source": [
    "import pandas as pd\n",
    "import numpy as np\n",
    "\n",
    "df = pd.Series(['Goutham Karthik',  'Bablu Bal', 'Abhishek   ', 'Anand', np.nan, 'Praveena     '])\n",
    "df"
   ]
  },
  {
   "cell_type": "markdown",
   "id": "e0df06e3-da0b-41be-b885-708c9301002b",
   "metadata": {},
   "source": [
    "* **lower()**: Converts all uppercase characters in strings in the DataFrame to lower case and returns the lowercase strings in the result"
   ]
  },
  {
   "cell_type": "code",
   "execution_count": 184,
   "id": "96c96719-b70f-4487-9aa8-dfae23c59465",
   "metadata": {},
   "outputs": [
    {
     "name": "stdout",
     "output_type": "stream",
     "text": [
      "0    Goutham Karthik\n",
      "1             T. Bal\n",
      "2        Abhishek   \n",
      "3              Anand\n",
      "4                NaN\n",
      "5      Praveena     \n",
      "dtype: object\n"
     ]
    }
   ],
   "source": [
    "df_replaced = df.str.replace('Bablu', 'T.')\n",
    "print(df_replaced)"
   ]
  },
  {
   "cell_type": "code",
   "execution_count": 181,
   "id": "449b0078-3cd1-4dc5-8d33-49a746b7f870",
   "metadata": {},
   "outputs": [
    {
     "name": "stdout",
     "output_type": "stream",
     "text": [
      "0    goutham karthik\n",
      "1          bablu bal\n",
      "2        abhishek   \n",
      "3              anand\n",
      "4                NaN\n",
      "5      praveena     \n",
      "dtype: object\n"
     ]
    }
   ],
   "source": [
    "print(df.str.lower())"
   ]
  },
  {
   "cell_type": "markdown",
   "id": "f00e420c-c45d-46db-b221-a01dee79eec5",
   "metadata": {},
   "source": [
    "* **upper()**: Converts all lowercase characters in strings in the DataFrame to upper case and returns the uppercase strings in result."
   ]
  },
  {
   "cell_type": "code",
   "execution_count": 174,
   "id": "971caa48-5681-4281-a568-c5c31a94682b",
   "metadata": {},
   "outputs": [
    {
     "name": "stdout",
     "output_type": "stream",
     "text": [
      "0    GOUTHAM KARTHIK\n",
      "1          BABLU BAL\n",
      "2        ABHISHEK   \n",
      "3              ANAND\n",
      "4                NaN\n",
      "5      PRAVEENA     \n",
      "dtype: object\n"
     ]
    }
   ],
   "source": [
    "print(df.str.upper())"
   ]
  },
  {
   "cell_type": "markdown",
   "id": "ebeee49d-68e2-4a5f-b338-c2130eb17743",
   "metadata": {},
   "source": [
    "* **strip()**: If there are spaces at the beginning or end of a string, we should trim the strings to eliminate spaces using strip() or remove the extra spaces contained by a string in DataFrame"
   ]
  },
  {
   "cell_type": "code",
   "execution_count": 133,
   "id": "e66eb941-f2ee-46f6-a0f6-2ac861f4fff9",
   "metadata": {},
   "outputs": [
    {
     "name": "stdout",
     "output_type": "stream",
     "text": [
      "0    Goutham Karthik\n",
      "1          Bablu Bal\n",
      "2        Abhishek   \n",
      "3              Anand\n",
      "4                NaN\n",
      "5      Praveena     \n",
      "dtype: object\n",
      "\n",
      "After using the strip:\n",
      "0    Goutham Karthik\n",
      "1          Bablu Bal\n",
      "2           Abhishek\n",
      "3              Anand\n",
      "4                NaN\n",
      "5           Praveena\n",
      "dtype: object\n"
     ]
    }
   ],
   "source": [
    "print(df)\n",
    "print('\\nAfter using the strip:')\n",
    "print(df.str.strip())"
   ]
  },
  {
   "cell_type": "markdown",
   "id": "1e214415-e79b-48eb-a409-a007eed242b6",
   "metadata": {},
   "source": [
    "* **split(‘ ‘)**: Splits each string with the given pattern. Strings are split and the new elements after the performed split operation, are stored in a list."
   ]
  },
  {
   "cell_type": "code",
   "execution_count": 136,
   "id": "5dfc12b4-ad48-4899-b8e3-40cca95c997f",
   "metadata": {},
   "outputs": [
    {
     "name": "stdout",
     "output_type": "stream",
     "text": [
      "0    Goutham Karthik\n",
      "1          Bablu Bal\n",
      "2        Abhishek   \n",
      "3              Anand\n",
      "4                NaN\n",
      "5      Praveena     \n",
      "dtype: object\n",
      "\n",
      " After using the strip:\n",
      "0    [Goutham Karthik]\n",
      "1          [Bablu Bal]\n",
      "2        [Abhishek   ]\n",
      "3              [Anand]\n",
      "4                  NaN\n",
      "5      [Praveena     ]\n",
      "dtype: object\n",
      "\n",
      " using []:\n",
      "0    Goutham Karthik\n",
      "1          Bablu Bal\n",
      "2           Abhishek\n",
      "3              Anand\n",
      "4                NaN\n",
      "5           Praveena\n",
      "dtype: object\n",
      "\n",
      " using get():\n",
      "0   NaN\n",
      "1   NaN\n",
      "2   NaN\n",
      "3   NaN\n",
      "4   NaN\n",
      "5   NaN\n",
      "dtype: float64\n"
     ]
    }
   ],
   "source": [
    "print(df)\n",
    "print('\\n After using the strip:')\n",
    "print(df.str.split(','))\n",
    "\n",
    "print('\\n using []:')\n",
    "print(df.str.split(',').str[0].str.strip())\n",
    "\n",
    "print('\\n using get():')\n",
    "print(df.str.split(',').str.get(1))\n"
   ]
  },
  {
   "cell_type": "markdown",
   "id": "1902777b-84af-458d-85e3-652680b3ddf2",
   "metadata": {},
   "source": [
    "* **len()**: With the help of len() we can compute the length of each string in DataFrame & if there is empty data in DataFrame, it returns NaN"
   ]
  },
  {
   "cell_type": "code",
   "execution_count": 139,
   "id": "2902e978-d628-4b3c-96e2-15adbb3b58c8",
   "metadata": {},
   "outputs": [
    {
     "name": "stdout",
     "output_type": "stream",
     "text": [
      "length of the dataframe:  6\n",
      "0    Goutham Karthik\n",
      "1          Bablu Bal\n",
      "2        Abhishek   \n",
      "3              Anand\n",
      "4                NaN\n",
      "5      Praveena     \n",
      "dtype: object\n",
      "length of each value of dataframe:\n",
      "0    15.0\n",
      "1     9.0\n",
      "2    11.0\n",
      "3     5.0\n",
      "4     NaN\n",
      "5    13.0\n",
      "dtype: float64\n"
     ]
    }
   ],
   "source": [
    "print(\"length of the dataframe: \", len(df))\n",
    "print(df)\n",
    "print(\"length of each value of dataframe:\")\n",
    "print(df.str.len())\n"
   ]
  },
  {
   "cell_type": "markdown",
   "id": "464f0155-636b-400a-92e4-712282216d8f",
   "metadata": {},
   "source": [
    "* **cat(sep=’ ‘)**: It concatenates the data-frame index elements or each string in DataFrame with given separator."
   ]
  },
  {
   "cell_type": "code",
   "execution_count": 142,
   "id": "00e71337-8e39-4277-9a7c-a717d472c167",
   "metadata": {},
   "outputs": [
    {
     "name": "stdout",
     "output_type": "stream",
     "text": [
      "0    Goutham Karthik\n",
      "1          Bablu Bal\n",
      "2        Abhishek   \n",
      "3              Anand\n",
      "4                NaN\n",
      "5      Praveena     \n",
      "dtype: object\n",
      "\n",
      " after using cat:\n",
      "Goutham Karthik_Bablu Bal_Abhishek   _Anand_Praveena     \n",
      "\n",
      " working with NaN using cat:\n",
      "Goutham Karthik_Bablu Bal_Abhishek   _Anand_#_Praveena     \n"
     ]
    }
   ],
   "source": [
    "print(df)\n",
    "\n",
    "print(\"\\n after using cat:\")\n",
    "print(df.str.cat(sep='_'))\n",
    "\n",
    "print(\"\\n working with NaN using cat:\")\n",
    "print(df.str.cat(sep='_', na_rep='#'))\n"
   ]
  },
  {
   "cell_type": "code",
   "execution_count": 144,
   "id": "d1be8efc-37b9-48f0-a0f0-a1af8291aa70",
   "metadata": {},
   "outputs": [
    {
     "data": {
      "text/plain": [
       "0    False\n",
       "1    False\n",
       "2     True\n",
       "3     True\n",
       "4      NaN\n",
       "5    False\n",
       "dtype: object"
      ]
     },
     "execution_count": 144,
     "metadata": {},
     "output_type": "execute_result"
    }
   ],
   "source": [
    "df.str.startswith('A')\n"
   ]
  },
  {
   "cell_type": "code",
   "execution_count": 146,
   "id": "ee63681e-58a8-4d07-b75c-41601728a32a",
   "metadata": {},
   "outputs": [
    {
     "data": {
      "text/plain": [
       "0    False\n",
       "1    False\n",
       "2    False\n",
       "3    False\n",
       "4      NaN\n",
       "5    False\n",
       "dtype: object"
      ]
     },
     "execution_count": 146,
     "metadata": {},
     "output_type": "execute_result"
    }
   ],
   "source": [
    "df.str.endswith('a')\n",
    "\n"
   ]
  },
  {
   "cell_type": "code",
   "execution_count": 148,
   "id": "cf57f282-ad92-4b96-8830-a3f9d297dfa6",
   "metadata": {},
   "outputs": [
    {
     "data": {
      "text/plain": [
       "0    [Goutham, Karthik]\n",
       "1          [Bablu, Bal]\n",
       "2            [Abhishek]\n",
       "3               [Anand]\n",
       "4                   NaN\n",
       "5            [Praveena]\n",
       "dtype: object"
      ]
     },
     "execution_count": 148,
     "metadata": {},
     "output_type": "execute_result"
    }
   ],
   "source": [
    "df.str.split()"
   ]
  },
  {
   "cell_type": "markdown",
   "id": "e1b867ba-fccd-44fb-8e3d-a81bf9bc17c9",
   "metadata": {},
   "source": [
    "### Miscellaneous methods"
   ]
  },
  {
   "cell_type": "markdown",
   "id": "d1c30a3b-2428-49f2-8be3-bdc2c8af7de8",
   "metadata": {},
   "source": [
    "\n",
    "| Method | Description |\n",
    "|--------|-------------|\n",
    "| ``get()`` | Index each element |\n",
    "| ``slice()`` | Slice each element|\n",
    "| ``slice_replace()`` | Replace slice in each element with passed value|\n",
    "| ``cat()``      | Concatenate strings|\n",
    "| ``repeat()`` | Repeat values |\n",
    "| ``normalize()`` | Return Unicode form of string |\n",
    "| ``pad()`` | Add whitespace to left, right, or both sides of strings|\n",
    "| ``wrap()`` | Split long strings into lines with length less than a given width|\n",
    "| ``join()`` | Join strings in each element of the Series with passed separator|\n",
    "| ``get_dummies()`` | extract dummy variables as a dataframe |"
   ]
  },
  {
   "cell_type": "code",
   "execution_count": 152,
   "id": "4d38d669-4a4e-4b4d-8833-c16ba56aa6f3",
   "metadata": {},
   "outputs": [
    {
     "data": {
      "text/plain": [
       "0    Gou\n",
       "1    Bab\n",
       "2    Abh\n",
       "3    Ana\n",
       "4    NaN\n",
       "5    Pra\n",
       "dtype: object"
      ]
     },
     "execution_count": 152,
     "metadata": {},
     "output_type": "execute_result"
    }
   ],
   "source": [
    "df.str[0:3]"
   ]
  },
  {
   "cell_type": "code",
   "execution_count": 154,
   "id": "22ac159d-3ea2-4ff6-8296-a9230baca4e5",
   "metadata": {},
   "outputs": [
    {
     "data": {
      "text/plain": [
       "0     Karthik\n",
       "1         Bal\n",
       "2    Abhishek\n",
       "3       Anand\n",
       "4         NaN\n",
       "5    Praveena\n",
       "dtype: object"
      ]
     },
     "execution_count": 154,
     "metadata": {},
     "output_type": "execute_result"
    }
   ],
   "source": [
    "df.str.split().str.get(-1)"
   ]
  },
  {
   "cell_type": "code",
   "execution_count": 156,
   "id": "98d77865-0ece-4c66-b9cb-0948cbef486e",
   "metadata": {},
   "outputs": [
    {
     "data": {
      "text/html": [
       "<div>\n",
       "<style scoped>\n",
       "    .dataframe tbody tr th:only-of-type {\n",
       "        vertical-align: middle;\n",
       "    }\n",
       "\n",
       "    .dataframe tbody tr th {\n",
       "        vertical-align: top;\n",
       "    }\n",
       "\n",
       "    .dataframe thead th {\n",
       "        text-align: right;\n",
       "    }\n",
       "</style>\n",
       "<table border=\"1\" class=\"dataframe\">\n",
       "  <thead>\n",
       "    <tr style=\"text-align: right;\">\n",
       "      <th></th>\n",
       "      <th>name</th>\n",
       "      <th>info</th>\n",
       "    </tr>\n",
       "  </thead>\n",
       "  <tbody>\n",
       "    <tr>\n",
       "      <th>0</th>\n",
       "      <td>Goutham Karthik</td>\n",
       "      <td>B|C|D</td>\n",
       "    </tr>\n",
       "    <tr>\n",
       "      <th>1</th>\n",
       "      <td>Bablu Bal</td>\n",
       "      <td>B|D</td>\n",
       "    </tr>\n",
       "    <tr>\n",
       "      <th>2</th>\n",
       "      <td>Abhishek</td>\n",
       "      <td>A|C</td>\n",
       "    </tr>\n",
       "    <tr>\n",
       "      <th>3</th>\n",
       "      <td>Anand</td>\n",
       "      <td>B|D</td>\n",
       "    </tr>\n",
       "    <tr>\n",
       "      <th>4</th>\n",
       "      <td>NaN</td>\n",
       "      <td>B|C</td>\n",
       "    </tr>\n",
       "    <tr>\n",
       "      <th>5</th>\n",
       "      <td>Praveena</td>\n",
       "      <td>B|C|D</td>\n",
       "    </tr>\n",
       "  </tbody>\n",
       "</table>\n",
       "</div>"
      ],
      "text/plain": [
       "              name   info\n",
       "0  Goutham Karthik  B|C|D\n",
       "1        Bablu Bal    B|D\n",
       "2      Abhishek       A|C\n",
       "3            Anand    B|D\n",
       "4              NaN    B|C\n",
       "5    Praveena       B|C|D"
      ]
     },
     "execution_count": 156,
     "metadata": {},
     "output_type": "execute_result"
    }
   ],
   "source": [
    "df1 = pd.DataFrame({'name': df,\n",
    "                           'info': ['B|C|D', 'B|D', 'A|C',\n",
    "                                    'B|D', 'B|C', 'B|C|D']})\n",
    "df1\n"
   ]
  },
  {
   "cell_type": "code",
   "execution_count": 159,
   "id": "0d65d545-ad3e-44ab-b516-c1e8eb7ef38d",
   "metadata": {},
   "outputs": [
    {
     "data": {
      "text/html": [
       "<div>\n",
       "<style scoped>\n",
       "    .dataframe tbody tr th:only-of-type {\n",
       "        vertical-align: middle;\n",
       "    }\n",
       "\n",
       "    .dataframe tbody tr th {\n",
       "        vertical-align: top;\n",
       "    }\n",
       "\n",
       "    .dataframe thead th {\n",
       "        text-align: right;\n",
       "    }\n",
       "</style>\n",
       "<table border=\"1\" class=\"dataframe\">\n",
       "  <thead>\n",
       "    <tr style=\"text-align: right;\">\n",
       "      <th></th>\n",
       "      <th>A</th>\n",
       "      <th>B</th>\n",
       "      <th>C</th>\n",
       "      <th>D</th>\n",
       "    </tr>\n",
       "  </thead>\n",
       "  <tbody>\n",
       "    <tr>\n",
       "      <th>0</th>\n",
       "      <td>0</td>\n",
       "      <td>1</td>\n",
       "      <td>1</td>\n",
       "      <td>1</td>\n",
       "    </tr>\n",
       "    <tr>\n",
       "      <th>1</th>\n",
       "      <td>0</td>\n",
       "      <td>1</td>\n",
       "      <td>0</td>\n",
       "      <td>1</td>\n",
       "    </tr>\n",
       "    <tr>\n",
       "      <th>2</th>\n",
       "      <td>1</td>\n",
       "      <td>0</td>\n",
       "      <td>1</td>\n",
       "      <td>0</td>\n",
       "    </tr>\n",
       "    <tr>\n",
       "      <th>3</th>\n",
       "      <td>0</td>\n",
       "      <td>1</td>\n",
       "      <td>0</td>\n",
       "      <td>1</td>\n",
       "    </tr>\n",
       "    <tr>\n",
       "      <th>4</th>\n",
       "      <td>0</td>\n",
       "      <td>1</td>\n",
       "      <td>1</td>\n",
       "      <td>0</td>\n",
       "    </tr>\n",
       "    <tr>\n",
       "      <th>5</th>\n",
       "      <td>0</td>\n",
       "      <td>1</td>\n",
       "      <td>1</td>\n",
       "      <td>1</td>\n",
       "    </tr>\n",
       "  </tbody>\n",
       "</table>\n",
       "</div>"
      ],
      "text/plain": [
       "   A  B  C  D\n",
       "0  0  1  1  1\n",
       "1  0  1  0  1\n",
       "2  1  0  1  0\n",
       "3  0  1  0  1\n",
       "4  0  1  1  0\n",
       "5  0  1  1  1"
      ]
     },
     "execution_count": 159,
     "metadata": {},
     "output_type": "execute_result"
    }
   ],
   "source": [
    "df1['info'].str.get_dummies('|')"
   ]
  },
  {
   "cell_type": "raw",
   "id": "ce469d88-0015-4b1d-a1bd-ac3aaa8d2cb3",
   "metadata": {},
   "source": [
    "Pandas vectorized string operations are powerful tools for efficiently handling and cleaning large datasets. "
   ]
  }
 ],
 "metadata": {
  "kernelspec": {
   "display_name": "Python 3 (ipykernel)",
   "language": "python",
   "name": "python3"
  },
  "language_info": {
   "codemirror_mode": {
    "name": "ipython",
    "version": 3
   },
   "file_extension": ".py",
   "mimetype": "text/x-python",
   "name": "python",
   "nbconvert_exporter": "python",
   "pygments_lexer": "ipython3",
   "version": "3.12.3"
  }
 },
 "nbformat": 4,
 "nbformat_minor": 5
}
