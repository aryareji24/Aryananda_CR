{
 "cells": [
  {
   "cell_type": "code",
   "execution_count": null,
   "id": "48f9efb5-4059-4f26-b850-8612eb16194a",
   "metadata": {},
   "outputs": [],
   "source": []
  },
  {
   "cell_type": "markdown",
   "id": "e7818a95-0132-4dbc-a2ee-821f8730f590",
   "metadata": {},
   "source": [
    "### **1. Working with Dates and Times in Python**"
   ]
  },
  {
   "cell_type": "markdown",
   "id": "743e0f48-469b-42db-9f9f-1f2997692525",
   "metadata": {},
   "source": [
    "#### **Using `datetime`**\n",
    "\n",
    "* The `datetime` module is part of Python's standard library and provides classes for manipulating dates and times."
   ]
  },
  {
   "cell_type": "markdown",
   "id": "c923b7da-3141-4dab-bdf4-521c24321ff1",
   "metadata": {},
   "source": [
    "- **Creating a DateTime Object**"
   ]
  },
  {
   "cell_type": "markdown",
   "id": "2931bb39-51c3-4604-b515-0e130fe75c8a",
   "metadata": {},
   "source": [
    "  You can create a date and time object using `datetime.datetime()`:"
   ]
  },
  {
   "cell_type": "code",
   "execution_count": 211,
   "id": "2358ac54-03e2-474c-9ca7-bdcc71c17346",
   "metadata": {},
   "outputs": [
    {
     "name": "stdout",
     "output_type": "stream",
     "text": [
      "2024-08-08 06:15:08\n"
     ]
    }
   ],
   "source": [
    "from datetime import datetime\n",
    "dt = datetime(year = 2024 , month = 8 , day = 8 , hour = 6 , minute = 15 , second = 8)\n",
    "print(dt)"
   ]
  },
  {
   "cell_type": "markdown",
   "id": "1883dcb5-f412-458e-8916-5108ad4f16da",
   "metadata": {},
   "source": [
    "- **Formatting Dates**"
   ]
  },
  {
   "cell_type": "markdown",
   "id": "b7c52020-e1a1-444c-b053-8e8d0009f705",
   "metadata": {},
   "source": [
    "  You can format dates into readable strings using the `strftime()` method. For example, to get the day of the week:"
   ]
  },
  {
   "cell_type": "code",
   "execution_count": 194,
   "id": "a348363b-7031-4fb8-8726-9b82388e3f88",
   "metadata": {},
   "outputs": [
    {
     "name": "stdout",
     "output_type": "stream",
     "text": [
      "Thursday\n"
     ]
    }
   ],
   "source": [
    "print(dt.strftime('%A'))"
   ]
  },
  {
   "cell_type": "markdown",
   "id": "61ad0497-d178-4e55-b7e2-b18d0e54a691",
   "metadata": {},
   "source": [
    "### **Common Format Codes**\n",
    "\n",
    "Here are some other useful format codes:\n",
    "\n",
    "- **`%a`**: Abbreviated weekday name (e.g., `'Sat'` for Saturday).\n",
    "- **`%b`**: Abbreviated month name (e.g., `'Jul'` for July).\n",
    "- **`%B`**: Full month name (e.g., `'July'`).\n",
    "- **`%d`**: Day of the month as a zero-padded decimal number (e.g., `'04'` for the 4th day of the month).\n",
    "- **`%m`**: Month as a zero-padded decimal number (e.g., `'07'` for July).\n",
    "- **`%Y`**: Year with century as a decimal number (e.g., `'2015'`).\n",
    "- **`%y`**: Year without century as a decimal number (e.g., `'15'` for the year 2015).\n",
    "- **`%H`**: Hour (24-hour clock) as a zero-padded decimal number (e.g., `'00'` for midnight).\n",
    "- **`%I`**: Hour (12-hour clock) as a zero-padded decimal number (e.g., `'12'` for noon).\n",
    "- **`%M`**: Minute as a zero-padded decimal number (e.g., `'00'`).\n",
    "- **`%S`**: Second as a zero-padded decimal number (e.g., `'00'`).\n",
    "- **`%p`**: AM or PM (in uppercase)."
   ]
  },
  {
   "cell_type": "code",
   "execution_count": 213,
   "id": "c7969881-2512-4fae-830b-8eb7daf5cc0b",
   "metadata": {},
   "outputs": [
    {
     "name": "stdout",
     "output_type": "stream",
     "text": [
      "2024-08-08 15:30:00\n",
      "<class 'datetime.datetime'>\n"
     ]
    }
   ],
   "source": [
    "from datetime import datetime\n",
    "\n",
    "dt = datetime(year=2024, month=8, day=8, hour=15, minute=30)\n",
    "print(dt)\n",
    "print(type(dt))"
   ]
  },
  {
   "cell_type": "markdown",
   "id": "bc4ddfe5-a507-422a-8268-63408bfeddb1",
   "metadata": {},
   "source": [
    "#### **Using `dateutil`**"
   ]
  },
  {
   "cell_type": "markdown",
   "id": "35414e9b-1ba7-468e-8f5e-2372fb0cd52f",
   "metadata": {},
   "source": [
    "The `dateutil` module is a third-party library that provides additional functionality for parsing and manipulating dates."
   ]
  },
  {
   "cell_type": "markdown",
   "id": "71d9f8b0-ad78-4c5b-bed5-cae0ceb0fd5d",
   "metadata": {},
   "source": [
    "- **Parsing Dates**"
   ]
  },
  {
   "cell_type": "markdown",
   "id": "ff90b471-4e36-42bc-9eba-3bc38584f0d5",
   "metadata": {},
   "source": [
    "You can parse dates from various string formats using `dateutil.parser.parse()`:"
   ]
  },
  {
   "cell_type": "code",
   "execution_count": 206,
   "id": "6bbf64a8-f65b-43f8-813d-12e2f493c9fa",
   "metadata": {},
   "outputs": [
    {
     "name": "stdout",
     "output_type": "stream",
     "text": [
      "2024-08-08 00:00:00\n",
      "<class 'datetime.datetime'>\n"
     ]
    }
   ],
   "source": [
    "from dateutil import parser\n",
    "\n",
    "date = parser.parse(\"8th of August,2024\")\n",
    "print(date)"
   ]
  },
  {
   "cell_type": "code",
   "execution_count": 67,
   "id": "f4ac86d4-5666-4cac-9be8-4899ec690e3b",
   "metadata": {},
   "outputs": [
    {
     "name": "stdout",
     "output_type": "stream",
     "text": [
      "Thu\n"
     ]
    }
   ],
   "source": [
    "print(date.strftime('%a'))"
   ]
  },
  {
   "cell_type": "markdown",
   "id": "88b22ce6-8d6d-41ec-ae9f-5098f31774f7",
   "metadata": {},
   "source": [
    "Parsing is the process of analyzing and converting data from one format to another. In the context of dates and times, parsing refers to converting a string representation of a date or time into a structured date-time object that a program can work with more easily"
   ]
  },
  {
   "cell_type": "markdown",
   "id": "f03c39a7-1ad0-4ae3-a3bf-a0ca2e94b1fd",
   "metadata": {},
   "source": [
    "### **2. Advanced Tools for Handling Large Date Arrays**"
   ]
  },
  {
   "cell_type": "markdown",
   "id": "36b21933-411f-4687-bbae-1093124ceb5a",
   "metadata": {},
   "source": [
    "#### **Why Use Advanced Libraries?**\n",
    "\n",
    "- **Efficiency**: NumPy and Pandas are designed for efficient handling of large datasets. They use optimized data structures and algorithms.\n",
    "- **Convenience**: These libraries offer advanced features for manipulating and analyzing time series data."
   ]
  },
  {
   "cell_type": "markdown",
   "id": "4138f60b-ed99-4efe-b7d1-d0e5b5862c29",
   "metadata": {},
   "source": [
    "#### **Example with Pandas**"
   ]
  },
  {
   "cell_type": "markdown",
   "id": "e4e1d451-02d4-4d29-a40c-b9fb554e71ec",
   "metadata": {},
   "source": [
    "- **Creating a Date Range**"
   ]
  },
  {
   "cell_type": "code",
   "execution_count": 77,
   "id": "e48d0932-cede-450e-ae00-fc0e9f5d78a7",
   "metadata": {},
   "outputs": [
    {
     "name": "stdout",
     "output_type": "stream",
     "text": [
      "DatetimeIndex(['2024-01-01', '2024-01-02', '2024-01-03', '2024-01-04',\n",
      "               '2024-01-05'],\n",
      "              dtype='datetime64[ns]', freq='D')\n"
     ]
    }
   ],
   "source": [
    "import pandas as pd\n",
    "\n",
    "  # Create a range of dates\n",
    "dates = pd.date_range(start='2024-01-01', periods=5)\n",
    "print(dates)"
   ]
  },
  {
   "cell_type": "markdown",
   "id": "b769bf29-1f21-4861-8223-d75081cfa406",
   "metadata": {},
   "source": [
    "- **Creating a DataFrame with Dates**"
   ]
  },
  {
   "cell_type": "code",
   "execution_count": 80,
   "id": "3e7edd5d-0f1f-48de-bd88-c6ba7e390341",
   "metadata": {},
   "outputs": [
    {
     "name": "stdout",
     "output_type": "stream",
     "text": [
      "            Value\n",
      "2024-01-01     10\n",
      "2024-01-02     20\n",
      "2024-01-03     30\n",
      "2024-01-04     40\n",
      "2024-01-05     50\n"
     ]
    }
   ],
   "source": [
    "df = pd.DataFrame({'Value': [10, 20, 30, 40, 50]}, index=dates)\n",
    "print(df)"
   ]
  },
  {
   "cell_type": "markdown",
   "id": "61baa960-c1ba-4cb9-be7a-86128c1b030a",
   "metadata": {},
   "source": [
    "### **What is `datetime64`?**\n",
    "\n",
    "`datetime64` is a special data type in NumPy designed for handling dates and times in arrays efficiently. Unlike Python's built-in `datetime` module, which is great for individual dates but can be slow for large arrays, `datetime64` is optimized for performance and can handle large collections of dates more quickly."
   ]
  },
  {
   "cell_type": "markdown",
   "id": "bc382498-19d7-49f9-a1da-d0b2c11e8344",
   "metadata": {},
   "source": [
    "1. **Efficient Storage**: `datetime64` uses 64-bit integers to store dates and times. This makes it compact and fast for operations on large datasets.\n",
    "\n",
    "2. **Resolution**: It supports different levels of time precision, from years down to nanoseconds. The precision you choose affects the range of dates you can represent.\n",
    "\n",
    "3. **Vectorized Operations**: You can perform operations on arrays of dates quickly and efficiently, thanks to NumPy's vectorization."
   ]
  },
  {
   "cell_type": "markdown",
   "id": "8967a9e7-0ead-4a6c-a801-97a095a7cb93",
   "metadata": {},
   "source": [
    "### **Basic Usage**"
   ]
  },
  {
   "cell_type": "markdown",
   "id": "4b469a84-1d67-46ab-b61e-16f155d7fd41",
   "metadata": {},
   "source": [
    "\n",
    "#### **Creating `datetime64` Objects**\n",
    "\n",
    "You can create `datetime64` objects from date strings."
   ]
  },
  {
   "cell_type": "code",
   "execution_count": 87,
   "id": "7a096320-4af6-45bf-bbeb-575f954bc210",
   "metadata": {},
   "outputs": [
    {
     "name": "stdout",
     "output_type": "stream",
     "text": [
      "2024-08-08 00:00:00\n"
     ]
    }
   ],
   "source": [
    "import numpy as np\n",
    "\n",
    "\n",
    "datee = np.datetime64('2024-08-08')\n",
    "print(date)"
   ]
  },
  {
   "cell_type": "markdown",
   "id": "355f8e2a-96bd-43a2-b134-ed6e197aee78",
   "metadata": {},
   "source": [
    "You can also include time information:"
   ]
  },
  {
   "cell_type": "code",
   "execution_count": 92,
   "id": "ee36dcc3-3061-49ab-88eb-78f309a2844b",
   "metadata": {},
   "outputs": [
    {
     "name": "stdout",
     "output_type": "stream",
     "text": [
      "2024-08-08T12:00\n"
     ]
    }
   ],
   "source": [
    "date_time = np.datetime64('2024-08-08T12:00')\n",
    "print(date_time) "
   ]
  },
  {
   "cell_type": "markdown",
   "id": "53a08fe8-b2b4-42cb-8553-bb33191ed0fa",
   "metadata": {},
   "source": [
    "T: A separator between the date and time components (the letter T is a standard convention used in ISO 8601 date and time formats)"
   ]
  },
  {
   "cell_type": "markdown",
   "id": "f0f85df1-f597-4e4f-ab2a-a52c82d25b5f",
   "metadata": {},
   "source": [
    "#### **Using Different Resolutions**\n",
    "\n",
    "`datetime64` allows you to specify the resolution or precision. For example, you can specify precision down to nanoseconds:"
   ]
  },
  {
   "cell_type": "code",
   "execution_count": 96,
   "id": "120e4ae0-7b18-4b2b-8bba-d521a5c83505",
   "metadata": {},
   "outputs": [
    {
     "name": "stdout",
     "output_type": "stream",
     "text": [
      "2024-08-08T12:59:59.500000000\n"
     ]
    }
   ],
   "source": [
    "# Create a datetime64 object with nanosecond precision\n",
    "nano_date = np.datetime64('2024-08-08T12:59:59.500000000', 'ns')\n",
    "print(nano_date) "
   ]
  },
  {
   "cell_type": "markdown",
   "id": "d2a3b98e-f662-4852-9a00-8405aa37ae11",
   "metadata": {},
   "source": [
    "#### **Vectorized Operations**"
   ]
  },
  {
   "cell_type": "code",
   "execution_count": 99,
   "id": "940b3c84-0d28-4a23-bf99-acdebb96de3e",
   "metadata": {},
   "outputs": [
    {
     "name": "stdout",
     "output_type": "stream",
     "text": [
      "['2024-01-01' '2024-01-03' '2024-01-05']\n"
     ]
    }
   ],
   "source": [
    "# Create an array of dates\n",
    "dates = np.array(['2024-01-01', '2024-01-02', '2024-01-03'], dtype=np.datetime64)\n",
    "\n",
    "# Add a number of days to each date\n",
    "new_dates = dates + np.arange(3)  \n",
    "print(new_dates)"
   ]
  },
  {
   "cell_type": "markdown",
   "id": "cc8c5943-ac0a-4c22-9d63-90e6c649452e",
   "metadata": {},
   "source": [
    "### **Resolution and Time Span**\n",
    "\n",
    "`datetime64` allows you to choose the resolution of time you need:"
   ]
  },
  {
   "cell_type": "markdown",
   "id": "f41ee332-75a6-4c15-a120-00a831fb0726",
   "metadata": {},
   "source": [
    "- **Year (`Y`)**: Up to about ±9.2e18 years\n",
    "- **Month (`M`)**: Up to about ±7.6e17 years\n",
    "- **Day (`D`)**: Up to about ±2.5e16 years\n",
    "- **Second (`s`)**: Up to about ±2.9e12 years\n",
    "- **Nanosecond (`ns`)**: Up to about ±292 years"
   ]
  },
  {
   "cell_type": "code",
   "execution_count": 105,
   "id": "1d9597dc-6e0a-4aee-a360-376ae24b513d",
   "metadata": {},
   "outputs": [
    {
     "name": "stdout",
     "output_type": "stream",
     "text": [
      "2024-08-08T12:00:00.123\n"
     ]
    }
   ],
   "source": [
    "# Create a datetime64 object with millisecond precision\n",
    "ms_date = np.datetime64('2024-08-08T12:00:00.123', 'ms')\n",
    "print(ms_date)"
   ]
  },
  {
   "cell_type": "markdown",
   "id": "f983d130-700c-4ab3-9be4-f30205c5cd68",
   "metadata": {},
   "source": [
    "### **Comparison with Python's `datetime`**\n",
    "\n",
    "- **Advantages**: `datetime64` is optimized for performance with large arrays and supports vectorized operations, making it faster for numerical computations.\n",
    "- **Disadvantages**: It has fewer convenient methods compared to Python's built-in `datetime` module and lacks some of the flexibility of libraries like `dateutil`."
   ]
  },
  {
   "cell_type": "markdown",
   "id": "38983589-6199-445c-8fa8-80a8bd9c4f52",
   "metadata": {},
   "source": [
    "### **3. What is Pandas Timestamp?**"
   ]
  },
  {
   "cell_type": "markdown",
   "id": "60cc57e5-2271-42b6-a78e-5f46747e6cb6",
   "metadata": {},
   "source": [
    "\n",
    "\n",
    "In pandas, a `Timestamp` is a special object that represents a specific point in time. It builds on the capabilities of Python's `datetime` and NumPy's `datetime64`, providing:\n",
    "\n",
    "- **Ease of Use**: Like Python's `datetime`, it's easy to work with and has many convenient methods.\n",
    "- **Efficiency**: Like NumPy's `datetime64`, it's optimized for performance, especially when working with large datasets."
   ]
  },
  {
   "cell_type": "markdown",
   "id": "9cd6d27e-1048-4e45-bfdf-15a2c1fa15d1",
   "metadata": {},
   "source": [
    "### **Vectorized Operations**"
   ]
  },
  {
   "cell_type": "code",
   "execution_count": 113,
   "id": "93cc27fe-ca96-4952-9408-c6eeaa248090",
   "metadata": {},
   "outputs": [
    {
     "name": "stdout",
     "output_type": "stream",
     "text": [
      "DatetimeIndex(['2024-08-08', '2024-08-09', '2024-08-10', '2024-08-11',\n",
      "               '2024-08-12', '2024-08-13', '2024-08-14', '2024-08-15',\n",
      "               '2024-08-16', '2024-08-17', '2024-08-18', '2024-08-19'],\n",
      "              dtype='datetime64[ns]', freq=None)\n"
     ]
    }
   ],
   "source": [
    "import numpy as np\n",
    "import pandas as pd\n",
    "\n",
    "# Create a Timestamp object\n",
    "date = pd.to_datetime(\"2024-08-08\")\n",
    "\n",
    "# Add a range of days to this date\n",
    "new_dates = date + pd.to_timedelta(np.arange(12), 'D')\n",
    "print(new_dates)"
   ]
  },
  {
   "cell_type": "markdown",
   "id": "eb92a2a8-8ccd-4103-b1a0-e59c28c7f6b2",
   "metadata": {},
   "source": [
    "- **`pd.to_timedelta(np.arange(12), 'D')`**: Creates a series of time deltas (durations) ranging from 0 to 11 days.\n",
    "- **`date + pd.to_timedelta(...)`**: Adds each of these time deltas to the original date."
   ]
  },
  {
   "cell_type": "markdown",
   "id": "21d9c974-c385-442b-b26c-3acdf6ea9ddf",
   "metadata": {},
   "source": [
    "### **4. Creating a Time-Indexed Series**"
   ]
  },
  {
   "cell_type": "code",
   "execution_count": 122,
   "id": "5487d857-c57d-4787-8b14-306b770c92f4",
   "metadata": {},
   "outputs": [
    {
     "name": "stdout",
     "output_type": "stream",
     "text": [
      "2014-07-04    0\n",
      "2014-08-04    1\n",
      "2015-07-04    2\n",
      "2015-08-04    3\n",
      "dtype: int64\n"
     ]
    }
   ],
   "source": [
    "import pandas as pd\n",
    "\n",
    "# Create a DatetimeIndex with specific dates\n",
    "index = pd.DatetimeIndex(['2014-07-04', '2014-08-04', '2015-07-04', '2015-08-04'])\n",
    "\n",
    "# Create a Series with the above index and some data\n",
    "data = pd.Series([0, 1, 2, 3], index=index)\n",
    "print(data)"
   ]
  },
  {
   "cell_type": "markdown",
   "id": "6f80273a-eb18-41db-8c96-3d16454def23",
   "metadata": {},
   "source": [
    "### **Slicing by Date Range**"
   ]
  },
  {
   "cell_type": "code",
   "execution_count": 125,
   "id": "3c4ab796-22e8-4043-af84-1d5a814c2b68",
   "metadata": {},
   "outputs": [
    {
     "name": "stdout",
     "output_type": "stream",
     "text": [
      "2014-07-04    0\n",
      "2014-08-04    1\n",
      "2015-07-04    2\n",
      "dtype: int64\n"
     ]
    }
   ],
   "source": [
    "slice_data = data['2014-07-04':'2015-07-04']\n",
    "print(slice_data)"
   ]
  },
  {
   "cell_type": "markdown",
   "id": "95ddc062-0a70-4d03-9231-93ebfdf70310",
   "metadata": {},
   "source": [
    "\n",
    "### **Indexing by Year**"
   ]
  },
  {
   "cell_type": "code",
   "execution_count": 129,
   "id": "67f3e65d-7e15-453c-98ec-1b22a92d1312",
   "metadata": {},
   "outputs": [
    {
     "name": "stdout",
     "output_type": "stream",
     "text": [
      "2015-07-04    2\n",
      "2015-08-04    3\n",
      "dtype: int64\n"
     ]
    }
   ],
   "source": [
    "year_data = data['2015']\n",
    "print(year_data)"
   ]
  },
  {
   "cell_type": "markdown",
   "id": "69b62e7c-141e-457c-ae94-d459a18a29f0",
   "metadata": {},
   "source": [
    "how to create regular sequences of dates, periods, and time deltas in Pandas using functions like pd.date_range(), pd.period_range(), and pd.timedelta_range():"
   ]
  },
  {
   "cell_type": "markdown",
   "id": "2af0ca85-9860-4e88-ac10-834b0aa02acc",
   "metadata": {},
   "source": [
    "### **Creating Regular Sequences of Dates with `pd.date_range()`**"
   ]
  },
  {
   "cell_type": "markdown",
   "id": "92002503-cfe5-4b6d-bece-9d89722b5388",
   "metadata": {},
   "source": [
    "\n",
    "**Basic Usage:**"
   ]
  },
  {
   "cell_type": "code",
   "execution_count": 139,
   "id": "44a8d576-88a2-4ad7-b6a8-9a03c6004df9",
   "metadata": {},
   "outputs": [
    {
     "name": "stdout",
     "output_type": "stream",
     "text": [
      "DatetimeIndex(['2024-08-05', '2024-08-06', '2024-08-07', '2024-08-08',\n",
      "               '2024-08-09', '2024-08-10', '2024-08-11', '2024-08-12'],\n",
      "              dtype='datetime64[ns]', freq='D')\n"
     ]
    }
   ],
   "source": [
    "import pandas as pd\n",
    "\n",
    "date_range = pd.date_range('2024-08-05', '2024-08-12')\n",
    "print(date_range)"
   ]
  },
  {
   "cell_type": "markdown",
   "id": "07ae6bd9-877a-4374-9b18-d091a7a821b8",
   "metadata": {},
   "source": [
    "**Specifying Number of Periods:**"
   ]
  },
  {
   "cell_type": "code",
   "execution_count": 144,
   "id": "7f50978f-2105-4326-9292-17eb12f54bd6",
   "metadata": {},
   "outputs": [
    {
     "name": "stdout",
     "output_type": "stream",
     "text": [
      "DatetimeIndex(['2024-08-01', '2024-08-02', '2024-08-03', '2024-08-04',\n",
      "               '2024-08-05', '2024-08-06', '2024-08-07', '2024-08-08'],\n",
      "              dtype='datetime64[ns]', freq='D')\n"
     ]
    }
   ],
   "source": [
    "# Create a sequence of 8 daily dates starting from August 1, 2024\n",
    "date_range = pd.date_range('2024-08-01', periods=8)\n",
    "print(date_range)"
   ]
  },
  {
   "cell_type": "markdown",
   "id": "fbb11476-2f93-481f-b3c7-7b5ae688b532",
   "metadata": {},
   "source": [
    "**Specifying Frequency:**"
   ]
  },
  {
   "cell_type": "code",
   "execution_count": 147,
   "id": "4eb062e9-e3a1-4c49-9bf7-49fae037cf4c",
   "metadata": {},
   "outputs": [
    {
     "name": "stdout",
     "output_type": "stream",
     "text": [
      "DatetimeIndex(['2015-08-01 00:00:00', '2015-08-01 01:00:00',\n",
      "               '2015-08-01 02:00:00', '2015-08-01 03:00:00',\n",
      "               '2015-08-01 04:00:00', '2015-08-01 05:00:00',\n",
      "               '2015-08-01 06:00:00', '2015-08-01 07:00:00'],\n",
      "              dtype='datetime64[ns]', freq='h')\n"
     ]
    },
    {
     "name": "stderr",
     "output_type": "stream",
     "text": [
      "C:\\Users\\winsa\\AppData\\Local\\Temp\\ipykernel_19808\\4090014045.py:2: FutureWarning: 'H' is deprecated and will be removed in a future version, please use 'h' instead.\n",
      "  date_range = pd.date_range('2015-08-01', periods=8, freq='H')\n"
     ]
    }
   ],
   "source": [
    "# Create a sequence of hourly timestamps starting from August 1, 2024\n",
    "date_range = pd.date_range('2015-08-01', periods=8, freq='H')\n",
    "print(date_range)"
   ]
  },
  {
   "cell_type": "code",
   "execution_count": 149,
   "id": "59fbce3a-24ae-425b-b54f-7880503806cb",
   "metadata": {},
   "outputs": [
    {
     "name": "stdout",
     "output_type": "stream",
     "text": [
      "DatetimeIndex(['2015-08-01 00:00:00', '2015-08-01 01:00:00',\n",
      "               '2015-08-01 02:00:00', '2015-08-01 03:00:00',\n",
      "               '2015-08-01 04:00:00', '2015-08-01 05:00:00',\n",
      "               '2015-08-01 06:00:00', '2015-08-01 07:00:00'],\n",
      "              dtype='datetime64[ns]', freq='h')\n"
     ]
    }
   ],
   "source": [
    "# Create a sequence of hourly timestamps starting from August 1, 2024\n",
    "date_range = pd.date_range('2015-08-01', periods=8, freq='h')\n",
    "print(date_range)"
   ]
  },
  {
   "cell_type": "markdown",
   "id": "9a28e2a2-0ed8-4784-96ea-db58618102d8",
   "metadata": {},
   "source": [
    "This creates a list of 8 timestamps starting from `2024-08-01`, with one timestamp per hour"
   ]
  },
  {
   "cell_type": "markdown",
   "id": "b509e6c9-11cb-47d8-b733-2da8955ff144",
   "metadata": {},
   "source": [
    "### **Creating Regular Sequences of Periods with `pd.period_range()`**"
   ]
  },
  {
   "cell_type": "markdown",
   "id": "91643ca8-a70c-4f4e-9570-c137ef0b2dde",
   "metadata": {},
   "source": [
    "**Monthly Periods:**"
   ]
  },
  {
   "cell_type": "code",
   "execution_count": 157,
   "id": "54c76564-0e55-4005-bd83-bb251b16a844",
   "metadata": {},
   "outputs": [
    {
     "name": "stdout",
     "output_type": "stream",
     "text": [
      "PeriodIndex(['2024-08', '2024-09', '2024-10', '2024-11', '2024-12', '2025-01',\n",
      "             '2025-02', '2025-03'],\n",
      "            dtype='period[M]')\n"
     ]
    }
   ],
   "source": [
    "# Create a sequence of 8 monthly periods starting from July 2015\n",
    "period_range = pd.period_range('2024-08', periods=8, freq='M')\n",
    "print(period_range)"
   ]
  },
  {
   "cell_type": "markdown",
   "id": "cf281f51-28e9-4312-aeae-c1f05430fa13",
   "metadata": {},
   "source": [
    "This creates a list of 8 periods, each representing a month, starting from August 2024"
   ]
  },
  {
   "cell_type": "markdown",
   "id": "bcb55c6c-5709-4f8a-ae4c-e81c21fa81a8",
   "metadata": {},
   "source": [
    "### **Creating Regular Sequences of Timedelta with `pd.timedelta_range()`**"
   ]
  },
  {
   "cell_type": "markdown",
   "id": "81eb6593-ca5f-44e0-aba2-fdbe212fac23",
   "metadata": {},
   "source": [
    "**Hourly Durations:**"
   ]
  },
  {
   "cell_type": "code",
   "execution_count": 164,
   "id": "2ac7f851-4bd5-4896-ad7d-77d431dcb930",
   "metadata": {},
   "outputs": [
    {
     "name": "stdout",
     "output_type": "stream",
     "text": [
      "TimedeltaIndex(['0 days 00:00:00', '0 days 01:00:00', '0 days 02:00:00',\n",
      "                '0 days 03:00:00', '0 days 04:00:00', '0 days 05:00:00',\n",
      "                '0 days 06:00:00', '0 days 07:00:00', '0 days 08:00:00',\n",
      "                '0 days 09:00:00'],\n",
      "               dtype='timedelta64[ns]', freq='h')\n"
     ]
    }
   ],
   "source": [
    "# Create a sequence of 10 hourly durations starting from 0\n",
    "timedelta_range = pd.timedelta_range(0, periods=10, freq='h')\n",
    "print(timedelta_range)"
   ]
  },
  {
   "cell_type": "markdown",
   "id": "528be5ca-04bb-4008-b3d5-3b66d428c806",
   "metadata": {},
   "source": [
    "This creates a list of 10 durations, each representing an hour, starting from 0."
   ]
  },
  {
   "cell_type": "markdown",
   "id": "a660aaed-75c3-4972-94c7-c4989db922f9",
   "metadata": {},
   "source": [
    "- **`pd.date_range()`**: Creates a sequence of dates or timestamps, with options to specify start/end dates, number of periods, and frequency (e.g., daily, hourly).\n",
    "- **`pd.period_range()`**: Creates a sequence of periods, useful for regular intervals like months or years.\n",
    "- **`pd.timedelta_range()`**: Creates a sequence of time deltas, useful for durations or differences."
   ]
  },
  {
   "cell_type": "markdown",
   "id": "d8891cb8-1f64-422e-a73f-cd12d81d5c85",
   "metadata": {},
   "source": [
    "### **Frequencies and Offsets**\n",
    "\n",
    "Frequencies in Pandas help you define how often data points occur in a time series. Here’s a simple guide to understanding and using them:\n",
    "\n",
    "### **Common Frequency Codes**\n",
    "\n",
    "| Code | Description               |\n",
    "|------|---------------------------|\n",
    "| `D`  | Calendar day              |\n",
    "| `B`  | Business day              |\n",
    "| `W`  | Weekly                    |\n",
    "| `M`  | Month end                 |\n",
    "| `BM` | Business month end        |\n",
    "| `Q`  | Quarter end               |\n",
    "| `BQ` | Business quarter end      |\n",
    "| `A`  | Year end                  |\n",
    "| `BA` | Business year end         |\n",
    "| `H`  | Hour                      |\n",
    "| `T`  | Minute                    |\n",
    "| `S`  | Second                    |\n",
    "| `L`  | Millisecond               |\n",
    "| `U`  | Microsecond               |\n",
    "| `N`  | Nanosecond                |"
   ]
  },
  {
   "cell_type": "markdown",
   "id": "26e0f203-a510-4c57-8596-b47b980a9c05",
   "metadata": {},
   "source": [
    "### **Examples of Using Frequencies**\n",
    "\n",
    "**1. Creating a Date Range with Different Frequencies**\n",
    "\n",
    "**Daily Dates:**"
   ]
  },
  {
   "cell_type": "code",
   "execution_count": 171,
   "id": "01d22947-16bc-467c-9069-e41eb71ea3c0",
   "metadata": {},
   "outputs": [
    {
     "name": "stdout",
     "output_type": "stream",
     "text": [
      "DatetimeIndex(['2024-01-01', '2024-01-02', '2024-01-03', '2024-01-04',\n",
      "               '2024-01-05', '2024-01-06', '2024-01-07'],\n",
      "              dtype='datetime64[ns]', freq='D')\n"
     ]
    }
   ],
   "source": [
    "import pandas as pd\n",
    "\n",
    "# Create a range of daily dates\n",
    "daily_dates = pd.date_range('2024-01-01', '2024-01-07', freq='D')\n",
    "print(daily_dates)"
   ]
  },
  {
   "cell_type": "markdown",
   "id": "d0108a88-d5ee-4f9c-8900-a89ac8f5635d",
   "metadata": {},
   "source": [
    "**Weekly Dates (Starting from Sunday):**"
   ]
  },
  {
   "cell_type": "code",
   "execution_count": 174,
   "id": "aaed1120-307d-496a-a3d7-ced059fb54fd",
   "metadata": {},
   "outputs": [
    {
     "name": "stdout",
     "output_type": "stream",
     "text": [
      "DatetimeIndex(['2024-01-07', '2024-01-14', '2024-01-21', '2024-01-28',\n",
      "               '2024-02-04', '2024-02-11', '2024-02-18', '2024-02-25'],\n",
      "              dtype='datetime64[ns]', freq='W-SUN')\n"
     ]
    }
   ],
   "source": [
    "# Create a range of weekly dates\n",
    "weekly_dates = pd.date_range('2024-01-01', '2024-03-01', freq='W-SUN')\n",
    "print(weekly_dates)"
   ]
  },
  {
   "cell_type": "markdown",
   "id": "15e26a4d-f708-49b8-8e4c-648283afd2ab",
   "metadata": {},
   "source": [
    "**2. Adjusting Frequency to Start of Periods**"
   ]
  },
  {
   "cell_type": "markdown",
   "id": "b2ddd451-c202-465c-9b2a-adc3b52dd4c6",
   "metadata": {},
   "source": [
    "**Monthly Start Dates:**"
   ]
  },
  {
   "cell_type": "code",
   "execution_count": 178,
   "id": "a35a394a-e5d7-41d1-81b9-0d7e9f8b8ea5",
   "metadata": {},
   "outputs": [
    {
     "name": "stdout",
     "output_type": "stream",
     "text": [
      "DatetimeIndex(['2024-01-01', '2024-02-01', '2024-03-01', '2024-04-01',\n",
      "               '2024-05-01', '2024-06-01'],\n",
      "              dtype='datetime64[ns]', freq='MS')\n"
     ]
    }
   ],
   "source": [
    "# Create a range of monthly periods starting at the beginning of each month\n",
    "monthly_start = pd.date_range('2024-01-01', periods=6, freq='MS')\n",
    "print(monthly_start)"
   ]
  },
  {
   "cell_type": "markdown",
   "id": "4fb60afb-6ca8-4c70-9afa-6b3ccad10ee2",
   "metadata": {},
   "source": [
    "### **Combining Codes for Custom Frequencies**"
   ]
  },
  {
   "cell_type": "markdown",
   "id": "e7668d79-758a-465d-825b-7e7f6038c4f3",
   "metadata": {},
   "source": [
    "**Every 2 Hours and 30 Minutes:**"
   ]
  },
  {
   "cell_type": "code",
   "execution_count": 186,
   "id": "9e26e9ff-521e-4dce-b9c5-cffcb98ac247",
   "metadata": {},
   "outputs": [
    {
     "name": "stdout",
     "output_type": "stream",
     "text": [
      "DatetimeIndex(['2024-01-01 00:00:00', '2024-01-01 02:30:00',\n",
      "               '2024-01-01 05:00:00', '2024-01-01 07:30:00',\n",
      "               '2024-01-01 10:00:00'],\n",
      "              dtype='datetime64[ns]', freq='150min')\n"
     ]
    }
   ],
   "source": [
    "# Create a range of timestamps every 2 hours and 30 minutes\n",
    "custom_freq = pd.date_range('2024-01-01', periods=5, freq='2h30min')\n",
    "print(custom_freq)"
   ]
  },
  {
   "cell_type": "markdown",
   "id": "1538e18a-1a6c-465a-aa88-9313cb913350",
   "metadata": {},
   "source": [
    "### **Using Offsets Directly**\n",
    "\n",
    "**Business Day Offset:**"
   ]
  },
  {
   "cell_type": "code",
   "execution_count": 189,
   "id": "345a78cd-0b79-4897-9faf-7bcfc3916471",
   "metadata": {},
   "outputs": [
    {
     "name": "stdout",
     "output_type": "stream",
     "text": [
      "DatetimeIndex(['2024-01-01', '2024-01-02', '2024-01-03', '2024-01-04',\n",
      "               '2024-01-05'],\n",
      "              dtype='datetime64[ns]', freq='B')\n"
     ]
    }
   ],
   "source": [
    "from pandas.tseries.offsets import BDay\n",
    "\n",
    "# Create a range of 5 business days\n",
    "business_days = pd.date_range('2024-01-01', periods=5, freq=BDay())\n",
    "print(business_days)"
   ]
  },
  {
   "cell_type": "markdown",
   "id": "94258ad9-ab28-43b9-aa93-7eed4158b950",
   "metadata": {},
   "source": [
    "- **Frequencies**: Use codes like `D` for daily, `H` for hourly, `W` for weekly, etc., to specify the spacing between dates.\n",
    "- **Custom Frequencies**: Combine codes to create custom intervals, like `2H30T` for 2 hours and 30 minutes.\n",
    "- **Offsets**: Use functions like `BDay` for business day offsets to create specific time sequences."
   ]
  },
  {
   "cell_type": "code",
   "execution_count": null,
   "id": "382b8c33-07aa-43e9-9c66-63f81bf2e6d3",
   "metadata": {},
   "outputs": [],
   "source": []
  }
 ],
 "metadata": {
  "kernelspec": {
   "display_name": "Python 3 (ipykernel)",
   "language": "python",
   "name": "python3"
  },
  "language_info": {
   "codemirror_mode": {
    "name": "ipython",
    "version": 3
   },
   "file_extension": ".py",
   "mimetype": "text/x-python",
   "name": "python",
   "nbconvert_exporter": "python",
   "pygments_lexer": "ipython3",
   "version": "3.12.3"
  }
 },
 "nbformat": 4,
 "nbformat_minor": 5
}
