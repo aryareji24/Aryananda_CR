{
 "cells": [
  {
   "cell_type": "markdown",
   "id": "97664e32-b3fc-4ce1-85a2-060ea1c0da7a",
   "metadata": {},
   "source": [
    " # if , elif , else ,nestedif statements"
   ]
  },
  {
   "cell_type": "markdown",
   "id": "62521c58-4c1c-48a7-8323-b485b41be4f3",
   "metadata": {},
   "source": [
    "__if,elif,else statements__"
   ]
  },
  {
   "cell_type": "code",
   "execution_count": 12,
   "id": "72a4ec40-0087-4d11-b0ed-32cae33f08b6",
   "metadata": {},
   "outputs": [
    {
     "name": "stdin",
     "output_type": "stream",
     "text": [
      "Enter a number :  -9\n"
     ]
    },
    {
     "name": "stdout",
     "output_type": "stream",
     "text": [
      "num is negative\n"
     ]
    }
   ],
   "source": [
    "num = int (input(\"Enter a number : \"))\n",
    "if num > 0 :\n",
    "    print ( \"num is positive\" )\n",
    "elif num < 0 :\n",
    "    print ( \"num is negative\" )\n",
    "else :\n",
    "    print ( \"zero\" )"
   ]
  },
  {
   "cell_type": "code",
   "execution_count": 28,
   "id": "cae9c6d1-7691-4664-b7ee-58969973012d",
   "metadata": {},
   "outputs": [
    {
     "name": "stdin",
     "output_type": "stream",
     "text": [
      "Enter first number :  20\n",
      "Enter second number 2\n"
     ]
    },
    {
     "name": "stdout",
     "output_type": "stream",
     "text": [
      "a and b are not same\n"
     ]
    }
   ],
   "source": [
    "a = int (input( \"Enter first number : \"))\n",
    "b = int ( input( \"Enter second number\" ))\n",
    "if a/b == 1 :\n",
    "    print ( \"a and b are same\" )\n",
    "elif a/b != 1 :\n",
    "    print ( \"a and b are not same\" )\n",
    "else :\n",
    "    print (\"invalid\")\n"
   ]
  },
  {
   "cell_type": "markdown",
   "id": "069cd22a-7671-4249-a487-31d91846739b",
   "metadata": {},
   "source": [
    "__nested if statements__"
   ]
  },
  {
   "cell_type": "code",
   "execution_count": 40,
   "id": "e5de5ae7-bfd4-4a4c-8c49-6bae6d369892",
   "metadata": {},
   "outputs": [
    {
     "name": "stdin",
     "output_type": "stream",
     "text": [
      "Enter a number -9\n"
     ]
    },
    {
     "name": "stdout",
     "output_type": "stream",
     "text": [
      "Number is negative\n"
     ]
    }
   ],
   "source": [
    "number = int ( input ( \"Enter a number\" ))\n",
    "\n",
    "if number >= 0:\n",
    "    \n",
    "    if number == 0:\n",
    "      print('Number is 0')\n",
    "\n",
    "    else:\n",
    "        print('Number is positive')\n",
    "        \n",
    "else:\n",
    "    print('Number is negative')"
   ]
  },
  {
   "cell_type": "markdown",
   "id": "8dd0c566-d390-441b-82da-a8358cb3b125",
   "metadata": {},
   "source": [
    "# Write a function to check whether a student passed or failed his/her examination.\n",
    "ed."
   ]
  },
  {
   "cell_type": "markdown",
   "id": "23771f88-e901-48e5-8a84-ba8e77da58f5",
   "metadata": {},
   "source": [
    "* __Assume the pass marks to be 50__\n",
    "* __Return Passed if the student scored more than 50.__\n",
    "* __Otherwise, return Failed.__"
   ]
  },
  {
   "cell_type": "code",
   "execution_count": 68,
   "id": "ebc61b63-b65d-486f-a8be-211dc450bcee",
   "metadata": {},
   "outputs": [
    {
     "name": "stdin",
     "output_type": "stream",
     "text": [
      "Enter the marks :  56\n"
     ]
    },
    {
     "name": "stdout",
     "output_type": "stream",
     "text": [
      "Passed\n"
     ]
    }
   ],
   "source": [
    "mark = int ( input ( \"Enter the marks : \" ))\n",
    "if mark >= 50:\n",
    "    print ( \"Passed\" )\n",
    "else :\n",
    "    print ( \"Failed\" )"
   ]
  }
 ],
 "metadata": {
  "kernelspec": {
   "display_name": "Python 3 (ipykernel)",
   "language": "python",
   "name": "python3"
  },
  "language_info": {
   "codemirror_mode": {
    "name": "ipython",
    "version": 3
   },
   "file_extension": ".py",
   "mimetype": "text/x-python",
   "name": "python",
   "nbconvert_exporter": "python",
   "pygments_lexer": "ipython3",
   "version": "3.12.4"
  }
 },
 "nbformat": 4,
 "nbformat_minor": 5
}
