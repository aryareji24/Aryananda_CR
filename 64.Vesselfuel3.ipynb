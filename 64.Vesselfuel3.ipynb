{
 "cells": [
  {
   "cell_type": "code",
   "execution_count": 1,
   "id": "83751260-5005-4996-8931-56b329e69789",
   "metadata": {},
   "outputs": [],
   "source": [
    "import pandas as pd\n",
    "\n",
    "path = 'C:\\\\Users\\\\winsa\\\\Downloads\\\\Vessel_1_Report_3_Fuel.csv'\n",
    "df = pd.read_csv(path)"
   ]
  },
  {
   "cell_type": "code",
   "execution_count": 3,
   "id": "ce0ba1db-f847-479a-98da-afa2e5d888af",
   "metadata": {},
   "outputs": [],
   "source": [
    "df['status'] = df['status'].ffill()\n",
    " \n",
    "previous_status = None\n",
    "# Iterate through the DataFrame and update 'DRIFTING' to 'AT_SEA' if preceded by 'IN_PORT'\n",
    "for i in range(len(df)):\n",
    "    if previous_status == 'IN_PORT' and df.loc[i, 'status'] == 'DRIFTING':\n",
    "        df.loc[i, 'status'] = 'AT_SEA'\n",
    "    previous_status = df.loc[i, 'status']\n",
    "df.head(20)\n",
    "df.to_excel('main.xlsx')"
   ]
  },
  {
   "cell_type": "code",
   "execution_count": 5,
   "id": "04973ccc-4c2e-46c4-affe-103a2c5f0a9b",
   "metadata": {},
   "outputs": [],
   "source": [
    "import pandas as pd\n",
    "\n",
    "df['report_date_time']=pd.to_datetime(df['report_date_time'], format='%d-%m-%Y %H:%M')\n",
    "def result_datetime(df, datetime_col='report_date_time'):\n",
    "    df[datetime_col] = pd.to_datetime(df[datetime_col])\n",
    "\n",
    "    df['Date'] = df[datetime_col].dt.date\n",
    "    df['Time'] = df[datetime_col].dt.time\n",
    "    df['Timetz'] = df[datetime_col].dt.timetz\n",
    "    df['Year'] = df[datetime_col].dt.year\n",
    "    df['Month'] = df[datetime_col].dt.month\n",
    "    df['Quarter'] = df[datetime_col].dt.quarter\n",
    "    df['Day'] = df[datetime_col].dt.day\n",
    "    df['Hour'] = df[datetime_col].dt.hour\n",
    "    df['Minute'] = df[datetime_col].dt.minute\n",
    "    df['Second'] = df[datetime_col].dt.second\n",
    "    df['Microsecond'] = df[datetime_col].dt.microsecond\n",
    "    df['Nanosecond'] = df[datetime_col].dt.nanosecond\n",
    "    df['Dayofweek'] = df[datetime_col].dt.dayofweek\n",
    "    df['Day_of_week'] = df[datetime_col].dt.day_of_week\n",
    "    df['weekday'] = df[datetime_col].dt.weekday\n",
    "    df['dayofyear'] = df[datetime_col].dt.dayofyear\n",
    "    df['days_in_month'] = df[datetime_col].dt.days_in_month\n",
    "    df['month_start'] = df[datetime_col].dt.is_month_start\n",
    "    df['month_end'] = df[datetime_col].dt.is_month_end\n",
    "    df['quarter_start'] = df[datetime_col].dt.is_quarter_start\n",
    "    df['quarter_end'] = df[datetime_col].dt.is_quarter_end\n",
    "    df['is_year_start'] = df[datetime_col].dt.is_year_start\n",
    "    df['is_year_end'] = df[datetime_col].dt.is_year_end\n",
    "    df['is_leap_year'] = df[datetime_col].dt.is_leap_year\n",
    "    df['daysinmonth'] = df[datetime_col].dt.daysinmonth\n",
    "    df['period'] = df[datetime_col].dt.to_period('M')\n",
    "    df['strftime'] = df[datetime_col].dt.strftime('%a')\n",
    "    df['Round'] = df[datetime_col].dt.round(freq='h')\n",
    "    df['Floor'] = df[datetime_col].dt.floor('h')\n",
    "    df['Ceil'] = df[datetime_col].dt.ceil('h')\n",
    "    df['Month_Name'] = df[datetime_col].dt.month_name()\n",
    "    df['Day_Name'] = df[datetime_col].dt.day_name()\n",
    "    return df\n",
    "df = result_datetime(df)\n",
    "df.to_excel('main.xlsx')"
   ]
  },
  {
   "cell_type": "code",
   "execution_count": 21,
   "id": "f16dac57-c90d-414e-be60-302940b82e7c",
   "metadata": {},
   "outputs": [],
   "source": [
    "df['Total_Calculated_Sum'] = df['me_con']+df['ae_con']+df['bl_con']\n",
    "df['Final_Total_FO'] = df[['me_con', 'ae_con', 'bl_con']].sum(axis=1)\n",
    "# If Main engine, Auxiliary engine, or Boiler consumption is zero, use the existing Total fuel oil consumption\n",
    "df.loc[(df[['me_con', 'ae_con', 'bl_con']] == 0).all(axis=1), 'Final_Total_FO'] = df['total_fo']\n",
    "\n",
    "df['total_fo'] = df['Final_Total_FO']\n",
    "df.to_excel('main.xlsx')"
   ]
  },
  {
   "cell_type": "code",
   "execution_count": 7,
   "id": "794b1fcd-5a53-4b3a-a46c-68df5ac997dc",
   "metadata": {},
   "outputs": [],
   "source": [
    "df['report_date_time'] = pd.to_datetime(df['report_date_time'], format='%d-%m-%Y %H:%M')\n",
    "df['year'] = df['report_date_time'].dt.year\n",
    "annual_totals = df.groupby(['year'])[['me_con', 'ae_con', 'bl_con']].sum().reset_index()\n",
    "df.to_excel('main.xlsx')"
   ]
  },
  {
   "cell_type": "code",
   "execution_count": 9,
   "id": "75064b6a-3c9c-4a60-9106-af7ef89c7eae",
   "metadata": {},
   "outputs": [],
   "source": [
    "df['report_date_time'] = pd.to_datetime(df['report_date_time'], format='%d-%m-%Y %H:%M')\n",
    "df['year'] = df['report_date_time'].dt.year\n",
    "df['month'] = df['report_date_time'].dt.month\n",
    "annual_totals = df.groupby(['year','month'])[['me_con', 'ae_con', 'bl_con']].sum().reset_index()\n",
    "df.to_excel('main.xlsx')"
   ]
  },
  {
   "cell_type": "code",
   "execution_count": 11,
   "id": "c982e194-f4c6-40d1-aa4a-e1cfe8dd845b",
   "metadata": {},
   "outputs": [],
   "source": [
    "df['report_date_time'] = pd.to_datetime(df['report_date_time'], format='%d-%m-%Y %H:%M')\n",
    "df['day'] = df['report_date_time'].dt.strftime('%A')\n",
    "day_wise_sum = df.groupby(['Year','Month','day'])[['me_con','ae_con','bl_con']].sum().reset_index()\n",
    "df.to_excel('main.xlsx')"
   ]
  },
  {
   "cell_type": "code",
   "execution_count": 17,
   "id": "94b43eb4-750c-43d0-860d-98449d6bb439",
   "metadata": {},
   "outputs": [],
   "source": [
    "df['report_date_time'] = pd.to_datetime(df['report_date_time'], format='%d-%m-%Y %H:%M')\n",
    "df['month'] = df['report_date_time'].dt.month\n",
    "monthly_total = df.groupby('month')[['me_con','ae_con','bl_con']].sum().reset_index()\n",
    "df.to_excel('main.xlsx')"
   ]
  },
  {
   "cell_type": "code",
   "execution_count": 18,
   "id": "b815e480-6960-42ff-911b-ca558e6b4c3a",
   "metadata": {},
   "outputs": [],
   "source": [
    "df['report_date_time'] = pd.to_datetime(df['report_date_time'], format='%d-%m-%Y %H:%M')\n",
    "quarterly = df.groupby(['month','Month_Name','year','Quarter']).agg({\n",
    "    'me_con' : 'sum',\n",
    "    'ae_con' : 'sum',\n",
    "    'bl_con' : 'sum'\n",
    "})\n",
    "df.to_excel('main.xlsx')"
   ]
  },
  {
   "cell_type": "code",
   "execution_count": null,
   "id": "03f1dd54-2ec9-45c6-a149-516b7713eefa",
   "metadata": {},
   "outputs": [],
   "source": []
  }
 ],
 "metadata": {
  "kernelspec": {
   "display_name": "Python 3 (ipykernel)",
   "language": "python",
   "name": "python3"
  },
  "language_info": {
   "codemirror_mode": {
    "name": "ipython",
    "version": 3
   },
   "file_extension": ".py",
   "mimetype": "text/x-python",
   "name": "python",
   "nbconvert_exporter": "python",
   "pygments_lexer": "ipython3",
   "version": "3.12.3"
  }
 },
 "nbformat": 4,
 "nbformat_minor": 5
}
