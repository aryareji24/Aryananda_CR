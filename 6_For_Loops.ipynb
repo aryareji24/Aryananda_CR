{
 "cells": [
  {
   "cell_type": "markdown",
   "id": "1b255cbb-5e1b-46b4-8d6a-6e5190eeec03",
   "metadata": {},
   "source": [
    "# Python for loops"
   ]
  },
  {
   "cell_type": "markdown",
   "id": "50b834b3-8260-4806-9724-0157839a0a0e",
   "metadata": {},
   "source": [
    "EXAMPLE_1"
   ]
  },
  {
   "cell_type": "code",
   "execution_count": 4,
   "id": "c96ee7da-c393-46e6-8aa5-0db6dd5b5307",
   "metadata": {},
   "outputs": [
    {
     "name": "stdout",
     "output_type": "stream",
     "text": [
      "apple\n",
      "orange\n"
     ]
    }
   ],
   "source": [
    "a = [ 'apple' , 'orange' ]\n",
    "for i in a:\n",
    "    print (i)"
   ]
  },
  {
   "cell_type": "markdown",
   "id": "6715fd69-291e-4846-99e4-4db19eff2467",
   "metadata": {},
   "source": [
    "EXAMPLE_2"
   ]
  },
  {
   "cell_type": "code",
   "execution_count": 9,
   "id": "6121d861-fdaf-44d7-92c4-bceebfd19d21",
   "metadata": {},
   "outputs": [
    {
     "name": "stdout",
     "output_type": "stream",
     "text": [
      "p\n",
      "y\n",
      "t\n",
      "h\n",
      "o\n",
      "n\n"
     ]
    }
   ],
   "source": [
    "element = 'python'\n",
    "for i in element:\n",
    "    print (i)"
   ]
  },
  {
   "cell_type": "markdown",
   "id": "61b3a5d7-310e-47f3-abf5-17425b429855",
   "metadata": {},
   "source": [
    "EXAMPLE_3"
   ]
  },
  {
   "cell_type": "code",
   "execution_count": 14,
   "id": "1c2c7161-551d-413f-8324-93162a97e757",
   "metadata": {},
   "outputs": [
    {
     "name": "stdout",
     "output_type": "stream",
     "text": [
      "0\n",
      "1\n",
      "2\n"
     ]
    }
   ],
   "source": [
    "for i in range(3):\n",
    "    print (i)"
   ]
  },
  {
   "cell_type": "markdown",
   "id": "1609038f-1549-4725-921d-97555decfae6",
   "metadata": {},
   "source": [
    "EXAMPLE_4"
   ]
  },
  {
   "cell_type": "code",
   "execution_count": 19,
   "id": "aeecae05-6b99-477b-a0f8-81203a14eafc",
   "metadata": {},
   "outputs": [
    {
     "name": "stdout",
     "output_type": "stream",
     "text": [
      "0\n",
      "1\n",
      "2\n",
      "3\n",
      "4\n",
      "5\n",
      "6\n",
      "7\n"
     ]
    }
   ],
   "source": [
    "for i in range(8):\n",
    "    print (i)"
   ]
  },
  {
   "cell_type": "markdown",
   "id": "3f58c630-1285-4b2a-a93a-11ba88d90ea9",
   "metadata": {},
   "source": [
    "EXAMPLE_5\n"
   ]
  },
  {
   "cell_type": "code",
   "execution_count": null,
   "id": "630bc949-6663-4414-b01c-116c7d4490ec",
   "metadata": {},
   "outputs": [],
   "source": []
  }
 ],
 "metadata": {
  "kernelspec": {
   "display_name": "Python 3 (ipykernel)",
   "language": "python",
   "name": "python3"
  },
  "language_info": {
   "codemirror_mode": {
    "name": "ipython",
    "version": 3
   },
   "file_extension": ".py",
   "mimetype": "text/x-python",
   "name": "python",
   "nbconvert_exporter": "python",
   "pygments_lexer": "ipython3",
   "version": "3.12.4"
  }
 },
 "nbformat": 4,
 "nbformat_minor": 5
}
