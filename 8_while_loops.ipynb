{
 "cells": [
  {
   "cell_type": "markdown",
   "id": "9df0b154-eb75-49a0-84f4-c78ad3bf52c2",
   "metadata": {},
   "source": [
    "# While loop in python"
   ]
  },
  {
   "cell_type": "markdown",
   "id": "8dc71efe-1654-4bd7-8610-c1fa08dafacc",
   "metadata": {},
   "source": [
    "__Example_1__"
   ]
  },
  {
   "cell_type": "code",
   "execution_count": 8,
   "id": "a2bf3147-f16d-4b68-ae20-2dc24a064068",
   "metadata": {},
   "outputs": [
    {
     "name": "stdout",
     "output_type": "stream",
     "text": [
      "1\n",
      "2\n",
      "3\n"
     ]
    }
   ],
   "source": [
    "num = 1\n",
    "while num <= 3:\n",
    "    print( num )\n",
    "    num = num + 1"
   ]
  },
  {
   "cell_type": "markdown",
   "id": "dd89bbac-d998-4f5f-b752-ab8a522d1464",
   "metadata": {},
   "source": [
    "__Example_2__ \n",
    "_Calculate the sum of numbers until user enters 0_"
   ]
  },
  {
   "cell_type": "code",
   "execution_count": 6,
   "id": "2c23cd7c-a0aa-4028-9cee-39f41e788021",
   "metadata": {},
   "outputs": [
    {
     "name": "stdin",
     "output_type": "stream",
     "text": [
      "Enter a:  7\n",
      "Enter a: 8\n",
      "Enter a: 5\n",
      "Enter a: 0\n"
     ]
    },
    {
     "name": "stdout",
     "output_type": "stream",
     "text": [
      "Sum is:  20\n"
     ]
    }
   ],
   "source": [
    "a = int(input( \"Enter a: \" ))\n",
    "total = 0\n",
    "while a != 0:\n",
    "    total = total+a\n",
    "    a = int(input( \"Enter a:\" ))\n",
    "print ( \"Sum is: \",total)"
   ]
  },
  {
   "cell_type": "markdown",
   "id": "d0eeefd7-5957-442e-b01c-31a41e81cdf1",
   "metadata": {},
   "source": [
    "__infinite while loop__"
   ]
  },
  {
   "cell_type": "code",
   "execution_count": null,
   "id": "80b057d6-aadf-4030-999f-e5c63d43aace",
   "metadata": {},
   "outputs": [],
   "source": [
    "x = int(input( \"Enter your age : \" ))\n",
    "while x>18:\n",
    "    print ( \"You Can Vote\")\n",
    "\n"
   ]
  }
 ],
 "metadata": {
  "kernelspec": {
   "display_name": "Python 3 (ipykernel)",
   "language": "python",
   "name": "python3"
  },
  "language_info": {
   "codemirror_mode": {
    "name": "ipython",
    "version": 3
   },
   "file_extension": ".py",
   "mimetype": "text/x-python",
   "name": "python",
   "nbconvert_exporter": "python",
   "pygments_lexer": "ipython3",
   "version": "3.12.4"
  }
 },
 "nbformat": 4,
 "nbformat_minor": 5
}
