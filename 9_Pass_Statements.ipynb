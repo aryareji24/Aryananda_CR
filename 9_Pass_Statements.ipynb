{
 "cells": [
  {
   "cell_type": "markdown",
   "id": "94db6743-674d-45a3-9a23-53f151abd6fd",
   "metadata": {},
   "source": []
  },
  {
   "cell_type": "markdown",
   "id": "65ac9271-75f2-4bdd-b80e-46e4f2c07cef",
   "metadata": {},
   "source": [
    "__Example!__\n"
   ]
  },
  {
   "cell_type": "code",
   "execution_count": 7,
   "id": "dbe22e4c-ab47-4501-8441-5810d39bc84d",
   "metadata": {},
   "outputs": [
    {
     "name": "stdout",
     "output_type": "stream",
     "text": [
      "Hello\n"
     ]
    }
   ],
   "source": [
    "m = 10\n",
    "\n",
    "if m > 10:\n",
    "    pass\n",
    "print( \"Hello\" )"
   ]
  },
  {
   "cell_type": "code",
   "execution_count": null,
   "id": "38c8916a-8128-4b6e-8db1-b3131bfffb57",
   "metadata": {},
   "outputs": [],
   "source": []
  }
 ],
 "metadata": {
  "kernelspec": {
   "display_name": "Python 3 (ipykernel)",
   "language": "python",
   "name": "python3"
  },
  "language_info": {
   "codemirror_mode": {
    "name": "ipython",
    "version": 3
   },
   "file_extension": ".py",
   "mimetype": "text/x-python",
   "name": "python",
   "nbconvert_exporter": "python",
   "pygments_lexer": "ipython3",
   "version": "3.12.4"
  }
 },
 "nbformat": 4,
 "nbformat_minor": 5
}
