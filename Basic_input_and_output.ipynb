{
 "cells": [
  {
   "cell_type": "code",
   "execution_count": 1,
   "id": "2157e76e-4635-420f-8c92-070e364cb1d2",
   "metadata": {},
   "outputs": [
    {
     "name": "stdout",
     "output_type": "stream",
     "text": [
      "Hai!\n",
      "Everyone\n"
     ]
    }
   ],
   "source": [
    "# python basic input and output\n",
    "\n",
    "# eg1\n",
    "print ('Hai!')\n",
    "print ('Everyone')\n"
   ]
  },
  {
   "cell_type": "code",
   "execution_count": 3,
   "id": "21ec23be-6eca-4de6-a06c-8b463b6c17c7",
   "metadata": {},
   "outputs": [
    {
     "name": "stdout",
     "output_type": "stream",
     "text": [
      "Hai!Everyone\n"
     ]
    }
   ],
   "source": [
    "# eg2 using end parameter\n",
    "print ('Hai!',end ='')\n",
    "print ('Everyone')"
   ]
  },
  {
   "cell_type": "code",
   "execution_count": null,
   "id": "78bc9807-4cc3-4bfa-89df-c3f5aaa34709",
   "metadata": {},
   "outputs": [],
   "source": [
    "# eg3 using sep parameter\n",
    "print ('Hai!',2024,'!','Hope this year will be your turning point',sep = '.')\n"
   ]
  },
  {
   "cell_type": "code",
   "execution_count": 23,
   "id": "f6388e58-7c81-4190-a5f1-f0ffab6e0f16",
   "metadata": {},
   "outputs": [
    {
     "name": "stdout",
     "output_type": "stream",
     "text": [
      "The value of x is 2 and y is 5\n"
     ]
    }
   ],
   "source": [
    "# eg5 output formatting\n",
    "\n",
    "x = 2\n",
    "y = 5\n",
    "print (\"The value of x is {} and y is {}\".format(x,y))"
   ]
  },
  {
   "cell_type": "code",
   "execution_count": 27,
   "id": "799c341c-4b8b-4ba3-b188-f43eeab84e2e",
   "metadata": {},
   "outputs": [
    {
     "name": "stdout",
     "output_type": "stream",
     "text": [
      "The value of a is 10 and b is 20\n"
     ]
    }
   ],
   "source": [
    "a = 10\n",
    "b = 20\n",
    "print ( \"The value of a is {} and b is {}\".format(a,b))"
   ]
  },
  {
   "cell_type": "code",
   "execution_count": 39,
   "id": "d189be03-d823-40f6-9aba-97bb147525eb",
   "metadata": {},
   "outputs": [
    {
     "name": "stdin",
     "output_type": "stream",
     "text": [
      "Enter :  89\n"
     ]
    },
    {
     "name": "stdout",
     "output_type": "stream",
     "text": [
      "The data type of entered value is :  <class 'int'>\n"
     ]
    }
   ],
   "source": [
    "# input prompt\n",
    "\n",
    "num = int (input ( \"Enter : \" ))\n",
    "print ( \"The data type of entered value is : \",type(num))"
   ]
  }
 ],
 "metadata": {
  "kernelspec": {
   "display_name": "Python 3 (ipykernel)",
   "language": "python",
   "name": "python3"
  },
  "language_info": {
   "codemirror_mode": {
    "name": "ipython",
    "version": 3
   },
   "file_extension": ".py",
   "mimetype": "text/x-python",
   "name": "python",
   "nbconvert_exporter": "python",
   "pygments_lexer": "ipython3",
   "version": "3.12.4"
  }
 },
 "nbformat": 4,
 "nbformat_minor": 5
}
