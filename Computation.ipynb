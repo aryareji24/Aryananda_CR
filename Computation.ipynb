{
 "cells": [
  {
   "cell_type": "markdown",
   "id": "c82167a7-7296-427b-b307-90421b2b2f4b",
   "metadata": {},
   "source": [
    "# Computation on NumPy arrays"
   ]
  },
  {
   "cell_type": "markdown",
   "id": "a8786769-21f3-4f5a-b20f-9596f046269a",
   "metadata": {},
   "source": [
    "### 1. **Universal Functions (ufuncs)**\n",
    "\n",
    "**Universal functions** are functions that operate element-wise on arrays. They are optimized to handle large data sets efficiently. Some common ufuncs include mathematical functions, statistical functions, and logical operations."
   ]
  },
  {
   "cell_type": "markdown",
   "id": "86e31beb-098b-436d-80d9-8becd615ebbf",
   "metadata": {},
   "source": [
    "#### Examples:"
   ]
  },
  {
   "cell_type": "code",
   "execution_count": 18,
   "id": "ac9efba2-e099-469c-84dd-86a325ff1198",
   "metadata": {},
   "outputs": [
    {
     "name": "stdout",
     "output_type": "stream",
     "text": [
      "[5 7 9]\n",
      "[1.         1.41421356 1.73205081]\n",
      "[ 2.71828183  7.3890561  20.08553692]\n",
      "2.0\n",
      "0.816496580927726\n",
      "[False  True False]\n"
     ]
    }
   ],
   "source": [
    "\n",
    "import numpy as np\n",
    "\n",
    "# Arrays\n",
    "a = np.array([1, 2, 3])\n",
    "b = np.array([4, 5, 6])\n",
    "\n",
    "\n",
    "sum_result = np.add(a, b)\n",
    "print(sum_result)\n",
    "\n",
    "sqrt_result = np.sqrt(a) \n",
    "print(sqrt_result)\n",
    "exp_result = np.exp(a)\n",
    "print(exp_result)\n",
    "\n",
    "# Statistical ufuncs\n",
    "mean_result = np.mean(a)       \n",
    "std_result = np.std(a)\n",
    "print(mean_result)\n",
    "print(std_result) \n",
    "\n",
    "# Logical ufuncs\n",
    "logical_and_result = np.logical_and(a > 1, b < 6)  \n",
    "print(logical_and_result)"
   ]
  },
  {
   "cell_type": "markdown",
   "id": "71b7b01e-0150-4ae8-8c8b-cf2d540dcf5e",
   "metadata": {},
   "source": [
    "### Mean"
   ]
  },
  {
   "cell_type": "code",
   "execution_count": 1,
   "id": "5f8a7436-2af1-4931-a193-5b3714be89ed",
   "metadata": {},
   "outputs": [
    {
     "name": "stdout",
     "output_type": "stream",
     "text": [
      "3.0\n"
     ]
    }
   ],
   "source": [
    "import numpy as np\n",
    "data = np.array([1, 2, 3, 4, 5])\n",
    "mean = np.mean(data)\n",
    "print(mean)  \n"
   ]
  },
  {
   "cell_type": "code",
   "execution_count": null,
   "id": "e85c8ec7-7dcb-427f-a268-5f5cecf24c67",
   "metadata": {},
   "outputs": [],
   "source": []
  },
  {
   "cell_type": "markdown",
   "id": "07548be1-b0b7-4fae-8d17-1f00922c2458",
   "metadata": {},
   "source": [
    "### 2. **Broadcasting**\n",
    "\n",
    "**Broadcasting** allows NumPy to perform arithmetic operations on arrays of different shapes by \"stretching\" the smaller array across the larger array. This is done efficiently without the need for explicit replication of data."
   ]
  },
  {
   "cell_type": "markdown",
   "id": "cb986b37-442a-4d4a-832c-5dc9cfdf8a03",
   "metadata": {},
   "source": [
    "#### Example:"
   ]
  },
  {
   "cell_type": "code",
   "execution_count": 23,
   "id": "0af3510a-322c-4cb1-ab9c-8c50f09614c5",
   "metadata": {},
   "outputs": [
    {
     "name": "stdout",
     "output_type": "stream",
     "text": [
      "[[5 6 7]\n",
      " [6 7 8]\n",
      " [7 8 9]]\n"
     ]
    }
   ],
   "source": [
    "# Arrays with different shapes\n",
    "a = np.array([1, 2, 3])\n",
    "b = np.array([[4], [5], [6]])\n",
    "\n",
    "# Broadcasting\n",
    "result = a + b  \n",
    "print(result)"
   ]
  },
  {
   "cell_type": "markdown",
   "id": "2d78c661-5d4a-4f66-854d-ba2c7436d82c",
   "metadata": {},
   "source": [
    "### 3. **Aggregation and Reduction**\n",
    "\n",
    "**Aggregation functions** reduce the dimensionality of arrays by summarizing data, such as summing, averaging, or finding the maximum value."
   ]
  },
  {
   "cell_type": "markdown",
   "id": "039bd3c8-bad4-4cda-b403-7fe31c85c30d",
   "metadata": {},
   "source": [
    "\n",
    "#### Examples:"
   ]
  },
  {
   "cell_type": "code",
   "execution_count": 30,
   "id": "c7cafc87-d80e-4002-9c18-45613161a6a8",
   "metadata": {},
   "outputs": [
    {
     "name": "stdout",
     "output_type": "stream",
     "text": [
      "21\n",
      "[5 7 9]\n",
      "[2. 5.]\n",
      "6\n",
      "1\n"
     ]
    }
   ],
   "source": [
    "# Arrays\n",
    "a = np.array([[1, 2, 3], [4, 5, 6]])\n",
    "\n",
    "# Aggregation functions\n",
    "sum_all = np.sum(a)               \n",
    "sum_axis0 = np.sum(a, axis=0)     # Sum of columns\n",
    "mean_axis1 = np.mean(a, axis=1)    # Mean of rows\n",
    "max_value = np.max(a)            \n",
    "min_value = np.min(a)  \n",
    "print(sum_all)\n",
    "print(sum_axis0)\n",
    "print(mean_axis1)\n",
    "print(max_value)\n",
    "print(min_value)\n"
   ]
  },
  {
   "cell_type": "markdown",
   "id": "cf55c53c-0815-4efd-adf2-b7fb7e395458",
   "metadata": {},
   "source": [
    "### 4. **Element-wise Operations**\n",
    "\n",
    "**Element-wise operations** apply a function to each element of an array individually, allowing for efficient computation without explicit loops.\n",
    "\n",
    "\n"
   ]
  },
  {
   "cell_type": "markdown",
   "id": "8a9b59f5-6155-45d5-a8c8-c303d60a49e7",
   "metadata": {},
   "source": [
    "#### Examples:"
   ]
  },
  {
   "cell_type": "code",
   "execution_count": 36,
   "id": "ce7bb825-c9e6-429d-8e2a-e958787c84b1",
   "metadata": {},
   "outputs": [
    {
     "name": "stdout",
     "output_type": "stream",
     "text": [
      "[1 4 9]\n",
      "[1 0 0]\n"
     ]
    }
   ],
   "source": [
    "\n",
    "# Arrays\n",
    "a = np.array([1, 2, 3])\n",
    "\n",
    "# Element-wise operations\n",
    "squared = np.power(a, 2) \n",
    "reciprocal = np.reciprocal(a)  \n",
    "print(squared)\n",
    "print(reciprocal)"
   ]
  },
  {
   "cell_type": "markdown",
   "id": "871b4ad4-2c56-4e60-a56b-796044a26359",
   "metadata": {},
   "source": [
    "\n",
    "### 5. **Aggregate Functions on Multidimensional Arrays**\n",
    "\n",
    "For multidimensional arrays, you can specify the axis along which the aggregation should be performed, allowing for more granular data summarization.\n",
    "\n",
    "\n",
    "\n"
   ]
  },
  {
   "cell_type": "markdown",
   "id": "a206b829-066d-4408-8ebb-bb424262c59e",
   "metadata": {},
   "source": [
    "#### Examples:"
   ]
  },
  {
   "cell_type": "code",
   "execution_count": 42,
   "id": "0145e617-ae91-427c-801f-41769727744c",
   "metadata": {},
   "outputs": [
    {
     "name": "stdout",
     "output_type": "stream",
     "text": [
      "[[ 6  8]\n",
      " [10 12]]\n",
      "[[ 4  6]\n",
      " [12 14]]\n",
      "[[ 3  7]\n",
      " [11 15]]\n"
     ]
    }
   ],
   "source": [
    "\n",
    "# 3D array\n",
    "array_3d = np.array([[[1, 2], [3, 4]], [[5, 6], [7, 8]]])\n",
    "\n",
    "# Sum along different axes\n",
    "sum_axis0 = np.sum(array_3d, axis=0) \n",
    "sum_axis1 = np.sum(array_3d, axis=1)  \n",
    "sum_axis2 = np.sum(array_3d, axis=2) \n",
    "print(sum_axis0)\n",
    "print(sum_axis1)\n",
    "print(sum_axis2)"
   ]
  },
  {
   "cell_type": "code",
   "execution_count": null,
   "id": "ba7e6718-8f6f-4597-92be-3e2f0446baf9",
   "metadata": {},
   "outputs": [],
   "source": [
    "\n",
    "### 6. **Advanced Ufuncs**\n",
    "\n",
    "NumPy also supports more advanced universal functions for specific needs:\n",
    "\n",
    "- **Trigonometric functions**: `np.sin()`, `np.cos()`, `np.tan()`\n",
    "- **Hyperbolic functions**: `np.sinh()`, `np.cosh()`, `np.tanh()`\n",
    "- **Special functions**: `np.gamma()`, `np.log10()`, `np.erf()`\n",
    "\n",
    "\n"
   ]
  },
  {
   "cell_type": "markdown",
   "id": "f30ae0e2-c2fd-47bf-9efd-a3266c76d080",
   "metadata": {},
   "source": [
    "\n",
    "#### Example:"
   ]
  },
  {
   "cell_type": "code",
   "execution_count": 49,
   "id": "230aca77-4da9-4979-b4aa-d4768dccdbff",
   "metadata": {},
   "outputs": [
    {
     "name": "stdout",
     "output_type": "stream",
     "text": [
      "[0.0000000e+00 1.0000000e+00 1.2246468e-16]\n",
      "[0.         1.17520119 3.62686041]\n"
     ]
    }
   ],
   "source": [
    "\n",
    "# Trigonometric functions\n",
    "angles = np.array([0, np.pi/2, np.pi])\n",
    "sin_values = np.sin(angles)  \n",
    "print(sin_values)\n",
    "\n",
    "# Hyperbolic functions\n",
    "x = np.array([0, 1, 2])\n",
    "sinh_values = np.sinh(x) \n",
    "print(sinh_values)\n"
   ]
  },
  {
   "cell_type": "markdown",
   "id": "9b8f4b89-e5de-44b6-b7d0-d0a8896f56f7",
   "metadata": {},
   "source": [
    "### 7. **Conditional Operations**\n",
    "\n",
    "**Conditional operations** involve applying conditions to arrays, often with boolean indexing or `np.where()`:\n"
   ]
  },
  {
   "cell_type": "code",
   "execution_count": 55,
   "id": "16647acf-d024-4140-96e9-88d95d8a9709",
   "metadata": {},
   "outputs": [
    {
     "name": "stdout",
     "output_type": "stream",
     "text": [
      "[3 4 5]\n",
      "['Smaller' 'Smaller' 'Smaller' 'Greater' 'Greater']\n"
     ]
    }
   ],
   "source": [
    "\n",
    "# Arrays\n",
    "a = np.array([1, 2, 3, 4, 5])\n",
    "\n",
    "# Conditional selection\n",
    "filtered = a[a > 2]  \n",
    "print(filtered)\n",
    "\n",
    "# Conditional operation with np.where\n",
    "result = np.where(a > 3, 'Greater', 'Smaller') \n",
    "print(result)"
   ]
  },
  {
   "cell_type": "markdown",
   "id": "a8447026-a7df-433a-bc42-cd1593e4575a",
   "metadata": {},
   "source": [
    "Universal computation on NumPy arrays involves using **ufuncs** for efficient element-wise operations, leveraging **broadcasting** for operations on arrays of different shapes, performing **aggregation** and **reduction** to summarize data, and applying **conditional operations** for filtering and modifying arrays based on specific criteria. Understanding and utilizing these operations effectively allows you to perform complex computations efficiently and concisely."
   ]
  },
  {
   "cell_type": "code",
   "execution_count": null,
   "id": "8791d8ce-d60f-41cc-8311-3adc8dadef7d",
   "metadata": {},
   "outputs": [],
   "source": []
  }
 ],
 "metadata": {
  "kernelspec": {
   "display_name": "Python 3 (ipykernel)",
   "language": "python",
   "name": "python3"
  },
  "language_info": {
   "codemirror_mode": {
    "name": "ipython",
    "version": 3
   },
   "file_extension": ".py",
   "mimetype": "text/x-python",
   "name": "python",
   "nbconvert_exporter": "python",
   "pygments_lexer": "ipython3",
   "version": "3.12.3"
  }
 },
 "nbformat": 4,
 "nbformat_minor": 5
}
