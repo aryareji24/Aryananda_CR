{
 "cells": [
  {
   "cell_type": "markdown",
   "id": "ad92cb64-b385-4183-a382-cead621035f9",
   "metadata": {},
   "source": [
    "# Problem 3"
   ]
  },
  {
   "cell_type": "markdown",
   "id": "818e74f6-9256-454e-aa66-eea6865d4e9a",
   "metadata": {},
   "source": [
    "__ Find maximum and minimum among three numbers __"
   ]
  },
  {
   "cell_type": "code",
   "execution_count": 52,
   "id": "3a846596-fed3-4f06-a6c6-2a1fbb488884",
   "metadata": {},
   "outputs": [
    {
     "name": "stdin",
     "output_type": "stream",
     "text": [
      "Enter x:  1\n",
      "Enter y:  2\n",
      "Enter z:  3\n"
     ]
    },
    {
     "name": "stdout",
     "output_type": "stream",
     "text": [
      "z is largest\n",
      "x is smallest\n"
     ]
    }
   ],
   "source": [
    "x = int(input(\"Enter x: \"))\n",
    "y = int(input(\"Enter y: \"))\n",
    "z = int(input(\"Enter z: \"))\n",
    "\n",
    "if x<y and y>z:\n",
    "    print(\"y is largest\")\n",
    "    if x>z:\n",
    "        print(\"z is smallest\")\n",
    "elif y<x and x>z:\n",
    "    print(\"x is largest\")\n",
    "    if y<z:\n",
    "        print(\"y is smallest\")\n",
    "elif x<z and z>y:\n",
    "    print(\"z is largest\")\n",
    "    if x<y:\n",
    "        print(\"x is smallest\")\n",
    "else :\n",
    "    print( \"invalid\" )\n"
   ]
  },
  {
   "cell_type": "code",
   "execution_count": null,
   "id": "873d702c-39b7-471e-8885-4be1910b7df0",
   "metadata": {},
   "outputs": [],
   "source": []
  }
 ],
 "metadata": {
  "kernelspec": {
   "display_name": "Python 3 (ipykernel)",
   "language": "python",
   "name": "python3"
  },
  "language_info": {
   "codemirror_mode": {
    "name": "ipython",
    "version": 3
   },
   "file_extension": ".py",
   "mimetype": "text/x-python",
   "name": "python",
   "nbconvert_exporter": "python",
   "pygments_lexer": "ipython3",
   "version": "3.12.4"
  }
 },
 "nbformat": 4,
 "nbformat_minor": 5
}
