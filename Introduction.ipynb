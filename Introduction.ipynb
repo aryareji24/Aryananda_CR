{
 "cells": [
  {
   "cell_type": "markdown",
   "id": "8d9accb5-e091-4ab5-9005-15723e4fd318",
   "metadata": {},
   "source": [
    "# What is Pandas ?"
   ]
  },
  {
   "cell_type": "markdown",
   "id": "98f716ec-bfb2-4333-96c7-bb7e45e8484c",
   "metadata": {},
   "source": [
    "*  Pandas is a python library function used for working with data set.\n",
    "*  Pandas has function for analyzing,cleaning and manipulation of data.\n",
    "*  created by WasMcKinney in 2008"
   ]
  },
  {
   "cell_type": "markdown",
   "id": "f9743ab3-46bf-4f96-a5fb-b9706d579cc3",
   "metadata": {},
   "source": [
    "# Why use Pandas ?"
   ]
  },
  {
   "cell_type": "markdown",
   "id": "15bbc05c-af61-4946-ad95-5089326a44e3",
   "metadata": {},
   "source": [
    "* Pandas allows us to analyse big data and create conclusions based on statistical theories.\n",
    "* Pandas can clean messy data sets and make it readable and relevant.\n",
    "* Pandas can remove the rows that are not relevant,or contain wrong values like empty or null,This is called `cleaning` the data"
   ]
  },
  {
   "cell_type": "markdown",
   "id": "518fa659-1b5e-4104-b1d1-92fc6b05c8fe",
   "metadata": {},
   "source": [
    "# Importing Pandas"
   ]
  },
  {
   "cell_type": "raw",
   "id": "0c8ba4ef-a82d-47d8-b5d6-fbf323ee2a65",
   "metadata": {},
   "source": [
    "import pandas"
   ]
  },
  {
   "cell_type": "raw",
   "id": "f5e253ed-cdbc-4a49-92f2-a90711e1769a",
   "metadata": {},
   "source": [
    "* Pandas is usually imported under the pd alias.\n",
    "import pandas as pd"
   ]
  },
  {
   "cell_type": "code",
   "execution_count": 12,
   "id": "742a7f4e-59a4-4a32-9c29-bed56cac2712",
   "metadata": {},
   "outputs": [
    {
     "name": "stdout",
     "output_type": "stream",
     "text": [
      "    cars  passings\n",
      "0    BMW         3\n",
      "1  Volvo         7\n",
      "2   Ford         2\n"
     ]
    }
   ],
   "source": [
    "import pandas as pd\n",
    "\n",
    "mydataset = {\n",
    "  'cars': [\"BMW\", \"Volvo\", \"Ford\"],\n",
    "  'passings': [3, 7, 2]\n",
    "}\n",
    "\n",
    "myvar = pd.DataFrame(mydataset)\n",
    "\n",
    "print(myvar)"
   ]
  },
  {
   "cell_type": "code",
   "execution_count": null,
   "id": "e905a328-1786-4fb7-b4c2-a49a0d08d934",
   "metadata": {},
   "outputs": [],
   "source": []
  }
 ],
 "metadata": {
  "kernelspec": {
   "display_name": "Python 3 (ipykernel)",
   "language": "python",
   "name": "python3"
  },
  "language_info": {
   "codemirror_mode": {
    "name": "ipython",
    "version": 3
   },
   "file_extension": ".py",
   "mimetype": "text/x-python",
   "name": "python",
   "nbconvert_exporter": "python",
   "pygments_lexer": "ipython3",
   "version": "3.12.3"
  }
 },
 "nbformat": 4,
 "nbformat_minor": 5
}
