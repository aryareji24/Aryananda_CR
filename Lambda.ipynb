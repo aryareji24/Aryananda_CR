{
 "cells": [
  {
   "cell_type": "markdown",
   "id": "3226c6b0-a22c-4b44-b8c5-771c0cf2576b",
   "metadata": {},
   "source": [
    "\n",
    "# Python Lambda/Anonymous Function"
   ]
  },
  {
   "cell_type": "markdown",
   "id": "d3bdc629-8323-4e17-aa8d-044a144f992b",
   "metadata": {},
   "source": [
    "* #### a lambda function is a special type of function without the function name"
   ]
  },
  {
   "cell_type": "code",
   "execution_count": null,
   "id": "1339a2e1-379f-4e39-827e-81eacd6e9654",
   "metadata": {},
   "outputs": [],
   "source": [
    "lambda : print('Hello World')"
   ]
  },
  {
   "cell_type": "code",
   "execution_count": null,
   "id": "7d4283b4-e4eb-4401-98ca-e1e630ce1485",
   "metadata": {},
   "outputs": [],
   "source": []
  }
 ],
 "metadata": {
  "kernelspec": {
   "display_name": "Python 3 (ipykernel)",
   "language": "python",
   "name": "python3"
  },
  "language_info": {
   "codemirror_mode": {
    "name": "ipython",
    "version": 3
   },
   "file_extension": ".py",
   "mimetype": "text/x-python",
   "name": "python",
   "nbconvert_exporter": "python",
   "pygments_lexer": "ipython3",
   "version": "3.12.3"
  }
 },
 "nbformat": 4,
 "nbformat_minor": 5
}
