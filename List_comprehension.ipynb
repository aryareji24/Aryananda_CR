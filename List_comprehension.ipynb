{
 "cells": [
  {
   "cell_type": "markdown",
   "id": "ff63a646-3979-45af-bda3-81ee86f44679",
   "metadata": {},
   "source": [
    "# List Comprehension"
   ]
  },
  {
   "cell_type": "markdown",
   "id": "f3e11848-7905-4df9-8de4-a4c1692004d2",
   "metadata": {},
   "source": [
    "* ####  List comprehension offers a concise way to create a new list based on the values of an existing list."
   ]
  },
  {
   "cell_type": "code",
   "execution_count": 11,
   "id": "b3bdeaa2-afdd-4fe1-ab21-9008864a6d21",
   "metadata": {},
   "outputs": [
    {
     "name": "stdout",
     "output_type": "stream",
     "text": [
      "[0.5, 1.0, 1.5, 2.0]\n"
     ]
    }
   ],
   "source": [
    "numbers = [1, 2, 3, 4]\n",
    "\n",
    "# list comprehension to create new list\n",
    "doubled_numbers = [num * 2 for num in numbers]\n",
    "\n",
    "print(doubled_numbers)"
   ]
  },
  {
   "cell_type": "markdown",
   "id": "0bfba24b-536b-4332-9e99-5944cfacf1ce",
   "metadata": {},
   "source": [
    "### Syntax of List Comprehension"
   ]
  },
  {
   "cell_type": "raw",
   "id": "bceadaf0-a9f4-405b-8080-30d7f0d15abf",
   "metadata": {},
   "source": [
    "[expression for item in list if condition == True]"
   ]
  },
  {
   "cell_type": "markdown",
   "id": "3e9f296d-a3bb-4add-a319-0273bfb0cab8",
   "metadata": {},
   "source": [
    "## for Loop vs. List Comprehension"
   ]
  },
  {
   "cell_type": "markdown",
   "id": "0d343e74-a3c2-4eff-b911-69eb8695fd4c",
   "metadata": {},
   "source": [
    "* #### List comprehension makes the code cleaner and more concise than <u>for<u/> loop."
   ]
  },
  {
   "cell_type": "code",
   "execution_count": 19,
   "id": "6fbcea2a-a7e1-423f-aafa-e72ce0d7707f",
   "metadata": {},
   "outputs": [
    {
     "name": "stdout",
     "output_type": "stream",
     "text": [
      "[1, 4, 9, 16, 25]\n"
     ]
    }
   ],
   "source": [
    "numbers = [1,2,3,4,5]\n",
    "square_num = []\n",
    "for num in numbers:\n",
    "    square_num.append(num * num)\n",
    "print(square_num)\n",
    "    "
   ]
  },
  {
   "cell_type": "markdown",
   "id": "a0a4c44f-c92f-4d36-8b0b-82df877eb315",
   "metadata": {},
   "source": [
    "## Conditionals in List Comprehension"
   ]
  },
  {
   "cell_type": "markdown",
   "id": "33800e75-e434-4054-939a-643436a8199f",
   "metadata": {},
   "source": [
    "#### List comprehensions can utilize conditional statements like if…else to filter existing lists."
   ]
  },
  {
   "cell_type": "code",
   "execution_count": 7,
   "id": "393713b7-2aa2-4419-b7ff-f4e0baf70be8",
   "metadata": {},
   "outputs": [
    {
     "name": "stdout",
     "output_type": "stream",
     "text": [
      "[2, 4, 6, 8]\n"
     ]
    }
   ],
   "source": [
    "# filtering even numbers from a list\n",
    "even_numbers = [num for num in range(1, 10) if num % 2 == 0 ]\n",
    "\n",
    "print(even_numbers)\n",
    "\n"
   ]
  },
  {
   "cell_type": "markdown",
   "id": "1ba1a13c-49ec-4ba9-9e71-95722cec652a",
   "metadata": {},
   "source": [
    "### Example: List Comprehension with String"
   ]
  },
  {
   "cell_type": "code",
   "execution_count": 9,
   "id": "3e29ee33-4949-41f6-9731-cae52a1cab7d",
   "metadata": {},
   "outputs": [
    {
     "name": "stdout",
     "output_type": "stream",
     "text": [
      "['o']\n"
     ]
    }
   ],
   "source": [
    "word = \"Python\"\n",
    "vowels = \"aeiou\"\n",
    "\n",
    "# find vowel in the string \"Python\"\n",
    "result = [char for char in word if char in vowels]\n",
    "\n",
    "print(result)\n",
    "\n"
   ]
  },
  {
   "cell_type": "code",
   "execution_count": 67,
   "id": "f280bb5f-259d-41eb-8971-ecd8cad06dfb",
   "metadata": {},
   "outputs": [
    {
     "name": "stdout",
     "output_type": "stream",
     "text": [
      "3\n"
     ]
    }
   ],
   "source": [
    "def num(n):\n",
    "    total = 0\n",
    "    for i in range(1, n + 1):\n",
    "        total = total + i\n",
    "    print(total)\n",
    "num(2)  \n",
    "\n",
    "\n"
   ]
  },
  {
   "cell_type": "code",
   "execution_count": 87,
   "id": "f833bc0e-76e9-446d-b432-cdab75fae0de",
   "metadata": {},
   "outputs": [
    {
     "name": "stdin",
     "output_type": "stream",
     "text": [
      "enter a number:  5\n"
     ]
    },
    {
     "name": "stdout",
     "output_type": "stream",
     "text": [
      "15\n"
     ]
    }
   ],
   "source": [
    "n = int(input(\"enter a number: \"))\n",
    "def num(n):\n",
    "    total = 0\n",
    "    for i in range(1,n+1):\n",
    "        total = total+i\n",
    "    print(total)\n",
    "num(n)\n",
    "\n",
    "    "
   ]
  },
  {
   "cell_type": "code",
   "execution_count": 101,
   "id": "0573b7ae-f950-4b30-ac93-5d657db2908c",
   "metadata": {},
   "outputs": [
    {
     "name": "stdin",
     "output_type": "stream",
     "text": [
      "enter a number:  4\n"
     ]
    },
    {
     "name": "stdout",
     "output_type": "stream",
     "text": [
      "-3\n"
     ]
    }
   ],
   "source": [
    "n = int(input(\"enter a number: \"))\n",
    "def subs(n):\n",
    "    diff = 0\n",
    "    for i in range(1,n-1):\n",
    "        diff = diff - i\n",
    "    print(diff)\n",
    "subs(n)\n",
    "\n"
   ]
  }
 ],
 "metadata": {
  "kernelspec": {
   "display_name": "Python 3 (ipykernel)",
   "language": "python",
   "name": "python3"
  },
  "language_info": {
   "codemirror_mode": {
    "name": "ipython",
    "version": 3
   },
   "file_extension": ".py",
   "mimetype": "text/x-python",
   "name": "python",
   "nbconvert_exporter": "python",
   "pygments_lexer": "ipython3",
   "version": "3.12.3"
  }
 },
 "nbformat": 4,
 "nbformat_minor": 5
}
