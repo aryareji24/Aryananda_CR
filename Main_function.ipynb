{
 "cells": [
  {
   "cell_type": "markdown",
   "id": "09ea52ff-a450-49a6-bc98-ed6c195ec73a",
   "metadata": {},
   "source": [
    "# Python Main function"
   ]
  },
  {
   "cell_type": "markdown",
   "id": "86de2228-2152-49d4-a410-18b7819e320d",
   "metadata": {},
   "source": [
    "### What is the main() function in Python?\n",
    "#### *Some programming languages have a special function called main() which is the execution point for a program file. Python interpreter, however, runs each line serially from the top of the file and has no explicit main() function."
   ]
  },
  {
   "cell_type": "markdown",
   "id": "c31f7eb4-a6f9-4a38-abd3-c385e635b79b",
   "metadata": {},
   "source": [
    "## What is __name__ in Python?"
   ]
  },
  {
   "cell_type": "markdown",
   "id": "dcf36371-faaf-41b6-80a8-2d83b354028d",
   "metadata": {},
   "source": [
    "#### *The __name__ variable is a special builtin Python variable that shows the name of the current module.\n",
    "\n",
    "#### * It has different values depending on where we execute the Python file."
   ]
  },
  {
   "cell_type": "code",
   "execution_count": 14,
   "id": "77a0bcdb-4531-4aea-a89e-9333f621d00c",
   "metadata": {},
   "outputs": [
    {
     "name": "stdout",
     "output_type": "stream",
     "text": [
      "__main__\n"
     ]
    }
   ],
   "source": [
    "print(__name__)"
   ]
  },
  {
   "cell_type": "code",
   "execution_count": 41,
   "id": "6a7fbebf-59a9-45a9-9038-7d0e3d9dfd23",
   "metadata": {},
   "outputs": [
    {
     "name": "stdout",
     "output_type": "stream",
     "text": [
      "Success\n"
     ]
    }
   ],
   "source": [
    "def main():\n",
    "    # Your main program code goes here\n",
    "    print(\"Success\")\n",
    "\n",
    "if __name__ == \"__main__\":\n",
    "    main()"
   ]
  },
  {
   "cell_type": "code",
   "execution_count": 43,
   "id": "b32dfc8c-f7fb-4bf1-ae50-2650a04425d7",
   "metadata": {},
   "outputs": [
    {
     "name": "stdout",
     "output_type": "stream",
     "text": [
      "Success\n"
     ]
    }
   ],
   "source": [
    "def main():\n",
    "    print(\"Success\")\n",
    "main()"
   ]
  }
 ],
 "metadata": {
  "kernelspec": {
   "display_name": "Python 3 (ipykernel)",
   "language": "python",
   "name": "python3"
  },
  "language_info": {
   "codemirror_mode": {
    "name": "ipython",
    "version": 3
   },
   "file_extension": ".py",
   "mimetype": "text/x-python",
   "name": "python",
   "nbconvert_exporter": "python",
   "pygments_lexer": "ipython3",
   "version": "3.12.3"
  }
 },
 "nbformat": 4,
 "nbformat_minor": 5
}
