{
 "cells": [
  {
   "cell_type": "markdown",
   "id": "373348e5-dbb7-4e5d-9a89-6608b095826d",
   "metadata": {},
   "source": [
    "# **Creating a NumPy ndarray Object**"
   ]
  },
  {
   "cell_type": "code",
   "execution_count": 1,
   "id": "6e352995-d695-491b-a4e5-9626392459ae",
   "metadata": {},
   "outputs": [
    {
     "name": "stdout",
     "output_type": "stream",
     "text": [
      "[1 2 3 4 5]\n",
      "<class 'numpy.ndarray'>\n"
     ]
    }
   ],
   "source": [
    "import numpy as np\n",
    "\n",
    "arr = np.array([1, 2, 3, 4, 5])\n",
    "\n",
    "print(arr)\n",
    "\n",
    "print(type(arr))"
   ]
  },
  {
   "cell_type": "markdown",
   "id": "655e91b3-955f-4cbc-9249-fa1c05f59743",
   "metadata": {},
   "source": [
    "*NumPy is used to work with arrays. The array object in NumPy is called ndarray*"
   ]
  },
  {
   "cell_type": "markdown",
   "id": "7a8d8928-d703-4166-a814-7f489d5899b0",
   "metadata": {},
   "source": [
    "**To create an ndarray, we can pass a list, tuple or any array-like object into the array() method, and it will be converted into an ndarray:**"
   ]
  },
  {
   "cell_type": "code",
   "execution_count": 94,
   "id": "67b65914-1195-4fcd-9611-7fb0978dab6b",
   "metadata": {},
   "outputs": [
    {
     "name": "stdout",
     "output_type": "stream",
     "text": [
      "[1 2 3 4 5]\n"
     ]
    }
   ],
   "source": [
    "import numpy as np\n",
    "\n",
    "arr = np.array((1, 2, 3, 4, 5))\n",
    "\n",
    "print(arr)"
   ]
  },
  {
   "cell_type": "markdown",
   "id": "552066fc-0ec4-4783-bd06-5278fc9383a5",
   "metadata": {},
   "source": [
    "## **Dimensions in Array**"
   ]
  },
  {
   "cell_type": "markdown",
   "id": "99fdc155-d771-46d9-a7df-9d6d76a777a4",
   "metadata": {},
   "source": [
    "1D Array (1 dimension): <br>\n",
    "This is a simple list of elements.\n",
    "Example: [1, 2, 3, 4] <br>\n",
    "It has one level of depth.<br><br>\n",
    "2D Array (2 dimensions): <br>\n",
    "This is an array of arrays, creating a table-like structure.\n",
    "Example: [[1, 2], [3, 4], [5, 6]] <br>\n",
    "It has two levels of depth. <br><br>\n",
    "3D Array (3 dimensions):<br>\n",
    "This is an array of 2D arrays.\n",
    "Example: [[[1, 2], [3, 4]], [[5, 6], [7, 8]]] <br>\n",
    "It has three levels of depth. <br><br>\n",
    "\n",
    "Each time we add a set of square brackets, we're adding a dimension. <br> \n"
   ]
  },
  {
   "cell_type": "markdown",
   "id": "d9de28f6-bb33-4ed9-b23c-9ed42abbdced",
   "metadata": {},
   "source": [
    "### 0-D Arrays\n",
    "0-D arrays, or Scalars, are the elements in an array. <br> Each value in an array is a 0-D array."
   ]
  },
  {
   "cell_type": "code",
   "execution_count": 104,
   "id": "658e9f13-f950-4f78-993a-911ebb8dafdb",
   "metadata": {},
   "outputs": [
    {
     "name": "stdout",
     "output_type": "stream",
     "text": [
      "42\n"
     ]
    }
   ],
   "source": [
    "import numpy as np\n",
    "\n",
    "arr = np.array(42)\n",
    "\n",
    "print(arr)"
   ]
  },
  {
   "cell_type": "markdown",
   "id": "37ee4388-3d54-4f25-94a6-9b45cbc43905",
   "metadata": {},
   "source": [
    "### 1-D Arrays\n",
    "An array that has 0-D arrays as its elements is called uni-dimensional or 1-D array."
   ]
  },
  {
   "cell_type": "raw",
   "id": "a06037bb-e0dc-4739-b176-96a8c4527327",
   "metadata": {},
   "source": [
    "1D Arrays (Vectors):\n",
    "These are simple lists of numbers in a single row or column.\n",
    "Example: [1, 2, 3, 4, 5]\n",
    "\n",
    "1D arrays: Representing a series of data points, like temperatures over time."
   ]
  },
  {
   "cell_type": "code",
   "execution_count": 83,
   "id": "e87f8ba0-f88b-48e2-9208-2ae7e28ab9cf",
   "metadata": {},
   "outputs": [
    {
     "name": "stdout",
     "output_type": "stream",
     "text": [
      "1\n",
      "(5,)\n",
      "1\n"
     ]
    }
   ],
   "source": [
    "import numpy as np\n",
    "arr = np.array([1, 2, 3, 4, 5])\n",
    "print(arr[0])  # First element\n",
    "print(arr.shape) #5 ELEMENTS\n",
    "print(arr.ndim)"
   ]
  },
  {
   "cell_type": "markdown",
   "id": "96c5970d-84d6-4aa6-96ab-8569a9f19bcd",
   "metadata": {},
   "source": [
    "### 2-D Arrays\n",
    "An array that has 1-D arrays as its elements is called a 2-D array. <br>\n",
    "These are often used to represent matrix or 2nd order tensors.\n",
    "<br><br>\n",
    "NumPy has a whole sub module dedicated towards matrix operations called numpy.mat"
   ]
  },
  {
   "cell_type": "raw",
   "id": "531a6181-5d19-4057-ba2a-7eded1428d3e",
   "metadata": {},
   "source": [
    "2D Arrays (Matrices):\n",
    "These are tables with rows and columns, like a spreadsheet\n",
    "[[1, 2, 3],\n",
    " [4, 5, 6],\n",
    " [7, 8, 9]]\n",
    "\n",
    "2D arrays: Representing tables of data, images, or matrices for linear algebra."
   ]
  },
  {
   "cell_type": "code",
   "execution_count": 79,
   "id": "a7fe59e7-096b-47e9-af51-b072bdbf73fd",
   "metadata": {},
   "outputs": [
    {
     "name": "stdout",
     "output_type": "stream",
     "text": [
      "2\n",
      "(3, 3)\n",
      "2\n"
     ]
    }
   ],
   "source": [
    "import numpy as np\n",
    "arr_2d = np.array([[1, 2, 3], [4, 5, 6], [7, 8, 9]])\n",
    "print(arr_2d[0, 1])\n",
    "print(arr_2d.shape) #3ROWS AND 3 COLUMNS\n",
    "print(arr_2d.ndim) "
   ]
  },
  {
   "cell_type": "markdown",
   "id": "7b774f51-0e63-4beb-b752-2e0ace07444d",
   "metadata": {},
   "source": [
    "### 3-D arrays\n",
    "An array that has 2-D arrays (matrices) as its elements is called 3-D array.\n",
    "<br>\n",
    "These are often used to represent a 3rd order tensor."
   ]
  },
  {
   "cell_type": "raw",
   "id": "f027e80f-cb49-4a81-ae58-8fc202d55ea5",
   "metadata": {},
   "source": [
    "3D Arrays (Cubes):\n",
    "These are like stacking multiple 2D arrays on top of each other.\n",
    "Example:\n",
    "[[[1, 2], [3, 4]],\n",
    " [[5, 6], [7, 8]],\n",
    " [[9, 10], [11, 12]]]\n",
    "\n",
    "3D arrays: Representing multiple images, video frames, or 3D data like MRI scans."
   ]
  },
  {
   "cell_type": "code",
   "execution_count": 81,
   "id": "bb518d17-a595-432e-acdc-55fcd47f6378",
   "metadata": {},
   "outputs": [
    {
     "name": "stdout",
     "output_type": "stream",
     "text": [
      "4\n",
      "(3, 2, 2)\n",
      "3\n"
     ]
    }
   ],
   "source": [
    "import numpy as np\n",
    "arr_3d = np.array([[[1, 2], [3, 4]], [[5, 6], [7, 8]], [[9, 10], [11, 12]]])\n",
    "print(arr_3d[0, 1, 1])\n",
    "print(arr_3d.shape) # 3 \"layers\", each layer has 2 rows, and each row has 2 columns.\n",
    "print(arr_3d.ndim)"
   ]
  },
  {
   "cell_type": "markdown",
   "id": "a22c1030-a3cf-4fd7-9a23-214b5e6974a7",
   "metadata": {},
   "source": [
    "### Higher Dimensional Arrays\n",
    "An array can have any number of dimensions.\n",
    "<br>\n",
    "When the array is created, you can define the number of dimensions by using the ndmin argument."
   ]
  },
  {
   "cell_type": "code",
   "execution_count": 114,
   "id": "d8865b7e-385a-4ee0-8c0f-a47025b04949",
   "metadata": {},
   "outputs": [
    {
     "name": "stdout",
     "output_type": "stream",
     "text": [
      "[[[[[1 2 3 4]]]]]\n",
      "number of dimensions : 5\n"
     ]
    }
   ],
   "source": [
    "import numpy as np\n",
    "\n",
    "arr = np.array([1, 2, 3, 4], ndmin=5)\n",
    "\n",
    "print(arr)\n",
    "print('number of dimensions :', arr.ndim)"
   ]
  }
 ],
 "metadata": {
  "kernelspec": {
   "display_name": "Python 3 (ipykernel)",
   "language": "python",
   "name": "python3"
  },
  "language_info": {
   "codemirror_mode": {
    "name": "ipython",
    "version": 3
   },
   "file_extension": ".py",
   "mimetype": "text/x-python",
   "name": "python",
   "nbconvert_exporter": "python",
   "pygments_lexer": "ipython3",
   "version": "3.12.3"
  }
 },
 "nbformat": 4,
 "nbformat_minor": 5
}
