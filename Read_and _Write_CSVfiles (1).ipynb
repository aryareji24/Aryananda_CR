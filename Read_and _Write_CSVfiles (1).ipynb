{
 "cells": [
  {
   "cell_type": "markdown",
   "id": "62a31c17-f100-45fb-b568-f9aa3a840b82",
   "metadata": {},
   "source": [
    "# <u>Python CSV: Read and Write CSV Files</u>"
   ]
  },
  {
   "cell_type": "markdown",
   "id": "c50cf023-8bf7-4227-ba23-7fc9b7c930e6",
   "metadata": {},
   "source": [
    "### * The CSV ( Comma Separated Values) format is a common and straightforward way to store tabular data. To represent a CSV file, it should have the <u>.csv</u> file extension."
   ]
  },
  {
   "cell_type": "markdown",
   "id": "eae3c84a-7c3b-4120-a0ff-383ff7d5b35f",
   "metadata": {},
   "source": [
    "## <u>Working With CSV Files in Python</u>"
   ]
  },
  {
   "cell_type": "markdown",
   "id": "42400e18-765d-4c47-8ced-06375c378758",
   "metadata": {},
   "source": [
    "### Python provides a dedicated csv module to work with csv files. The module includes various methods to perform different operations.\n",
    "\n",
    "\n",
    "### First step : import csv"
   ]
  },
  {
   "cell_type": "markdown",
   "id": "c3f7459a-ea6c-4b2e-a0f2-9893cd8ac8ab",
   "metadata": {},
   "source": [
    "## <u>Read CSV Files with Python</u>"
   ]
  },
  {
   "cell_type": "markdown",
   "id": "a7bb671b-90d6-45fb-bc6e-93715f9c8d45",
   "metadata": {},
   "source": [
    "### The csv module provides the <u>csv.reader()</u> function to read a CSV file"
   ]
  },
  {
   "cell_type": "code",
   "execution_count": 31,
   "id": "69466097-b037-4c3c-8f83-ac7bbe30e7e5",
   "metadata": {},
   "outputs": [
    {
     "name": "stdout",
     "output_type": "stream",
     "text": [
      "File \"example.csv\" has been created.\n"
     ]
    }
   ],
   "source": [
    "import csv\n",
    "\n",
    "# Define the data\n",
    "data = [\n",
    "    ['Name', 'Age', 'City'],\n",
    "    ['Alice', 30, 'New York'],\n",
    "    ['Bob', 25, 'Los Angeles'],\n",
    "    ['Charlie', 35, 'Chicago']\n",
    "]\n",
    "\n",
    "# Specify the filename\n",
    "filename = 'example.csv'\n",
    "\n",
    "# # Write to CSV file\n",
    "with open(filename, mode='r', newline='') as file:\n",
    "    writer = csv.reader(file)\n",
    "    \n",
    "\n",
    "print(f'File \"{filename}\" has been created.')\n"
   ]
  },
  {
   "cell_type": "markdown",
   "id": "6c2a744e-1082-4a6e-827d-c63b524b8efc",
   "metadata": {},
   "source": [
    "### <u>Write to CSV Files with Python</u>"
   ]
  },
  {
   "cell_type": "markdown",
   "id": "66787395-65a0-4883-a4cd-ebf00647b407",
   "metadata": {},
   "source": [
    "### The csv module provides the csv.writer() function to write to a CSV file."
   ]
  },
  {
   "cell_type": "code",
   "execution_count": 38,
   "id": "c7b7d00a-d3d5-4865-8024-7e3179259c3b",
   "metadata": {},
   "outputs": [],
   "source": [
    "import csv\n",
    "with open('protagonist.csv', 'w', newline='') as file:\n",
    "    writer = csv.writer(file)\n",
    "    writer.writerow([\"SN\", \"Movie\", \"Protagonist\"])\n",
    "    writer.writerow([1, \"Lord of the Rings\", \"Frodo Baggins\"])\n",
    "    writer.writerow([2, \"Harry Potter\", \"Harry Potter\"])"
   ]
  },
  {
   "cell_type": "markdown",
   "id": "a6575c03-ce15-4b53-bbf2-2aa18fcfde25",
   "metadata": {},
   "source": [
    "## Using Python Pandas to Handle CSV Files"
   ]
  },
  {
   "cell_type": "markdown",
   "id": "a0ed0b4e-f7bb-4262-9900-db380447ca05",
   "metadata": {},
   "source": [
    "### * Pandas is a popular data science library in Python for data manipulation and analysis."
   ]
  },
  {
   "cell_type": "markdown",
   "id": "a923c720-4dce-41f4-8903-4b564ad0d7b2",
   "metadata": {},
   "source": [
    "\n",
    "## Read CSV Files\n",
    "To read the CSV file using pandas, we can use the <u>read_csv()</u> function."
   ]
  },
  {
   "cell_type": "raw",
   "id": "93e94069-b949-453b-a7b5-4ae35bf77998",
   "metadata": {},
   "source": [
    "import pandas as pd\n",
    "pd.read_csv(\"people.csv\")"
   ]
  },
  {
   "cell_type": "markdown",
   "id": "df99613a-9c1d-44ed-af98-ea15e5e29ad2",
   "metadata": {},
   "source": [
    "## Write to a CSV Files\n",
    "To write to a CSV file, we need to use the to_csv() function of a DataFrame."
   ]
  },
  {
   "cell_type": "raw",
   "id": "a85e6363-52ee-41c2-9c09-1a8e3ae7e79c",
   "metadata": {},
   "source": [
    "import pandas as pd\n",
    "\n",
    "# creating a data frame\n",
    "df = pd.DataFrame([['Jack', 24], ['Rose', 22]], columns = ['Name', 'Age'])\n",
    "\n",
    "# writing data frame to a CSV file\n",
    "df.to_csv('person.csv')"
   ]
  }
 ],
 "metadata": {
  "kernelspec": {
   "display_name": "Python 3 (ipykernel)",
   "language": "python",
   "name": "python3"
  },
  "language_info": {
   "codemirror_mode": {
    "name": "ipython",
    "version": 3
   },
   "file_extension": ".py",
   "mimetype": "text/x-python",
   "name": "python",
   "nbconvert_exporter": "python",
   "pygments_lexer": "ipython3",
   "version": "3.12.3"
  }
 },
 "nbformat": 4,
 "nbformat_minor": 5
}
