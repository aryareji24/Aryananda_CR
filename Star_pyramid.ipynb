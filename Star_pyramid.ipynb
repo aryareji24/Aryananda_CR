{
 "cells": [
  {
   "cell_type": "markdown",
   "id": "f210bf5e-62dc-4a17-b599-63bbf4da621b",
   "metadata": {},
   "source": [
    "# creating Star pyramid "
   ]
  },
  {
   "cell_type": "code",
   "execution_count": 54,
   "id": "7b6f54ee-d49a-407e-8ab5-d1218f0e9708",
   "metadata": {},
   "outputs": [
    {
     "name": "stdout",
     "output_type": "stream",
     "text": [
      "     *      \n",
      "    * *     \n",
      "   * * *    \n",
      "  * * * *   \n"
     ]
    }
   ],
   "source": [
    "print(\"     *      \")\n",
    "print(\"    * *     \")\n",
    "print(\"   * * *    \")\n",
    "print(\"  * * * *   \")\n",
    "\n",
    "\n",
    "\n"
   ]
  }
 ],
 "metadata": {
  "kernelspec": {
   "display_name": "Python 3 (ipykernel)",
   "language": "python",
   "name": "python3"
  },
  "language_info": {
   "codemirror_mode": {
    "name": "ipython",
    "version": 3
   },
   "file_extension": ".py",
   "mimetype": "text/x-python",
   "name": "python",
   "nbconvert_exporter": "python",
   "pygments_lexer": "ipython3",
   "version": "3.12.4"
  }
 },
 "nbformat": 4,
 "nbformat_minor": 5
}
