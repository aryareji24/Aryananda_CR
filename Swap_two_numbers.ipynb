{
 "cells": [
  {
   "cell_type": "markdown",
   "id": "ddeb4503-00a7-4147-a7b1-a1f79e30bef7",
   "metadata": {},
   "source": [
    "# Swap two numbers"
   ]
  },
  {
   "cell_type": "markdown",
   "id": "783c2d06-623c-412a-93ce-7eda0ca901bf",
   "metadata": {},
   "source": [
    "__one method :__"
   ]
  },
  {
   "cell_type": "code",
   "execution_count": null,
   "id": "bc3a86f2-9ced-4bc3-984c-432727627593",
   "metadata": {},
   "outputs": [],
   "source": [
    "a = 5\n",
    "b = 10\n",
    "\n",
    "a,b = b,a\n",
    "print ('a after swapping :',a)\n",
    "print ('b after swapping :',b)"
   ]
  },
  {
   "cell_type": "markdown",
   "id": "60e9ca28-0063-45ec-9010-e4dcb5f81ba1",
   "metadata": {},
   "source": [
    "__next method :__\n"
   ]
  },
  {
   "cell_type": "code",
   "execution_count": null,
   "id": "54f80ee7-0704-4c95-ace6-d37a445342d2",
   "metadata": {},
   "outputs": [],
   "source": [
    "a = 5\n",
    "b = 10\n",
    "\n",
    "x = a\n",
    "a = b\n",
    "b = x\n",
    "\n",
    "print ( 'a after swapping : ', a)\n",
    "print ( 'b after swapping : ',b)"
   ]
  }
 ],
 "metadata": {
  "kernelspec": {
   "display_name": "Python 3 (ipykernel)",
   "language": "python",
   "name": "python3"
  },
  "language_info": {
   "codemirror_mode": {
    "name": "ipython",
    "version": 3
   },
   "file_extension": ".py",
   "mimetype": "text/x-python",
   "name": "python",
   "nbconvert_exporter": "python",
   "pygments_lexer": "ipython3",
   "version": "3.12.4"
  }
 },
 "nbformat": 4,
 "nbformat_minor": 5
}
