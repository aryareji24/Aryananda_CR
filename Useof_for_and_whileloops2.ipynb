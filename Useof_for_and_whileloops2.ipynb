{
 "cells": [
  {
   "cell_type": "markdown",
   "id": "3e3764ee-6101-4a86-a6e9-561f68c23037",
   "metadata": {},
   "source": [
    "# Use of for loop and while loop"
   ]
  },
  {
   "cell_type": "markdown",
   "id": "a0043aed-0e32-4ba2-ac65-8d7440da1200",
   "metadata": {},
   "source": [
    "__(QN)__\n",
    "__Take List as input from user__\n",
    "__mylist = ['Sam', 'Tan', 'Jai']__\n",
    " \n",
    "__Write a python code to print using for loop and/or while loop__"
   ]
  },
  {
   "cell_type": "code",
   "execution_count": 39,
   "id": "b1650dff-7117-4515-b185-8bbb266122e4",
   "metadata": {},
   "outputs": [
    {
     "name": "stdout",
     "output_type": "stream",
     "text": [
      "Sam\n",
      "Tan\n",
      "Jai\n",
      "Sam\n",
      "Tan\n",
      "Jai\n",
      "Sam\n",
      "Tan\n",
      "Jai\n",
      "\n"
     ]
    }
   ],
   "source": [
    "mylist =['Sam','Tan','Jai']\n",
    "for i in range(3):\n",
    "    for names in mylist:\n",
    "        print(names,end ='\\n')\n",
    "print()"
   ]
  },
  {
   "cell_type": "code",
   "execution_count": null,
   "id": "b29cae43-239c-4273-b3c4-1a17249093f7",
   "metadata": {},
   "outputs": [],
   "source": []
  },
  {
   "cell_type": "code",
   "execution_count": null,
   "id": "68d9b1df-8fdf-4bbd-8a93-9cb21c790e6d",
   "metadata": {},
   "outputs": [],
   "source": []
  }
 ],
 "metadata": {
  "kernelspec": {
   "display_name": "Python 3 (ipykernel)",
   "language": "python",
   "name": "python3"
  },
  "language_info": {
   "codemirror_mode": {
    "name": "ipython",
    "version": 3
   },
   "file_extension": ".py",
   "mimetype": "text/x-python",
   "name": "python",
   "nbconvert_exporter": "python",
   "pygments_lexer": "ipython3",
   "version": "3.12.4"
  }
 },
 "nbformat": 4,
 "nbformat_minor": 5
}
