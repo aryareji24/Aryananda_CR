{
 "cells": [
  {
   "cell_type": "markdown",
   "id": "63ec9e5d-d895-4793-8958-980e0f546b9f",
   "metadata": {},
   "source": [
    "* #### Write a python function to find the sum of first n numbers and print the output .."
   ]
  },
  {
   "cell_type": "code",
   "execution_count": 8,
   "id": "15f36b47-beaf-4762-a5e5-c23bb6c6b26e",
   "metadata": {},
   "outputs": [
    {
     "name": "stdin",
     "output_type": "stream",
     "text": [
      "enter a number:  4\n"
     ]
    },
    {
     "name": "stdout",
     "output_type": "stream",
     "text": [
      "10\n"
     ]
    }
   ],
   "source": [
    "n = int(input(\"enter a number: \"))\n",
    "def adds(n):\n",
    "    total = 0\n",
    "    for i in range(1,n+1):\n",
    "        total = total + i\n",
    "    print(total)\n",
    "adds(n)"
   ]
  },
  {
   "cell_type": "code",
   "execution_count": null,
   "id": "83e1a0e2-b933-471e-8d7e-6f573de41c1f",
   "metadata": {},
   "outputs": [],
   "source": []
  }
 ],
 "metadata": {
  "kernelspec": {
   "display_name": "Python 3 (ipykernel)",
   "language": "python",
   "name": "python3"
  },
  "language_info": {
   "codemirror_mode": {
    "name": "ipython",
    "version": 3
   },
   "file_extension": ".py",
   "mimetype": "text/x-python",
   "name": "python",
   "nbconvert_exporter": "python",
   "pygments_lexer": "ipython3",
   "version": "3.12.3"
  }
 },
 "nbformat": 4,
 "nbformat_minor": 5
}
