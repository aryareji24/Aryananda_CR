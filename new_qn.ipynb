{
 "cells": [
  {
   "cell_type": "markdown",
   "id": "4cf2938e-bfd7-493f-a856-ef8bec06df6d",
   "metadata": {},
   "source": [
    "__Question:__\n",
    "You are given a list of integers. Write a Python function that performs the following operations:\n",
    "1. Remove Duplicates: Remove all duplicate elements from the list while preserving the order of the first occurrence of each element.\n",
    "2. Sort Remaining Elements: Sort the remaining elements in descending order.\n",
    "3. Find the Median: Compute and return the median of the sorted list. The median is the middle value in an odd-length list or the average of the two middle values in an even-length list."
   ]
  },
  {
   "cell_type": "code",
   "execution_count": 10,
   "id": "330761cd-f7cf-4ac8-992d-49d31bcedefa",
   "metadata": {},
   "outputs": [
    {
     "name": "stdout",
     "output_type": "stream",
     "text": [
      "[5, 4, 3, 2, 1]\n"
     ]
    }
   ],
   "source": [
    "# 1\n",
    "a = [1, 2, 2, 3, 4, 5]\n",
    "\n",
    "elements = []\n",
    "s = set()\n",
    "\n",
    "for i in a:\n",
    "    if i not in s:\n",
    "        s.add(i)\n",
    "        elements.append(i)\n",
    "\n",
    "elements.sort(reverse=True)\n",
    "\n",
    "print(elements) \n"
   ]
  },
  {
   "cell_type": "code",
   "execution_count": 12,
   "id": "a0b4fa9f-3686-4ebc-95b4-c4a2db2e9fc8",
   "metadata": {},
   "outputs": [
    {
     "name": "stdout",
     "output_type": "stream",
     "text": [
      "Median: 3\n"
     ]
    }
   ],
   "source": [
    "# 3\n",
    "l = [5, 4, 3, 2, 1]\n",
    "\n",
    "def median(l):\n",
    "    n = len(l)\n",
    "    if n % 2 == 1:\n",
    "        median = l[n // 2]\n",
    "    else:\n",
    "        left = l[(n // 2) - 1]\n",
    "        right = l[n // 2]\n",
    "        median = (left + right) / 2\n",
    "    \n",
    "    return median\n",
    "\n",
    "median = median(l)\n",
    "print(\"Median:\", median)  \n"
   ]
  },
  {
   "cell_type": "code",
   "execution_count": null,
   "id": "ff89b4e8-5e64-4ed0-8783-7635707a95d8",
   "metadata": {},
   "outputs": [],
   "source": []
  }
 ],
 "metadata": {
  "kernelspec": {
   "display_name": "Python 3 (ipykernel)",
   "language": "python",
   "name": "python3"
  },
  "language_info": {
   "codemirror_mode": {
    "name": "ipython",
    "version": 3
   },
   "file_extension": ".py",
   "mimetype": "text/x-python",
   "name": "python",
   "nbconvert_exporter": "python",
   "pygments_lexer": "ipython3",
   "version": "3.12.4"
  }
 },
 "nbformat": 4,
 "nbformat_minor": 5
}
