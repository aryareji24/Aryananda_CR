{
 "cells": [
  {
   "cell_type": "markdown",
   "id": "ddeb4503-00a7-4147-a7b1-a1f79e30bef7",
   "metadata": {},
   "source": [
    "# Swap two numbers"
   ]
  },
  {
   "cell_type": "code",
   "execution_count": 51,
   "id": "54f80ee7-0704-4c95-ace6-d37a445342d2",
   "metadata": {},
   "outputs": [
    {
     "name": "stdout",
     "output_type": "stream",
     "text": [
      "a after swapping :  10\n",
      "b after swapping :  5\n"
     ]
    }
   ],
   "source": [
    "a = 5\n",
    "b = 10\n",
    "\n",
    "x = a\n",
    "a = b\n",
    "b = x\n",
    "\n",
    "print ( 'a after swapping : ', a)\n",
    "print ( 'b after swapping : ',b)"
   ]
  }
 ],
 "metadata": {
  "kernelspec": {
   "display_name": "Python 3 (ipykernel)",
   "language": "python",
   "name": "python3"
  },
  "language_info": {
   "codemirror_mode": {
    "name": "ipython",
    "version": 3
   },
   "file_extension": ".py",
   "mimetype": "text/x-python",
   "name": "python",
   "nbconvert_exporter": "python",
   "pygments_lexer": "ipython3",
   "version": "3.12.4"
  }
 },
 "nbformat": 4,
 "nbformat_minor": 5
}
