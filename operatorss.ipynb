{
 "cells": [
  {
   "cell_type": "code",
   "execution_count": 3,
   "id": "1a14cf02-a942-4c72-918e-d8be62535a3b",
   "metadata": {},
   "outputs": [
    {
     "name": "stdout",
     "output_type": "stream",
     "text": [
      "5\n"
     ]
    }
   ],
   "source": [
    "# assignment operators\n",
    "a=5\n",
    "print (a)"
   ]
  },
  {
   "cell_type": "code",
   "execution_count": 5,
   "id": "53537d1c-67d1-4dde-8fbe-242c92bfdf07",
   "metadata": {},
   "outputs": [
    {
     "name": "stdout",
     "output_type": "stream",
     "text": [
      "a == b False\n",
      "a != b True\n",
      "a >= b True\n",
      "a <= b False\n",
      "a > b True\n",
      "a < b False\n"
     ]
    }
   ],
   "source": [
    "# comparison operators\n",
    "a = 5\n",
    "b = 3\n",
    "print ( \"a == b\" ,a==b)\n",
    "print ( \"a != b\" ,a!=b)\n",
    "print ( \"a >= b\" ,a>=b)\n",
    "print ( \"a <= b\" ,a<=b)\n",
    "print ( \"a > b\" ,a>b)\n",
    "print ( \"a < b\" ,a<b)"
   ]
  },
  {
   "cell_type": "code",
   "execution_count": 3,
   "id": "a48e26b3-983a-4ab0-99ae-b9617e384fd2",
   "metadata": {},
   "outputs": [
    {
     "name": "stdout",
     "output_type": "stream",
     "text": [
      "True\n"
     ]
    }
   ],
   "source": [
    "# logical operators\n",
    "\n",
    "# and operator\n",
    "a = 2\n",
    "b = 5\n",
    "print ( (a>0) and (b>=5))"
   ]
  },
  {
   "cell_type": "code",
   "execution_count": 36,
   "id": "e212ee61-8b11-4293-8441-bcb5ce1778c2",
   "metadata": {},
   "outputs": [
    {
     "name": "stdout",
     "output_type": "stream",
     "text": [
      "True\n"
     ]
    }
   ],
   "source": [
    "# or operator\n",
    "a = 0\n",
    "b = 0\n",
    "print ( (a==b) or (a==5))"
   ]
  },
  {
   "cell_type": "code",
   "execution_count": 34,
   "id": "3d536d3a-c1d4-4e72-9e57-a2de2c387cc4",
   "metadata": {},
   "outputs": [
    {
     "name": "stdout",
     "output_type": "stream",
     "text": [
      "True\n"
     ]
    }
   ],
   "source": [
    "# not\n",
    "a = 4\n",
    "b = 2\n",
    "print (a != b )"
   ]
  },
  {
   "cell_type": "code",
   "execution_count": 46,
   "id": "2097af5a-6a57-4852-b674-749892197c7c",
   "metadata": {},
   "outputs": [
    {
     "name": "stdout",
     "output_type": "stream",
     "text": [
      "False\n",
      "False\n",
      "True\n",
      "False\n"
     ]
    }
   ],
   "source": [
    "# identity operators\n",
    "a = 5\n",
    "b = 1\n",
    "c = 1\n",
    "d = 4\n",
    "e = [1,2,3]\n",
    "f = [1,2,3] \n",
    "print (b is not c )\n",
    "print (a is c)\n",
    "print (c is b)\n",
    "print (e is f)\n"
   ]
  },
  {
   "cell_type": "code",
   "execution_count": 56,
   "id": "a5de1296-1cdd-49f6-a67f-96883702843b",
   "metadata": {},
   "outputs": [
    {
     "name": "stdout",
     "output_type": "stream",
     "text": [
      "True\n",
      "True\n",
      "False\n",
      "False\n"
     ]
    }
   ],
   "source": [
    "# membership operators\n",
    "sentence = \"Hello World\"\n",
    "\n",
    "print ( 'e' in sentence)\n",
    "print ( 'r' in sentence)\n",
    "print ( 'x' in sentence)\n",
    "print ( 'Hello'  not in sentence)\n"
   ]
  },
  {
   "cell_type": "code",
   "execution_count": null,
   "id": "652034e7-5f96-4424-aa27-65c2a7b2e119",
   "metadata": {},
   "outputs": [],
   "source": []
  }
 ],
 "metadata": {
  "kernelspec": {
   "display_name": "Python 3 (ipykernel)",
   "language": "python",
   "name": "python3"
  },
  "language_info": {
   "codemirror_mode": {
    "name": "ipython",
    "version": 3
   },
   "file_extension": ".py",
   "mimetype": "text/x-python",
   "name": "python",
   "nbconvert_exporter": "python",
   "pygments_lexer": "ipython3",
   "version": "3.12.4"
  }
 },
 "nbformat": 4,
 "nbformat_minor": 5
}
