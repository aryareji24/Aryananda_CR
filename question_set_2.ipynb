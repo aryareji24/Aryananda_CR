{
 "cells": [
  {
   "cell_type": "markdown",
   "id": "cf11846a-b363-4254-9476-56cb3d248b47",
   "metadata": {},
   "source": [
    "# QUESTION SET 2"
   ]
  },
  {
   "cell_type": "raw",
   "id": "5fc1df75-f709-450f-ad77-908fe8f8881b",
   "metadata": {},
   "source": [
    "1. What will the output be of ((500//7) % 5) ** 3?\n",
    "\t1\n",
    "\t2.91\n",
    "\t71.42\n",
    "\t0\n",
    "\t8"
   ]
  },
  {
   "cell_type": "code",
   "execution_count": 1,
   "id": "daae9a33-b6b9-4809-b88f-1cbaeb98ef5c",
   "metadata": {},
   "outputs": [
    {
     "name": "stdout",
     "output_type": "stream",
     "text": [
      "1\n"
     ]
    }
   ],
   "source": [
    "result = ((500//7) % 5) ** 3\n",
    "print(result)"
   ]
  },
  {
   "cell_type": "raw",
   "id": "c55235e2-b92e-4931-a817-4173f8413f94",
   "metadata": {},
   "source": [
    "2. If you have a list L = [1, 2, 3], what will the output of L * 2 be?\n",
    "\n",
    "\t[2, 4, 6]\n",
    "\t[1, 2, 3, 1, 2, 3] \n",
    "\t[1, 4, 9]\n",
    "\t[[1, 2, 3], [1, 2, 3]]"
   ]
  },
  {
   "cell_type": "code",
   "execution_count": 3,
   "id": "28437a22-b9c4-45d5-996b-55394ffc55d2",
   "metadata": {},
   "outputs": [
    {
     "name": "stdout",
     "output_type": "stream",
     "text": [
      "[1, 2, 3, 1, 2, 3]\n"
     ]
    }
   ],
   "source": [
    "L = [1, 2, 3]\n",
    "result = L * 2\n",
    "print(result)"
   ]
  },
  {
   "cell_type": "raw",
   "id": "158da6ef-dd58-4b84-9faa-c9fa9b491954",
   "metadata": {},
   "source": [
    "3. What will the output be of the following code?\n",
    "D = {1:['Raj', 22], 2:['Simran', 21], 3:['Rahul', 40]}\n",
    "for val in D:\n",
    "     print(val)\n",
    "\n",
    "\n",
    "1\n",
    "2\n",
    "3\n",
    " \n",
    "[‘Raj’, 22]\n",
    "[‘Simran’, 21]\n",
    "[‘Rahul’, 40]\n",
    "\n",
    "1 [‘Raj’, 22]\n",
    "2 [‘Simran’, 21]\n",
    "3 [‘Rahul’, 40]\n",
    "\n",
    "‘Raj’\n",
    "‘Simran’\n",
    "‘Rahul’\n"
   ]
  },
  {
   "cell_type": "code",
   "execution_count": 11,
   "id": "3451b391-4ceb-43d0-9d96-880d4866eeae",
   "metadata": {},
   "outputs": [
    {
     "name": "stdout",
     "output_type": "stream",
     "text": [
      "1\n",
      "2\n",
      "3\n"
     ]
    }
   ],
   "source": [
    "D = {1:['Raj', 22], 2:['Simran', 21], 3:['Rahul', 40]}\n",
    "\n",
    "for val in D:\n",
    "     print(val)\n"
   ]
  },
  {
   "cell_type": "raw",
   "id": "8ba18553-c226-4c8a-bdc8-72fa5daee2e4",
   "metadata": {},
   "source": [
    "4. What will the ‘comprehension equivalent’ be for the following snippet of code?\n",
    "for sentence in paragraph:\n",
    "    for word in sentence.split():\n",
    "        single_word_list.append(word)\n",
    "\n",
    "\tword for sentence in paragraph for word in sentence.split()\n",
    "\t[word for sentence in paragraph for word in sentence.split()]\n",
    "\tword for word in sentence.split() for sentence in paragraph\n",
    "\t[word for word in sentence.split() for sentence in paragraph]"
   ]
  },
  {
   "cell_type": "raw",
   "id": "de120e27-0839-45db-9546-84dfa6febfc7",
   "metadata": {},
   "source": [
    "answer: [word for sentence in paragraph for word in sentence.split()]"
   ]
  },
  {
   "cell_type": "code",
   "execution_count": 13,
   "id": "ea181517-b99a-4ba3-90ab-998245248c94",
   "metadata": {
    "scrolled": true
   },
   "outputs": [
    {
     "name": "stdout",
     "output_type": "stream",
     "text": [
      "Result using nested loops:\n",
      "['Aditi', 'devo', 'bhava', 'sree', 'bhadra', 'balamurali']\n",
      "\n",
      "Result using list comprehension:\n",
      "['Aditi', 'devo', 'bhava', 'sree', 'bhadra', 'balamurali']\n",
      "\n",
      "Are the results the same? True\n"
     ]
    }
   ],
   "source": [
    "#example paragraph\n",
    "paragraph = [\n",
    "    \"Aditi devo bhava\",\n",
    "    \"sree bhadra balamurali\"\n",
    "]\n",
    "\n",
    "# Original nested loop approach\n",
    "single_word_list = []\n",
    "for sentence in paragraph:\n",
    "    for word in sentence.split():\n",
    "        single_word_list.append(word)\n",
    "\n",
    "print(\"Result using nested loops:\")\n",
    "print(single_word_list)\n",
    "\n",
    "# List comprehension approach\n",
    "single_word_list_comprehension = [word for sentence in paragraph for word in sentence.split()]\n",
    "\n",
    "print(\"\\nResult using list comprehension:\")\n",
    "print(single_word_list_comprehension)\n",
    "\n",
    "# Verifying that both approaches give the same result\n",
    "print(\"\\nAre the results the same?\", single_word_list == single_word_list_comprehension)"
   ]
  },
  {
   "cell_type": "raw",
   "id": "4637c96b-1492-43b7-8f55-4c8e915341f1",
   "metadata": {},
   "source": [
    "5. What will the output of the following code be?\n",
    "def my_func(*args):\n",
    "    return(sum(args))\n",
    "print(my_func(1,2,3,4,5))print(my_func(6,7,8))\n",
    " \n",
    "\n",
    "15\n",
    "21\n",
    " \n",
    "15.0\n",
    "21.0\n",
    "\n",
    "15\n",
    "Error: Invalid number of arguments passed\n",
    "\n",
    "Error\n"
   ]
  },
  {
   "cell_type": "code",
   "execution_count": 15,
   "id": "a7f8a987-817d-47b7-bcb6-dd2e54e64359",
   "metadata": {},
   "outputs": [
    {
     "ename": "SyntaxError",
     "evalue": "invalid syntax (1167853062.py, line 3)",
     "output_type": "error",
     "traceback": [
      "\u001b[1;36m  Cell \u001b[1;32mIn[15], line 3\u001b[1;36m\u001b[0m\n\u001b[1;33m    print(my_func(1,2,3,4,5))print(my_func(6,7,8))\u001b[0m\n\u001b[1;37m                             ^\u001b[0m\n\u001b[1;31mSyntaxError\u001b[0m\u001b[1;31m:\u001b[0m invalid syntax\n"
     ]
    }
   ],
   "source": [
    "def my_func(*args):\n",
    "    return(sum(args))\n",
    "print(my_func(1,2,3,4,5))print(my_func(6,7,8))"
   ]
  },
  {
   "cell_type": "code",
   "execution_count": 17,
   "id": "d696548e-7d46-4128-9d51-dbe52d400a6c",
   "metadata": {},
   "outputs": [
    {
     "name": "stdout",
     "output_type": "stream",
     "text": [
      "15\n",
      "21\n"
     ]
    }
   ],
   "source": [
    "def my_func(*args):\n",
    "    return(sum(args))\n",
    "print(my_func(1,2,3,4,5))\n",
    "print(my_func(6,7,8))"
   ]
  },
  {
   "cell_type": "raw",
   "id": "9d33069e-4867-45e7-8148-5a43b2b7e002",
   "metadata": {},
   "source": [
    "6. Which of the following commands will output the squares of all the numbers in a list L = [1, 2, 3, 4]?\n",
    "\n",
    "\tL ** 2\n",
    "\tmap(lambda x : x ** 2, L)\n",
    "\tlist(map(lambda x : x ** 2, L))\n",
    "\tmap(x : x ** 2, L)"
   ]
  },
  {
   "cell_type": "raw",
   "id": "667588a9-d778-49da-afa1-a998fabddb4e",
   "metadata": {},
   "source": [
    "answer: list(map(lambda x : x ** 2, L))"
   ]
  },
  {
   "cell_type": "code",
   "execution_count": 19,
   "id": "ef9f8ee5-2d1d-44cb-b534-179dac743053",
   "metadata": {},
   "outputs": [
    {
     "name": "stdout",
     "output_type": "stream",
     "text": [
      "[1, 4, 9, 16]\n",
      "[1, 4, 9, 16]\n"
     ]
    }
   ],
   "source": [
    "L = [1, 2, 3, 4]\n",
    "\n",
    "result = list(map(lambda x : x ** 2, L))\n",
    "print(result)  # Output: [1, 4, 9, 16]\n",
    "\n",
    "# using list comprehension\n",
    "result_comprehension = [x**2 for x in L]\n",
    "print(result_comprehension)  # Output: [1, 4, 9, 16]"
   ]
  },
  {
   "cell_type": "markdown",
   "id": "9671408e-4487-4b03-ad47-7c770201cc94",
   "metadata": {},
   "source": [
    "## CODING QUESTIONS"
   ]
  },
  {
   "cell_type": "markdown",
   "id": "80c2ded2-6c88-42eb-bb8d-bb54c393c986",
   "metadata": {},
   "source": [
    "**Given a number ‘n’, output its factorial using reduce().\n",
    "<BR>Note: Make sure you handle the edge case of zero. As you know, 0! = 1**\n",
    "<BR>\n",
    "<BR>**Examples:\n",
    "<BR>Input 1:\n",
    "<BR>1\n",
    "<BR>Output 1:\n",
    "<BR>1**\n",
    "<BR>\n",
    "<BR>**Input 2:\n",
    "<BR>3\n",
    "<BR>Output 2:\n",
    "<BR>6**"
   ]
  },
  {
   "cell_type": "code",
   "execution_count": 48,
   "id": "b0258690-14f5-4ac1-a650-f5fa1592580f",
   "metadata": {},
   "outputs": [
    {
     "name": "stdin",
     "output_type": "stream",
     "text": [
      " 1\n"
     ]
    },
    {
     "name": "stdout",
     "output_type": "stream",
     "text": [
      "1\n"
     ]
    }
   ],
   "source": [
    "n = int(input())\n",
    "result = 1\n",
    "\n",
    "if n == 0:\n",
    "    result = 1\n",
    "else:\n",
    "    for i in range(1, n + 1):\n",
    "        result *= i\n",
    "\n",
    "print(result)"
   ]
  },
  {
   "cell_type": "markdown",
   "id": "a5bbe9be-4878-46e8-b42e-880b67005db5",
   "metadata": {},
   "source": [
    "**You will be given a number. You have to reverse the digits of the number and print it. Don’t Use in built functions**"
   ]
  },
  {
   "cell_type": "code",
   "execution_count": 44,
   "id": "93ade659-80b9-4006-be9c-cfe8675a09de",
   "metadata": {},
   "outputs": [
    {
     "name": "stdin",
     "output_type": "stream",
     "text": [
      " 3456\n"
     ]
    },
    {
     "name": "stdout",
     "output_type": "stream",
     "text": [
      "6543\n"
     ]
    }
   ],
   "source": [
    "n = int(input())\n",
    "reversed_num = 0\n",
    "\n",
    "while n > 0:\n",
    "    digit = n % 10\n",
    "    reversed_num = reversed_num * 10 + digit\n",
    "    n //= 10\n",
    "\n",
    "print(reversed_num)"
   ]
  },
  {
   "cell_type": "markdown",
   "id": "9f37a879-98cb-4b01-8a75-0282123fe6da",
   "metadata": {},
   "source": [
    "**You will be given a word. You have to reverse it and print it. Don’t Use in built functions**"
   ]
  },
  {
   "cell_type": "code",
   "execution_count": 46,
   "id": "27619d2f-8de6-45fb-af07-645e1d8d35a7",
   "metadata": {},
   "outputs": [
    {
     "name": "stdin",
     "output_type": "stream",
     "text": [
      " SREEBHADRA\n"
     ]
    },
    {
     "name": "stdout",
     "output_type": "stream",
     "text": [
      "ARDAHBEERS\n"
     ]
    }
   ],
   "source": [
    "word = input()\n",
    "reversed_word = \"\"\n",
    "\n",
    "for i in range(len(word) - 1, -1, -1):\n",
    "    reversed_word += word[i]\n",
    "\n",
    "print(reversed_word)"
   ]
  },
  {
   "cell_type": "markdown",
   "id": "772de1e4-99ca-4f67-93cc-4443b81590e8",
   "metadata": {},
   "source": [
    "<BR>Use Set\n",
    "<BR>\n",
    "**<BR>In a school, there are total 20 students numbered from 1 to 20. You’re given three lists named ‘C’, ‘F’, and ‘H’, representing students who play cricket, football, and hockey, respectively. Based on this information, find out and print the following: \n",
    "<BR>\tStudents who play all the three sports\n",
    "<BR>\tStudents who play both cricket and football but don’t play hockey\n",
    "<BR>\tStudents who play exactly two of the sports\n",
    "<BR>\tStudents who don’t play any of the three sports\n",
    "<BR>Format:\n",
    "<BR>Input:\n",
    "<BR>3 lists containing numbers (ranging from 1 to 20) representing students who play cricket, football and hockey respectively.\n",
    "<BR>Output:\n",
    "<BR>4 different lists containing the students according to the constraints provided in the questions.**\n",
    "<BR>\n",
    "<BR>Note: Make sure you sort the final lists (in an ascending order) that you get before printing them; otherwise your answer might not match the test-cases.\n",
    "<BR>\n",
    "<BR>Examples:\n",
    "<BR>Input 1:\n",
    "<BR>[2, 5, 9, 12, 13, 15, 16, 17, 18, 19]\n",
    "<BR>[2, 4, 5, 6, 7, 9, 13, 16, 20]\n",
    "<BR>[1, 2, 5, 9, 10, 11, 12, 13, 15, 20]\n",
    "<BR>Output 1:\n",
    "<BR>[2, 5, 9, 13]\n",
    "<BR>[16]\n",
    "<BR>[12, 15, 16, 20]\n",
    "<BR>[3, 8, 14]\n",
    "\n",
    "<BR>Explanation:\n",
    "<BR>1.Given the three sets, you can see that the students numbered '2', '5', '9', and '13' play all the three sports. \n",
    "<BR>2. The student numbered '16' plays cricket and football but doesn't play hockey. \n",
    "<BR>3. The students numbered '12' and '15' play cricket and hockey, the student numbered '16' plays cricket and football and the student numbered '20' plays football and hockey.  Hence, the students who play exactly two sports are 12, 15, 16, and 20.\n",
    "<BR>4. As you can see, the students who play none of the sports are 3, 8, and 14.\n"
   ]
  },
  {
   "cell_type": "code",
   "execution_count": 50,
   "id": "aecb36fd-c3a5-4595-9e34-4324ba394c63",
   "metadata": {},
   "outputs": [
    {
     "name": "stdout",
     "output_type": "stream",
     "text": [
      "[2, 5, 9, 13]\n",
      "[16]\n",
      "[12, 15, 16, 20]\n",
      "[3, 8, 14]\n"
     ]
    }
   ],
   "source": [
    "# Input\n",
    "C = set([2, 5, 9, 12, 13, 15, 16, 17, 18, 19])\n",
    "F = set([2, 4, 5, 6, 7, 9, 13, 16, 20])\n",
    "H = set([1, 2, 5, 9, 10, 11, 12, 13, 15, 20])\n",
    "\n",
    "# All students\n",
    "all_students = set(range(1, 21))\n",
    "\n",
    "# 1. Students who play all three sports\n",
    "all_three = C & F & H\n",
    "\n",
    "# 2. Students who play cricket and football but not hockey\n",
    "cf_not_h = (C & F) - H\n",
    "\n",
    "# 3. Students who play exactly two sports\n",
    "two_sports = (C & F | F & H | H & C) - (C & F & H)\n",
    "\n",
    "# 4. Students who don't play any sport\n",
    "no_sport = all_students - (C | F | H)\n",
    "\n",
    "# Sort and print results\n",
    "print(sorted(all_three))\n",
    "print(sorted(cf_not_h))\n",
    "print(sorted(two_sports))\n",
    "print(sorted(no_sport))"
   ]
  },
  {
   "cell_type": "code",
   "execution_count": null,
   "id": "3d9c8aa4-fd77-486b-8300-ea1f4b0e9af6",
   "metadata": {},
   "outputs": [],
   "source": []
  }
 ],
 "metadata": {
  "kernelspec": {
   "display_name": "Python 3 (ipykernel)",
   "language": "python",
   "name": "python3"
  },
  "language_info": {
   "codemirror_mode": {
    "name": "ipython",
    "version": 3
   },
   "file_extension": ".py",
   "mimetype": "text/x-python",
   "name": "python",
   "nbconvert_exporter": "python",
   "pygments_lexer": "ipython3",
   "version": "3.12.4"
  }
 },
 "nbformat": 4,
 "nbformat_minor": 5
}
